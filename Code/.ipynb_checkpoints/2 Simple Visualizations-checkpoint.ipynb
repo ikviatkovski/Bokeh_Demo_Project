{
 "cells": [
  {
   "cell_type": "markdown",
   "metadata": {},
   "source": [
    "# Simple Vizualizations #"
   ]
  },
  {
   "cell_type": "markdown",
   "metadata": {},
   "source": [
    "**Table of Contents**\n",
    "- [Importing Libraries and Display Settings](#Importing-Libraries-and-Display-Settings)\n",
    "- [Loading the Dataset](#Loading-the-Dataset)\n",
    "- [First Single Line Plot](#First-Single-Line-Plot)\n",
    "- [Multiple Lines on the Same Plot](#Multiple-Lines-on-the-Same-Plot)\n",
    "- [Various Glyph and Style Options](#Various-Glyph-and-Style-Options)\n",
    "- [Aggregated Fields and Combined Plotting Styles](#Aggregated-Fields-and-Combined-Plotting-Styles)\n",
    "- [Multi-line Plotting](#Multi-line-Plotting)\n",
    "- [Grid-plots](#Grid-plots)"
   ]
  },
  {
   "cell_type": "markdown",
   "metadata": {},
   "source": [
    "## Importing Libraries and Display Settings ##"
   ]
  },
  {
   "cell_type": "markdown",
   "metadata": {},
   "source": [
    "We will need some standard Python libraries for data processing - Pandas and Numpy. \n",
    "\n",
    "Also, we will need particular functions from Bokeh data vizualization library. In order to maintain appropriate Jupyter Notebook style, all the uploads for subsequent chapters will be effected in the current section. Where necessary, some additional clarifications will be added."
   ]
  },
  {
   "cell_type": "code",
   "execution_count": 1,
   "metadata": {},
   "outputs": [
    {
     "data": {
      "text/html": [
       "\n",
       "    <div class=\"bk-root\">\n",
       "        <a href=\"https://bokeh.org\" target=\"_blank\" class=\"bk-logo bk-logo-small bk-logo-notebook\"></a>\n",
       "        <span id=\"1001\">Loading BokehJS ...</span>\n",
       "    </div>"
      ]
     },
     "metadata": {},
     "output_type": "display_data"
    },
    {
     "data": {
      "application/javascript": [
       "\n",
       "(function(root) {\n",
       "  function now() {\n",
       "    return new Date();\n",
       "  }\n",
       "\n",
       "  var force = true;\n",
       "\n",
       "  if (typeof root._bokeh_onload_callbacks === \"undefined\" || force === true) {\n",
       "    root._bokeh_onload_callbacks = [];\n",
       "    root._bokeh_is_loading = undefined;\n",
       "  }\n",
       "\n",
       "  var JS_MIME_TYPE = 'application/javascript';\n",
       "  var HTML_MIME_TYPE = 'text/html';\n",
       "  var EXEC_MIME_TYPE = 'application/vnd.bokehjs_exec.v0+json';\n",
       "  var CLASS_NAME = 'output_bokeh rendered_html';\n",
       "\n",
       "  /**\n",
       "   * Render data to the DOM node\n",
       "   */\n",
       "  function render(props, node) {\n",
       "    var script = document.createElement(\"script\");\n",
       "    node.appendChild(script);\n",
       "  }\n",
       "\n",
       "  /**\n",
       "   * Handle when an output is cleared or removed\n",
       "   */\n",
       "  function handleClearOutput(event, handle) {\n",
       "    var cell = handle.cell;\n",
       "\n",
       "    var id = cell.output_area._bokeh_element_id;\n",
       "    var server_id = cell.output_area._bokeh_server_id;\n",
       "    // Clean up Bokeh references\n",
       "    if (id != null && id in Bokeh.index) {\n",
       "      Bokeh.index[id].model.document.clear();\n",
       "      delete Bokeh.index[id];\n",
       "    }\n",
       "\n",
       "    if (server_id !== undefined) {\n",
       "      // Clean up Bokeh references\n",
       "      var cmd = \"from bokeh.io.state import curstate; print(curstate().uuid_to_server['\" + server_id + \"'].get_sessions()[0].document.roots[0]._id)\";\n",
       "      cell.notebook.kernel.execute(cmd, {\n",
       "        iopub: {\n",
       "          output: function(msg) {\n",
       "            var id = msg.content.text.trim();\n",
       "            if (id in Bokeh.index) {\n",
       "              Bokeh.index[id].model.document.clear();\n",
       "              delete Bokeh.index[id];\n",
       "            }\n",
       "          }\n",
       "        }\n",
       "      });\n",
       "      // Destroy server and session\n",
       "      var cmd = \"import bokeh.io.notebook as ion; ion.destroy_server('\" + server_id + \"')\";\n",
       "      cell.notebook.kernel.execute(cmd);\n",
       "    }\n",
       "  }\n",
       "\n",
       "  /**\n",
       "   * Handle when a new output is added\n",
       "   */\n",
       "  function handleAddOutput(event, handle) {\n",
       "    var output_area = handle.output_area;\n",
       "    var output = handle.output;\n",
       "\n",
       "    // limit handleAddOutput to display_data with EXEC_MIME_TYPE content only\n",
       "    if ((output.output_type != \"display_data\") || (!output.data.hasOwnProperty(EXEC_MIME_TYPE))) {\n",
       "      return\n",
       "    }\n",
       "\n",
       "    var toinsert = output_area.element.find(\".\" + CLASS_NAME.split(' ')[0]);\n",
       "\n",
       "    if (output.metadata[EXEC_MIME_TYPE][\"id\"] !== undefined) {\n",
       "      toinsert[toinsert.length - 1].firstChild.textContent = output.data[JS_MIME_TYPE];\n",
       "      // store reference to embed id on output_area\n",
       "      output_area._bokeh_element_id = output.metadata[EXEC_MIME_TYPE][\"id\"];\n",
       "    }\n",
       "    if (output.metadata[EXEC_MIME_TYPE][\"server_id\"] !== undefined) {\n",
       "      var bk_div = document.createElement(\"div\");\n",
       "      bk_div.innerHTML = output.data[HTML_MIME_TYPE];\n",
       "      var script_attrs = bk_div.children[0].attributes;\n",
       "      for (var i = 0; i < script_attrs.length; i++) {\n",
       "        toinsert[toinsert.length - 1].firstChild.setAttribute(script_attrs[i].name, script_attrs[i].value);\n",
       "        toinsert[toinsert.length - 1].firstChild.textContent = bk_div.children[0].textContent\n",
       "      }\n",
       "      // store reference to server id on output_area\n",
       "      output_area._bokeh_server_id = output.metadata[EXEC_MIME_TYPE][\"server_id\"];\n",
       "    }\n",
       "  }\n",
       "\n",
       "  function register_renderer(events, OutputArea) {\n",
       "\n",
       "    function append_mime(data, metadata, element) {\n",
       "      // create a DOM node to render to\n",
       "      var toinsert = this.create_output_subarea(\n",
       "        metadata,\n",
       "        CLASS_NAME,\n",
       "        EXEC_MIME_TYPE\n",
       "      );\n",
       "      this.keyboard_manager.register_events(toinsert);\n",
       "      // Render to node\n",
       "      var props = {data: data, metadata: metadata[EXEC_MIME_TYPE]};\n",
       "      render(props, toinsert[toinsert.length - 1]);\n",
       "      element.append(toinsert);\n",
       "      return toinsert\n",
       "    }\n",
       "\n",
       "    /* Handle when an output is cleared or removed */\n",
       "    events.on('clear_output.CodeCell', handleClearOutput);\n",
       "    events.on('delete.Cell', handleClearOutput);\n",
       "\n",
       "    /* Handle when a new output is added */\n",
       "    events.on('output_added.OutputArea', handleAddOutput);\n",
       "\n",
       "    /**\n",
       "     * Register the mime type and append_mime function with output_area\n",
       "     */\n",
       "    OutputArea.prototype.register_mime_type(EXEC_MIME_TYPE, append_mime, {\n",
       "      /* Is output safe? */\n",
       "      safe: true,\n",
       "      /* Index of renderer in `output_area.display_order` */\n",
       "      index: 0\n",
       "    });\n",
       "  }\n",
       "\n",
       "  // register the mime type if in Jupyter Notebook environment and previously unregistered\n",
       "  if (root.Jupyter !== undefined) {\n",
       "    var events = require('base/js/events');\n",
       "    var OutputArea = require('notebook/js/outputarea').OutputArea;\n",
       "\n",
       "    if (OutputArea.prototype.mime_types().indexOf(EXEC_MIME_TYPE) == -1) {\n",
       "      register_renderer(events, OutputArea);\n",
       "    }\n",
       "  }\n",
       "\n",
       "  \n",
       "  if (typeof (root._bokeh_timeout) === \"undefined\" || force === true) {\n",
       "    root._bokeh_timeout = Date.now() + 5000;\n",
       "    root._bokeh_failed_load = false;\n",
       "  }\n",
       "\n",
       "  var NB_LOAD_WARNING = {'data': {'text/html':\n",
       "     \"<div style='background-color: #fdd'>\\n\"+\n",
       "     \"<p>\\n\"+\n",
       "     \"BokehJS does not appear to have successfully loaded. If loading BokehJS from CDN, this \\n\"+\n",
       "     \"may be due to a slow or bad network connection. Possible fixes:\\n\"+\n",
       "     \"</p>\\n\"+\n",
       "     \"<ul>\\n\"+\n",
       "     \"<li>re-rerun `output_notebook()` to attempt to load from CDN again, or</li>\\n\"+\n",
       "     \"<li>use INLINE resources instead, as so:</li>\\n\"+\n",
       "     \"</ul>\\n\"+\n",
       "     \"<code>\\n\"+\n",
       "     \"from bokeh.resources import INLINE\\n\"+\n",
       "     \"output_notebook(resources=INLINE)\\n\"+\n",
       "     \"</code>\\n\"+\n",
       "     \"</div>\"}};\n",
       "\n",
       "  function display_loaded() {\n",
       "    var el = document.getElementById(\"1001\");\n",
       "    if (el != null) {\n",
       "      el.textContent = \"BokehJS is loading...\";\n",
       "    }\n",
       "    if (root.Bokeh !== undefined) {\n",
       "      if (el != null) {\n",
       "        el.textContent = \"BokehJS \" + root.Bokeh.version + \" successfully loaded.\";\n",
       "      }\n",
       "    } else if (Date.now() < root._bokeh_timeout) {\n",
       "      setTimeout(display_loaded, 100)\n",
       "    }\n",
       "  }\n",
       "\n",
       "\n",
       "  function run_callbacks() {\n",
       "    try {\n",
       "      root._bokeh_onload_callbacks.forEach(function(callback) {\n",
       "        if (callback != null)\n",
       "          callback();\n",
       "      });\n",
       "    } finally {\n",
       "      delete root._bokeh_onload_callbacks\n",
       "    }\n",
       "    console.debug(\"Bokeh: all callbacks have finished\");\n",
       "  }\n",
       "\n",
       "  function load_libs(css_urls, js_urls, callback) {\n",
       "    if (css_urls == null) css_urls = [];\n",
       "    if (js_urls == null) js_urls = [];\n",
       "\n",
       "    root._bokeh_onload_callbacks.push(callback);\n",
       "    if (root._bokeh_is_loading > 0) {\n",
       "      console.debug(\"Bokeh: BokehJS is being loaded, scheduling callback at\", now());\n",
       "      return null;\n",
       "    }\n",
       "    if (js_urls == null || js_urls.length === 0) {\n",
       "      run_callbacks();\n",
       "      return null;\n",
       "    }\n",
       "    console.debug(\"Bokeh: BokehJS not loaded, scheduling load and callback at\", now());\n",
       "    root._bokeh_is_loading = css_urls.length + js_urls.length;\n",
       "\n",
       "    function on_load() {\n",
       "      root._bokeh_is_loading--;\n",
       "      if (root._bokeh_is_loading === 0) {\n",
       "        console.debug(\"Bokeh: all BokehJS libraries/stylesheets loaded\");\n",
       "        run_callbacks()\n",
       "      }\n",
       "    }\n",
       "\n",
       "    function on_error() {\n",
       "      console.error(\"failed to load \" + url);\n",
       "    }\n",
       "\n",
       "    for (var i = 0; i < css_urls.length; i++) {\n",
       "      var url = css_urls[i];\n",
       "      const element = document.createElement(\"link\");\n",
       "      element.onload = on_load;\n",
       "      element.onerror = on_error;\n",
       "      element.rel = \"stylesheet\";\n",
       "      element.type = \"text/css\";\n",
       "      element.href = url;\n",
       "      console.debug(\"Bokeh: injecting link tag for BokehJS stylesheet: \", url);\n",
       "      document.body.appendChild(element);\n",
       "    }\n",
       "\n",
       "    const hashes = {\"https://cdn.bokeh.org/bokeh/release/bokeh-2.0.2.min.js\": \"ufR9RFnRs6lniiaFvtJziE0YeidtAgBRH6ux2oUItHw5WTvE1zuk9uzhUU/FJXDp\", \"https://cdn.bokeh.org/bokeh/release/bokeh-widgets-2.0.2.min.js\": \"8QM/PGWBT+IssZuRcDcjzwIh1mkOmJSoNMmyYDZbCfXJg3Ap1lEvdVgFuSAwhb/J\", \"https://cdn.bokeh.org/bokeh/release/bokeh-tables-2.0.2.min.js\": \"Jm8cH3Rg0P6UeZhVY5cLy1WzKajUT9KImCY+76hEqrcJt59/d8GPvFHjCkYgnSIn\", \"https://cdn.bokeh.org/bokeh/release/bokeh-gl-2.0.2.min.js\": \"Ozhzj+SI7ywm74aOI/UajcWz+C0NjsPunEVyVIrxzYkB+jA+2tUw8x5xJCbVtK5I\"};\n",
       "\n",
       "    for (var i = 0; i < js_urls.length; i++) {\n",
       "      var url = js_urls[i];\n",
       "      var element = document.createElement('script');\n",
       "      element.onload = on_load;\n",
       "      element.onerror = on_error;\n",
       "      element.async = false;\n",
       "      element.src = url;\n",
       "      if (url in hashes) {\n",
       "        element.crossOrigin = \"anonymous\";\n",
       "        element.integrity = \"sha384-\" + hashes[url];\n",
       "      }\n",
       "      console.debug(\"Bokeh: injecting script tag for BokehJS library: \", url);\n",
       "      document.head.appendChild(element);\n",
       "    }\n",
       "  };\n",
       "\n",
       "  function inject_raw_css(css) {\n",
       "    const element = document.createElement(\"style\");\n",
       "    element.appendChild(document.createTextNode(css));\n",
       "    document.body.appendChild(element);\n",
       "  }\n",
       "\n",
       "  \n",
       "  var js_urls = [\"https://cdn.bokeh.org/bokeh/release/bokeh-2.0.2.min.js\", \"https://cdn.bokeh.org/bokeh/release/bokeh-widgets-2.0.2.min.js\", \"https://cdn.bokeh.org/bokeh/release/bokeh-tables-2.0.2.min.js\", \"https://cdn.bokeh.org/bokeh/release/bokeh-gl-2.0.2.min.js\"];\n",
       "  var css_urls = [];\n",
       "  \n",
       "\n",
       "  var inline_js = [\n",
       "    function(Bokeh) {\n",
       "      Bokeh.set_log_level(\"info\");\n",
       "    },\n",
       "    function(Bokeh) {\n",
       "    \n",
       "    \n",
       "    }\n",
       "  ];\n",
       "\n",
       "  function run_inline_js() {\n",
       "    \n",
       "    if (root.Bokeh !== undefined || force === true) {\n",
       "      \n",
       "    for (var i = 0; i < inline_js.length; i++) {\n",
       "      inline_js[i].call(root, root.Bokeh);\n",
       "    }\n",
       "    if (force === true) {\n",
       "        display_loaded();\n",
       "      }} else if (Date.now() < root._bokeh_timeout) {\n",
       "      setTimeout(run_inline_js, 100);\n",
       "    } else if (!root._bokeh_failed_load) {\n",
       "      console.log(\"Bokeh: BokehJS failed to load within specified timeout.\");\n",
       "      root._bokeh_failed_load = true;\n",
       "    } else if (force !== true) {\n",
       "      var cell = $(document.getElementById(\"1001\")).parents('.cell').data().cell;\n",
       "      cell.output_area.append_execute_result(NB_LOAD_WARNING)\n",
       "    }\n",
       "\n",
       "  }\n",
       "\n",
       "  if (root._bokeh_is_loading === 0) {\n",
       "    console.debug(\"Bokeh: BokehJS loaded, going straight to plotting\");\n",
       "    run_inline_js();\n",
       "  } else {\n",
       "    load_libs(css_urls, js_urls, function() {\n",
       "      console.debug(\"Bokeh: BokehJS plotting callback run at\", now());\n",
       "      run_inline_js();\n",
       "    });\n",
       "  }\n",
       "}(window));"
      ],
      "application/vnd.bokehjs_load.v0+json": "\n(function(root) {\n  function now() {\n    return new Date();\n  }\n\n  var force = true;\n\n  if (typeof root._bokeh_onload_callbacks === \"undefined\" || force === true) {\n    root._bokeh_onload_callbacks = [];\n    root._bokeh_is_loading = undefined;\n  }\n\n  \n\n  \n  if (typeof (root._bokeh_timeout) === \"undefined\" || force === true) {\n    root._bokeh_timeout = Date.now() + 5000;\n    root._bokeh_failed_load = false;\n  }\n\n  var NB_LOAD_WARNING = {'data': {'text/html':\n     \"<div style='background-color: #fdd'>\\n\"+\n     \"<p>\\n\"+\n     \"BokehJS does not appear to have successfully loaded. If loading BokehJS from CDN, this \\n\"+\n     \"may be due to a slow or bad network connection. Possible fixes:\\n\"+\n     \"</p>\\n\"+\n     \"<ul>\\n\"+\n     \"<li>re-rerun `output_notebook()` to attempt to load from CDN again, or</li>\\n\"+\n     \"<li>use INLINE resources instead, as so:</li>\\n\"+\n     \"</ul>\\n\"+\n     \"<code>\\n\"+\n     \"from bokeh.resources import INLINE\\n\"+\n     \"output_notebook(resources=INLINE)\\n\"+\n     \"</code>\\n\"+\n     \"</div>\"}};\n\n  function display_loaded() {\n    var el = document.getElementById(\"1001\");\n    if (el != null) {\n      el.textContent = \"BokehJS is loading...\";\n    }\n    if (root.Bokeh !== undefined) {\n      if (el != null) {\n        el.textContent = \"BokehJS \" + root.Bokeh.version + \" successfully loaded.\";\n      }\n    } else if (Date.now() < root._bokeh_timeout) {\n      setTimeout(display_loaded, 100)\n    }\n  }\n\n\n  function run_callbacks() {\n    try {\n      root._bokeh_onload_callbacks.forEach(function(callback) {\n        if (callback != null)\n          callback();\n      });\n    } finally {\n      delete root._bokeh_onload_callbacks\n    }\n    console.debug(\"Bokeh: all callbacks have finished\");\n  }\n\n  function load_libs(css_urls, js_urls, callback) {\n    if (css_urls == null) css_urls = [];\n    if (js_urls == null) js_urls = [];\n\n    root._bokeh_onload_callbacks.push(callback);\n    if (root._bokeh_is_loading > 0) {\n      console.debug(\"Bokeh: BokehJS is being loaded, scheduling callback at\", now());\n      return null;\n    }\n    if (js_urls == null || js_urls.length === 0) {\n      run_callbacks();\n      return null;\n    }\n    console.debug(\"Bokeh: BokehJS not loaded, scheduling load and callback at\", now());\n    root._bokeh_is_loading = css_urls.length + js_urls.length;\n\n    function on_load() {\n      root._bokeh_is_loading--;\n      if (root._bokeh_is_loading === 0) {\n        console.debug(\"Bokeh: all BokehJS libraries/stylesheets loaded\");\n        run_callbacks()\n      }\n    }\n\n    function on_error() {\n      console.error(\"failed to load \" + url);\n    }\n\n    for (var i = 0; i < css_urls.length; i++) {\n      var url = css_urls[i];\n      const element = document.createElement(\"link\");\n      element.onload = on_load;\n      element.onerror = on_error;\n      element.rel = \"stylesheet\";\n      element.type = \"text/css\";\n      element.href = url;\n      console.debug(\"Bokeh: injecting link tag for BokehJS stylesheet: \", url);\n      document.body.appendChild(element);\n    }\n\n    const hashes = {\"https://cdn.bokeh.org/bokeh/release/bokeh-2.0.2.min.js\": \"ufR9RFnRs6lniiaFvtJziE0YeidtAgBRH6ux2oUItHw5WTvE1zuk9uzhUU/FJXDp\", \"https://cdn.bokeh.org/bokeh/release/bokeh-widgets-2.0.2.min.js\": \"8QM/PGWBT+IssZuRcDcjzwIh1mkOmJSoNMmyYDZbCfXJg3Ap1lEvdVgFuSAwhb/J\", \"https://cdn.bokeh.org/bokeh/release/bokeh-tables-2.0.2.min.js\": \"Jm8cH3Rg0P6UeZhVY5cLy1WzKajUT9KImCY+76hEqrcJt59/d8GPvFHjCkYgnSIn\", \"https://cdn.bokeh.org/bokeh/release/bokeh-gl-2.0.2.min.js\": \"Ozhzj+SI7ywm74aOI/UajcWz+C0NjsPunEVyVIrxzYkB+jA+2tUw8x5xJCbVtK5I\"};\n\n    for (var i = 0; i < js_urls.length; i++) {\n      var url = js_urls[i];\n      var element = document.createElement('script');\n      element.onload = on_load;\n      element.onerror = on_error;\n      element.async = false;\n      element.src = url;\n      if (url in hashes) {\n        element.crossOrigin = \"anonymous\";\n        element.integrity = \"sha384-\" + hashes[url];\n      }\n      console.debug(\"Bokeh: injecting script tag for BokehJS library: \", url);\n      document.head.appendChild(element);\n    }\n  };\n\n  function inject_raw_css(css) {\n    const element = document.createElement(\"style\");\n    element.appendChild(document.createTextNode(css));\n    document.body.appendChild(element);\n  }\n\n  \n  var js_urls = [\"https://cdn.bokeh.org/bokeh/release/bokeh-2.0.2.min.js\", \"https://cdn.bokeh.org/bokeh/release/bokeh-widgets-2.0.2.min.js\", \"https://cdn.bokeh.org/bokeh/release/bokeh-tables-2.0.2.min.js\", \"https://cdn.bokeh.org/bokeh/release/bokeh-gl-2.0.2.min.js\"];\n  var css_urls = [];\n  \n\n  var inline_js = [\n    function(Bokeh) {\n      Bokeh.set_log_level(\"info\");\n    },\n    function(Bokeh) {\n    \n    \n    }\n  ];\n\n  function run_inline_js() {\n    \n    if (root.Bokeh !== undefined || force === true) {\n      \n    for (var i = 0; i < inline_js.length; i++) {\n      inline_js[i].call(root, root.Bokeh);\n    }\n    if (force === true) {\n        display_loaded();\n      }} else if (Date.now() < root._bokeh_timeout) {\n      setTimeout(run_inline_js, 100);\n    } else if (!root._bokeh_failed_load) {\n      console.log(\"Bokeh: BokehJS failed to load within specified timeout.\");\n      root._bokeh_failed_load = true;\n    } else if (force !== true) {\n      var cell = $(document.getElementById(\"1001\")).parents('.cell').data().cell;\n      cell.output_area.append_execute_result(NB_LOAD_WARNING)\n    }\n\n  }\n\n  if (root._bokeh_is_loading === 0) {\n    console.debug(\"Bokeh: BokehJS loaded, going straight to plotting\");\n    run_inline_js();\n  } else {\n    load_libs(css_urls, js_urls, function() {\n      console.debug(\"Bokeh: BokehJS plotting callback run at\", now());\n      run_inline_js();\n    });\n  }\n}(window));"
     },
     "metadata": {},
     "output_type": "display_data"
    }
   ],
   "source": [
    "#Usual imports for data processing\n",
    "import pandas as pd\n",
    "import numpy as np\n",
    "\n",
    "#Bokeh libraries and modules\n",
    "from bokeh.io import  show, reset_output, output_notebook, export_png\n",
    "from bokeh.plotting import figure\n",
    "from bokeh.models import Range1d\n",
    "from bokeh.layouts import gridplot\n",
    "\n",
    "#Setting visualizations' display to the in-notebook mode\n",
    "output_notebook()\n",
    "\n",
    "#Setting Bokeh's visualtization toolset - a set of functional tools attached to every visual\n",
    "#Their names are pretty self-explanatory\n",
    "TOOLS = \"pan,wheel_zoom,box_zoom,reset,save\""
   ]
  },
  {
   "cell_type": "markdown",
   "metadata": {},
   "source": [
    "## Loading the Dataset ##"
   ]
  },
  {
   "cell_type": "code",
   "execution_count": 2,
   "metadata": {},
   "outputs": [],
   "source": [
    "data = pd.read_csv('../data/data_clean.csv')"
   ]
  },
  {
   "cell_type": "markdown",
   "metadata": {},
   "source": [
    "## First Single Line Plot ##"
   ]
  },
  {
   "cell_type": "markdown",
   "metadata": {},
   "source": [
    "In order to create the very first Bokeh vizualization, let's look at the life expectancy trend for Afghanistan in 2000-2015.\n",
    "\n",
    "The elements used to draw a graph are called 'glyphs' in Bokeh, and for the current visualization our glyph will be a line."
   ]
  },
  {
   "cell_type": "code",
   "execution_count": 3,
   "metadata": {
    "scrolled": true
   },
   "outputs": [
    {
     "data": {
      "text/html": [
       "\n",
       "\n",
       "\n",
       "\n",
       "\n",
       "\n",
       "  <div class=\"bk-root\" id=\"e1750f9e-9625-47b5-b477-d1e358fa402e\" data-root-id=\"1002\"></div>\n"
      ]
     },
     "metadata": {},
     "output_type": "display_data"
    },
    {
     "data": {
      "application/javascript": [
       "(function(root) {\n",
       "  function embed_document(root) {\n",
       "    \n",
       "  var docs_json = {\"59d1ff34-c788-46cf-8e33-e39f217f8e5c\":{\"roots\":{\"references\":[{\"attributes\":{\"below\":[{\"id\":\"1011\"}],\"center\":[{\"id\":\"1014\"},{\"id\":\"1018\"},{\"id\":\"1043\"}],\"left\":[{\"id\":\"1015\"}],\"plot_height\":400,\"plot_width\":400,\"renderers\":[{\"id\":\"1034\"}],\"title\":{\"id\":\"1037\"},\"toolbar\":{\"id\":\"1025\"},\"x_range\":{\"id\":\"1003\"},\"x_scale\":{\"id\":\"1007\"},\"y_range\":{\"id\":\"1005\"},\"y_scale\":{\"id\":\"1009\"}},\"id\":\"1002\",\"subtype\":\"Figure\",\"type\":\"Plot\"},{\"attributes\":{\"data\":{\"x\":[2015,2014,2013,2012,2011,2010,2009,2008,2007,2006,2005,2004,2003,2002,2001,2000],\"y\":{\"__ndarray__\":\"AAAAAABAUEAzMzMzM/NNQDMzMzMz801AAAAAAADATUCamZmZmZlNQGZmZmZmZk1AzczMzMxMTUDNzMzMzAxNQAAAAAAAwExAZmZmZmamTEBmZmZmZqZMQAAAAAAAgExAmpmZmZlZTECamZmZmRlMQGZmZmZmpktAZmZmZmZmS0A=\",\"dtype\":\"float64\",\"shape\":[16]}},\"selected\":{\"id\":\"1053\"},\"selection_policy\":{\"id\":\"1052\"}},\"id\":\"1031\",\"type\":\"ColumnDataSource\"},{\"attributes\":{},\"id\":\"1052\",\"type\":\"UnionRenderers\"},{\"attributes\":{},\"id\":\"1019\",\"type\":\"PanTool\"},{\"attributes\":{\"source\":{\"id\":\"1031\"}},\"id\":\"1035\",\"type\":\"CDSView\"},{\"attributes\":{},\"id\":\"1020\",\"type\":\"WheelZoomTool\"},{\"attributes\":{\"bottom_units\":\"screen\",\"fill_alpha\":0.5,\"fill_color\":\"lightgrey\",\"left_units\":\"screen\",\"level\":\"overlay\",\"line_alpha\":1.0,\"line_color\":\"black\",\"line_dash\":[4,4],\"line_width\":2,\"render_mode\":\"css\",\"right_units\":\"screen\",\"top_units\":\"screen\"},\"id\":\"1024\",\"type\":\"BoxAnnotation\"},{\"attributes\":{\"text\":\"\"},\"id\":\"1037\",\"type\":\"Title\"},{\"attributes\":{\"overlay\":{\"id\":\"1024\"}},\"id\":\"1021\",\"type\":\"BoxZoomTool\"},{\"attributes\":{\"label\":{\"value\":\"Afghanistan\"},\"renderers\":[{\"id\":\"1034\"}]},\"id\":\"1044\",\"type\":\"LegendItem\"},{\"attributes\":{},\"id\":\"1040\",\"type\":\"BasicTickFormatter\"},{\"attributes\":{},\"id\":\"1003\",\"type\":\"DataRange1d\"},{\"attributes\":{},\"id\":\"1022\",\"type\":\"ResetTool\"},{\"attributes\":{},\"id\":\"1007\",\"type\":\"LinearScale\"},{\"attributes\":{},\"id\":\"1023\",\"type\":\"SaveTool\"},{\"attributes\":{},\"id\":\"1005\",\"type\":\"DataRange1d\"},{\"attributes\":{},\"id\":\"1038\",\"type\":\"BasicTickFormatter\"},{\"attributes\":{\"line_alpha\":0.7,\"line_color\":\"red\",\"line_dash\":[6,4,2,4],\"line_width\":4,\"x\":{\"field\":\"x\"},\"y\":{\"field\":\"y\"}},\"id\":\"1032\",\"type\":\"Line\"},{\"attributes\":{\"active_drag\":\"auto\",\"active_inspect\":\"auto\",\"active_multi\":null,\"active_scroll\":\"auto\",\"active_tap\":\"auto\",\"tools\":[{\"id\":\"1019\"},{\"id\":\"1020\"},{\"id\":\"1021\"},{\"id\":\"1022\"},{\"id\":\"1023\"}]},\"id\":\"1025\",\"type\":\"Toolbar\"},{\"attributes\":{},\"id\":\"1012\",\"type\":\"BasicTicker\"},{\"attributes\":{\"items\":[{\"id\":\"1044\"}],\"location\":\"center\"},\"id\":\"1043\",\"type\":\"Legend\"},{\"attributes\":{},\"id\":\"1053\",\"type\":\"Selection\"},{\"attributes\":{\"axis_label\":\"Year\",\"formatter\":{\"id\":\"1038\"},\"ticker\":{\"id\":\"1012\"}},\"id\":\"1011\",\"type\":\"LinearAxis\"},{\"attributes\":{},\"id\":\"1009\",\"type\":\"LinearScale\"},{\"attributes\":{\"line_alpha\":0.1,\"line_color\":\"red\",\"line_dash\":[6,4,2,4],\"line_width\":4,\"x\":{\"field\":\"x\"},\"y\":{\"field\":\"y\"}},\"id\":\"1033\",\"type\":\"Line\"},{\"attributes\":{},\"id\":\"1016\",\"type\":\"BasicTicker\"},{\"attributes\":{\"axis\":{\"id\":\"1011\"},\"grid_line_alpha\":0.3,\"grid_line_color\":\"green\",\"ticker\":null},\"id\":\"1014\",\"type\":\"Grid\"},{\"attributes\":{\"data_source\":{\"id\":\"1031\"},\"glyph\":{\"id\":\"1032\"},\"hover_glyph\":null,\"muted_glyph\":null,\"nonselection_glyph\":{\"id\":\"1033\"},\"selection_glyph\":null,\"view\":{\"id\":\"1035\"}},\"id\":\"1034\",\"type\":\"GlyphRenderer\"},{\"attributes\":{\"axis\":{\"id\":\"1015\"},\"dimension\":1,\"grid_line_alpha\":0.3,\"grid_line_color\":\"blue\",\"ticker\":null},\"id\":\"1018\",\"type\":\"Grid\"},{\"attributes\":{\"axis_label\":\"Life Expectancy\",\"formatter\":{\"id\":\"1040\"},\"ticker\":{\"id\":\"1016\"}},\"id\":\"1015\",\"type\":\"LinearAxis\"}],\"root_ids\":[\"1002\"]},\"title\":\"Bokeh Application\",\"version\":\"2.0.2\"}};\n",
       "  var render_items = [{\"docid\":\"59d1ff34-c788-46cf-8e33-e39f217f8e5c\",\"root_ids\":[\"1002\"],\"roots\":{\"1002\":\"e1750f9e-9625-47b5-b477-d1e358fa402e\"}}];\n",
       "  root.Bokeh.embed.embed_items_notebook(docs_json, render_items);\n",
       "\n",
       "  }\n",
       "  if (root.Bokeh !== undefined) {\n",
       "    embed_document(root);\n",
       "  } else {\n",
       "    var attempts = 0;\n",
       "    var timer = setInterval(function(root) {\n",
       "      if (root.Bokeh !== undefined) {\n",
       "        clearInterval(timer);\n",
       "        embed_document(root);\n",
       "      } else {\n",
       "        attempts++;\n",
       "        if (attempts > 100) {\n",
       "          clearInterval(timer);\n",
       "          console.log(\"Bokeh: ERROR: Unable to run BokehJS code because BokehJS library is missing\");\n",
       "        }\n",
       "      }\n",
       "    }, 10, root)\n",
       "  }\n",
       "})(window);"
      ],
      "application/vnd.bokehjs_exec.v0+json": ""
     },
     "metadata": {
      "application/vnd.bokehjs_exec.v0+json": {
       "id": "1002"
      }
     },
     "output_type": "display_data"
    }
   ],
   "source": [
    "#Initializing our plot with the 400x400 dimensions and standard tools (zoom, save, etc.)\n",
    "p = figure(plot_width=400, plot_height=400, tools=TOOLS)\n",
    "\n",
    "#We need to set the axis and pass the values from the dataset.\n",
    "#Our horizontal axis X will be years, and our vertical axis Y will be life expectancy\n",
    "x = data[data['country']=='Afghanistan']['year']\n",
    "y = data[data['country']=='Afghanistan']['life expectancy']\n",
    "\n",
    "#Initializing our glyph. Only two parameters are necessary - x and y\n",
    "p.line(x,                                        #horizontal axis\n",
    "       y,                                        #vertical axis\n",
    "      line_alpha = .7,                           #line opacity                   \n",
    "      line_color = 'red',                        #line color\n",
    "      line_width = 4,                            #line width\n",
    "      line_dash = 'dashdot',                     #line type (dotted,dashed, etc.)\n",
    "       legend_label='Afghanistan'                #line legend\n",
    "      )\n",
    "\n",
    "#Additional visualization parameters\n",
    "p.xaxis.axis_label = \"Year\"                      #horizontal axis' label\n",
    "p.yaxis.axis_label = \"Life Expectancy\"           #vertical axis' label\n",
    "p.legend.location = \"center\"                     #legend's location\n",
    "p.xgrid.grid_line_color = 'green'                #horizontal axis' color\n",
    "p.xgrid.grid_line_alpha = .3                     #horizontal axis opacity\n",
    "p.ygrid.grid_line_color = 'blue'                 #vertical axis' color\n",
    "p.ygrid.grid_line_alpha = .3                     #vertical axis' opacity\n",
    "\n",
    "#Finally, we want to see our visual and we need to ask Bokeh to show it to us.\n",
    "show(p)"
   ]
  },
  {
   "cell_type": "markdown",
   "metadata": {},
   "source": [
    "**NB**. *As pre-set in the Importing Libraries section, our visualization display mode is set for 'in-notebook', and Bokeh will keep it for all the subsequent visuals unless explicitly specified otherwise.*\n",
    "\n",
    "Now we could use the tools at the side of the visualization for having a closer look at asome parts of the curve, or to refresh it, or to download it into a file."
   ]
  },
  {
   "cell_type": "markdown",
   "metadata": {},
   "source": [
    "## Multiple Lines on the Same Plot ##"
   ]
  },
  {
   "cell_type": "markdown",
   "metadata": {},
   "source": [
    "Bokeh gives us a pretty straigh-forward chance to draw multiple lines on the same plot without any troubles. The simplest way to do it is just to repeat drwaing of a single line as many times as we want."
   ]
  },
  {
   "cell_type": "code",
   "execution_count": 4,
   "metadata": {},
   "outputs": [
    {
     "data": {
      "text/html": [
       "\n",
       "\n",
       "\n",
       "\n",
       "\n",
       "\n",
       "  <div class=\"bk-root\" id=\"4022b0d2-afff-4b21-b94d-cc4fa17e172d\" data-root-id=\"1108\"></div>\n"
      ]
     },
     "metadata": {},
     "output_type": "display_data"
    },
    {
     "data": {
      "application/javascript": [
       "(function(root) {\n",
       "  function embed_document(root) {\n",
       "    \n",
       "  var docs_json = {\"8f6fb72b-8c28-4567-b7c9-625625aef50b\":{\"roots\":{\"references\":[{\"attributes\":{\"below\":[{\"id\":\"1117\"}],\"center\":[{\"id\":\"1120\"},{\"id\":\"1124\"},{\"id\":\"1149\"}],\"left\":[{\"id\":\"1121\"}],\"renderers\":[{\"id\":\"1140\"},{\"id\":\"1154\"},{\"id\":\"1169\"},{\"id\":\"1186\"},{\"id\":\"1205\"}],\"title\":{\"id\":\"1143\"},\"toolbar\":{\"id\":\"1131\"},\"x_range\":{\"id\":\"1109\"},\"x_scale\":{\"id\":\"1113\"},\"y_range\":{\"id\":\"1111\"},\"y_scale\":{\"id\":\"1115\"}},\"id\":\"1108\",\"subtype\":\"Figure\",\"type\":\"Plot\"},{\"attributes\":{\"data_source\":{\"id\":\"1151\"},\"glyph\":{\"id\":\"1152\"},\"hover_glyph\":null,\"muted_glyph\":null,\"nonselection_glyph\":{\"id\":\"1153\"},\"selection_glyph\":null,\"view\":{\"id\":\"1155\"}},\"id\":\"1154\",\"type\":\"GlyphRenderer\"},{\"attributes\":{},\"id\":\"1144\",\"type\":\"BasicTickFormatter\"},{\"attributes\":{\"data_source\":{\"id\":\"1183\"},\"glyph\":{\"id\":\"1184\"},\"hover_glyph\":null,\"muted_glyph\":null,\"nonselection_glyph\":{\"id\":\"1185\"},\"selection_glyph\":null,\"view\":{\"id\":\"1187\"}},\"id\":\"1186\",\"type\":\"GlyphRenderer\"},{\"attributes\":{\"text\":\"\"},\"id\":\"1143\",\"type\":\"Title\"},{\"attributes\":{\"source\":{\"id\":\"1151\"}},\"id\":\"1155\",\"type\":\"CDSView\"},{\"attributes\":{\"axis_label\":\"Year\",\"formatter\":{\"id\":\"1144\"},\"ticker\":{\"id\":\"1118\"}},\"id\":\"1117\",\"type\":\"LinearAxis\"},{\"attributes\":{\"source\":{\"id\":\"1183\"}},\"id\":\"1187\",\"type\":\"CDSView\"},{\"attributes\":{\"data\":{\"x\":[2015,2014,2013,2012,2011,2010,2009,2008,2007,2006,2005,2004,2003,2002,2001,2000],\"y\":{\"__ndarray__\":\"zczMzMzsVEAAAAAAAOBUQAAAAAAA4FRAMzMzMzPTVEAAAAAAAKBUQAAAAAAAwFRAAAAAAADAVEDNzMzMzKxUQGZmZmZmplRAmpmZmZmZVEAAAAAAAIBUQGZmZmZmhlRAmpmZmZl5VEAzMzMzM3NUQAAAAAAAYFRAZmZmZmZGVEA=\",\"dtype\":\"float64\",\"shape\":[16]}},\"selected\":{\"id\":\"1221\"},\"selection_policy\":{\"id\":\"1220\"}},\"id\":\"1183\",\"type\":\"ColumnDataSource\"},{\"attributes\":{\"line_alpha\":0.1,\"line_color\":\"red\",\"line_dash\":[6,4,2,4],\"line_width\":4,\"x\":{\"field\":\"x\"},\"y\":{\"field\":\"y\"}},\"id\":\"1139\",\"type\":\"Line\"},{\"attributes\":{},\"id\":\"1122\",\"type\":\"BasicTicker\"},{\"attributes\":{},\"id\":\"1200\",\"type\":\"Selection\"},{\"attributes\":{},\"id\":\"1118\",\"type\":\"BasicTicker\"},{\"attributes\":{},\"id\":\"1146\",\"type\":\"BasicTickFormatter\"},{\"attributes\":{},\"id\":\"1163\",\"type\":\"UnionRenderers\"},{\"attributes\":{\"axis\":{\"id\":\"1117\"},\"ticker\":null},\"id\":\"1120\",\"type\":\"Grid\"},{\"attributes\":{\"label\":{\"value\":\"Romania\"},\"renderers\":[{\"id\":\"1154\"}]},\"id\":\"1165\",\"type\":\"LegendItem\"},{\"attributes\":{\"line_alpha\":0.7,\"line_color\":\"blue\",\"line_dash\":[6],\"line_width\":4,\"x\":{\"field\":\"x\"},\"y\":{\"field\":\"y\"}},\"id\":\"1167\",\"type\":\"Line\"},{\"attributes\":{},\"id\":\"1164\",\"type\":\"Selection\"},{\"attributes\":{\"axis\":{\"id\":\"1121\"},\"dimension\":1,\"ticker\":null},\"id\":\"1124\",\"type\":\"Grid\"},{\"attributes\":{\"data_source\":{\"id\":\"1166\"},\"glyph\":{\"id\":\"1167\"},\"hover_glyph\":null,\"muted_glyph\":null,\"nonselection_glyph\":{\"id\":\"1168\"},\"selection_glyph\":null,\"view\":{\"id\":\"1170\"}},\"id\":\"1169\",\"type\":\"GlyphRenderer\"},{\"attributes\":{\"label\":{\"value\":\"Afghanistan\"},\"renderers\":[{\"id\":\"1140\"}]},\"id\":\"1150\",\"type\":\"LegendItem\"},{\"attributes\":{\"line_alpha\":0.7,\"line_color\":\"magenta\",\"line_width\":4,\"x\":{\"field\":\"x\"},\"y\":{\"field\":\"y\"}},\"id\":\"1203\",\"type\":\"Line\"},{\"attributes\":{\"axis_label\":\"Life Expectancy\",\"formatter\":{\"id\":\"1146\"},\"ticker\":{\"id\":\"1122\"}},\"id\":\"1121\",\"type\":\"LinearAxis\"},{\"attributes\":{\"source\":{\"id\":\"1202\"}},\"id\":\"1206\",\"type\":\"CDSView\"},{\"attributes\":{\"source\":{\"id\":\"1137\"}},\"id\":\"1141\",\"type\":\"CDSView\"},{\"attributes\":{\"data_source\":{\"id\":\"1202\"},\"glyph\":{\"id\":\"1203\"},\"hover_glyph\":null,\"muted_glyph\":null,\"nonselection_glyph\":{\"id\":\"1204\"},\"selection_glyph\":null,\"view\":{\"id\":\"1206\"}},\"id\":\"1205\",\"type\":\"GlyphRenderer\"},{\"attributes\":{},\"id\":\"1199\",\"type\":\"UnionRenderers\"},{\"attributes\":{\"active_drag\":\"auto\",\"active_inspect\":\"auto\",\"active_multi\":null,\"active_scroll\":\"auto\",\"active_tap\":\"auto\",\"tools\":[{\"id\":\"1125\"},{\"id\":\"1126\"},{\"id\":\"1127\"},{\"id\":\"1128\"},{\"id\":\"1129\"}]},\"id\":\"1131\",\"type\":\"Toolbar\"},{\"attributes\":{\"line_alpha\":0.7,\"line_color\":\"orange\",\"line_dash\":[2,4],\"line_width\":4,\"x\":{\"field\":\"x\"},\"y\":{\"field\":\"y\"}},\"id\":\"1184\",\"type\":\"Line\"},{\"attributes\":{},\"id\":\"1248\",\"type\":\"Selection\"},{\"attributes\":{\"line_alpha\":0.7,\"line_color\":\"red\",\"line_dash\":[6,4,2,4],\"line_width\":4,\"x\":{\"field\":\"x\"},\"y\":{\"field\":\"y\"}},\"id\":\"1138\",\"type\":\"Line\"},{\"attributes\":{\"data\":{\"x\":[2015,2014,2013,2012,2011,2010,2009,2008,2007,2006,2005,2004,2003,2002,2001,2000],\"y\":{\"__ndarray__\":\"AAAAAADAUkAzMzMzM7NSQGZmZmZmplJAmpmZmZmZUkAzMzMzM5NSQJqZmZmZWVJAZmZmZmZGUkBmZmZmZkZSQJqZmZmZOVJAAAAAAAAgUkCamZmZmflRQM3MzMzM7FFAZmZmZmbGUUAAAAAAAEBTQAAAAAAAgFNAAAAAAABAU0A=\",\"dtype\":\"float64\",\"shape\":[16]}},\"selected\":{\"id\":\"1181\"},\"selection_policy\":{\"id\":\"1180\"}},\"id\":\"1151\",\"type\":\"ColumnDataSource\"},{\"attributes\":{},\"id\":\"1220\",\"type\":\"UnionRenderers\"},{\"attributes\":{\"label\":{\"value\":\"Japan\"},\"renderers\":[{\"id\":\"1186\"}]},\"id\":\"1201\",\"type\":\"LegendItem\"},{\"attributes\":{\"line_alpha\":0.1,\"line_color\":\"orange\",\"line_dash\":[2,4],\"line_width\":4,\"x\":{\"field\":\"x\"},\"y\":{\"field\":\"y\"}},\"id\":\"1185\",\"type\":\"Line\"},{\"attributes\":{\"data\":{\"x\":[2015,2014,2013,2012,2011,2010,2009,2008,2007,2006,2005,2004,2003,2002,2001,2000],\"y\":{\"__ndarray__\":\"zczMzMyMSkDNzMzMzExKQJqZmZmZGUpAZmZmZmbmSUDNzMzMzMxJQJqZmZmZmUlAAAAAAACATEDNzMzMzMxIQDMzMzMzs0hAAAAAAABASEDNzMzMzExIQAAAAAAAQEhAMzMzMzMzSEDNzMzMzAxIQAAAAAAAAEhAzczMzMzMR0A=\",\"dtype\":\"float64\",\"shape\":[16]}},\"selected\":{\"id\":\"1248\"},\"selection_policy\":{\"id\":\"1247\"}},\"id\":\"1202\",\"type\":\"ColumnDataSource\"},{\"attributes\":{\"bottom_units\":\"screen\",\"fill_alpha\":0.5,\"fill_color\":\"lightgrey\",\"left_units\":\"screen\",\"level\":\"overlay\",\"line_alpha\":1.0,\"line_color\":\"black\",\"line_dash\":[4,4],\"line_width\":2,\"render_mode\":\"css\",\"right_units\":\"screen\",\"top_units\":\"screen\"},\"id\":\"1130\",\"type\":\"BoxAnnotation\"},{\"attributes\":{\"source\":{\"id\":\"1166\"}},\"id\":\"1170\",\"type\":\"CDSView\"},{\"attributes\":{\"line_alpha\":0.1,\"line_color\":\"magenta\",\"line_width\":4,\"x\":{\"field\":\"x\"},\"y\":{\"field\":\"y\"}},\"id\":\"1204\",\"type\":\"Line\"},{\"attributes\":{\"data_source\":{\"id\":\"1137\"},\"glyph\":{\"id\":\"1138\"},\"hover_glyph\":null,\"muted_glyph\":null,\"nonselection_glyph\":{\"id\":\"1139\"},\"selection_glyph\":null,\"view\":{\"id\":\"1141\"}},\"id\":\"1140\",\"type\":\"GlyphRenderer\"},{\"attributes\":{},\"id\":\"1125\",\"type\":\"PanTool\"},{\"attributes\":{\"label\":{\"value\":\"Chad\"},\"renderers\":[{\"id\":\"1205\"}]},\"id\":\"1222\",\"type\":\"LegendItem\"},{\"attributes\":{\"items\":[{\"id\":\"1150\"},{\"id\":\"1165\"},{\"id\":\"1182\"},{\"id\":\"1201\"},{\"id\":\"1222\"}],\"location\":\"center_right\"},\"id\":\"1149\",\"type\":\"Legend\"},{\"attributes\":{},\"id\":\"1180\",\"type\":\"UnionRenderers\"},{\"attributes\":{},\"id\":\"1221\",\"type\":\"Selection\"},{\"attributes\":{},\"id\":\"1126\",\"type\":\"WheelZoomTool\"},{\"attributes\":{},\"id\":\"1109\",\"type\":\"DataRange1d\"},{\"attributes\":{\"line_alpha\":0.1,\"line_color\":\"blue\",\"line_dash\":[6],\"line_width\":4,\"x\":{\"field\":\"x\"},\"y\":{\"field\":\"y\"}},\"id\":\"1168\",\"type\":\"Line\"},{\"attributes\":{\"overlay\":{\"id\":\"1130\"}},\"id\":\"1127\",\"type\":\"BoxZoomTool\"},{\"attributes\":{\"line_alpha\":0.1,\"line_color\":\"green\",\"line_dash\":[2,4,6,4],\"line_width\":4,\"x\":{\"field\":\"x\"},\"y\":{\"field\":\"y\"}},\"id\":\"1153\",\"type\":\"Line\"},{\"attributes\":{\"data\":{\"x\":[2015,2014,2013,2012,2011,2010,2009,2008,2007,2006,2005,2004,2003,2002,2001,2000],\"y\":{\"__ndarray__\":\"mpmZmZmZVEDNzMzMzIxUQAAAAAAAgFRAAAAAAABgVEDNzMzMzGxUQDMzMzMzU1RAZmZmZmZGVEAAAAAAAEBWQAAAAAAAQFZAAAAAAACAVUAAAAAAAEBUQAAAAAAAgFRAMzMzMzPTU0DNzMzMzMxTQAAAAAAAwFNAMzMzMzOzU0A=\",\"dtype\":\"float64\",\"shape\":[16]}},\"selected\":{\"id\":\"1200\"},\"selection_policy\":{\"id\":\"1199\"}},\"id\":\"1166\",\"type\":\"ColumnDataSource\"},{\"attributes\":{},\"id\":\"1181\",\"type\":\"Selection\"},{\"attributes\":{},\"id\":\"1111\",\"type\":\"DataRange1d\"},{\"attributes\":{},\"id\":\"1128\",\"type\":\"ResetTool\"},{\"attributes\":{\"line_alpha\":0.7,\"line_color\":\"green\",\"line_dash\":[2,4,6,4],\"line_width\":4,\"x\":{\"field\":\"x\"},\"y\":{\"field\":\"y\"}},\"id\":\"1152\",\"type\":\"Line\"},{\"attributes\":{},\"id\":\"1247\",\"type\":\"UnionRenderers\"},{\"attributes\":{\"label\":{\"value\":\"France\"},\"renderers\":[{\"id\":\"1169\"}]},\"id\":\"1182\",\"type\":\"LegendItem\"},{\"attributes\":{},\"id\":\"1113\",\"type\":\"LinearScale\"},{\"attributes\":{},\"id\":\"1129\",\"type\":\"SaveTool\"},{\"attributes\":{},\"id\":\"1115\",\"type\":\"LinearScale\"},{\"attributes\":{\"data\":{\"x\":[2015,2014,2013,2012,2011,2010,2009,2008,2007,2006,2005,2004,2003,2002,2001,2000],\"y\":{\"__ndarray__\":\"AAAAAABAUEAzMzMzM/NNQDMzMzMz801AAAAAAADATUCamZmZmZlNQGZmZmZmZk1AzczMzMxMTUDNzMzMzAxNQAAAAAAAwExAZmZmZmamTEBmZmZmZqZMQAAAAAAAgExAmpmZmZlZTECamZmZmRlMQGZmZmZmpktAZmZmZmZmS0A=\",\"dtype\":\"float64\",\"shape\":[16]}},\"selected\":{\"id\":\"1164\"},\"selection_policy\":{\"id\":\"1163\"}},\"id\":\"1137\",\"type\":\"ColumnDataSource\"}],\"root_ids\":[\"1108\"]},\"title\":\"Bokeh Application\",\"version\":\"2.0.2\"}};\n",
       "  var render_items = [{\"docid\":\"8f6fb72b-8c28-4567-b7c9-625625aef50b\",\"root_ids\":[\"1108\"],\"roots\":{\"1108\":\"4022b0d2-afff-4b21-b94d-cc4fa17e172d\"}}];\n",
       "  root.Bokeh.embed.embed_items_notebook(docs_json, render_items);\n",
       "\n",
       "  }\n",
       "  if (root.Bokeh !== undefined) {\n",
       "    embed_document(root);\n",
       "  } else {\n",
       "    var attempts = 0;\n",
       "    var timer = setInterval(function(root) {\n",
       "      if (root.Bokeh !== undefined) {\n",
       "        clearInterval(timer);\n",
       "        embed_document(root);\n",
       "      } else {\n",
       "        attempts++;\n",
       "        if (attempts > 100) {\n",
       "          clearInterval(timer);\n",
       "          console.log(\"Bokeh: ERROR: Unable to run BokehJS code because BokehJS library is missing\");\n",
       "        }\n",
       "      }\n",
       "    }, 10, root)\n",
       "  }\n",
       "})(window);"
      ],
      "application/vnd.bokehjs_exec.v0+json": ""
     },
     "metadata": {
      "application/vnd.bokehjs_exec.v0+json": {
       "id": "1108"
      }
     },
     "output_type": "display_data"
    }
   ],
   "source": [
    "#Initializing our plot\n",
    "p = figure(plot_width=600, plot_height=600, tools=TOOLS)\n",
    "\n",
    "#Horizontal axis - year\n",
    "x = data[data['country']=='Afghanistan']['year']\n",
    "\n",
    "#Vertical axis for several countries' life expectancies\n",
    "y = data[data['country']=='Afghanistan']['life expectancy']\n",
    "y1 = data[data['country']=='Romania']['life expectancy']\n",
    "y2 = data[data['country']=='France']['life expectancy']\n",
    "y3 = data[data['country']=='Japan']['life expectancy']\n",
    "y4 = data[data['country']=='Chad']['life expectancy']\n",
    "\n",
    "#Drawing our 5 curves. Each line has its own style and label\n",
    "p.line(x , y, \n",
    "       line_alpha = .7, line_color = 'red', line_width = 4, line_dash = 'dashdot',\n",
    "       legend_label=\"Afghanistan\")\n",
    "\n",
    "p.line(x , y1, \n",
    "       line_alpha = .7, line_color = 'green', line_width = 4, line_dash = 'dotdash',\n",
    "       legend_label=\"Romania\")\n",
    "\n",
    "p.line(x , y2, \n",
    "       line_alpha = .7, line_color = 'blue', line_width = 4, line_dash = 'dashed', \n",
    "       legend_label='France')\n",
    "\n",
    "p.line(x , y3,\n",
    "       line_alpha = .7, line_color = 'orange', line_width = 4, line_dash = 'dotted',\n",
    "       legend_label='Japan')\n",
    "\n",
    "p.line(x , y4, \n",
    "       line_alpha = .7, line_color = 'magenta', line_width = 4, \n",
    "       legend_label='Chad')\n",
    "\n",
    "#Additional visualization parameters\n",
    "p.xaxis.axis_label = \"Year\"\n",
    "p.yaxis.axis_label = \"Life Expectancy\"\n",
    "p.legend.location = \"center_right\"                       #Choosing legend's location\n",
    "\n",
    "#Showing the visualization\n",
    "show(p)"
   ]
  },
  {
   "cell_type": "markdown",
   "metadata": {},
   "source": [
    "Voila! Multiple dependencies on the single graph in a very straigh-forward and intuitive way!"
   ]
  },
  {
   "cell_type": "markdown",
   "metadata": {},
   "source": [
    "## Various Glyph and Style Options##"
   ]
  },
  {
   "cell_type": "markdown",
   "metadata": {},
   "source": [
    "Let's look at the same plot and explore some of many options Bokeh offers to vizualize our data."
   ]
  },
  {
   "cell_type": "code",
   "execution_count": 5,
   "metadata": {},
   "outputs": [
    {
     "data": {
      "text/html": [
       "\n",
       "\n",
       "\n",
       "\n",
       "\n",
       "\n",
       "  <div class=\"bk-root\" id=\"a96b8289-4da8-4dc9-8820-48bfec7c4fca\" data-root-id=\"1351\"></div>\n"
      ]
     },
     "metadata": {},
     "output_type": "display_data"
    },
    {
     "data": {
      "application/javascript": [
       "(function(root) {\n",
       "  function embed_document(root) {\n",
       "    \n",
       "  var docs_json = {\"75d9e1bb-fe1c-4924-9cc0-a23178b9c3c3\":{\"roots\":{\"references\":[{\"attributes\":{\"background_fill_alpha\":0.2,\"background_fill_color\":\"lightblue\",\"below\":[{\"id\":\"1362\"}],\"center\":[{\"id\":\"1365\"},{\"id\":\"1369\"},{\"id\":\"1393\"}],\"left\":[{\"id\":\"1366\"}],\"plot_height\":500,\"plot_width\":800,\"renderers\":[{\"id\":\"1385\"},{\"id\":\"1398\"},{\"id\":\"1412\"},{\"id\":\"1428\"},{\"id\":\"1446\"}],\"title\":{\"id\":\"1352\"},\"toolbar\":{\"id\":\"1376\"},\"x_range\":{\"id\":\"1354\"},\"x_scale\":{\"id\":\"1358\"},\"y_range\":{\"id\":\"1356\"},\"y_scale\":{\"id\":\"1360\"}},\"id\":\"1351\",\"subtype\":\"Figure\",\"type\":\"Plot\"},{\"attributes\":{\"fill_alpha\":{\"value\":0.5},\"fill_color\":{\"value\":\"green\"},\"line_alpha\":{\"value\":0.5},\"line_color\":{\"value\":\"red\"},\"line_width\":{\"value\":1.5},\"size\":{\"units\":\"screen\",\"value\":15},\"x\":{\"field\":\"x\"},\"y\":{\"field\":\"y\"}},\"id\":\"1396\",\"type\":\"Circle\"},{\"attributes\":{\"data_source\":{\"id\":\"1443\"},\"glyph\":{\"id\":\"1444\"},\"hover_glyph\":null,\"muted_glyph\":null,\"nonselection_glyph\":{\"id\":\"1445\"},\"selection_glyph\":null,\"view\":{\"id\":\"1447\"}},\"id\":\"1446\",\"type\":\"GlyphRenderer\"},{\"attributes\":{\"data\":{\"x\":[2015,2014,2013,2012,2011,2010,2009,2008,2007,2006,2005,2004,2003,2002,2001,2000],\"y\":{\"__ndarray__\":\"MzMzMzMTUUAAAAAAAABRQGZmZmZm5lBAMzMzMzPTUEAzMzMzM7NQQJqZmZmZmVBAAAAAAACAUEAAAAAAAGBQQM3MzMzMTFBAMzMzMzMzUECamZmZmRlQQAAAAAAAAFBAmpmZmZnZT0BmZmZmZqZPQDMzMzMzc09AAAAAAABAT0A=\",\"dtype\":\"float64\",\"shape\":[16]}},\"selected\":{\"id\":\"1423\"},\"selection_policy\":{\"id\":\"1422\"}},\"id\":\"1395\",\"type\":\"ColumnDataSource\"},{\"attributes\":{},\"id\":\"1423\",\"type\":\"Selection\"},{\"attributes\":{},\"id\":\"1504\",\"type\":\"Selection\"},{\"attributes\":{},\"id\":\"1370\",\"type\":\"PanTool\"},{\"attributes\":{\"fill_alpha\":{\"value\":0.5},\"fill_color\":{\"value\":\"red\"},\"line_alpha\":{\"value\":0.5},\"line_color\":{\"value\":\"green\"},\"line_width\":{\"value\":1.5},\"size\":{\"units\":\"screen\",\"value\":15},\"x\":{\"field\":\"x\"},\"y\":{\"field\":\"y\"}},\"id\":\"1383\",\"type\":\"Diamond\"},{\"attributes\":{\"fill_alpha\":{\"value\":0.1},\"fill_color\":{\"value\":\"#1f77b4\"},\"line_alpha\":{\"value\":0.1},\"line_color\":{\"value\":\"magenta\"},\"line_width\":{\"value\":2},\"size\":{\"units\":\"screen\",\"value\":15},\"x\":{\"field\":\"x\"},\"y\":{\"field\":\"y\"}},\"id\":\"1445\",\"type\":\"Cross\"},{\"attributes\":{},\"id\":\"1406\",\"type\":\"UnionRenderers\"},{\"attributes\":{\"bottom_units\":\"screen\",\"fill_alpha\":0.5,\"fill_color\":\"lightgrey\",\"left_units\":\"screen\",\"level\":\"overlay\",\"line_alpha\":1.0,\"line_color\":\"black\",\"line_dash\":[4,4],\"line_width\":2,\"render_mode\":\"css\",\"right_units\":\"screen\",\"top_units\":\"screen\"},\"id\":\"1375\",\"type\":\"BoxAnnotation\"},{\"attributes\":{\"axis_label\":\"Life Expectancy\",\"formatter\":{\"id\":\"1390\"},\"ticker\":{\"id\":\"1367\"}},\"id\":\"1366\",\"type\":\"LinearAxis\"},{\"attributes\":{},\"id\":\"1371\",\"type\":\"WheelZoomTool\"},{\"attributes\":{\"fill_alpha\":{\"value\":0.1},\"fill_color\":{\"value\":\"green\"},\"line_alpha\":{\"value\":0.1},\"line_color\":{\"value\":\"red\"},\"line_width\":{\"value\":1.5},\"size\":{\"units\":\"screen\",\"value\":15},\"x\":{\"field\":\"x\"},\"y\":{\"field\":\"y\"}},\"id\":\"1397\",\"type\":\"Circle\"},{\"attributes\":{},\"id\":\"1503\",\"type\":\"UnionRenderers\"},{\"attributes\":{\"overlay\":{\"id\":\"1375\"}},\"id\":\"1372\",\"type\":\"BoxZoomTool\"},{\"attributes\":{\"label\":{\"value\":\"Brazil\"},\"renderers\":[{\"id\":\"1385\"}]},\"id\":\"1394\",\"type\":\"LegendItem\"},{\"attributes\":{},\"id\":\"1356\",\"type\":\"DataRange1d\"},{\"attributes\":{\"source\":{\"id\":\"1443\"}},\"id\":\"1447\",\"type\":\"CDSView\"},{\"attributes\":{},\"id\":\"1373\",\"type\":\"ResetTool\"},{\"attributes\":{},\"id\":\"1460\",\"type\":\"UnionRenderers\"},{\"attributes\":{\"data_source\":{\"id\":\"1395\"},\"glyph\":{\"id\":\"1396\"},\"hover_glyph\":null,\"muted_glyph\":null,\"nonselection_glyph\":{\"id\":\"1397\"},\"selection_glyph\":null,\"view\":{\"id\":\"1399\"}},\"id\":\"1398\",\"type\":\"GlyphRenderer\"},{\"attributes\":{},\"id\":\"1407\",\"type\":\"Selection\"},{\"attributes\":{},\"id\":\"1374\",\"type\":\"SaveTool\"},{\"attributes\":{\"label\":{\"value\":\"Cuba\"},\"renderers\":[{\"id\":\"1446\"}]},\"id\":\"1462\",\"type\":\"LegendItem\"},{\"attributes\":{},\"id\":\"1354\",\"type\":\"DataRange1d\"},{\"attributes\":{\"fill_color\":{\"value\":\"#1f77b4\"},\"line_color\":{\"value\":\"blue\"},\"line_width\":{\"value\":1.5},\"size\":{\"units\":\"screen\",\"value\":15},\"x\":{\"field\":\"x\"},\"y\":{\"field\":\"y\"}},\"id\":\"1410\",\"type\":\"Asterisk\"},{\"attributes\":{},\"id\":\"1461\",\"type\":\"Selection\"},{\"attributes\":{},\"id\":\"1363\",\"type\":\"BasicTicker\"},{\"attributes\":{\"fill_color\":{\"value\":\"#1f77b4\"},\"line_color\":{\"value\":\"magenta\"},\"line_width\":{\"value\":2},\"size\":{\"units\":\"screen\",\"value\":15},\"x\":{\"field\":\"x\"},\"y\":{\"field\":\"y\"}},\"id\":\"1444\",\"type\":\"Cross\"},{\"attributes\":{},\"id\":\"1358\",\"type\":\"LinearScale\"},{\"attributes\":{\"data_source\":{\"id\":\"1409\"},\"glyph\":{\"id\":\"1410\"},\"hover_glyph\":null,\"muted_glyph\":null,\"nonselection_glyph\":{\"id\":\"1411\"},\"selection_glyph\":null,\"view\":{\"id\":\"1413\"}},\"id\":\"1412\",\"type\":\"GlyphRenderer\"},{\"attributes\":{\"fill_alpha\":{\"value\":0.1},\"fill_color\":{\"value\":\"red\"},\"line_alpha\":{\"value\":0.1},\"line_color\":{\"value\":\"green\"},\"line_width\":{\"value\":1.5},\"size\":{\"units\":\"screen\",\"value\":15},\"x\":{\"field\":\"x\"},\"y\":{\"field\":\"y\"}},\"id\":\"1384\",\"type\":\"Diamond\"},{\"attributes\":{\"fill_alpha\":{\"value\":0.5},\"fill_color\":{\"value\":\"orange\"},\"line_alpha\":{\"value\":0.5},\"line_color\":{\"value\":\"blue\"},\"line_width\":{\"value\":1.5},\"size\":{\"units\":\"screen\",\"value\":15},\"x\":{\"field\":\"x\"},\"y\":{\"field\":\"y\"}},\"id\":\"1426\",\"type\":\"Triangle\"},{\"attributes\":{\"data\":{\"x\":[2015,2014,2013,2012,2011,2010,2009,2008,2007,2006,2005,2004,2003,2002,2001,2000],\"y\":{\"__ndarray__\":\"AAAAAADAUkAzMzMzM7NSQM3MzMzMrFJAAAAAAACgUkBmZmZmZoZSQDMzMzMzc1JAZmZmZmZmUkCamZmZmVlSQDMzMzMzU1JAAAAAAABAUkDNzMzMzCxSQAAAAAAAAFJAMzMzMzPzUUCamZmZmdlRQAAAAAAAwFFAAAAAAADAUkA=\",\"dtype\":\"float64\",\"shape\":[16]}},\"selected\":{\"id\":\"1407\"},\"selection_policy\":{\"id\":\"1406\"}},\"id\":\"1382\",\"type\":\"ColumnDataSource\"},{\"attributes\":{},\"id\":\"1440\",\"type\":\"UnionRenderers\"},{\"attributes\":{\"label\":{\"value\":\"India\"},\"renderers\":[{\"id\":\"1398\"}]},\"id\":\"1408\",\"type\":\"LegendItem\"},{\"attributes\":{},\"id\":\"1360\",\"type\":\"LinearScale\"},{\"attributes\":{\"source\":{\"id\":\"1409\"}},\"id\":\"1413\",\"type\":\"CDSView\"},{\"attributes\":{\"source\":{\"id\":\"1425\"}},\"id\":\"1429\",\"type\":\"CDSView\"},{\"attributes\":{},\"id\":\"1390\",\"type\":\"BasicTickFormatter\"},{\"attributes\":{\"text\":\"Life expectancy 2000-2015\"},\"id\":\"1352\",\"type\":\"Title\"},{\"attributes\":{\"source\":{\"id\":\"1382\"}},\"id\":\"1386\",\"type\":\"CDSView\"},{\"attributes\":{\"fill_alpha\":{\"value\":0.1},\"fill_color\":{\"value\":\"orange\"},\"line_alpha\":{\"value\":0.1},\"line_color\":{\"value\":\"blue\"},\"line_width\":{\"value\":1.5},\"size\":{\"units\":\"screen\",\"value\":15},\"x\":{\"field\":\"x\"},\"y\":{\"field\":\"y\"}},\"id\":\"1427\",\"type\":\"Triangle\"},{\"attributes\":{\"label\":{\"value\":\"Italy\"},\"renderers\":[{\"id\":\"1412\"}]},\"id\":\"1424\",\"type\":\"LegendItem\"},{\"attributes\":{},\"id\":\"1388\",\"type\":\"BasicTickFormatter\"},{\"attributes\":{},\"id\":\"1367\",\"type\":\"BasicTicker\"},{\"attributes\":{\"data\":{\"x\":[2015,2014,2013,2012,2011,2010,2009,2008,2007,2006,2005,2004,2003,2002,2001,2000],\"y\":{\"__ndarray__\":\"AAAAAADAU0AAAAAAAIBTQAAAAAAAwFNAAAAAAAAAUkAAAAAAAIBSQAAAAAAAgFFAmpmZmZl5UUAzMzMzM3NRQM3MzMzMbFFAAAAAAABgUUCamZmZmVlRQAAAAAAAQFFAZmZmZmYmUUDNzMzMzCxRQGZmZmZmJlFAMzMzMzMzUUA=\",\"dtype\":\"float64\",\"shape\":[16]}},\"selected\":{\"id\":\"1461\"},\"selection_policy\":{\"id\":\"1460\"}},\"id\":\"1425\",\"type\":\"ColumnDataSource\"},{\"attributes\":{\"data_source\":{\"id\":\"1382\"},\"glyph\":{\"id\":\"1383\"},\"hover_glyph\":null,\"muted_glyph\":null,\"nonselection_glyph\":{\"id\":\"1384\"},\"selection_glyph\":null,\"view\":{\"id\":\"1386\"}},\"id\":\"1385\",\"type\":\"GlyphRenderer\"},{\"attributes\":{\"data_source\":{\"id\":\"1425\"},\"glyph\":{\"id\":\"1426\"},\"hover_glyph\":null,\"muted_glyph\":null,\"nonselection_glyph\":{\"id\":\"1427\"},\"selection_glyph\":null,\"view\":{\"id\":\"1429\"}},\"id\":\"1428\",\"type\":\"GlyphRenderer\"},{\"attributes\":{\"items\":[{\"id\":\"1394\"},{\"id\":\"1408\"},{\"id\":\"1424\"},{\"id\":\"1442\"},{\"id\":\"1462\"}],\"location\":\"top_left\"},\"id\":\"1393\",\"type\":\"Legend\"},{\"attributes\":{\"label\":{\"value\":\"Egypt\"},\"renderers\":[{\"id\":\"1428\"}]},\"id\":\"1442\",\"type\":\"LegendItem\"},{\"attributes\":{\"fill_alpha\":{\"value\":0.1},\"fill_color\":{\"value\":\"#1f77b4\"},\"line_alpha\":{\"value\":0.1},\"line_color\":{\"value\":\"blue\"},\"line_width\":{\"value\":1.5},\"size\":{\"units\":\"screen\",\"value\":15},\"x\":{\"field\":\"x\"},\"y\":{\"field\":\"y\"}},\"id\":\"1411\",\"type\":\"Asterisk\"},{\"attributes\":{\"axis\":{\"id\":\"1366\"},\"dimension\":1,\"ticker\":null},\"id\":\"1369\",\"type\":\"Grid\"},{\"attributes\":{\"data\":{\"x\":[2015,2014,2013,2012,2011,2010,2009,2008,2007,2006,2005,2004,2003,2002,2001,2000],\"y\":{\"__ndarray__\":\"zczMzMysVEAAAAAAAKBUQDMzMzMzk1RAAAAAAACAVEAAAAAAAIBUQDMzMzMzc1RAZmZmZmZmVEAAAAAAAGBUQDMzMzMzU1RAzczMzMxMVEAAAAAAAABWQAAAAAAAQFZAmpmZmZn5U0AAAAAAAABUQDMzMzMz81NAmpmZmZnZU0A=\",\"dtype\":\"float64\",\"shape\":[16]}},\"selected\":{\"id\":\"1441\"},\"selection_policy\":{\"id\":\"1440\"}},\"id\":\"1409\",\"type\":\"ColumnDataSource\"},{\"attributes\":{},\"id\":\"1441\",\"type\":\"Selection\"},{\"attributes\":{\"axis_label\":\"Year\",\"formatter\":{\"id\":\"1388\"},\"ticker\":{\"id\":\"1363\"}},\"id\":\"1362\",\"type\":\"LinearAxis\"},{\"attributes\":{\"data\":{\"x\":[2015,2014,2013,2012,2011,2010,2009,2008,2007,2006,2005,2004,2003,2002,2001,2000],\"y\":{\"__ndarray__\":\"ZmZmZmbGU0AAAAAAAMBTQM3MzMzMrFNAzczMzMysU0AzMzMzM7NTQAAAAAAAgFNAZmZmZmaGU0CamZmZmXlTQGZmZmZmhlNAAAAAAACAU0DNzMzMzExTQDMzMzMzU1NAmpmZmZlZU0DNzMzMzGxTQM3MzMzMLFNAmpmZmZk5U0A=\",\"dtype\":\"float64\",\"shape\":[16]}},\"selected\":{\"id\":\"1504\"},\"selection_policy\":{\"id\":\"1503\"}},\"id\":\"1443\",\"type\":\"ColumnDataSource\"},{\"attributes\":{},\"id\":\"1422\",\"type\":\"UnionRenderers\"},{\"attributes\":{\"source\":{\"id\":\"1395\"}},\"id\":\"1399\",\"type\":\"CDSView\"},{\"attributes\":{\"axis\":{\"id\":\"1362\"},\"ticker\":null},\"id\":\"1365\",\"type\":\"Grid\"},{\"attributes\":{\"active_drag\":\"auto\",\"active_inspect\":\"auto\",\"active_multi\":null,\"active_scroll\":\"auto\",\"active_tap\":\"auto\",\"tools\":[{\"id\":\"1370\"},{\"id\":\"1371\"},{\"id\":\"1372\"},{\"id\":\"1373\"},{\"id\":\"1374\"}]},\"id\":\"1376\",\"type\":\"Toolbar\"}],\"root_ids\":[\"1351\"]},\"title\":\"Bokeh Application\",\"version\":\"2.0.2\"}};\n",
       "  var render_items = [{\"docid\":\"75d9e1bb-fe1c-4924-9cc0-a23178b9c3c3\",\"root_ids\":[\"1351\"],\"roots\":{\"1351\":\"a96b8289-4da8-4dc9-8820-48bfec7c4fca\"}}];\n",
       "  root.Bokeh.embed.embed_items_notebook(docs_json, render_items);\n",
       "\n",
       "  }\n",
       "  if (root.Bokeh !== undefined) {\n",
       "    embed_document(root);\n",
       "  } else {\n",
       "    var attempts = 0;\n",
       "    var timer = setInterval(function(root) {\n",
       "      if (root.Bokeh !== undefined) {\n",
       "        clearInterval(timer);\n",
       "        embed_document(root);\n",
       "      } else {\n",
       "        attempts++;\n",
       "        if (attempts > 100) {\n",
       "          clearInterval(timer);\n",
       "          console.log(\"Bokeh: ERROR: Unable to run BokehJS code because BokehJS library is missing\");\n",
       "        }\n",
       "      }\n",
       "    }, 10, root)\n",
       "  }\n",
       "})(window);"
      ],
      "application/vnd.bokehjs_exec.v0+json": ""
     },
     "metadata": {
      "application/vnd.bokehjs_exec.v0+json": {
       "id": "1351"
      }
     },
     "output_type": "display_data"
    }
   ],
   "source": [
    "#Initializing the plot\n",
    "p = figure(plot_width=800, plot_height=500,              #plot size\n",
    "           background_fill_color='lightblue',            #background color\n",
    "           background_fill_alpha=.2,                     #background opacity\n",
    "           title = 'Life expectancy 2000-2015',          #visual's title\n",
    "           title_location='above',                       #title's location\n",
    "           tools=TOOLS                                   #standard tools\n",
    "           )\n",
    "\n",
    "#Horizontal axis\n",
    "x = data[data['country']=='Afghanistan']['year']\n",
    "\n",
    "#Vertical axis for several countries' life expectancies\n",
    "y = data[data['country']=='Brazil']['life expectancy']\n",
    "y1 = data[data['country']=='India']['life expectancy']\n",
    "y2 = data[data['country']=='Italy']['life expectancy']\n",
    "y3 = data[data['country']=='Egypt']['life expectancy']\n",
    "y4 = data[data['country']=='Cuba']['life expectancy']\n",
    "\n",
    "#Drawing our 5 curves. Each line has its own style and label\n",
    "p.diamond(x , y, size =15, fill_alpha = .5, fill_color = 'red',\n",
    "          line_alpha = .5, line_color = 'green', line_width = 1.5, \n",
    "          legend_label=\"Brazil\")\n",
    "\n",
    "p.circle(x , y1, size =15, fill_alpha = .5, fill_color = 'green',\n",
    "         line_alpha = .5, line_color = 'red', line_width = 1.5, \n",
    "         legend_label=\"India\")\n",
    "\n",
    "p.asterisk(x , y2, size =15,  line_color = 'blue', line_width = 1.5,\n",
    "           legend_label=\"Italy\")\n",
    "\n",
    "p.triangle(x , y3, size =15, fill_alpha = .5, fill_color = 'orange',\n",
    "           line_alpha = .5, line_color = 'blue', line_width = 1.5, \n",
    "           legend_label=\"Egypt\")\n",
    "\n",
    "p.cross(x , y4, size =15,  line_color = 'magenta', line_width = 2, \n",
    "        legend_label=\"Cuba\")\n",
    "\n",
    "#Additional visualization parameters\n",
    "p.xaxis.axis_label = \"Year\"\n",
    "p.yaxis.axis_label = \"Life Expectancy\"\n",
    "p.legend.location = \"top_left\"\n",
    "\n",
    "#Showing the visualization\n",
    "show(p)"
   ]
  },
  {
   "cell_type": "markdown",
   "metadata": {},
   "source": [
    "This has been just a few of a miriad of styles and options to enhance Bokeh visuals. They're all pretty straight-foward and intuitive."
   ]
  },
  {
   "cell_type": "markdown",
   "metadata": {},
   "source": [
    "## Aggregated Fields and Combined Plotting Styles ##"
   ]
  },
  {
   "cell_type": "markdown",
   "metadata": {},
   "source": [
    "The beauty of Bokeh's functionality is that we could pass Panda's groupby structures (among many others) as arguments for plotting. We could also intuitively combine multiply styles for the same graphs. Let's illustrate it on the example of average polio rates comparison for the  developed and developing countries."
   ]
  },
  {
   "cell_type": "code",
   "execution_count": 6,
   "metadata": {},
   "outputs": [
    {
     "data": {
      "text/html": [
       "\n",
       "\n",
       "\n",
       "\n",
       "\n",
       "\n",
       "  <div class=\"bk-root\" id=\"6aaedaec-6294-4c38-8145-999d6fb2595b\" data-root-id=\"1602\"></div>\n"
      ]
     },
     "metadata": {},
     "output_type": "display_data"
    },
    {
     "data": {
      "application/javascript": [
       "(function(root) {\n",
       "  function embed_document(root) {\n",
       "    \n",
       "  var docs_json = {\"52586b98-cd13-4198-a172-4938a5732e81\":{\"roots\":{\"references\":[{\"attributes\":{\"below\":[{\"id\":\"1612\"}],\"center\":[{\"id\":\"1615\"},{\"id\":\"1619\"},{\"id\":\"1652\"}],\"left\":[{\"id\":\"1616\"}],\"plot_height\":500,\"plot_width\":800,\"renderers\":[{\"id\":\"1637\"},{\"id\":\"1642\"},{\"id\":\"1657\"},{\"id\":\"1662\"}],\"title\":{\"id\":\"1603\"},\"toolbar\":{\"id\":\"1627\"},\"x_range\":{\"id\":\"1601\"},\"x_scale\":{\"id\":\"1608\"},\"y_range\":{\"id\":\"1606\"},\"y_scale\":{\"id\":\"1610\"}},\"id\":\"1602\",\"subtype\":\"Figure\",\"type\":\"Plot\"},{\"attributes\":{},\"id\":\"1620\",\"type\":\"PanTool\"},{\"attributes\":{},\"id\":\"1621\",\"type\":\"WheelZoomTool\"},{\"attributes\":{},\"id\":\"1731\",\"type\":\"UnionRenderers\"},{\"attributes\":{},\"id\":\"1608\",\"type\":\"LinearScale\"},{\"attributes\":{\"bottom_units\":\"screen\",\"fill_alpha\":0.5,\"fill_color\":\"lightgrey\",\"left_units\":\"screen\",\"level\":\"overlay\",\"line_alpha\":1.0,\"line_color\":\"black\",\"line_dash\":[4,4],\"line_width\":2,\"render_mode\":\"css\",\"right_units\":\"screen\",\"top_units\":\"screen\"},\"id\":\"1626\",\"type\":\"BoxAnnotation\"},{\"attributes\":{\"overlay\":{\"id\":\"1626\"}},\"id\":\"1622\",\"type\":\"BoxZoomTool\"},{\"attributes\":{},\"id\":\"1673\",\"type\":\"Selection\"},{\"attributes\":{\"data\":{\"x\":[2000,2001,2002,2003,2004,2005,2006,2007,2008,2009,2010,2011,2012,2013,2014,2015],\"y\":{\"__ndarray__\":\"AAAAAABEVkAAAAAAAHhXQAAAAAAA/FZAAAAAAAC+V0AAAAAAABRXQAAAAAAAGFdAAAAAAAC6V0AAAAAAAJ5XQAAAAAAAoldAAAAAAACoV0AAAAAAAApXQAAAAAAA0ldAAAAAAADqV0AAAAAAAOhXQAAAAAAAPFdAAAAAAADEV0A=\",\"dtype\":\"float64\",\"shape\":[16]}},\"selected\":{\"id\":\"1732\"},\"selection_policy\":{\"id\":\"1731\"}},\"id\":\"1659\",\"type\":\"ColumnDataSource\"},{\"attributes\":{\"end\":2015.2,\"start\":1999.8},\"id\":\"1601\",\"type\":\"Range1d\"},{\"attributes\":{},\"id\":\"1623\",\"type\":\"SaveTool\"},{\"attributes\":{},\"id\":\"1650\",\"type\":\"UnionRenderers\"},{\"attributes\":{},\"id\":\"1624\",\"type\":\"ResetTool\"},{\"attributes\":{\"fill_alpha\":{\"value\":0.1},\"fill_color\":{\"value\":\"salmon\"},\"line_alpha\":{\"value\":0.1},\"line_color\":{\"value\":\"#1f77b4\"},\"size\":{\"units\":\"screen\",\"value\":15},\"x\":{\"field\":\"x\"},\"y\":{\"field\":\"y\"}},\"id\":\"1661\",\"type\":\"Circle\"},{\"attributes\":{\"data_source\":{\"id\":\"1654\"},\"glyph\":{\"id\":\"1655\"},\"hover_glyph\":null,\"muted_glyph\":null,\"nonselection_glyph\":{\"id\":\"1656\"},\"selection_glyph\":null,\"view\":{\"id\":\"1658\"}},\"id\":\"1657\",\"type\":\"GlyphRenderer\"},{\"attributes\":{\"text\":\"Average polio rates in developed vs. developing countries  2000-2015\"},\"id\":\"1603\",\"type\":\"Title\"},{\"attributes\":{},\"id\":\"1625\",\"type\":\"HelpTool\"},{\"attributes\":{\"label\":{\"value\":\"Developed countries\"},\"renderers\":[{\"id\":\"1662\"}]},\"id\":\"1676\",\"type\":\"LegendItem\"},{\"attributes\":{\"source\":{\"id\":\"1659\"}},\"id\":\"1663\",\"type\":\"CDSView\"},{\"attributes\":{\"line_alpha\":0.1,\"line_color\":\"red\",\"line_width\":3,\"x\":{\"field\":\"x\"},\"y\":{\"field\":\"y\"}},\"id\":\"1656\",\"type\":\"Line\"},{\"attributes\":{\"active_drag\":\"auto\",\"active_inspect\":\"auto\",\"active_multi\":null,\"active_scroll\":\"auto\",\"active_tap\":\"auto\",\"tools\":[{\"id\":\"1620\"},{\"id\":\"1621\"},{\"id\":\"1622\"},{\"id\":\"1623\"},{\"id\":\"1624\"},{\"id\":\"1625\"}]},\"id\":\"1627\",\"type\":\"Toolbar\"},{\"attributes\":{\"axis\":{\"id\":\"1616\"},\"dimension\":1,\"ticker\":null},\"id\":\"1619\",\"type\":\"Grid\"},{\"attributes\":{\"data_source\":{\"id\":\"1659\"},\"glyph\":{\"id\":\"1660\"},\"hover_glyph\":null,\"muted_glyph\":null,\"nonselection_glyph\":{\"id\":\"1661\"},\"selection_glyph\":null,\"view\":{\"id\":\"1663\"}},\"id\":\"1662\",\"type\":\"GlyphRenderer\"},{\"attributes\":{},\"id\":\"1647\",\"type\":\"BasicTickFormatter\"},{\"attributes\":{},\"id\":\"1606\",\"type\":\"DataRange1d\"},{\"attributes\":{},\"id\":\"1645\",\"type\":\"BasicTickFormatter\"},{\"attributes\":{\"fill_color\":{\"value\":\"azure\"},\"line_color\":{\"value\":\"#1f77b4\"},\"size\":{\"units\":\"screen\",\"value\":15},\"x\":{\"field\":\"x\"},\"y\":{\"field\":\"y\"}},\"id\":\"1640\",\"type\":\"Circle\"},{\"attributes\":{},\"id\":\"1651\",\"type\":\"Selection\"},{\"attributes\":{\"axis\":{\"id\":\"1612\"},\"ticker\":null},\"id\":\"1615\",\"type\":\"Grid\"},{\"attributes\":{\"line_color\":\"red\",\"line_width\":3,\"x\":{\"field\":\"x\"},\"y\":{\"field\":\"y\"}},\"id\":\"1655\",\"type\":\"Line\"},{\"attributes\":{},\"id\":\"1675\",\"type\":\"Selection\"},{\"attributes\":{\"source\":{\"id\":\"1639\"}},\"id\":\"1643\",\"type\":\"CDSView\"},{\"attributes\":{},\"id\":\"1610\",\"type\":\"LinearScale\"},{\"attributes\":{\"fill_color\":{\"value\":\"salmon\"},\"line_color\":{\"value\":\"#1f77b4\"},\"size\":{\"units\":\"screen\",\"value\":15},\"x\":{\"field\":\"x\"},\"y\":{\"field\":\"y\"}},\"id\":\"1660\",\"type\":\"Circle\"},{\"attributes\":{},\"id\":\"1617\",\"type\":\"BasicTicker\"},{\"attributes\":{},\"id\":\"1672\",\"type\":\"UnionRenderers\"},{\"attributes\":{\"data_source\":{\"id\":\"1634\"},\"glyph\":{\"id\":\"1635\"},\"hover_glyph\":null,\"muted_glyph\":null,\"nonselection_glyph\":{\"id\":\"1636\"},\"selection_glyph\":null,\"view\":{\"id\":\"1638\"}},\"id\":\"1637\",\"type\":\"GlyphRenderer\"},{\"attributes\":{\"data\":{\"x\":[2000,2001,2002,2003,2004,2005,2006,2007,2008,2009,2010,2011,2012,2013,2014,2015],\"y\":{\"__ndarray__\":\"OQUvp+BlUkD5a3bUIqRSQBxMkc+6YVNAFfmsG0xRU0BT5LNuMGVTQBxMkc+6oVNASkHy51WWVECgV1mc0a5UQE3HXCI86VRAGzBU0zHXVECq6ZhLhKdUQA4YqumYi1RAtHvY+jZgVEDQqyzOaLdUQKUg+fMqy1RAopqOuUQ4VEA=\",\"dtype\":\"float64\",\"shape\":[16]}},\"selected\":{\"id\":\"1651\"},\"selection_policy\":{\"id\":\"1650\"}},\"id\":\"1634\",\"type\":\"ColumnDataSource\"},{\"attributes\":{\"data\":{\"x\":[2000,2001,2002,2003,2004,2005,2006,2007,2008,2009,2010,2011,2012,2013,2014,2015],\"y\":{\"__ndarray__\":\"AAAAAABEVkAAAAAAAHhXQAAAAAAA/FZAAAAAAAC+V0AAAAAAABRXQAAAAAAAGFdAAAAAAAC6V0AAAAAAAJ5XQAAAAAAAoldAAAAAAACoV0AAAAAAAApXQAAAAAAA0ldAAAAAAADqV0AAAAAAAOhXQAAAAAAAPFdAAAAAAADEV0A=\",\"dtype\":\"float64\",\"shape\":[16]}},\"selected\":{\"id\":\"1675\"},\"selection_policy\":{\"id\":\"1674\"}},\"id\":\"1654\",\"type\":\"ColumnDataSource\"},{\"attributes\":{},\"id\":\"1674\",\"type\":\"UnionRenderers\"},{\"attributes\":{\"items\":[{\"id\":\"1653\"},{\"id\":\"1676\"}],\"location\":\"bottom_right\"},\"id\":\"1652\",\"type\":\"Legend\"},{\"attributes\":{\"line_color\":\"blue\",\"line_width\":3,\"x\":{\"field\":\"x\"},\"y\":{\"field\":\"y\"}},\"id\":\"1635\",\"type\":\"Line\"},{\"attributes\":{},\"id\":\"1613\",\"type\":\"BasicTicker\"},{\"attributes\":{\"data\":{\"x\":[2000,2001,2002,2003,2004,2005,2006,2007,2008,2009,2010,2011,2012,2013,2014,2015],\"y\":{\"__ndarray__\":\"OQUvp+BlUkD5a3bUIqRSQBxMkc+6YVNAFfmsG0xRU0BT5LNuMGVTQBxMkc+6oVNASkHy51WWVECgV1mc0a5UQE3HXCI86VRAGzBU0zHXVECq6ZhLhKdUQA4YqumYi1RAtHvY+jZgVEDQqyzOaLdUQKUg+fMqy1RAopqOuUQ4VEA=\",\"dtype\":\"float64\",\"shape\":[16]}},\"selected\":{\"id\":\"1673\"},\"selection_policy\":{\"id\":\"1672\"}},\"id\":\"1639\",\"type\":\"ColumnDataSource\"},{\"attributes\":{\"fill_alpha\":{\"value\":0.1},\"fill_color\":{\"value\":\"azure\"},\"line_alpha\":{\"value\":0.1},\"line_color\":{\"value\":\"#1f77b4\"},\"size\":{\"units\":\"screen\",\"value\":15},\"x\":{\"field\":\"x\"},\"y\":{\"field\":\"y\"}},\"id\":\"1641\",\"type\":\"Circle\"},{\"attributes\":{\"label\":{\"value\":\"Developing countries\"},\"renderers\":[{\"id\":\"1642\"}]},\"id\":\"1653\",\"type\":\"LegendItem\"},{\"attributes\":{\"source\":{\"id\":\"1634\"}},\"id\":\"1638\",\"type\":\"CDSView\"},{\"attributes\":{},\"id\":\"1732\",\"type\":\"Selection\"},{\"attributes\":{\"formatter\":{\"id\":\"1645\"},\"ticker\":{\"id\":\"1613\"}},\"id\":\"1612\",\"type\":\"LinearAxis\"},{\"attributes\":{\"data_source\":{\"id\":\"1639\"},\"glyph\":{\"id\":\"1640\"},\"hover_glyph\":null,\"muted_glyph\":null,\"nonselection_glyph\":{\"id\":\"1641\"},\"selection_glyph\":null,\"view\":{\"id\":\"1643\"}},\"id\":\"1642\",\"type\":\"GlyphRenderer\"},{\"attributes\":{\"line_alpha\":0.1,\"line_color\":\"blue\",\"line_width\":3,\"x\":{\"field\":\"x\"},\"y\":{\"field\":\"y\"}},\"id\":\"1636\",\"type\":\"Line\"},{\"attributes\":{\"source\":{\"id\":\"1654\"}},\"id\":\"1658\",\"type\":\"CDSView\"},{\"attributes\":{\"formatter\":{\"id\":\"1647\"},\"ticker\":{\"id\":\"1617\"}},\"id\":\"1616\",\"type\":\"LinearAxis\"}],\"root_ids\":[\"1602\"]},\"title\":\"Bokeh Application\",\"version\":\"2.0.2\"}};\n",
       "  var render_items = [{\"docid\":\"52586b98-cd13-4198-a172-4938a5732e81\",\"root_ids\":[\"1602\"],\"roots\":{\"1602\":\"6aaedaec-6294-4c38-8145-999d6fb2595b\"}}];\n",
       "  root.Bokeh.embed.embed_items_notebook(docs_json, render_items);\n",
       "\n",
       "  }\n",
       "  if (root.Bokeh !== undefined) {\n",
       "    embed_document(root);\n",
       "  } else {\n",
       "    var attempts = 0;\n",
       "    var timer = setInterval(function(root) {\n",
       "      if (root.Bokeh !== undefined) {\n",
       "        clearInterval(timer);\n",
       "        embed_document(root);\n",
       "      } else {\n",
       "        attempts++;\n",
       "        if (attempts > 100) {\n",
       "          clearInterval(timer);\n",
       "          console.log(\"Bokeh: ERROR: Unable to run BokehJS code because BokehJS library is missing\");\n",
       "        }\n",
       "      }\n",
       "    }, 10, root)\n",
       "  }\n",
       "})(window);"
      ],
      "application/vnd.bokehjs_exec.v0+json": ""
     },
     "metadata": {
      "application/vnd.bokehjs_exec.v0+json": {
       "id": "1602"
      }
     },
     "output_type": "display_data"
    }
   ],
   "source": [
    "#Initializing the plot\n",
    "p = figure(\n",
    "            plot_width=800, plot_height=500, \n",
    "           title = 'Average polio rates in developed vs. developing countries  2000-2015',\n",
    "           title_location='above',\n",
    "           x_range = Range1d(1999.8,2015.2) ,   #setting the range on x-axis through a special\n",
    "                                                #Bokeh class Range1d imported earlier\n",
    "        )\n",
    "\n",
    "#Plotting a line for developing countries by passing Pandas groupby aggregate structure\n",
    "#directly to the plotting finction\n",
    "p.line(\n",
    "        data[data['status']=='Developing'].groupby(['year']).mean()[['polio']].index,\n",
    "       data[data['status']=='Developing'].groupby(['year']).mean()['polio'],\n",
    "        line_color='blue',\n",
    "        line_width = 3\n",
    "        )\n",
    "#Plotting datapoint circles for developing countries by passing Pandas groupby aggregate \n",
    "#structure directly to the plotting finction\n",
    "p.circle(\n",
    "        data[data['status']=='Developing'].groupby(['year']).mean()[['polio']].index,\n",
    "       data[data['status']=='Developing'].groupby(['year']).mean()['polio'],\n",
    "        size = 15,\n",
    "        fill_color='azure',\n",
    "        legend_label = 'Developing countries'\n",
    "        )\n",
    "#Plotting a line for developed countries by passing Pandas groupby aggregate structure\n",
    "#directly to the plotting finction\n",
    "p.line(\n",
    "        data[data['status']=='Developed'].groupby(['year']).mean()[['polio']].index,\n",
    "       data[data['status']=='Developed'].groupby(['year']).mean()['polio'],\n",
    "        line_color='red',\n",
    "        line_width = 3\n",
    "        ) \n",
    "\n",
    "#Plotting datapoint circles for developed countries by passing Pandas groupby aggregate \n",
    "#structure directly to the plotting finction\n",
    "p.circle(\n",
    "        data[data['status']=='Developed'].groupby(['year']).mean()[['polio']].index,\n",
    "       data[data['status']=='Developed'].groupby(['year']).mean()['polio'],\n",
    "        size = 15,\n",
    "        fill_color='salmon',\n",
    "        legend_label = 'Developed countries'\n",
    "        )\n",
    "#Setting the legend's location\n",
    "p.legend.location = 'bottom_right'\n",
    "\n",
    "#Showing the visualization\n",
    "show(p)"
   ]
  },
  {
   "cell_type": "markdown",
   "metadata": {},
   "source": [
    "Voila! We could technically draw an endless number of graps on the same plot by using any possible combination of available Bokeh glyphs,colors and styles and this \"superset\" technique. "
   ]
  },
  {
   "cell_type": "markdown",
   "metadata": {},
   "source": [
    "## Multi-line Plotting ##"
   ]
  },
  {
   "cell_type": "markdown",
   "metadata": {},
   "source": [
    "Bokeh also provides us with the ways to reduce the amount of code required for plotting multiple dependencies on the same plot using a multiline plotting function. Let's look how that works on the example of aggregated measles statistics for developed and developing countries."
   ]
  },
  {
   "cell_type": "code",
   "execution_count": 7,
   "metadata": {},
   "outputs": [
    {
     "data": {
      "text/html": [
       "\n",
       "\n",
       "\n",
       "\n",
       "\n",
       "\n",
       "  <div class=\"bk-root\" id=\"7fb4a14f-c7d1-40ce-9c6c-0b6b9812177e\" data-root-id=\"1818\"></div>\n"
      ]
     },
     "metadata": {},
     "output_type": "display_data"
    },
    {
     "data": {
      "application/javascript": [
       "(function(root) {\n",
       "  function embed_document(root) {\n",
       "    \n",
       "  var docs_json = {\"a9ac629c-76ec-4c75-b45c-c52fdea23d23\":{\"roots\":{\"references\":[{\"attributes\":{\"below\":[{\"id\":\"1828\"}],\"center\":[{\"id\":\"1831\"},{\"id\":\"1835\"},{\"id\":\"1868\"}],\"left\":[{\"id\":\"1832\"}],\"plot_height\":500,\"plot_width\":800,\"renderers\":[{\"id\":\"1853\"},{\"id\":\"1858\"},{\"id\":\"1873\"}],\"title\":{\"id\":\"1819\"},\"toolbar\":{\"id\":\"1843\"},\"x_range\":{\"id\":\"1817\"},\"x_scale\":{\"id\":\"1824\"},\"y_range\":{\"id\":\"1822\"},\"y_scale\":{\"id\":\"1826\"}},\"id\":\"1818\",\"subtype\":\"Figure\",\"type\":\"Plot\"},{\"attributes\":{},\"id\":\"1826\",\"type\":\"LinearScale\"},{\"attributes\":{\"fill_color\":{\"value\":\"salmon\"},\"line_color\":{\"value\":\"#1f77b4\"},\"size\":{\"units\":\"screen\",\"value\":15},\"x\":{\"field\":\"x\"},\"y\":{\"field\":\"y\"}},\"id\":\"1871\",\"type\":\"Circle\"},{\"attributes\":{},\"id\":\"1863\",\"type\":\"BasicTickFormatter\"},{\"attributes\":{\"axis\":{\"id\":\"1832\"},\"dimension\":1,\"grid_line_alpha\":0.5,\"grid_line_color\":\"gray\",\"grid_line_dash\":[2,4],\"grid_line_width\":2,\"ticker\":null},\"id\":\"1835\",\"type\":\"Grid\"},{\"attributes\":{\"source\":{\"id\":\"1870\"}},\"id\":\"1874\",\"type\":\"CDSView\"},{\"attributes\":{},\"id\":\"1866\",\"type\":\"UnionRenderers\"},{\"attributes\":{\"fill_alpha\":{\"value\":0.1},\"fill_color\":{\"value\":\"azure\"},\"line_alpha\":{\"value\":0.1},\"line_color\":{\"value\":\"#1f77b4\"},\"size\":{\"units\":\"screen\",\"value\":15},\"x\":{\"field\":\"x\"},\"y\":{\"field\":\"y\"}},\"id\":\"1857\",\"type\":\"Circle\"},{\"attributes\":{},\"id\":\"1833\",\"type\":\"BasicTicker\"},{\"attributes\":{\"data_source\":{\"id\":\"1855\"},\"glyph\":{\"id\":\"1856\"},\"hover_glyph\":null,\"muted_glyph\":null,\"nonselection_glyph\":{\"id\":\"1857\"},\"selection_glyph\":null,\"view\":{\"id\":\"1859\"}},\"id\":\"1858\",\"type\":\"GlyphRenderer\"},{\"attributes\":{\"data\":{\"x\":[2000,2001,2002,2003,2004,2005,2006,2007,2008,2009,2010,2011,2012,2013,2014,2015],\"y\":{\"__ndarray__\":\"BS+n4OXptUAQjfWhsaK1QBX5rBvMIaxAbzBFPqs0sUCmyGfdYAmqQD7rBlNkga5AIfnzKotdo0DCk4Lkz3OdQLM4o93DSptAQzUdc4l8nEAAAAAAAKigQLa+DRiqdaFA2j1sfRt8lUA1HXOJ8CycQDwpSP68VqFAWZzR7mH3m0A=\",\"dtype\":\"float64\",\"shape\":[16]}},\"selected\":{\"id\":\"1884\"},\"selection_policy\":{\"id\":\"1883\"}},\"id\":\"1855\",\"type\":\"ColumnDataSource\"},{\"attributes\":{\"fill_alpha\":{\"value\":0.1},\"fill_color\":{\"value\":\"salmon\"},\"line_alpha\":{\"value\":0.1},\"line_color\":{\"value\":\"#1f77b4\"},\"size\":{\"units\":\"screen\",\"value\":15},\"x\":{\"field\":\"x\"},\"y\":{\"field\":\"y\"}},\"id\":\"1872\",\"type\":\"Circle\"},{\"attributes\":{\"axis\":{\"id\":\"1828\"},\"grid_line_alpha\":0.5,\"grid_line_color\":\"gray\",\"grid_line_dash\":[6],\"grid_line_width\":2,\"ticker\":null},\"id\":\"1831\",\"type\":\"Grid\"},{\"attributes\":{\"formatter\":{\"id\":\"1863\"},\"ticker\":{\"id\":\"1833\"}},\"id\":\"1832\",\"type\":\"LinearAxis\"},{\"attributes\":{\"source\":{\"id\":\"1855\"}},\"id\":\"1859\",\"type\":\"CDSView\"},{\"attributes\":{},\"id\":\"1884\",\"type\":\"Selection\"},{\"attributes\":{\"formatter\":{\"id\":\"1861\"},\"ticker\":{\"id\":\"1829\"}},\"id\":\"1828\",\"type\":\"LinearAxis\"},{\"attributes\":{\"source\":{\"id\":\"1850\"}},\"id\":\"1854\",\"type\":\"CDSView\"},{\"attributes\":{},\"id\":\"1822\",\"type\":\"DataRange1d\"},{\"attributes\":{},\"id\":\"1883\",\"type\":\"UnionRenderers\"},{\"attributes\":{\"data_source\":{\"id\":\"1870\"},\"glyph\":{\"id\":\"1871\"},\"hover_glyph\":null,\"muted_glyph\":null,\"nonselection_glyph\":{\"id\":\"1872\"},\"selection_glyph\":null,\"view\":{\"id\":\"1874\"}},\"id\":\"1873\",\"type\":\"GlyphRenderer\"},{\"attributes\":{\"label\":{\"value\":\"Developing\"},\"renderers\":[{\"id\":\"1858\"}]},\"id\":\"1869\",\"type\":\"LegendItem\"},{\"attributes\":{\"line_color\":{\"field\":\"line_color\"},\"line_width\":{\"field\":\"line_width\"},\"xs\":{\"field\":\"xs\"},\"ys\":{\"field\":\"ys\"}},\"id\":\"1851\",\"type\":\"MultiLine\"},{\"attributes\":{\"items\":[{\"id\":\"1869\"},{\"id\":\"1885\"}]},\"id\":\"1868\",\"type\":\"Legend\"},{\"attributes\":{\"data_source\":{\"id\":\"1850\"},\"glyph\":{\"id\":\"1851\"},\"hover_glyph\":null,\"muted_glyph\":null,\"nonselection_glyph\":{\"id\":\"1852\"},\"selection_glyph\":null,\"view\":{\"id\":\"1854\"}},\"id\":\"1853\",\"type\":\"GlyphRenderer\"},{\"attributes\":{},\"id\":\"1836\",\"type\":\"PanTool\"},{\"attributes\":{\"label\":{\"value\":\"Developed\"},\"renderers\":[{\"id\":\"1873\"}]},\"id\":\"1885\",\"type\":\"LegendItem\"},{\"attributes\":{\"data\":{\"x\":[2000,2001,2002,2003,2004,2005,2006,2007,2008,2009,2010,2011,2012,2013,2014,2015],\"y\":{\"__ndarray__\":\"AAAAAABWiUAAAAAAgOaNQAAAAAAA7pdAAAAAAEDphUAAAAAAALd0QAAAAAAAIGlAAAAAAABFb0AAAAAAAApeQAAAAABA74FAAAAAAAAKa0AAAAAAgNyIQAAAAACAA4NAAAAAAAAoeEAAAAAAADxxQAAAAAAA2FlAAAAAAABSXkA=\",\"dtype\":\"float64\",\"shape\":[16]}},\"selected\":{\"id\":\"1953\"},\"selection_policy\":{\"id\":\"1952\"}},\"id\":\"1870\",\"type\":\"ColumnDataSource\"},{\"attributes\":{},\"id\":\"1837\",\"type\":\"WheelZoomTool\"},{\"attributes\":{\"bottom_units\":\"screen\",\"fill_alpha\":0.5,\"fill_color\":\"lightgrey\",\"left_units\":\"screen\",\"level\":\"overlay\",\"line_alpha\":1.0,\"line_color\":\"black\",\"line_dash\":[4,4],\"line_width\":2,\"render_mode\":\"css\",\"right_units\":\"screen\",\"top_units\":\"screen\"},\"id\":\"1842\",\"type\":\"BoxAnnotation\"},{\"attributes\":{},\"id\":\"1952\",\"type\":\"UnionRenderers\"},{\"attributes\":{\"overlay\":{\"id\":\"1842\"}},\"id\":\"1838\",\"type\":\"BoxZoomTool\"},{\"attributes\":{},\"id\":\"1953\",\"type\":\"Selection\"},{\"attributes\":{},\"id\":\"1861\",\"type\":\"BasicTickFormatter\"},{\"attributes\":{},\"id\":\"1839\",\"type\":\"SaveTool\"},{\"attributes\":{},\"id\":\"1840\",\"type\":\"ResetTool\"},{\"attributes\":{},\"id\":\"1829\",\"type\":\"BasicTicker\"},{\"attributes\":{\"data\":{\"line_color\":[\"blue\",\"red\"],\"line_width\":[3,3],\"xs\":[[2000,2001,2002,2003,2004,2005,2006,2007,2008,2009,2010,2011,2012,2013,2014,2015],[2000,2001,2002,2003,2004,2005,2006,2007,2008,2009,2010,2011,2012,2013,2014,2015]],\"ys\":[[5609.897959183673,5538.693877551021,3600.8986486486488,4404.668918918919,3332.689189189189,3904.695945945946,2478.771812080537,1884.9530201342282,1746.6912751677853,1823.1342281879195,2132.0,2234.8322147651006,1375.0268456375838,1803.234899328859,2219.3691275167785,1789.8456375838925],[810.75,956.8125,1531.5,701.15625,331.4375,201.0,250.15625,120.15625,573.90625,216.3125,795.5625,608.4375,386.5,275.75,103.375,121.28125]]},\"selected\":{\"id\":\"1867\"},\"selection_policy\":{\"id\":\"1866\"}},\"id\":\"1850\",\"type\":\"ColumnDataSource\"},{\"attributes\":{},\"id\":\"1867\",\"type\":\"Selection\"},{\"attributes\":{\"end\":2015.2,\"start\":1999.8},\"id\":\"1817\",\"type\":\"Range1d\"},{\"attributes\":{},\"id\":\"1824\",\"type\":\"LinearScale\"},{\"attributes\":{},\"id\":\"1841\",\"type\":\"HelpTool\"},{\"attributes\":{\"line_alpha\":{\"value\":0.1},\"line_color\":{\"field\":\"line_color\"},\"line_width\":{\"field\":\"line_width\"},\"xs\":{\"field\":\"xs\"},\"ys\":{\"field\":\"ys\"}},\"id\":\"1852\",\"type\":\"MultiLine\"},{\"attributes\":{\"fill_color\":{\"value\":\"azure\"},\"line_color\":{\"value\":\"#1f77b4\"},\"size\":{\"units\":\"screen\",\"value\":15},\"x\":{\"field\":\"x\"},\"y\":{\"field\":\"y\"}},\"id\":\"1856\",\"type\":\"Circle\"},{\"attributes\":{\"active_drag\":\"auto\",\"active_inspect\":\"auto\",\"active_multi\":null,\"active_scroll\":\"auto\",\"active_tap\":\"auto\",\"tools\":[{\"id\":\"1836\"},{\"id\":\"1837\"},{\"id\":\"1838\"},{\"id\":\"1839\"},{\"id\":\"1840\"},{\"id\":\"1841\"}]},\"id\":\"1843\",\"type\":\"Toolbar\"},{\"attributes\":{\"text\":\"Average measles rates in developed vs. developing countries  2000-2015\"},\"id\":\"1819\",\"type\":\"Title\"}],\"root_ids\":[\"1818\"]},\"title\":\"Bokeh Application\",\"version\":\"2.0.2\"}};\n",
       "  var render_items = [{\"docid\":\"a9ac629c-76ec-4c75-b45c-c52fdea23d23\",\"root_ids\":[\"1818\"],\"roots\":{\"1818\":\"7fb4a14f-c7d1-40ce-9c6c-0b6b9812177e\"}}];\n",
       "  root.Bokeh.embed.embed_items_notebook(docs_json, render_items);\n",
       "\n",
       "  }\n",
       "  if (root.Bokeh !== undefined) {\n",
       "    embed_document(root);\n",
       "  } else {\n",
       "    var attempts = 0;\n",
       "    var timer = setInterval(function(root) {\n",
       "      if (root.Bokeh !== undefined) {\n",
       "        clearInterval(timer);\n",
       "        embed_document(root);\n",
       "      } else {\n",
       "        attempts++;\n",
       "        if (attempts > 100) {\n",
       "          clearInterval(timer);\n",
       "          console.log(\"Bokeh: ERROR: Unable to run BokehJS code because BokehJS library is missing\");\n",
       "        }\n",
       "      }\n",
       "    }, 10, root)\n",
       "  }\n",
       "})(window);"
      ],
      "application/vnd.bokehjs_exec.v0+json": ""
     },
     "metadata": {
      "application/vnd.bokehjs_exec.v0+json": {
       "id": "1818"
      }
     },
     "output_type": "display_data"
    }
   ],
   "source": [
    "#Initializing the plot\n",
    "p = figure(\n",
    "            plot_width=800, plot_height=500, \n",
    "           title = 'Average measles rates in developed vs. developing countries  2000-2015',\n",
    "           title_location='above',\n",
    "           x_range = Range1d(1999.8,2015.2) ,   #setting the range on x-axis through a special\n",
    "                                                #Bokeh class Range1d imported earlier\n",
    "        )\n",
    "\n",
    "#Multi-line plotting function with the following scheme:\n",
    "#p.milti-line(\n",
    "#            [x[0]:x[i]],     - list of horizontal values for each curve\n",
    "#            [y[0]:y[i]],     - list of vertical values for each curve\n",
    "#            lists of respected properties for the lines)\n",
    "p.multi_line(\n",
    "            [data[data['status']=='Developing'].groupby(['year']).mean()[['measles']].index,\n",
    "            data[data['status']=='Developing'].groupby(['year']).mean()[['measles']].index],\n",
    "    \n",
    "            [data[data['status']=='Developing'].groupby(['year']).mean()['measles'],\n",
    "            data[data['status']=='Developed'].groupby(['year']).mean()['measles']],\n",
    "    \n",
    "            color=['blue','red'],\n",
    "    \n",
    "            width=[3,3]\n",
    "    \n",
    "            )\n",
    "\n",
    "#Plotting datapoint circles for developing countries by passing Pandas groupby aggregate \n",
    "#structure directly to the plotting finction\n",
    "p.circle(\n",
    "        data[data['status']=='Developing'].groupby(['year']).mean()[['measles']].index,\n",
    "       data[data['status']=='Developing'].groupby(['year']).mean()['measles'],\n",
    "        size = 15,\n",
    "        fill_color='azure',\n",
    "        legend_label='Developing'\n",
    "        )\n",
    "\n",
    "#Plotting datapoint circles for developed countries by passing Pandas groupby aggregate \n",
    "#structure directly to the plotting finction        \n",
    "p.circle(\n",
    "        data[data['status']=='Developed'].groupby(['year']).mean()[['measles']].index,\n",
    "       data[data['status']=='Developed'].groupby(['year']).mean()['measles'],\n",
    "        size = 15,\n",
    "        fill_color='salmon',\n",
    "        legend_label='Developed'\n",
    "        )\n",
    "\n",
    "#Setting the legend's location\n",
    "p.legend.location='top_right'\n",
    "\n",
    "#Setting (x,y)gridlines properties\n",
    "p.xgrid.grid_line_color = 'gray'\n",
    "p.xgrid.grid_line_width = 2\n",
    "p.xgrid.grid_line_dash = 'dashed'\n",
    "p.xgrid.grid_line_alpha=.5\n",
    "\n",
    "p.ygrid.grid_line_color = 'gray'\n",
    "p.ygrid.grid_line_width = 2\n",
    "p.ygrid.grid_line_dash = 'dotted'\n",
    "p.ygrid.grid_line_alpha=.5\n",
    "\n",
    "#Showing the visual\n",
    "show(p)"
   ]
  },
  {
   "cell_type": "markdown",
   "metadata": {},
   "source": [
    "## Grid-plots ##"
   ]
  },
  {
   "cell_type": "markdown",
   "metadata": {},
   "source": [
    "For many visualization libraries simultaneous creating a number of plots and arranging them in a grid is quite a tough task. Not for Bokeh. Let's look at several random countries and their infant aged 0-5 y.o mortality rates over the years."
   ]
  },
  {
   "cell_type": "code",
   "execution_count": 8,
   "metadata": {},
   "outputs": [
    {
     "data": {
      "text/html": [
       "\n",
       "\n",
       "\n",
       "\n",
       "\n",
       "\n",
       "  <div class=\"bk-root\" id=\"8f14aefd-84bf-4281-ab7f-f5463ee7f8b0\" data-root-id=\"2219\"></div>\n"
      ]
     },
     "metadata": {},
     "output_type": "display_data"
    },
    {
     "data": {
      "application/javascript": [
       "(function(root) {\n",
       "  function embed_document(root) {\n",
       "    \n",
       "  var docs_json = {\"97ef9222-76e6-43c7-8223-d2c843901e3c\":{\"roots\":{\"references\":[{\"attributes\":{\"children\":[[{\"id\":\"2026\"},0,0],[{\"id\":\"2079\"},1,0],[{\"id\":\"2131\"},1,1]]},\"id\":\"2219\",\"type\":\"GridBox\"},{\"attributes\":{},\"id\":\"2152\",\"type\":\"ResetTool\"},{\"attributes\":{},\"id\":\"2127\",\"type\":\"UnionRenderers\"},{\"attributes\":{},\"id\":\"2122\",\"type\":\"BasicTickFormatter\"},{\"attributes\":{\"data\":{\"x\":[2015,2014,2013,2012,2011,2010,2009,2008,2007,2006,2005,2004,2003,2002,2001,2000],\"y\":[18,19,20,22,23,25,27,29,31,34,36,39,43,46,50,54]},\"selected\":{\"id\":\"2193\"},\"selection_policy\":{\"id\":\"2192\"}},\"id\":\"2062\",\"type\":\"ColumnDataSource\"},{\"attributes\":{\"data_source\":{\"id\":\"2057\"},\"glyph\":{\"id\":\"2058\"},\"hover_glyph\":null,\"muted_glyph\":null,\"nonselection_glyph\":{\"id\":\"2059\"},\"selection_glyph\":null,\"view\":{\"id\":\"2061\"}},\"id\":\"2060\",\"type\":\"GlyphRenderer\"},{\"attributes\":{},\"id\":\"2124\",\"type\":\"BasicTickFormatter\"},{\"attributes\":{},\"id\":\"2153\",\"type\":\"HelpTool\"},{\"attributes\":{\"items\":[{\"id\":\"2130\"}]},\"id\":\"2129\",\"type\":\"Legend\"},{\"attributes\":{\"fill_alpha\":{\"value\":0.1},\"fill_color\":{\"value\":\"firebrick\"},\"line_alpha\":{\"value\":0.1},\"line_color\":{\"value\":\"firebrick\"},\"size\":{\"units\":\"screen\",\"value\":10},\"x\":{\"field\":\"x\"},\"y\":{\"field\":\"y\"}},\"id\":\"2059\",\"type\":\"Triangle\"},{\"attributes\":{\"source\":{\"id\":\"2057\"}},\"id\":\"2061\",\"type\":\"CDSView\"},{\"attributes\":{},\"id\":\"2217\",\"type\":\"Selection\"},{\"attributes\":{\"text\":\"\"},\"id\":\"2121\",\"type\":\"Title\"},{\"attributes\":{},\"id\":\"2204\",\"type\":\"UnionRenderers\"},{\"attributes\":{},\"id\":\"2044\",\"type\":\"WheelZoomTool\"},{\"attributes\":{\"source\":{\"id\":\"2115\"}},\"id\":\"2119\",\"type\":\"CDSView\"},{\"attributes\":{\"items\":[{\"id\":\"2077\"}]},\"id\":\"2076\",\"type\":\"Legend\"},{\"attributes\":{},\"id\":\"2043\",\"type\":\"PanTool\"},{\"attributes\":{\"bottom_units\":\"screen\",\"fill_alpha\":0.5,\"fill_color\":\"lightgrey\",\"left_units\":\"screen\",\"level\":\"overlay\",\"line_alpha\":1.0,\"line_color\":\"black\",\"line_dash\":[4,4],\"line_width\":2,\"render_mode\":\"css\",\"right_units\":\"screen\",\"top_units\":\"screen\"},\"id\":\"2102\",\"type\":\"BoxAnnotation\"},{\"attributes\":{\"overlay\":{\"id\":\"2049\"}},\"id\":\"2045\",\"type\":\"BoxZoomTool\"},{\"attributes\":{},\"id\":\"2192\",\"type\":\"UnionRenderers\"},{\"attributes\":{},\"id\":\"2046\",\"type\":\"SaveTool\"},{\"attributes\":{},\"id\":\"2047\",\"type\":\"ResetTool\"},{\"attributes\":{},\"id\":\"2205\",\"type\":\"Selection\"},{\"attributes\":{},\"id\":\"2193\",\"type\":\"Selection\"},{\"attributes\":{\"label\":{\"value\":\"Thailand\"},\"renderers\":[{\"id\":\"2170\"}]},\"id\":\"2182\",\"type\":\"LegendItem\"},{\"attributes\":{\"below\":[{\"id\":\"2140\"}],\"center\":[{\"id\":\"2143\"},{\"id\":\"2147\"},{\"id\":\"2181\"}],\"left\":[{\"id\":\"2144\"}],\"plot_height\":250,\"plot_width\":250,\"renderers\":[{\"id\":\"2165\"},{\"id\":\"2170\"}],\"title\":{\"id\":\"2173\"},\"toolbar\":{\"id\":\"2155\"},\"toolbar_location\":null,\"x_range\":{\"id\":\"2132\"},\"x_scale\":{\"id\":\"2136\"},\"y_range\":{\"id\":\"2134\"},\"y_scale\":{\"id\":\"2138\"}},\"id\":\"2131\",\"subtype\":\"Figure\",\"type\":\"Plot\"},{\"attributes\":{\"fill_alpha\":{\"value\":0.25},\"fill_color\":{\"value\":\"olive\"},\"line_color\":{\"value\":\"olive\"},\"size\":{\"units\":\"screen\",\"value\":10},\"x\":{\"field\":\"x\"},\"y\":{\"field\":\"y\"}},\"id\":\"2163\",\"type\":\"Circle\"},{\"attributes\":{},\"id\":\"2180\",\"type\":\"Selection\"},{\"attributes\":{},\"id\":\"2048\",\"type\":\"HelpTool\"},{\"attributes\":{\"bottom_units\":\"screen\",\"fill_alpha\":0.5,\"fill_color\":\"lightgrey\",\"left_units\":\"screen\",\"level\":\"overlay\",\"line_alpha\":1.0,\"line_color\":\"black\",\"line_dash\":[4,4],\"line_width\":2,\"render_mode\":\"css\",\"right_units\":\"screen\",\"top_units\":\"screen\"},\"id\":\"2154\",\"type\":\"BoxAnnotation\"},{\"attributes\":{\"active_drag\":\"auto\",\"active_inspect\":\"auto\",\"active_multi\":null,\"active_scroll\":\"auto\",\"active_tap\":\"auto\",\"tools\":[{\"id\":\"2043\"},{\"id\":\"2044\"},{\"id\":\"2045\"},{\"id\":\"2046\"},{\"id\":\"2047\"},{\"id\":\"2048\"}]},\"id\":\"2050\",\"type\":\"Toolbar\"},{\"attributes\":{},\"id\":\"2128\",\"type\":\"Selection\"},{\"attributes\":{\"active_drag\":\"auto\",\"active_inspect\":\"auto\",\"active_multi\":null,\"active_scroll\":\"auto\",\"active_tap\":\"auto\",\"tools\":[{\"id\":\"2148\"},{\"id\":\"2149\"},{\"id\":\"2150\"},{\"id\":\"2151\"},{\"id\":\"2152\"},{\"id\":\"2153\"}]},\"id\":\"2155\",\"type\":\"Toolbar\"},{\"attributes\":{\"data\":{\"x\":[2015,2014,2013,2012,2011,2010,2009,2008,2007,2006,2005,2004,2003,2002,2001,2000],\"y\":[9,10,10,11,11,12,12,13,14,15,15,16,18,19,20,21]},\"selected\":{\"id\":\"2180\"},\"selection_policy\":{\"id\":\"2179\"}},\"id\":\"2162\",\"type\":\"ColumnDataSource\"},{\"attributes\":{\"label\":{\"value\":\"Brazil\"},\"renderers\":[{\"id\":\"2118\"}]},\"id\":\"2130\",\"type\":\"LegendItem\"},{\"attributes\":{},\"id\":\"2132\",\"type\":\"DataRange1d\"},{\"attributes\":{\"data_source\":{\"id\":\"2167\"},\"glyph\":{\"id\":\"2168\"},\"hover_glyph\":null,\"muted_glyph\":null,\"nonselection_glyph\":{\"id\":\"2169\"},\"selection_glyph\":null,\"view\":{\"id\":\"2171\"}},\"id\":\"2170\",\"type\":\"GlyphRenderer\"},{\"attributes\":{\"text\":\"\"},\"id\":\"2173\",\"type\":\"Title\"},{\"attributes\":{},\"id\":\"2134\",\"type\":\"DataRange1d\"},{\"attributes\":{},\"id\":\"2136\",\"type\":\"LinearScale\"},{\"attributes\":{\"source\":{\"id\":\"2167\"}},\"id\":\"2171\",\"type\":\"CDSView\"},{\"attributes\":{\"axis\":{\"id\":\"2039\"},\"dimension\":1,\"ticker\":null},\"id\":\"2042\",\"type\":\"Grid\"},{\"attributes\":{},\"id\":\"2138\",\"type\":\"LinearScale\"},{\"attributes\":{\"formatter\":{\"id\":\"2174\"},\"ticker\":{\"id\":\"2141\"}},\"id\":\"2140\",\"type\":\"LinearAxis\"},{\"attributes\":{\"line_alpha\":0.1,\"line_color\":\"lightgreen\",\"line_width\":2,\"x\":{\"field\":\"x\"},\"y\":{\"field\":\"y\"}},\"id\":\"2169\",\"type\":\"Line\"},{\"attributes\":{\"items\":[{\"id\":\"2182\"}]},\"id\":\"2181\",\"type\":\"Legend\"},{\"attributes\":{},\"id\":\"2145\",\"type\":\"BasicTicker\"},{\"attributes\":{},\"id\":\"2141\",\"type\":\"BasicTicker\"},{\"attributes\":{\"source\":{\"id\":\"2062\"}},\"id\":\"2066\",\"type\":\"CDSView\"},{\"attributes\":{},\"id\":\"2176\",\"type\":\"BasicTickFormatter\"},{\"attributes\":{\"axis\":{\"id\":\"2140\"},\"ticker\":null},\"id\":\"2143\",\"type\":\"Grid\"},{\"attributes\":{},\"id\":\"2179\",\"type\":\"UnionRenderers\"},{\"attributes\":{\"source\":{\"id\":\"2162\"}},\"id\":\"2166\",\"type\":\"CDSView\"},{\"attributes\":{\"axis\":{\"id\":\"2144\"},\"dimension\":1,\"ticker\":null},\"id\":\"2147\",\"type\":\"Grid\"},{\"attributes\":{},\"id\":\"2174\",\"type\":\"BasicTickFormatter\"},{\"attributes\":{\"formatter\":{\"id\":\"2176\"},\"ticker\":{\"id\":\"2145\"}},\"id\":\"2144\",\"type\":\"LinearAxis\"},{\"attributes\":{\"data\":{\"x\":[2015,2014,2013,2012,2011,2010,2009,2008,2007,2006,2005,2004,2003,2002,2001,2000],\"y\":[9,10,10,11,11,12,12,13,14,15,15,16,18,19,20,21]},\"selected\":{\"id\":\"2217\"},\"selection_policy\":{\"id\":\"2216\"}},\"id\":\"2167\",\"type\":\"ColumnDataSource\"},{\"attributes\":{},\"id\":\"2216\",\"type\":\"UnionRenderers\"},{\"attributes\":{\"fill_alpha\":{\"value\":0.1},\"fill_color\":{\"value\":\"olive\"},\"line_alpha\":{\"value\":0.1},\"line_color\":{\"value\":\"olive\"},\"size\":{\"units\":\"screen\",\"value\":10},\"x\":{\"field\":\"x\"},\"y\":{\"field\":\"y\"}},\"id\":\"2164\",\"type\":\"Circle\"},{\"attributes\":{\"line_color\":\"lightgreen\",\"line_width\":2,\"x\":{\"field\":\"x\"},\"y\":{\"field\":\"y\"}},\"id\":\"2168\",\"type\":\"Line\"},{\"attributes\":{\"data_source\":{\"id\":\"2162\"},\"glyph\":{\"id\":\"2163\"},\"hover_glyph\":null,\"muted_glyph\":null,\"nonselection_glyph\":{\"id\":\"2164\"},\"selection_glyph\":null,\"view\":{\"id\":\"2166\"}},\"id\":\"2165\",\"type\":\"GlyphRenderer\"},{\"attributes\":{\"bottom_units\":\"screen\",\"fill_alpha\":0.5,\"fill_color\":\"lightgrey\",\"left_units\":\"screen\",\"level\":\"overlay\",\"line_alpha\":1.0,\"line_color\":\"black\",\"line_dash\":[4,4],\"line_width\":2,\"render_mode\":\"css\",\"right_units\":\"screen\",\"top_units\":\"screen\"},\"id\":\"2049\",\"type\":\"BoxAnnotation\"},{\"attributes\":{},\"id\":\"2148\",\"type\":\"PanTool\"},{\"attributes\":{},\"id\":\"2149\",\"type\":\"WheelZoomTool\"},{\"attributes\":{\"overlay\":{\"id\":\"2154\"}},\"id\":\"2150\",\"type\":\"BoxZoomTool\"},{\"attributes\":{},\"id\":\"2151\",\"type\":\"SaveTool\"},{\"attributes\":{},\"id\":\"2040\",\"type\":\"BasicTicker\"},{\"attributes\":{\"text\":\"Mortality rates for infants 0-5 years 2000-2015\"},\"id\":\"2068\",\"type\":\"Title\"},{\"attributes\":{},\"id\":\"2071\",\"type\":\"BasicTickFormatter\"},{\"attributes\":{},\"id\":\"2074\",\"type\":\"UnionRenderers\"},{\"attributes\":{},\"id\":\"2069\",\"type\":\"BasicTickFormatter\"},{\"attributes\":{},\"id\":\"2075\",\"type\":\"Selection\"},{\"attributes\":{},\"id\":\"2084\",\"type\":\"LinearScale\"},{\"attributes\":{\"label\":{\"value\":\"Turkey\"},\"renderers\":[{\"id\":\"2065\"}]},\"id\":\"2077\",\"type\":\"LegendItem\"},{\"attributes\":{\"line_alpha\":0.1,\"line_color\":\"salmon\",\"line_width\":2,\"x\":{\"field\":\"x\"},\"y\":{\"field\":\"y\"}},\"id\":\"2064\",\"type\":\"Line\"},{\"attributes\":{\"below\":[{\"id\":\"2088\"}],\"center\":[{\"id\":\"2091\"},{\"id\":\"2095\"},{\"id\":\"2129\"}],\"left\":[{\"id\":\"2092\"}],\"plot_height\":250,\"plot_width\":250,\"renderers\":[{\"id\":\"2113\"},{\"id\":\"2118\"}],\"title\":{\"id\":\"2121\"},\"toolbar\":{\"id\":\"2103\"},\"toolbar_location\":null,\"x_range\":{\"id\":\"2080\"},\"x_scale\":{\"id\":\"2084\"},\"y_range\":{\"id\":\"2082\"},\"y_scale\":{\"id\":\"2086\"}},\"id\":\"2079\",\"subtype\":\"Figure\",\"type\":\"Plot\"},{\"attributes\":{},\"id\":\"2082\",\"type\":\"DataRange1d\"},{\"attributes\":{\"below\":[{\"id\":\"2035\"}],\"center\":[{\"id\":\"2038\"},{\"id\":\"2042\"},{\"id\":\"2076\"}],\"left\":[{\"id\":\"2039\"}],\"plot_height\":250,\"plot_width\":250,\"renderers\":[{\"id\":\"2060\"},{\"id\":\"2065\"}],\"title\":{\"id\":\"2068\"},\"toolbar\":{\"id\":\"2050\"},\"toolbar_location\":null,\"x_range\":{\"id\":\"2027\"},\"x_scale\":{\"id\":\"2031\"},\"y_range\":{\"id\":\"2029\"},\"y_scale\":{\"id\":\"2033\"}},\"id\":\"2026\",\"subtype\":\"Figure\",\"type\":\"Plot\"},{\"attributes\":{},\"id\":\"2080\",\"type\":\"DataRange1d\"},{\"attributes\":{\"line_color\":\"salmon\",\"line_width\":2,\"x\":{\"field\":\"x\"},\"y\":{\"field\":\"y\"}},\"id\":\"2063\",\"type\":\"Line\"},{\"attributes\":{\"data\":{\"x\":[2015,2014,2013,2012,2011,2010,2009,2008,2007,2006,2005,2004,2003,2002,2001,2000],\"y\":[47,49,52,54,57,61,64,68,73,79,85,93,100,109,118,127]},\"selected\":{\"id\":\"2128\"},\"selection_policy\":{\"id\":\"2127\"}},\"id\":\"2110\",\"type\":\"ColumnDataSource\"},{\"attributes\":{\"data\":{\"x\":[2015,2014,2013,2012,2011,2010,2009,2008,2007,2006,2005,2004,2003,2002,2001,2000],\"y\":[18,19,20,22,23,25,27,29,31,34,36,39,43,46,50,54]},\"selected\":{\"id\":\"2075\"},\"selection_policy\":{\"id\":\"2074\"}},\"id\":\"2057\",\"type\":\"ColumnDataSource\"},{\"attributes\":{},\"id\":\"2086\",\"type\":\"LinearScale\"},{\"attributes\":{\"formatter\":{\"id\":\"2122\"},\"ticker\":{\"id\":\"2089\"}},\"id\":\"2088\",\"type\":\"LinearAxis\"},{\"attributes\":{},\"id\":\"2093\",\"type\":\"BasicTicker\"},{\"attributes\":{},\"id\":\"2089\",\"type\":\"BasicTicker\"},{\"attributes\":{\"axis\":{\"id\":\"2088\"},\"ticker\":null},\"id\":\"2091\",\"type\":\"Grid\"},{\"attributes\":{\"data_source\":{\"id\":\"2110\"},\"glyph\":{\"id\":\"2111\"},\"hover_glyph\":null,\"muted_glyph\":null,\"nonselection_glyph\":{\"id\":\"2112\"},\"selection_glyph\":null,\"view\":{\"id\":\"2114\"}},\"id\":\"2113\",\"type\":\"GlyphRenderer\"},{\"attributes\":{\"axis\":{\"id\":\"2092\"},\"dimension\":1,\"ticker\":null},\"id\":\"2095\",\"type\":\"Grid\"},{\"attributes\":{\"formatter\":{\"id\":\"2124\"},\"ticker\":{\"id\":\"2093\"}},\"id\":\"2092\",\"type\":\"LinearAxis\"},{\"attributes\":{\"formatter\":{\"id\":\"2071\"},\"ticker\":{\"id\":\"2040\"}},\"id\":\"2039\",\"type\":\"LinearAxis\"},{\"attributes\":{\"data\":{\"x\":[2015,2014,2013,2012,2011,2010,2009,2008,2007,2006,2005,2004,2003,2002,2001,2000],\"y\":[47,49,52,54,57,61,64,68,73,79,85,93,100,109,118,127]},\"selected\":{\"id\":\"2205\"},\"selection_policy\":{\"id\":\"2204\"}},\"id\":\"2115\",\"type\":\"ColumnDataSource\"},{\"attributes\":{\"fill_alpha\":{\"value\":0.1},\"fill_color\":{\"value\":\"orange\"},\"line_alpha\":{\"value\":0.1},\"line_color\":{\"value\":\"orange\"},\"size\":{\"units\":\"screen\",\"value\":10},\"x\":{\"field\":\"x\"},\"y\":{\"field\":\"y\"}},\"id\":\"2112\",\"type\":\"Square\"},{\"attributes\":{},\"id\":\"2036\",\"type\":\"BasicTicker\"},{\"attributes\":{},\"id\":\"2029\",\"type\":\"DataRange1d\"},{\"attributes\":{\"line_color\":\"pink\",\"line_width\":2,\"x\":{\"field\":\"x\"},\"y\":{\"field\":\"y\"}},\"id\":\"2116\",\"type\":\"Line\"},{\"attributes\":{\"source\":{\"id\":\"2110\"}},\"id\":\"2114\",\"type\":\"CDSView\"},{\"attributes\":{},\"id\":\"2033\",\"type\":\"LinearScale\"},{\"attributes\":{},\"id\":\"2096\",\"type\":\"PanTool\"},{\"attributes\":{},\"id\":\"2031\",\"type\":\"LinearScale\"},{\"attributes\":{\"fill_alpha\":{\"value\":0.25},\"fill_color\":{\"value\":\"firebrick\"},\"line_color\":{\"value\":\"firebrick\"},\"size\":{\"units\":\"screen\",\"value\":10},\"x\":{\"field\":\"x\"},\"y\":{\"field\":\"y\"}},\"id\":\"2058\",\"type\":\"Triangle\"},{\"attributes\":{},\"id\":\"2097\",\"type\":\"WheelZoomTool\"},{\"attributes\":{\"overlay\":{\"id\":\"2102\"}},\"id\":\"2098\",\"type\":\"BoxZoomTool\"},{\"attributes\":{},\"id\":\"2099\",\"type\":\"SaveTool\"},{\"attributes\":{},\"id\":\"2100\",\"type\":\"ResetTool\"},{\"attributes\":{\"data_source\":{\"id\":\"2062\"},\"glyph\":{\"id\":\"2063\"},\"hover_glyph\":null,\"muted_glyph\":null,\"nonselection_glyph\":{\"id\":\"2064\"},\"selection_glyph\":null,\"view\":{\"id\":\"2066\"}},\"id\":\"2065\",\"type\":\"GlyphRenderer\"},{\"attributes\":{\"formatter\":{\"id\":\"2069\"},\"ticker\":{\"id\":\"2036\"}},\"id\":\"2035\",\"type\":\"LinearAxis\"},{\"attributes\":{},\"id\":\"2027\",\"type\":\"DataRange1d\"},{\"attributes\":{},\"id\":\"2101\",\"type\":\"HelpTool\"},{\"attributes\":{\"axis\":{\"id\":\"2035\"},\"ticker\":null},\"id\":\"2038\",\"type\":\"Grid\"},{\"attributes\":{\"active_drag\":\"auto\",\"active_inspect\":\"auto\",\"active_multi\":null,\"active_scroll\":\"auto\",\"active_tap\":\"auto\",\"tools\":[{\"id\":\"2096\"},{\"id\":\"2097\"},{\"id\":\"2098\"},{\"id\":\"2099\"},{\"id\":\"2100\"},{\"id\":\"2101\"}]},\"id\":\"2103\",\"type\":\"Toolbar\"},{\"attributes\":{\"fill_alpha\":{\"value\":0.25},\"fill_color\":{\"value\":\"orange\"},\"line_color\":{\"value\":\"orange\"},\"size\":{\"units\":\"screen\",\"value\":10},\"x\":{\"field\":\"x\"},\"y\":{\"field\":\"y\"}},\"id\":\"2111\",\"type\":\"Square\"},{\"attributes\":{\"data_source\":{\"id\":\"2115\"},\"glyph\":{\"id\":\"2116\"},\"hover_glyph\":null,\"muted_glyph\":null,\"nonselection_glyph\":{\"id\":\"2117\"},\"selection_glyph\":null,\"view\":{\"id\":\"2119\"}},\"id\":\"2118\",\"type\":\"GlyphRenderer\"},{\"attributes\":{\"line_alpha\":0.1,\"line_color\":\"pink\",\"line_width\":2,\"x\":{\"field\":\"x\"},\"y\":{\"field\":\"y\"}},\"id\":\"2117\",\"type\":\"Line\"}],\"root_ids\":[\"2219\"]},\"title\":\"Bokeh Application\",\"version\":\"2.0.2\"}};\n",
       "  var render_items = [{\"docid\":\"97ef9222-76e6-43c7-8223-d2c843901e3c\",\"root_ids\":[\"2219\"],\"roots\":{\"2219\":\"8f14aefd-84bf-4281-ab7f-f5463ee7f8b0\"}}];\n",
       "  root.Bokeh.embed.embed_items_notebook(docs_json, render_items);\n",
       "\n",
       "  }\n",
       "  if (root.Bokeh !== undefined) {\n",
       "    embed_document(root);\n",
       "  } else {\n",
       "    var attempts = 0;\n",
       "    var timer = setInterval(function(root) {\n",
       "      if (root.Bokeh !== undefined) {\n",
       "        clearInterval(timer);\n",
       "        embed_document(root);\n",
       "      } else {\n",
       "        attempts++;\n",
       "        if (attempts > 100) {\n",
       "          clearInterval(timer);\n",
       "          console.log(\"Bokeh: ERROR: Unable to run BokehJS code because BokehJS library is missing\");\n",
       "        }\n",
       "      }\n",
       "    }, 10, root)\n",
       "  }\n",
       "})(window);"
      ],
      "application/vnd.bokehjs_exec.v0+json": ""
     },
     "metadata": {
      "application/vnd.bokehjs_exec.v0+json": {
       "id": "2219"
      }
     },
     "output_type": "display_data"
    }
   ],
   "source": [
    "#Choosing the data\n",
    "y1 = data[data['country']=='Turkey']['under-five deaths']\n",
    "y2 = data[data['country']=='Brazil']['under-five deaths']\n",
    "y3 = data[data['country']=='Thailand']['under-five deaths']\n",
    "\n",
    "#Creating the first plot\n",
    "p1 = figure(width=250, height=250)\n",
    "p1.triangle(x, y1, size=10, color=\"firebrick\", fill_alpha=0.25)\n",
    "p1.line(x,y1, color='salmon', line_width=2, legend_label='Turkey')\n",
    "p1.title.text='Mortality rates for infants 0-5 years 2000-2015' \n",
    "\n",
    "#Creating the second one\n",
    "p2 = figure(width=250, height=250)\n",
    "p2.square(x, y2, size=10, color=\"orange\", fill_alpha=0.25)\n",
    "p2.line(x,y2, color='pink', line_width=2, legend_label='Brazil')\n",
    "\n",
    "#Create another one\n",
    "p3 = figure(width=250, height=250)\n",
    "p3.circle(x, y3, size=10, color=\"olive\", fill_alpha=0.25)\n",
    "p3.line(x,y3, color='lightgreen', line_width=2, legend_label='Thailand')\n",
    "\n",
    "#Arranging all the plots in a gridplot\n",
    "p = gridplot([[p1, None], [ p2, p3]], toolbar_location=None)\n",
    "\n",
    "#Showing the results\n",
    "\n",
    "show(p)\n",
    "\n"
   ]
  },
  {
   "cell_type": "markdown",
   "metadata": {},
   "source": [
    "We could keep experimenting with Bokeh's simple techniques forever. The package provides a truly unlimited number of ways to create attractive and interactive visuals. \n",
    "\n",
    "The next part of this story will be on some Bokeh's intermediate techniques."
   ]
  }
 ],
 "metadata": {
  "kernelspec": {
   "display_name": "Python 3",
   "language": "python",
   "name": "python3"
  },
  "language_info": {
   "codemirror_mode": {
    "name": "ipython",
    "version": 3
   },
   "file_extension": ".py",
   "mimetype": "text/x-python",
   "name": "python",
   "nbconvert_exporter": "python",
   "pygments_lexer": "ipython3",
   "version": "3.7.5"
  },
  "latex_envs": {
   "LaTeX_envs_menu_present": true,
   "autoclose": false,
   "autocomplete": true,
   "bibliofile": "biblio.bib",
   "cite_by": "apalike",
   "current_citInitial": 1,
   "eqLabelWithNumbers": true,
   "eqNumInitial": 1,
   "hotkeys": {
    "equation": "Ctrl-E",
    "itemize": "Ctrl-I"
   },
   "labels_anchors": false,
   "latex_user_defs": false,
   "report_style_numbering": false,
   "user_envs_cfg": false
  },
  "toc": {
   "base_numbering": "1",
   "nav_menu": {},
   "number_sections": true,
   "sideBar": true,
   "skip_h1_title": true,
   "title_cell": "Table of Contents",
   "title_sidebar": "Contents",
   "toc_cell": false,
   "toc_position": {},
   "toc_section_display": true,
   "toc_window_display": true
  },
  "varInspector": {
   "cols": {
    "lenName": 16,
    "lenType": 16,
    "lenVar": 40
   },
   "kernels_config": {
    "python": {
     "delete_cmd_postfix": "",
     "delete_cmd_prefix": "del ",
     "library": "var_list.py",
     "varRefreshCmd": "print(var_dic_list())"
    },
    "r": {
     "delete_cmd_postfix": ") ",
     "delete_cmd_prefix": "rm(",
     "library": "var_list.r",
     "varRefreshCmd": "cat(var_dic_list()) "
    }
   },
   "types_to_exclude": [
    "module",
    "function",
    "builtin_function_or_method",
    "instance",
    "_Feature"
   ],
   "window_display": false
  }
 },
 "nbformat": 4,
 "nbformat_minor": 2
}
