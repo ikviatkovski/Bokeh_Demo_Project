{
 "cells": [
  {
   "cell_type": "markdown",
   "metadata": {},
   "source": [
    "## Importing Libraries and Display Settings ##"
   ]
  },
  {
   "cell_type": "markdown",
   "metadata": {},
   "source": [
    "We will need some standard Python libraries for data processing - Pandas and Numpy. \n",
    "\n",
    "Also, we will need particular functions from Bokeh data vizualization library. In order to maintain appropriate Jupyter Notebook style, all the uploads for subsequent chapters will be effected in the current section. Where necessary, some additional clarifications will be added."
   ]
  },
  {
   "cell_type": "code",
   "execution_count": 51,
   "metadata": {},
   "outputs": [
    {
     "data": {
      "text/html": [
       "\n",
       "    <div class=\"bk-root\">\n",
       "        <a href=\"https://bokeh.org\" target=\"_blank\" class=\"bk-logo bk-logo-small bk-logo-notebook\"></a>\n",
       "        <span id=\"7381\">Loading BokehJS ...</span>\n",
       "    </div>"
      ]
     },
     "metadata": {},
     "output_type": "display_data"
    },
    {
     "data": {
      "application/javascript": [
       "\n",
       "(function(root) {\n",
       "  function now() {\n",
       "    return new Date();\n",
       "  }\n",
       "\n",
       "  var force = true;\n",
       "\n",
       "  if (typeof root._bokeh_onload_callbacks === \"undefined\" || force === true) {\n",
       "    root._bokeh_onload_callbacks = [];\n",
       "    root._bokeh_is_loading = undefined;\n",
       "  }\n",
       "\n",
       "  var JS_MIME_TYPE = 'application/javascript';\n",
       "  var HTML_MIME_TYPE = 'text/html';\n",
       "  var EXEC_MIME_TYPE = 'application/vnd.bokehjs_exec.v0+json';\n",
       "  var CLASS_NAME = 'output_bokeh rendered_html';\n",
       "\n",
       "  /**\n",
       "   * Render data to the DOM node\n",
       "   */\n",
       "  function render(props, node) {\n",
       "    var script = document.createElement(\"script\");\n",
       "    node.appendChild(script);\n",
       "  }\n",
       "\n",
       "  /**\n",
       "   * Handle when an output is cleared or removed\n",
       "   */\n",
       "  function handleClearOutput(event, handle) {\n",
       "    var cell = handle.cell;\n",
       "\n",
       "    var id = cell.output_area._bokeh_element_id;\n",
       "    var server_id = cell.output_area._bokeh_server_id;\n",
       "    // Clean up Bokeh references\n",
       "    if (id != null && id in Bokeh.index) {\n",
       "      Bokeh.index[id].model.document.clear();\n",
       "      delete Bokeh.index[id];\n",
       "    }\n",
       "\n",
       "    if (server_id !== undefined) {\n",
       "      // Clean up Bokeh references\n",
       "      var cmd = \"from bokeh.io.state import curstate; print(curstate().uuid_to_server['\" + server_id + \"'].get_sessions()[0].document.roots[0]._id)\";\n",
       "      cell.notebook.kernel.execute(cmd, {\n",
       "        iopub: {\n",
       "          output: function(msg) {\n",
       "            var id = msg.content.text.trim();\n",
       "            if (id in Bokeh.index) {\n",
       "              Bokeh.index[id].model.document.clear();\n",
       "              delete Bokeh.index[id];\n",
       "            }\n",
       "          }\n",
       "        }\n",
       "      });\n",
       "      // Destroy server and session\n",
       "      var cmd = \"import bokeh.io.notebook as ion; ion.destroy_server('\" + server_id + \"')\";\n",
       "      cell.notebook.kernel.execute(cmd);\n",
       "    }\n",
       "  }\n",
       "\n",
       "  /**\n",
       "   * Handle when a new output is added\n",
       "   */\n",
       "  function handleAddOutput(event, handle) {\n",
       "    var output_area = handle.output_area;\n",
       "    var output = handle.output;\n",
       "\n",
       "    // limit handleAddOutput to display_data with EXEC_MIME_TYPE content only\n",
       "    if ((output.output_type != \"display_data\") || (!output.data.hasOwnProperty(EXEC_MIME_TYPE))) {\n",
       "      return\n",
       "    }\n",
       "\n",
       "    var toinsert = output_area.element.find(\".\" + CLASS_NAME.split(' ')[0]);\n",
       "\n",
       "    if (output.metadata[EXEC_MIME_TYPE][\"id\"] !== undefined) {\n",
       "      toinsert[toinsert.length - 1].firstChild.textContent = output.data[JS_MIME_TYPE];\n",
       "      // store reference to embed id on output_area\n",
       "      output_area._bokeh_element_id = output.metadata[EXEC_MIME_TYPE][\"id\"];\n",
       "    }\n",
       "    if (output.metadata[EXEC_MIME_TYPE][\"server_id\"] !== undefined) {\n",
       "      var bk_div = document.createElement(\"div\");\n",
       "      bk_div.innerHTML = output.data[HTML_MIME_TYPE];\n",
       "      var script_attrs = bk_div.children[0].attributes;\n",
       "      for (var i = 0; i < script_attrs.length; i++) {\n",
       "        toinsert[toinsert.length - 1].firstChild.setAttribute(script_attrs[i].name, script_attrs[i].value);\n",
       "        toinsert[toinsert.length - 1].firstChild.textContent = bk_div.children[0].textContent\n",
       "      }\n",
       "      // store reference to server id on output_area\n",
       "      output_area._bokeh_server_id = output.metadata[EXEC_MIME_TYPE][\"server_id\"];\n",
       "    }\n",
       "  }\n",
       "\n",
       "  function register_renderer(events, OutputArea) {\n",
       "\n",
       "    function append_mime(data, metadata, element) {\n",
       "      // create a DOM node to render to\n",
       "      var toinsert = this.create_output_subarea(\n",
       "        metadata,\n",
       "        CLASS_NAME,\n",
       "        EXEC_MIME_TYPE\n",
       "      );\n",
       "      this.keyboard_manager.register_events(toinsert);\n",
       "      // Render to node\n",
       "      var props = {data: data, metadata: metadata[EXEC_MIME_TYPE]};\n",
       "      render(props, toinsert[toinsert.length - 1]);\n",
       "      element.append(toinsert);\n",
       "      return toinsert\n",
       "    }\n",
       "\n",
       "    /* Handle when an output is cleared or removed */\n",
       "    events.on('clear_output.CodeCell', handleClearOutput);\n",
       "    events.on('delete.Cell', handleClearOutput);\n",
       "\n",
       "    /* Handle when a new output is added */\n",
       "    events.on('output_added.OutputArea', handleAddOutput);\n",
       "\n",
       "    /**\n",
       "     * Register the mime type and append_mime function with output_area\n",
       "     */\n",
       "    OutputArea.prototype.register_mime_type(EXEC_MIME_TYPE, append_mime, {\n",
       "      /* Is output safe? */\n",
       "      safe: true,\n",
       "      /* Index of renderer in `output_area.display_order` */\n",
       "      index: 0\n",
       "    });\n",
       "  }\n",
       "\n",
       "  // register the mime type if in Jupyter Notebook environment and previously unregistered\n",
       "  if (root.Jupyter !== undefined) {\n",
       "    var events = require('base/js/events');\n",
       "    var OutputArea = require('notebook/js/outputarea').OutputArea;\n",
       "\n",
       "    if (OutputArea.prototype.mime_types().indexOf(EXEC_MIME_TYPE) == -1) {\n",
       "      register_renderer(events, OutputArea);\n",
       "    }\n",
       "  }\n",
       "\n",
       "  \n",
       "  if (typeof (root._bokeh_timeout) === \"undefined\" || force === true) {\n",
       "    root._bokeh_timeout = Date.now() + 5000;\n",
       "    root._bokeh_failed_load = false;\n",
       "  }\n",
       "\n",
       "  var NB_LOAD_WARNING = {'data': {'text/html':\n",
       "     \"<div style='background-color: #fdd'>\\n\"+\n",
       "     \"<p>\\n\"+\n",
       "     \"BokehJS does not appear to have successfully loaded. If loading BokehJS from CDN, this \\n\"+\n",
       "     \"may be due to a slow or bad network connection. Possible fixes:\\n\"+\n",
       "     \"</p>\\n\"+\n",
       "     \"<ul>\\n\"+\n",
       "     \"<li>re-rerun `output_notebook()` to attempt to load from CDN again, or</li>\\n\"+\n",
       "     \"<li>use INLINE resources instead, as so:</li>\\n\"+\n",
       "     \"</ul>\\n\"+\n",
       "     \"<code>\\n\"+\n",
       "     \"from bokeh.resources import INLINE\\n\"+\n",
       "     \"output_notebook(resources=INLINE)\\n\"+\n",
       "     \"</code>\\n\"+\n",
       "     \"</div>\"}};\n",
       "\n",
       "  function display_loaded() {\n",
       "    var el = document.getElementById(\"7381\");\n",
       "    if (el != null) {\n",
       "      el.textContent = \"BokehJS is loading...\";\n",
       "    }\n",
       "    if (root.Bokeh !== undefined) {\n",
       "      if (el != null) {\n",
       "        el.textContent = \"BokehJS \" + root.Bokeh.version + \" successfully loaded.\";\n",
       "      }\n",
       "    } else if (Date.now() < root._bokeh_timeout) {\n",
       "      setTimeout(display_loaded, 100)\n",
       "    }\n",
       "  }\n",
       "\n",
       "\n",
       "  function run_callbacks() {\n",
       "    try {\n",
       "      root._bokeh_onload_callbacks.forEach(function(callback) {\n",
       "        if (callback != null)\n",
       "          callback();\n",
       "      });\n",
       "    } finally {\n",
       "      delete root._bokeh_onload_callbacks\n",
       "    }\n",
       "    console.debug(\"Bokeh: all callbacks have finished\");\n",
       "  }\n",
       "\n",
       "  function load_libs(css_urls, js_urls, callback) {\n",
       "    if (css_urls == null) css_urls = [];\n",
       "    if (js_urls == null) js_urls = [];\n",
       "\n",
       "    root._bokeh_onload_callbacks.push(callback);\n",
       "    if (root._bokeh_is_loading > 0) {\n",
       "      console.debug(\"Bokeh: BokehJS is being loaded, scheduling callback at\", now());\n",
       "      return null;\n",
       "    }\n",
       "    if (js_urls == null || js_urls.length === 0) {\n",
       "      run_callbacks();\n",
       "      return null;\n",
       "    }\n",
       "    console.debug(\"Bokeh: BokehJS not loaded, scheduling load and callback at\", now());\n",
       "    root._bokeh_is_loading = css_urls.length + js_urls.length;\n",
       "\n",
       "    function on_load() {\n",
       "      root._bokeh_is_loading--;\n",
       "      if (root._bokeh_is_loading === 0) {\n",
       "        console.debug(\"Bokeh: all BokehJS libraries/stylesheets loaded\");\n",
       "        run_callbacks()\n",
       "      }\n",
       "    }\n",
       "\n",
       "    function on_error() {\n",
       "      console.error(\"failed to load \" + url);\n",
       "    }\n",
       "\n",
       "    for (var i = 0; i < css_urls.length; i++) {\n",
       "      var url = css_urls[i];\n",
       "      const element = document.createElement(\"link\");\n",
       "      element.onload = on_load;\n",
       "      element.onerror = on_error;\n",
       "      element.rel = \"stylesheet\";\n",
       "      element.type = \"text/css\";\n",
       "      element.href = url;\n",
       "      console.debug(\"Bokeh: injecting link tag for BokehJS stylesheet: \", url);\n",
       "      document.body.appendChild(element);\n",
       "    }\n",
       "\n",
       "    const hashes = {\"https://cdn.bokeh.org/bokeh/release/bokeh-2.0.2.min.js\": \"ufR9RFnRs6lniiaFvtJziE0YeidtAgBRH6ux2oUItHw5WTvE1zuk9uzhUU/FJXDp\", \"https://cdn.bokeh.org/bokeh/release/bokeh-widgets-2.0.2.min.js\": \"8QM/PGWBT+IssZuRcDcjzwIh1mkOmJSoNMmyYDZbCfXJg3Ap1lEvdVgFuSAwhb/J\", \"https://cdn.bokeh.org/bokeh/release/bokeh-tables-2.0.2.min.js\": \"Jm8cH3Rg0P6UeZhVY5cLy1WzKajUT9KImCY+76hEqrcJt59/d8GPvFHjCkYgnSIn\", \"https://cdn.bokeh.org/bokeh/release/bokeh-gl-2.0.2.min.js\": \"Ozhzj+SI7ywm74aOI/UajcWz+C0NjsPunEVyVIrxzYkB+jA+2tUw8x5xJCbVtK5I\"};\n",
       "\n",
       "    for (var i = 0; i < js_urls.length; i++) {\n",
       "      var url = js_urls[i];\n",
       "      var element = document.createElement('script');\n",
       "      element.onload = on_load;\n",
       "      element.onerror = on_error;\n",
       "      element.async = false;\n",
       "      element.src = url;\n",
       "      if (url in hashes) {\n",
       "        element.crossOrigin = \"anonymous\";\n",
       "        element.integrity = \"sha384-\" + hashes[url];\n",
       "      }\n",
       "      console.debug(\"Bokeh: injecting script tag for BokehJS library: \", url);\n",
       "      document.head.appendChild(element);\n",
       "    }\n",
       "  };\n",
       "\n",
       "  function inject_raw_css(css) {\n",
       "    const element = document.createElement(\"style\");\n",
       "    element.appendChild(document.createTextNode(css));\n",
       "    document.body.appendChild(element);\n",
       "  }\n",
       "\n",
       "  \n",
       "  var js_urls = [\"https://cdn.bokeh.org/bokeh/release/bokeh-2.0.2.min.js\", \"https://cdn.bokeh.org/bokeh/release/bokeh-widgets-2.0.2.min.js\", \"https://cdn.bokeh.org/bokeh/release/bokeh-tables-2.0.2.min.js\", \"https://cdn.bokeh.org/bokeh/release/bokeh-gl-2.0.2.min.js\"];\n",
       "  var css_urls = [];\n",
       "  \n",
       "\n",
       "  var inline_js = [\n",
       "    function(Bokeh) {\n",
       "      Bokeh.set_log_level(\"info\");\n",
       "    },\n",
       "    function(Bokeh) {\n",
       "    \n",
       "    \n",
       "    }\n",
       "  ];\n",
       "\n",
       "  function run_inline_js() {\n",
       "    \n",
       "    if (root.Bokeh !== undefined || force === true) {\n",
       "      \n",
       "    for (var i = 0; i < inline_js.length; i++) {\n",
       "      inline_js[i].call(root, root.Bokeh);\n",
       "    }\n",
       "    if (force === true) {\n",
       "        display_loaded();\n",
       "      }} else if (Date.now() < root._bokeh_timeout) {\n",
       "      setTimeout(run_inline_js, 100);\n",
       "    } else if (!root._bokeh_failed_load) {\n",
       "      console.log(\"Bokeh: BokehJS failed to load within specified timeout.\");\n",
       "      root._bokeh_failed_load = true;\n",
       "    } else if (force !== true) {\n",
       "      var cell = $(document.getElementById(\"7381\")).parents('.cell').data().cell;\n",
       "      cell.output_area.append_execute_result(NB_LOAD_WARNING)\n",
       "    }\n",
       "\n",
       "  }\n",
       "\n",
       "  if (root._bokeh_is_loading === 0) {\n",
       "    console.debug(\"Bokeh: BokehJS loaded, going straight to plotting\");\n",
       "    run_inline_js();\n",
       "  } else {\n",
       "    load_libs(css_urls, js_urls, function() {\n",
       "      console.debug(\"Bokeh: BokehJS plotting callback run at\", now());\n",
       "      run_inline_js();\n",
       "    });\n",
       "  }\n",
       "}(window));"
      ],
      "application/vnd.bokehjs_load.v0+json": "\n(function(root) {\n  function now() {\n    return new Date();\n  }\n\n  var force = true;\n\n  if (typeof root._bokeh_onload_callbacks === \"undefined\" || force === true) {\n    root._bokeh_onload_callbacks = [];\n    root._bokeh_is_loading = undefined;\n  }\n\n  \n\n  \n  if (typeof (root._bokeh_timeout) === \"undefined\" || force === true) {\n    root._bokeh_timeout = Date.now() + 5000;\n    root._bokeh_failed_load = false;\n  }\n\n  var NB_LOAD_WARNING = {'data': {'text/html':\n     \"<div style='background-color: #fdd'>\\n\"+\n     \"<p>\\n\"+\n     \"BokehJS does not appear to have successfully loaded. If loading BokehJS from CDN, this \\n\"+\n     \"may be due to a slow or bad network connection. Possible fixes:\\n\"+\n     \"</p>\\n\"+\n     \"<ul>\\n\"+\n     \"<li>re-rerun `output_notebook()` to attempt to load from CDN again, or</li>\\n\"+\n     \"<li>use INLINE resources instead, as so:</li>\\n\"+\n     \"</ul>\\n\"+\n     \"<code>\\n\"+\n     \"from bokeh.resources import INLINE\\n\"+\n     \"output_notebook(resources=INLINE)\\n\"+\n     \"</code>\\n\"+\n     \"</div>\"}};\n\n  function display_loaded() {\n    var el = document.getElementById(\"7381\");\n    if (el != null) {\n      el.textContent = \"BokehJS is loading...\";\n    }\n    if (root.Bokeh !== undefined) {\n      if (el != null) {\n        el.textContent = \"BokehJS \" + root.Bokeh.version + \" successfully loaded.\";\n      }\n    } else if (Date.now() < root._bokeh_timeout) {\n      setTimeout(display_loaded, 100)\n    }\n  }\n\n\n  function run_callbacks() {\n    try {\n      root._bokeh_onload_callbacks.forEach(function(callback) {\n        if (callback != null)\n          callback();\n      });\n    } finally {\n      delete root._bokeh_onload_callbacks\n    }\n    console.debug(\"Bokeh: all callbacks have finished\");\n  }\n\n  function load_libs(css_urls, js_urls, callback) {\n    if (css_urls == null) css_urls = [];\n    if (js_urls == null) js_urls = [];\n\n    root._bokeh_onload_callbacks.push(callback);\n    if (root._bokeh_is_loading > 0) {\n      console.debug(\"Bokeh: BokehJS is being loaded, scheduling callback at\", now());\n      return null;\n    }\n    if (js_urls == null || js_urls.length === 0) {\n      run_callbacks();\n      return null;\n    }\n    console.debug(\"Bokeh: BokehJS not loaded, scheduling load and callback at\", now());\n    root._bokeh_is_loading = css_urls.length + js_urls.length;\n\n    function on_load() {\n      root._bokeh_is_loading--;\n      if (root._bokeh_is_loading === 0) {\n        console.debug(\"Bokeh: all BokehJS libraries/stylesheets loaded\");\n        run_callbacks()\n      }\n    }\n\n    function on_error() {\n      console.error(\"failed to load \" + url);\n    }\n\n    for (var i = 0; i < css_urls.length; i++) {\n      var url = css_urls[i];\n      const element = document.createElement(\"link\");\n      element.onload = on_load;\n      element.onerror = on_error;\n      element.rel = \"stylesheet\";\n      element.type = \"text/css\";\n      element.href = url;\n      console.debug(\"Bokeh: injecting link tag for BokehJS stylesheet: \", url);\n      document.body.appendChild(element);\n    }\n\n    const hashes = {\"https://cdn.bokeh.org/bokeh/release/bokeh-2.0.2.min.js\": \"ufR9RFnRs6lniiaFvtJziE0YeidtAgBRH6ux2oUItHw5WTvE1zuk9uzhUU/FJXDp\", \"https://cdn.bokeh.org/bokeh/release/bokeh-widgets-2.0.2.min.js\": \"8QM/PGWBT+IssZuRcDcjzwIh1mkOmJSoNMmyYDZbCfXJg3Ap1lEvdVgFuSAwhb/J\", \"https://cdn.bokeh.org/bokeh/release/bokeh-tables-2.0.2.min.js\": \"Jm8cH3Rg0P6UeZhVY5cLy1WzKajUT9KImCY+76hEqrcJt59/d8GPvFHjCkYgnSIn\", \"https://cdn.bokeh.org/bokeh/release/bokeh-gl-2.0.2.min.js\": \"Ozhzj+SI7ywm74aOI/UajcWz+C0NjsPunEVyVIrxzYkB+jA+2tUw8x5xJCbVtK5I\"};\n\n    for (var i = 0; i < js_urls.length; i++) {\n      var url = js_urls[i];\n      var element = document.createElement('script');\n      element.onload = on_load;\n      element.onerror = on_error;\n      element.async = false;\n      element.src = url;\n      if (url in hashes) {\n        element.crossOrigin = \"anonymous\";\n        element.integrity = \"sha384-\" + hashes[url];\n      }\n      console.debug(\"Bokeh: injecting script tag for BokehJS library: \", url);\n      document.head.appendChild(element);\n    }\n  };\n\n  function inject_raw_css(css) {\n    const element = document.createElement(\"style\");\n    element.appendChild(document.createTextNode(css));\n    document.body.appendChild(element);\n  }\n\n  \n  var js_urls = [\"https://cdn.bokeh.org/bokeh/release/bokeh-2.0.2.min.js\", \"https://cdn.bokeh.org/bokeh/release/bokeh-widgets-2.0.2.min.js\", \"https://cdn.bokeh.org/bokeh/release/bokeh-tables-2.0.2.min.js\", \"https://cdn.bokeh.org/bokeh/release/bokeh-gl-2.0.2.min.js\"];\n  var css_urls = [];\n  \n\n  var inline_js = [\n    function(Bokeh) {\n      Bokeh.set_log_level(\"info\");\n    },\n    function(Bokeh) {\n    \n    \n    }\n  ];\n\n  function run_inline_js() {\n    \n    if (root.Bokeh !== undefined || force === true) {\n      \n    for (var i = 0; i < inline_js.length; i++) {\n      inline_js[i].call(root, root.Bokeh);\n    }\n    if (force === true) {\n        display_loaded();\n      }} else if (Date.now() < root._bokeh_timeout) {\n      setTimeout(run_inline_js, 100);\n    } else if (!root._bokeh_failed_load) {\n      console.log(\"Bokeh: BokehJS failed to load within specified timeout.\");\n      root._bokeh_failed_load = true;\n    } else if (force !== true) {\n      var cell = $(document.getElementById(\"7381\")).parents('.cell').data().cell;\n      cell.output_area.append_execute_result(NB_LOAD_WARNING)\n    }\n\n  }\n\n  if (root._bokeh_is_loading === 0) {\n    console.debug(\"Bokeh: BokehJS loaded, going straight to plotting\");\n    run_inline_js();\n  } else {\n    load_libs(css_urls, js_urls, function() {\n      console.debug(\"Bokeh: BokehJS plotting callback run at\", now());\n      run_inline_js();\n    });\n  }\n}(window));"
     },
     "metadata": {},
     "output_type": "display_data"
    }
   ],
   "source": [
    "#Usual imports for data processing\n",
    "import pandas as pd\n",
    "import numpy as np\n",
    "import random\n",
    "\n",
    "#Bokeh libraries and modules\n",
    "from bokeh.io import  show, reset_output, output_notebook, export_png\n",
    "from bokeh.plotting import figure\n",
    "from bokeh.models import Range1d, FactorRange, ColumnDataSource\n",
    "from bokeh.layouts import gridplot\n",
    "\n",
    "#Setting visualizations' display to the in-notebook mode\n",
    "output_notebook()\n",
    "\n",
    "#Setting Bokeh's visualtization toolset - a set of functional tools attached to every visual\n",
    "#Their names are pretty self-explanatory\n",
    "TOOLS = \"pan,wheel_zoom,box_zoom,reset,save\""
   ]
  },
  {
   "cell_type": "markdown",
   "metadata": {},
   "source": [
    "## Loading the Dataset ##"
   ]
  },
  {
   "cell_type": "code",
   "execution_count": 2,
   "metadata": {},
   "outputs": [],
   "source": [
    "data = pd.read_csv('../data/data_clean.csv')"
   ]
  },
  {
   "cell_type": "markdown",
   "metadata": {},
   "source": [
    "## Simple Bar Charts ##"
   ]
  },
  {
   "cell_type": "markdown",
   "metadata": {},
   "source": [
    "It is prettry straight-forward to draw bar charts with Bokeh. As usual, we need to specify a type of gart (or chose a glyph) and pass the data to the plotting function."
   ]
  },
  {
   "cell_type": "markdown",
   "metadata": {},
   "source": [
    "### Vertical Bar Charts ###"
   ]
  },
  {
   "cell_type": "markdown",
   "metadata": {},
   "source": [
    "Let's create a vertical bar chart showing changes in measles occurencies in the US over the years 2000-2015."
   ]
  },
  {
   "cell_type": "code",
   "execution_count": 3,
   "metadata": {},
   "outputs": [
    {
     "data": {
      "text/html": [
       "\n",
       "\n",
       "\n",
       "\n",
       "\n",
       "\n",
       "  <div class=\"bk-root\" id=\"e0220739-df39-4146-9af5-58a94cd85d85\" data-root-id=\"1002\"></div>\n"
      ]
     },
     "metadata": {},
     "output_type": "display_data"
    },
    {
     "data": {
      "application/javascript": [
       "(function(root) {\n",
       "  function embed_document(root) {\n",
       "    \n",
       "  var docs_json = {\"db805d3e-d1aa-4d46-8929-bb7d3fe08728\":{\"roots\":{\"references\":[{\"attributes\":{\"below\":[{\"id\":\"1013\"}],\"center\":[{\"id\":\"1016\"},{\"id\":\"1020\"}],\"left\":[{\"id\":\"1017\"}],\"plot_height\":300,\"renderers\":[{\"id\":\"1036\"}],\"title\":{\"id\":\"1003\"},\"toolbar\":{\"id\":\"1027\"},\"x_range\":{\"id\":\"1005\"},\"x_scale\":{\"id\":\"1009\"},\"y_range\":{\"id\":\"1007\"},\"y_scale\":{\"id\":\"1011\"}},\"id\":\"1002\",\"subtype\":\"Figure\",\"type\":\"Plot\"},{\"attributes\":{\"data_source\":{\"id\":\"1033\"},\"glyph\":{\"id\":\"1034\"},\"hover_glyph\":null,\"muted_glyph\":null,\"nonselection_glyph\":{\"id\":\"1035\"},\"selection_glyph\":null,\"view\":{\"id\":\"1037\"}},\"id\":\"1036\",\"type\":\"GlyphRenderer\"},{\"attributes\":{},\"id\":\"1043\",\"type\":\"UnionRenderers\"},{\"attributes\":{},\"id\":\"1007\",\"type\":\"DataRange1d\"},{\"attributes\":{},\"id\":\"1041\",\"type\":\"BasicTickFormatter\"},{\"attributes\":{},\"id\":\"1009\",\"type\":\"LinearScale\"},{\"attributes\":{\"overlay\":{\"id\":\"1026\"}},\"id\":\"1023\",\"type\":\"BoxZoomTool\"},{\"attributes\":{},\"id\":\"1011\",\"type\":\"LinearScale\"},{\"attributes\":{\"fill_alpha\":{\"value\":0.5},\"fill_color\":{\"value\":\"salmon\"},\"line_alpha\":{\"value\":0.5},\"line_color\":{\"value\":\"green\"},\"line_dash\":[6],\"top\":{\"field\":\"top\"},\"width\":{\"value\":0.9},\"x\":{\"field\":\"x\"}},\"id\":\"1034\",\"type\":\"VBar\"},{\"attributes\":{\"axis_label\":\"Years\",\"formatter\":{\"id\":\"1039\"},\"ticker\":{\"id\":\"1014\"}},\"id\":\"1013\",\"type\":\"LinearAxis\"},{\"attributes\":{},\"id\":\"1018\",\"type\":\"BasicTicker\"},{\"attributes\":{},\"id\":\"1014\",\"type\":\"BasicTicker\"},{\"attributes\":{\"bottom_units\":\"screen\",\"fill_alpha\":0.5,\"fill_color\":\"lightgrey\",\"left_units\":\"screen\",\"level\":\"overlay\",\"line_alpha\":1.0,\"line_color\":\"black\",\"line_dash\":[4,4],\"line_width\":2,\"render_mode\":\"css\",\"right_units\":\"screen\",\"top_units\":\"screen\"},\"id\":\"1026\",\"type\":\"BoxAnnotation\"},{\"attributes\":{\"active_drag\":\"auto\",\"active_inspect\":\"auto\",\"active_multi\":null,\"active_scroll\":\"auto\",\"active_tap\":\"auto\",\"tools\":[{\"id\":\"1021\"},{\"id\":\"1022\"},{\"id\":\"1023\"},{\"id\":\"1024\"},{\"id\":\"1025\"}]},\"id\":\"1027\",\"type\":\"Toolbar\"},{\"attributes\":{\"axis\":{\"id\":\"1013\"},\"ticker\":null},\"id\":\"1016\",\"type\":\"Grid\"},{\"attributes\":{},\"id\":\"1005\",\"type\":\"DataRange1d\"},{\"attributes\":{\"fill_alpha\":{\"value\":0.1},\"fill_color\":{\"value\":\"salmon\"},\"line_alpha\":{\"value\":0.1},\"line_color\":{\"value\":\"green\"},\"line_dash\":[6],\"top\":{\"field\":\"top\"},\"width\":{\"value\":0.9},\"x\":{\"field\":\"x\"}},\"id\":\"1035\",\"type\":\"VBar\"},{\"attributes\":{\"axis\":{\"id\":\"1017\"},\"dimension\":1,\"ticker\":null},\"id\":\"1020\",\"type\":\"Grid\"},{\"attributes\":{\"text\":\"Measles in the USA 2000-2015\"},\"id\":\"1003\",\"type\":\"Title\"},{\"attributes\":{\"axis_label\":\"Measles stats\",\"formatter\":{\"id\":\"1041\"},\"ticker\":{\"id\":\"1018\"}},\"id\":\"1017\",\"type\":\"LinearAxis\"},{\"attributes\":{\"data\":{\"top\":[188,667,187,55,220,63,71,140,43,55,66,37,56,41,116,85],\"x\":[2015,2014,2013,2012,2011,2010,2009,2008,2007,2006,2005,2004,2003,2002,2001,2000]},\"selected\":{\"id\":\"1044\"},\"selection_policy\":{\"id\":\"1043\"}},\"id\":\"1033\",\"type\":\"ColumnDataSource\"},{\"attributes\":{\"source\":{\"id\":\"1033\"}},\"id\":\"1037\",\"type\":\"CDSView\"},{\"attributes\":{},\"id\":\"1039\",\"type\":\"BasicTickFormatter\"},{\"attributes\":{},\"id\":\"1025\",\"type\":\"SaveTool\"},{\"attributes\":{},\"id\":\"1021\",\"type\":\"PanTool\"},{\"attributes\":{},\"id\":\"1024\",\"type\":\"ResetTool\"},{\"attributes\":{},\"id\":\"1044\",\"type\":\"Selection\"},{\"attributes\":{},\"id\":\"1022\",\"type\":\"WheelZoomTool\"}],\"root_ids\":[\"1002\"]},\"title\":\"Bokeh Application\",\"version\":\"2.0.2\"}};\n",
       "  var render_items = [{\"docid\":\"db805d3e-d1aa-4d46-8929-bb7d3fe08728\",\"root_ids\":[\"1002\"],\"roots\":{\"1002\":\"e0220739-df39-4146-9af5-58a94cd85d85\"}}];\n",
       "  root.Bokeh.embed.embed_items_notebook(docs_json, render_items);\n",
       "\n",
       "  }\n",
       "  if (root.Bokeh !== undefined) {\n",
       "    embed_document(root);\n",
       "  } else {\n",
       "    var attempts = 0;\n",
       "    var timer = setInterval(function(root) {\n",
       "      if (root.Bokeh !== undefined) {\n",
       "        clearInterval(timer);\n",
       "        embed_document(root);\n",
       "      } else {\n",
       "        attempts++;\n",
       "        if (attempts > 100) {\n",
       "          clearInterval(timer);\n",
       "          console.log(\"Bokeh: ERROR: Unable to run BokehJS code because BokehJS library is missing\");\n",
       "        }\n",
       "      }\n",
       "    }, 10, root)\n",
       "  }\n",
       "})(window);"
      ],
      "application/vnd.bokehjs_exec.v0+json": ""
     },
     "metadata": {
      "application/vnd.bokehjs_exec.v0+json": {
       "id": "1002"
      }
     },
     "output_type": "display_data"
    }
   ],
   "source": [
    "# Creating a list of categories\n",
    "years = data[data['country']=='United States of America']['year']\n",
    "\n",
    "#Creating the list of values\n",
    "values = data[data['country']=='United States of America']['measles']\n",
    "\n",
    "# Initializing the plot\n",
    "p = figure( plot_height=300, \n",
    "           title=\"Measles in the USA 2000-2015\",\n",
    "          tools=TOOLS)\n",
    "\n",
    "#Plotting\n",
    "p.vbar(years,                            #categories\n",
    "      top = values,                      #bar heights\n",
    "       width = .9,\n",
    "       fill_alpha = .5,\n",
    "       fill_color = 'salmon',\n",
    "       line_alpha = .5,\n",
    "       line_color='green',\n",
    "       line_dash='dashed'\n",
    "      \n",
    "  )\n",
    "\n",
    "p.xaxis.axis_label=\"Years\"\n",
    "p.yaxis.axis_label=\"Measles stats\"\n",
    "\n",
    "show(p)"
   ]
  },
  {
   "cell_type": "markdown",
   "metadata": {},
   "source": [
    "### Horizontal Bar Charts ###"
   ]
  },
  {
   "cell_type": "markdown",
   "metadata": {},
   "source": [
    "Absolutely in the same fashion we could create horizontal bar charts. Let's use reported polio rates for Tanzania in 2000-2015 for illustration purposes."
   ]
  },
  {
   "cell_type": "code",
   "execution_count": 4,
   "metadata": {},
   "outputs": [
    {
     "data": {
      "text/html": [
       "\n",
       "\n",
       "\n",
       "\n",
       "\n",
       "\n",
       "  <div class=\"bk-root\" id=\"b4bdfee6-4425-4f59-9f27-25fcccfa5f0d\" data-root-id=\"1094\"></div>\n"
      ]
     },
     "metadata": {},
     "output_type": "display_data"
    },
    {
     "data": {
      "application/javascript": [
       "(function(root) {\n",
       "  function embed_document(root) {\n",
       "    \n",
       "  var docs_json = {\"ea6fdf97-3e23-4df3-a069-df4401e2af55\":{\"roots\":{\"references\":[{\"attributes\":{\"below\":[{\"id\":\"1105\"}],\"center\":[{\"id\":\"1108\"},{\"id\":\"1112\"}],\"left\":[{\"id\":\"1109\"}],\"plot_height\":300,\"renderers\":[{\"id\":\"1130\"}],\"title\":{\"id\":\"1095\"},\"toolbar\":{\"id\":\"1120\"},\"x_range\":{\"id\":\"1097\"},\"x_scale\":{\"id\":\"1101\"},\"y_range\":{\"id\":\"1099\"},\"y_scale\":{\"id\":\"1103\"}},\"id\":\"1094\",\"subtype\":\"Figure\",\"type\":\"Plot\"},{\"attributes\":{\"axis\":{\"id\":\"1109\"},\"dimension\":1,\"ticker\":null},\"id\":\"1112\",\"type\":\"Grid\"},{\"attributes\":{},\"id\":\"1099\",\"type\":\"DataRange1d\"},{\"attributes\":{},\"id\":\"1114\",\"type\":\"WheelZoomTool\"},{\"attributes\":{},\"id\":\"1113\",\"type\":\"PanTool\"},{\"attributes\":{},\"id\":\"1097\",\"type\":\"DataRange1d\"},{\"attributes\":{\"data\":{\"right\":{\"__ndarray__\":\"AAAAAABAV0AAAAAAAABXQAAAAAAAwFhAAAAAAADAWEAAAAAAAEBXQAAAAAAAwFdAAAAAAABAWEAAAAAAAIBXQAAAAAAAAFdAAAAAAAAAV0AAAAAAAMBXQAAAAAAAwFZAAAAAAADAV0AAAAAAAIBXQAAAAAAAQFVAAAAAAAAAVkA=\",\"dtype\":\"float64\",\"shape\":[16]},\"y\":[2015,2014,2013,2012,2011,2010,2009,2008,2007,2006,2005,2004,2003,2002,2001,2000]},\"selected\":{\"id\":\"1146\"},\"selection_policy\":{\"id\":\"1145\"}},\"id\":\"1127\",\"type\":\"ColumnDataSource\"},{\"attributes\":{\"overlay\":{\"id\":\"1119\"}},\"id\":\"1115\",\"type\":\"BoxZoomTool\"},{\"attributes\":{\"text\":\"Polio in the Argentina 2000-2015\"},\"id\":\"1095\",\"type\":\"Title\"},{\"attributes\":{},\"id\":\"1106\",\"type\":\"BasicTicker\"},{\"attributes\":{},\"id\":\"1117\",\"type\":\"ResetTool\"},{\"attributes\":{},\"id\":\"1116\",\"type\":\"SaveTool\"},{\"attributes\":{},\"id\":\"1110\",\"type\":\"BasicTicker\"},{\"attributes\":{\"axis_label\":\"Years\",\"formatter\":{\"id\":\"1141\"},\"ticker\":{\"id\":\"1106\"}},\"id\":\"1105\",\"type\":\"LinearAxis\"},{\"attributes\":{\"active_drag\":\"auto\",\"active_inspect\":\"auto\",\"active_multi\":null,\"active_scroll\":\"auto\",\"active_tap\":\"auto\",\"tools\":[{\"id\":\"1113\"},{\"id\":\"1114\"},{\"id\":\"1115\"},{\"id\":\"1116\"},{\"id\":\"1117\"},{\"id\":\"1118\"}]},\"id\":\"1120\",\"type\":\"Toolbar\"},{\"attributes\":{},\"id\":\"1118\",\"type\":\"HelpTool\"},{\"attributes\":{},\"id\":\"1145\",\"type\":\"UnionRenderers\"},{\"attributes\":{\"data_source\":{\"id\":\"1127\"},\"glyph\":{\"id\":\"1128\"},\"hover_glyph\":null,\"muted_glyph\":null,\"nonselection_glyph\":{\"id\":\"1129\"},\"selection_glyph\":null,\"view\":{\"id\":\"1131\"}},\"id\":\"1130\",\"type\":\"GlyphRenderer\"},{\"attributes\":{\"axis\":{\"id\":\"1105\"},\"ticker\":null},\"id\":\"1108\",\"type\":\"Grid\"},{\"attributes\":{},\"id\":\"1103\",\"type\":\"LinearScale\"},{\"attributes\":{\"axis_label\":\"Polio stats\",\"formatter\":{\"id\":\"1143\"},\"ticker\":{\"id\":\"1110\"}},\"id\":\"1109\",\"type\":\"LinearAxis\"},{\"attributes\":{},\"id\":\"1146\",\"type\":\"Selection\"},{\"attributes\":{\"fill_alpha\":{\"value\":0.1},\"fill_color\":{\"value\":\"azure\"},\"height\":{\"value\":0.9},\"line_alpha\":{\"value\":0.1},\"line_color\":{\"value\":\"green\"},\"right\":{\"field\":\"right\"},\"y\":{\"field\":\"y\"}},\"id\":\"1129\",\"type\":\"HBar\"},{\"attributes\":{},\"id\":\"1101\",\"type\":\"LinearScale\"},{\"attributes\":{\"bottom_units\":\"screen\",\"fill_alpha\":0.5,\"fill_color\":\"lightgrey\",\"left_units\":\"screen\",\"level\":\"overlay\",\"line_alpha\":1.0,\"line_color\":\"black\",\"line_dash\":[4,4],\"line_width\":2,\"render_mode\":\"css\",\"right_units\":\"screen\",\"top_units\":\"screen\"},\"id\":\"1119\",\"type\":\"BoxAnnotation\"},{\"attributes\":{},\"id\":\"1143\",\"type\":\"BasicTickFormatter\"},{\"attributes\":{},\"id\":\"1141\",\"type\":\"BasicTickFormatter\"},{\"attributes\":{\"source\":{\"id\":\"1127\"}},\"id\":\"1131\",\"type\":\"CDSView\"},{\"attributes\":{\"fill_color\":{\"value\":\"azure\"},\"height\":{\"value\":0.9},\"line_alpha\":{\"value\":0.5},\"line_color\":{\"value\":\"green\"},\"right\":{\"field\":\"right\"},\"y\":{\"field\":\"y\"}},\"id\":\"1128\",\"type\":\"HBar\"}],\"root_ids\":[\"1094\"]},\"title\":\"Bokeh Application\",\"version\":\"2.0.2\"}};\n",
       "  var render_items = [{\"docid\":\"ea6fdf97-3e23-4df3-a069-df4401e2af55\",\"root_ids\":[\"1094\"],\"roots\":{\"1094\":\"b4bdfee6-4425-4f59-9f27-25fcccfa5f0d\"}}];\n",
       "  root.Bokeh.embed.embed_items_notebook(docs_json, render_items);\n",
       "\n",
       "  }\n",
       "  if (root.Bokeh !== undefined) {\n",
       "    embed_document(root);\n",
       "  } else {\n",
       "    var attempts = 0;\n",
       "    var timer = setInterval(function(root) {\n",
       "      if (root.Bokeh !== undefined) {\n",
       "        clearInterval(timer);\n",
       "        embed_document(root);\n",
       "      } else {\n",
       "        attempts++;\n",
       "        if (attempts > 100) {\n",
       "          clearInterval(timer);\n",
       "          console.log(\"Bokeh: ERROR: Unable to run BokehJS code because BokehJS library is missing\");\n",
       "        }\n",
       "      }\n",
       "    }, 10, root)\n",
       "  }\n",
       "})(window);"
      ],
      "application/vnd.bokehjs_exec.v0+json": ""
     },
     "metadata": {
      "application/vnd.bokehjs_exec.v0+json": {
       "id": "1094"
      }
     },
     "output_type": "display_data"
    }
   ],
   "source": [
    "# Creating a list of categories\n",
    "years = data[data['country']=='Argentina']['year']\n",
    "\n",
    "#Creating the list of values\n",
    "values = data[data['country']=='Argentina']['polio'].values\n",
    "\n",
    "# Initializing the plot\n",
    "p = figure( plot_height=300, \n",
    "           title=\"Polio in the Argentina 2000-2015\")\n",
    "\n",
    "#Plotting\n",
    "p.hbar(years,\n",
    "       left = 0,\n",
    "       right = values,\n",
    "       height = .9,\n",
    "       fill_color = 'azure',\n",
    "       line_color='green',\n",
    "       line_alpha=.5\n",
    "      \n",
    "  )\n",
    "\n",
    "p.xaxis.axis_label=\"Years\"\n",
    "p.yaxis.axis_label=\"Polio stats\"\n",
    "\n",
    "\n",
    "show(p)"
   ]
  },
  {
   "cell_type": "markdown",
   "metadata": {},
   "source": [
    "All these operation look very logical and simple, but their functionality is also limited."
   ]
  },
  {
   "cell_type": "markdown",
   "metadata": {},
   "source": [
    "## Styling Bar Charts ##"
   ]
  },
  {
   "cell_type": "markdown",
   "metadata": {},
   "source": [
    "In order to add much more style, interactivity and attractiveness to our bar charts let's study how to use different pallettes, add labels and hover over our bar charts. In order to illustrate corrsponding techniques let's pick a country at each continent."
   ]
  },
  {
   "cell_type": "code",
   "execution_count": 5,
   "metadata": {},
   "outputs": [],
   "source": [
    "countries = ['France', 'Canada', 'Brazil', 'Turkey', 'Australia']"
   ]
  },
  {
   "cell_type": "markdown",
   "metadata": {},
   "source": [
    "Let's look at the corrsponding statistics for these countries."
   ]
  },
  {
   "cell_type": "markdown",
   "metadata": {},
   "source": [
    "### Using Pallettes ###"
   ]
  },
  {
   "cell_type": "markdown",
   "metadata": {},
   "source": [
    "For a list of some available pallettes please visit [Bokeh pallettes documentation]( https://docs.bokeh.org/en/latest/docs/reference/palettes.html). In order to use any of them with Bokeh we need to import them specifically."
   ]
  },
  {
   "cell_type": "code",
   "execution_count": 94,
   "metadata": {},
   "outputs": [
    {
     "data": {
      "text/html": [
       "\n",
       "\n",
       "\n",
       "\n",
       "\n",
       "\n",
       "  <div class=\"bk-root\" id=\"8abd5b09-9206-40b3-806e-d474d39d7a88\" data-root-id=\"20629\"></div>\n"
      ]
     },
     "metadata": {},
     "output_type": "display_data"
    },
    {
     "data": {
      "application/javascript": [
       "(function(root) {\n",
       "  function embed_document(root) {\n",
       "    \n",
       "  var docs_json = {\"de20960c-1b4b-40eb-afc9-e25ccaebed4d\":{\"roots\":{\"references\":[{\"attributes\":{\"children\":[{\"id\":\"20626\"},{\"id\":\"20628\"}]},\"id\":\"20629\",\"type\":\"Row\"},{\"attributes\":{\"children\":[[{\"id\":\"20534\"},0,0],[{\"id\":\"20571\"},1,0]]},\"id\":\"20626\",\"type\":\"GridBox\"},{\"attributes\":{\"axis\":{\"id\":\"20582\"},\"grid_line_alpha\":0.75,\"grid_line_color\":\"gray\",\"grid_line_dash\":[6],\"ticker\":null},\"id\":\"20584\",\"type\":\"Grid\"},{\"attributes\":{\"source\":{\"id\":\"20566\"}},\"id\":\"20570\",\"type\":\"CDSView\"},{\"attributes\":{\"fill_alpha\":{\"value\":0.1},\"fill_color\":{\"field\":\"fill_color\"},\"line_alpha\":{\"value\":0.1},\"line_color\":{\"field\":\"line_color\"},\"top\":{\"field\":\"top\"},\"width\":{\"value\":0.9},\"x\":{\"field\":\"x\"}},\"id\":\"20568\",\"type\":\"VBar\"},{\"attributes\":{\"active_drag\":\"auto\",\"active_inspect\":\"auto\",\"active_multi\":null,\"active_scroll\":\"auto\",\"active_tap\":\"auto\",\"tools\":[{\"id\":\"20552\"},{\"id\":\"20553\"},{\"id\":\"20554\"},{\"id\":\"20555\"},{\"id\":\"20556\"},{\"id\":\"20557\"}]},\"id\":\"20559\",\"type\":\"Toolbar\"},{\"attributes\":{\"overlay\":{\"id\":\"20558\"}},\"id\":\"20554\",\"type\":\"BoxZoomTool\"},{\"attributes\":{},\"id\":\"20589\",\"type\":\"PanTool\"},{\"attributes\":{},\"id\":\"20549\",\"type\":\"BasicTicker\"},{\"attributes\":{},\"id\":\"20541\",\"type\":\"CategoricalScale\"},{\"attributes\":{},\"id\":\"20578\",\"type\":\"CategoricalScale\"},{\"attributes\":{},\"id\":\"20592\",\"type\":\"SaveTool\"},{\"attributes\":{},\"id\":\"20611\",\"type\":\"BasicTickFormatter\"},{\"attributes\":{},\"id\":\"20583\",\"type\":\"CategoricalTicker\"},{\"attributes\":{},\"id\":\"20614\",\"type\":\"Selection\"},{\"attributes\":{\"below\":[{\"id\":\"20545\"}],\"center\":[{\"id\":\"20547\"},{\"id\":\"20551\"}],\"left\":[{\"id\":\"20548\"}],\"plot_height\":250,\"renderers\":[{\"id\":\"20569\"}],\"title\":{\"id\":\"20535\"},\"toolbar\":{\"id\":\"20559\"},\"toolbar_location\":null,\"x_range\":{\"id\":\"20537\"},\"x_scale\":{\"id\":\"20541\"},\"y_range\":{\"id\":\"20539\"},\"y_scale\":{\"id\":\"20543\"}},\"id\":\"20534\",\"subtype\":\"Figure\",\"type\":\"Plot\"},{\"attributes\":{\"data\":{\"fill_color\":[\"#2b83ba\",\"#abdda4\",\"#ffffbf\",\"#fdae61\",\"#d7191c\"],\"line_color\":[\"#2b83ba\",\"#abdda4\",\"#ffffbf\",\"#fdae61\",\"#d7191c\"],\"top\":[74,214,195,157,342],\"x\":[\"France\",\"Canada\",\"Brazil\",\"Turkey\",\"Australia\"]},\"selected\":{\"id\":\"20614\"},\"selection_policy\":{\"id\":\"20613\"}},\"id\":\"20566\",\"type\":\"ColumnDataSource\"},{\"attributes\":{},\"id\":\"20609\",\"type\":\"CategoricalTickFormatter\"},{\"attributes\":{},\"id\":\"20620\",\"type\":\"BasicTickFormatter\"},{\"attributes\":{\"axis\":{\"id\":\"20585\"},\"dimension\":1,\"grid_line_alpha\":0.55,\"grid_line_color\":\"blue\",\"grid_line_dash\":[2,4],\"ticker\":null},\"id\":\"20588\",\"type\":\"Grid\"},{\"attributes\":{},\"id\":\"20552\",\"type\":\"PanTool\"},{\"attributes\":{},\"id\":\"20586\",\"type\":\"BasicTicker\"},{\"attributes\":{},\"id\":\"20557\",\"type\":\"HelpTool\"},{\"attributes\":{\"fill_alpha\":{\"value\":0.75},\"fill_color\":{\"field\":\"fill_color\"},\"line_color\":{\"field\":\"line_color\"},\"top\":{\"field\":\"top\"},\"width\":{\"value\":0.9},\"x\":{\"field\":\"x\"}},\"id\":\"20604\",\"type\":\"VBar\"},{\"attributes\":{},\"id\":\"20622\",\"type\":\"UnionRenderers\"},{\"attributes\":{\"formatter\":{\"id\":\"20609\"},\"ticker\":{\"id\":\"20546\"}},\"id\":\"20545\",\"type\":\"CategoricalAxis\"},{\"attributes\":{\"factors\":[\"France\",\"Canada\",\"Brazil\",\"Turkey\",\"Australia\"]},\"id\":\"20537\",\"type\":\"FactorRange\"},{\"attributes\":{\"fill_alpha\":{\"value\":0.1},\"fill_color\":{\"field\":\"fill_color\"},\"line_alpha\":{\"value\":0.1},\"line_color\":{\"field\":\"line_color\"},\"top\":{\"field\":\"top\"},\"width\":{\"value\":0.9},\"x\":{\"field\":\"x\"}},\"id\":\"20605\",\"type\":\"VBar\"},{\"attributes\":{\"data\":{\"fill_color\":[\"#443781\",\"#33608D\",\"#45327F\",\"#2BB17D\",\"#F8E621\"],\"line_color\":[\"#443781\",\"#33608D\",\"#45327F\",\"#2BB17D\",\"#F8E621\"],\"top\":[74,214,195,157,342],\"x\":[\"France\",\"Canada\",\"Brazil\",\"Turkey\",\"Australia\"]},\"selected\":{\"id\":\"20623\"},\"selection_policy\":{\"id\":\"20622\"}},\"id\":\"20603\",\"type\":\"ColumnDataSource\"},{\"attributes\":{},\"id\":\"20543\",\"type\":\"LinearScale\"},{\"attributes\":{},\"id\":\"20580\",\"type\":\"LinearScale\"},{\"attributes\":{\"factors\":[\"France\",\"Canada\",\"Brazil\",\"Turkey\",\"Australia\"]},\"id\":\"20574\",\"type\":\"FactorRange\"},{\"attributes\":{},\"id\":\"20555\",\"type\":\"SaveTool\"},{\"attributes\":{\"formatter\":{\"id\":\"20618\"},\"ticker\":{\"id\":\"20583\"}},\"id\":\"20582\",\"type\":\"CategoricalAxis\"},{\"attributes\":{},\"id\":\"20546\",\"type\":\"CategoricalTicker\"},{\"attributes\":{\"bottom_units\":\"screen\",\"fill_alpha\":0.5,\"fill_color\":\"lightgrey\",\"left_units\":\"screen\",\"level\":\"overlay\",\"line_alpha\":1.0,\"line_color\":\"black\",\"line_dash\":[4,4],\"line_width\":2,\"render_mode\":\"css\",\"right_units\":\"screen\",\"top_units\":\"screen\"},\"id\":\"20558\",\"type\":\"BoxAnnotation\"},{\"attributes\":{\"active_drag\":\"auto\",\"active_inspect\":\"auto\",\"active_multi\":null,\"active_scroll\":\"auto\",\"active_tap\":\"auto\",\"tools\":[{\"id\":\"20589\"},{\"id\":\"20590\"},{\"id\":\"20591\"},{\"id\":\"20592\"},{\"id\":\"20593\"},{\"id\":\"20594\"}]},\"id\":\"20596\",\"type\":\"Toolbar\"},{\"attributes\":{},\"id\":\"20576\",\"type\":\"DataRange1d\"},{\"attributes\":{},\"id\":\"20556\",\"type\":\"ResetTool\"},{\"attributes\":{},\"id\":\"20590\",\"type\":\"WheelZoomTool\"},{\"attributes\":{},\"id\":\"20623\",\"type\":\"Selection\"},{\"attributes\":{\"overlay\":{\"id\":\"20595\"}},\"id\":\"20591\",\"type\":\"BoxZoomTool\"},{\"attributes\":{\"fill_alpha\":{\"value\":0.75},\"fill_color\":{\"field\":\"fill_color\"},\"line_color\":{\"field\":\"line_color\"},\"top\":{\"field\":\"top\"},\"width\":{\"value\":0.9},\"x\":{\"field\":\"x\"}},\"id\":\"20567\",\"type\":\"VBar\"},{\"attributes\":{},\"id\":\"20613\",\"type\":\"UnionRenderers\"},{\"attributes\":{\"below\":[{\"id\":\"20582\"}],\"center\":[{\"id\":\"20584\"},{\"id\":\"20588\"}],\"left\":[{\"id\":\"20585\"}],\"plot_height\":250,\"renderers\":[{\"id\":\"20606\"}],\"title\":{\"id\":\"20572\"},\"toolbar\":{\"id\":\"20596\"},\"toolbar_location\":null,\"x_range\":{\"id\":\"20574\"},\"x_scale\":{\"id\":\"20578\"},\"y_range\":{\"id\":\"20576\"},\"y_scale\":{\"id\":\"20580\"}},\"id\":\"20571\",\"subtype\":\"Figure\",\"type\":\"Plot\"},{\"attributes\":{\"bottom_units\":\"screen\",\"fill_alpha\":0.5,\"fill_color\":\"lightgrey\",\"left_units\":\"screen\",\"level\":\"overlay\",\"line_alpha\":1.0,\"line_color\":\"black\",\"line_dash\":[4,4],\"line_width\":2,\"render_mode\":\"css\",\"right_units\":\"screen\",\"top_units\":\"screen\"},\"id\":\"20595\",\"type\":\"BoxAnnotation\"},{\"attributes\":{\"toolbar\":{\"id\":\"20627\"}},\"id\":\"20628\",\"type\":\"ToolbarBox\"},{\"attributes\":{\"source\":{\"id\":\"20603\"}},\"id\":\"20607\",\"type\":\"CDSView\"},{\"attributes\":{\"axis\":{\"id\":\"20545\"},\"grid_line_alpha\":0.75,\"grid_line_color\":\"gray\",\"grid_line_dash\":[6],\"ticker\":null},\"id\":\"20547\",\"type\":\"Grid\"},{\"attributes\":{\"axis\":{\"id\":\"20548\"},\"dimension\":1,\"grid_line_alpha\":0.55,\"grid_line_color\":\"blue\",\"grid_line_dash\":[2,4],\"ticker\":null},\"id\":\"20551\",\"type\":\"Grid\"},{\"attributes\":{\"axis_label\":\"Measles stats\",\"formatter\":{\"id\":\"20620\"},\"ticker\":{\"id\":\"20586\"}},\"id\":\"20585\",\"type\":\"LinearAxis\"},{\"attributes\":{},\"id\":\"20553\",\"type\":\"WheelZoomTool\"},{\"attributes\":{},\"id\":\"20593\",\"type\":\"ResetTool\"},{\"attributes\":{},\"id\":\"20594\",\"type\":\"HelpTool\"},{\"attributes\":{},\"id\":\"20618\",\"type\":\"CategoricalTickFormatter\"},{\"attributes\":{\"toolbars\":[{\"id\":\"20559\"},{\"id\":\"20596\"}],\"tools\":[{\"id\":\"20552\"},{\"id\":\"20553\"},{\"id\":\"20554\"},{\"id\":\"20555\"},{\"id\":\"20556\"},{\"id\":\"20557\"},{\"id\":\"20589\"},{\"id\":\"20590\"},{\"id\":\"20591\"},{\"id\":\"20592\"},{\"id\":\"20593\"},{\"id\":\"20594\"}]},\"id\":\"20627\",\"type\":\"ProxyToolbar\"},{\"attributes\":{\"data_source\":{\"id\":\"20566\"},\"glyph\":{\"id\":\"20567\"},\"hover_glyph\":null,\"muted_glyph\":null,\"nonselection_glyph\":{\"id\":\"20568\"},\"selection_glyph\":null,\"view\":{\"id\":\"20570\"}},\"id\":\"20569\",\"type\":\"GlyphRenderer\"},{\"attributes\":{\"axis_label\":\"Measles stats\",\"formatter\":{\"id\":\"20611\"},\"ticker\":{\"id\":\"20549\"}},\"id\":\"20548\",\"type\":\"LinearAxis\"},{\"attributes\":{},\"id\":\"20539\",\"type\":\"DataRange1d\"},{\"attributes\":{\"text\":\"Measles in the world in 2015 (randomly selected colors from a pallette)\"},\"id\":\"20572\",\"type\":\"Title\"},{\"attributes\":{\"text\":\"Measles in the world in 2015 (pre-set pallette)\"},\"id\":\"20535\",\"type\":\"Title\"},{\"attributes\":{\"data_source\":{\"id\":\"20603\"},\"glyph\":{\"id\":\"20604\"},\"hover_glyph\":null,\"muted_glyph\":null,\"nonselection_glyph\":{\"id\":\"20605\"},\"selection_glyph\":null,\"view\":{\"id\":\"20607\"}},\"id\":\"20606\",\"type\":\"GlyphRenderer\"}],\"root_ids\":[\"20629\"]},\"title\":\"Bokeh Application\",\"version\":\"2.0.2\"}};\n",
       "  var render_items = [{\"docid\":\"de20960c-1b4b-40eb-afc9-e25ccaebed4d\",\"root_ids\":[\"20629\"],\"roots\":{\"20629\":\"8abd5b09-9206-40b3-806e-d474d39d7a88\"}}];\n",
       "  root.Bokeh.embed.embed_items_notebook(docs_json, render_items);\n",
       "\n",
       "  }\n",
       "  if (root.Bokeh !== undefined) {\n",
       "    embed_document(root);\n",
       "  } else {\n",
       "    var attempts = 0;\n",
       "    var timer = setInterval(function(root) {\n",
       "      if (root.Bokeh !== undefined) {\n",
       "        clearInterval(timer);\n",
       "        embed_document(root);\n",
       "      } else {\n",
       "        attempts++;\n",
       "        if (attempts > 100) {\n",
       "          clearInterval(timer);\n",
       "          console.log(\"Bokeh: ERROR: Unable to run BokehJS code because BokehJS library is missing\");\n",
       "        }\n",
       "      }\n",
       "    }, 10, root)\n",
       "  }\n",
       "})(window);"
      ],
      "application/vnd.bokehjs_exec.v0+json": ""
     },
     "metadata": {
      "application/vnd.bokehjs_exec.v0+json": {
       "id": "20629"
      }
     },
     "output_type": "display_data"
    }
   ],
   "source": [
    "#Importing a pallette\n",
    "from bokeh.palettes import Spectral5, Viridis256, Colorblind, Magma256, Turbo256\n",
    "\n",
    "# Creating a list of categorical values \n",
    "values = data[(data['year']==2015)&(data['country'].isin(countries))]['measles']\n",
    "\n",
    "# Set the x_range to the list of categories above\n",
    "p1 = figure(x_range=countries,\n",
    "           plot_height=250, \n",
    "           title=\"Measles in the world in 2015 (pre-set pallette)\")\n",
    "\n",
    "# Categorical values can also be used as coordinates\n",
    "p1.vbar(x=countries, top=values, width=0.9,\n",
    "      color = Spectral5, fill_alpha=.75)\n",
    "\n",
    "# Set some properties to make the plot look better\n",
    "p1.yaxis.axis_label=\"Measles stats\"\n",
    "p1.xgrid.grid_line_color='gray'\n",
    "p1.xgrid.grid_line_alpha=.75\n",
    "p1.xgrid.grid_line_dash = 'dashed'\n",
    "p1.ygrid.grid_line_color='blue'\n",
    "p1.ygrid.grid_line_alpha = .55\n",
    "p1.ygrid.grid_line_dash = 'dotted'\n",
    "\n",
    "\n",
    "p2 = figure(x_range=countries,\n",
    "           plot_height=250, \n",
    "           title=\"Measles in the world in 2015 (randomly selected colors from a pallette)\")\n",
    "\n",
    "# Categorical values can also be used as coordinates\n",
    "p2.vbar(x=countries, top=values, width=0.9,\n",
    "      color = random.sample(Viridis256,5), fill_alpha=.75)\n",
    "\n",
    "# Set some properties to make the plot look better\n",
    "p2.yaxis.axis_label=\"Measles stats\"\n",
    "p2.xgrid.grid_line_color='gray'\n",
    "p2.xgrid.grid_line_alpha=.75\n",
    "p2.xgrid.grid_line_dash = 'dashed'\n",
    "p2.ygrid.grid_line_color='blue'\n",
    "p2.ygrid.grid_line_alpha = .55\n",
    "p2.ygrid.grid_line_dash = 'dotted'\n",
    "\n",
    "p = gridplot([[p1,None],[p2,None]], toolbar_location='right')\n",
    "show(p)"
   ]
  },
  {
   "cell_type": "markdown",
   "metadata": {},
   "source": [
    "## Grouped Bar Charts ##"
   ]
  },
  {
   "cell_type": "markdown",
   "metadata": {},
   "source": [
    "Sometimes we need to plot a grouped bar chart. For example, we need to group our health indicators for all the countries. For that we need to import a special procedure from the bokeh.models module - FactorRange. Let's look at the data for measles, polio and hiv/aids\\*1000 for our list of countries for 2014."
   ]
  },
  {
   "cell_type": "code",
   "execution_count": 95,
   "metadata": {},
   "outputs": [
    {
     "name": "stderr",
     "output_type": "stream",
     "text": [
      "/Library/Frameworks/Python.framework/Versions/3.7/lib/python3.7/site-packages/ipykernel_launcher.py:6: UserWarning: Boolean Series key will be reindexed to match DataFrame index.\n",
      "  \n",
      "/Library/Frameworks/Python.framework/Versions/3.7/lib/python3.7/site-packages/ipykernel_launcher.py:7: UserWarning: Boolean Series key will be reindexed to match DataFrame index.\n",
      "  import sys\n",
      "/Library/Frameworks/Python.framework/Versions/3.7/lib/python3.7/site-packages/ipykernel_launcher.py:8: UserWarning: Boolean Series key will be reindexed to match DataFrame index.\n",
      "  \n"
     ]
    },
    {
     "data": {
      "text/html": [
       "\n",
       "\n",
       "\n",
       "\n",
       "\n",
       "\n",
       "  <div class=\"bk-root\" id=\"baf64f15-f992-4bf3-b270-51a553aae3bf\" data-root-id=\"21240\"></div>\n"
      ]
     },
     "metadata": {},
     "output_type": "display_data"
    },
    {
     "data": {
      "application/javascript": [
       "(function(root) {\n",
       "  function embed_document(root) {\n",
       "    \n",
       "  var docs_json = {\"6d147639-8321-47cf-ba90-80f788261ee3\":{\"roots\":{\"references\":[{\"attributes\":{\"below\":[{\"id\":\"21250\"}],\"center\":[{\"id\":\"21252\"},{\"id\":\"21256\"}],\"left\":[{\"id\":\"21253\"}],\"plot_height\":350,\"renderers\":[{\"id\":\"21274\"}],\"title\":{\"id\":\"21241\"},\"toolbar\":{\"id\":\"21264\"},\"x_range\":{\"id\":\"21239\"},\"x_scale\":{\"id\":\"21246\"},\"y_range\":{\"id\":\"21244\"},\"y_scale\":{\"id\":\"21248\"}},\"id\":\"21240\",\"subtype\":\"Figure\",\"type\":\"Plot\"},{\"attributes\":{},\"id\":\"21262\",\"type\":\"HelpTool\"},{\"attributes\":{},\"id\":\"21257\",\"type\":\"PanTool\"},{\"attributes\":{\"active_drag\":\"auto\",\"active_inspect\":\"auto\",\"active_multi\":null,\"active_scroll\":\"auto\",\"active_tap\":\"auto\",\"tools\":[{\"id\":\"21257\"},{\"id\":\"21258\"},{\"id\":\"21259\"},{\"id\":\"21260\"},{\"id\":\"21261\"},{\"id\":\"21262\"}]},\"id\":\"21264\",\"type\":\"Toolbar\"},{\"attributes\":{},\"id\":\"21261\",\"type\":\"ResetTool\"},{\"attributes\":{},\"id\":\"21794\",\"type\":\"Selection\"},{\"attributes\":{\"fill_alpha\":{\"value\":0.1},\"fill_color\":{\"field\":\"color\"},\"line_alpha\":{\"value\":0.1},\"line_color\":{\"value\":\"#1f77b4\"},\"top\":{\"field\":\"counts\"},\"width\":{\"value\":0.9},\"x\":{\"field\":\"x\"}},\"id\":\"21273\",\"type\":\"VBar\"},{\"attributes\":{\"fill_color\":{\"field\":\"color\"},\"line_color\":{\"value\":\"#1f77b4\"},\"top\":{\"field\":\"counts\"},\"width\":{\"value\":0.9},\"x\":{\"field\":\"x\"}},\"id\":\"21272\",\"type\":\"VBar\"},{\"attributes\":{},\"id\":\"21251\",\"type\":\"CategoricalTicker\"},{\"attributes\":{},\"id\":\"21254\",\"type\":\"BasicTicker\"},{\"attributes\":{\"bottom_units\":\"screen\",\"fill_alpha\":0.5,\"fill_color\":\"lightgrey\",\"left_units\":\"screen\",\"level\":\"overlay\",\"line_alpha\":1.0,\"line_color\":\"black\",\"line_dash\":[4,4],\"line_width\":2,\"render_mode\":\"css\",\"right_units\":\"screen\",\"top_units\":\"screen\"},\"id\":\"21263\",\"type\":\"BoxAnnotation\"},{\"attributes\":{\"overlay\":{\"id\":\"21263\"}},\"id\":\"21259\",\"type\":\"BoxZoomTool\"},{\"attributes\":{\"formatter\":{\"id\":\"21791\"},\"ticker\":{\"id\":\"21254\"}},\"id\":\"21253\",\"type\":\"LinearAxis\"},{\"attributes\":{\"text\":\"Health Stats byCountry\"},\"id\":\"21241\",\"type\":\"Title\"},{\"attributes\":{},\"id\":\"21260\",\"type\":\"SaveTool\"},{\"attributes\":{\"axis\":{\"id\":\"21250\"},\"grid_line_color\":null,\"ticker\":null},\"id\":\"21252\",\"type\":\"Grid\"},{\"attributes\":{},\"id\":\"21258\",\"type\":\"WheelZoomTool\"},{\"attributes\":{},\"id\":\"21789\",\"type\":\"CategoricalTickFormatter\"},{\"attributes\":{\"data_source\":{\"id\":\"21238\"},\"glyph\":{\"id\":\"21272\"},\"hover_glyph\":null,\"muted_glyph\":null,\"nonselection_glyph\":{\"id\":\"21273\"},\"selection_glyph\":null,\"view\":{\"id\":\"21275\"}},\"id\":\"21274\",\"type\":\"GlyphRenderer\"},{\"attributes\":{\"data\":{\"color\":[\"#f4c43a\",\"#2ff09a\",\"#bbf434\",\"#448cfd\",\"#d73606\",\"#46f783\",\"#392972\",\"#20e9ac\",\"#f9ba38\",\"#ea500d\",\"#f3c63a\",\"#d02f04\",\"#c02302\",\"#39a2fc\",\"#e5d838\"],\"counts\":[340,92.0,100.0,876,96.0,100.0,418,91.0,100.0,267,98.0,100.0,565,96.0,100.0],\"x\":[[\"France\",\"measles\"],[\"France\",\"polio\"],[\"France\",\"hiv/aids*1000\"],[\"Canada\",\"measles\"],[\"Canada\",\"polio\"],[\"Canada\",\"hiv/aids*1000\"],[\"Brazil\",\"measles\"],[\"Brazil\",\"polio\"],[\"Brazil\",\"hiv/aids*1000\"],[\"Turkey\",\"measles\"],[\"Turkey\",\"polio\"],[\"Turkey\",\"hiv/aids*1000\"],[\"Australia\",\"measles\"],[\"Australia\",\"polio\"],[\"Australia\",\"hiv/aids*1000\"]]},\"selected\":{\"id\":\"21794\"},\"selection_policy\":{\"id\":\"21793\"}},\"id\":\"21238\",\"type\":\"ColumnDataSource\"},{\"attributes\":{},\"id\":\"21793\",\"type\":\"UnionRenderers\"},{\"attributes\":{\"axis\":{\"id\":\"21253\"},\"dimension\":1,\"ticker\":null},\"id\":\"21256\",\"type\":\"Grid\"},{\"attributes\":{},\"id\":\"21791\",\"type\":\"BasicTickFormatter\"},{\"attributes\":{\"formatter\":{\"id\":\"21789\"},\"major_label_orientation\":0.9,\"ticker\":{\"id\":\"21251\"}},\"id\":\"21250\",\"type\":\"CategoricalAxis\"},{\"attributes\":{\"source\":{\"id\":\"21238\"}},\"id\":\"21275\",\"type\":\"CDSView\"},{\"attributes\":{},\"id\":\"21246\",\"type\":\"CategoricalScale\"},{\"attributes\":{},\"id\":\"21248\",\"type\":\"LinearScale\"},{\"attributes\":{\"start\":0},\"id\":\"21244\",\"type\":\"DataRange1d\"},{\"attributes\":{\"factors\":[[\"France\",\"measles\"],[\"France\",\"polio\"],[\"France\",\"hiv/aids*1000\"],[\"Canada\",\"measles\"],[\"Canada\",\"polio\"],[\"Canada\",\"hiv/aids*1000\"],[\"Brazil\",\"measles\"],[\"Brazil\",\"polio\"],[\"Brazil\",\"hiv/aids*1000\"],[\"Turkey\",\"measles\"],[\"Turkey\",\"polio\"],[\"Turkey\",\"hiv/aids*1000\"],[\"Australia\",\"measles\"],[\"Australia\",\"polio\"],[\"Australia\",\"hiv/aids*1000\"]],\"range_padding\":0.1},\"id\":\"21239\",\"type\":\"FactorRange\"}],\"root_ids\":[\"21240\"]},\"title\":\"Bokeh Application\",\"version\":\"2.0.2\"}};\n",
       "  var render_items = [{\"docid\":\"6d147639-8321-47cf-ba90-80f788261ee3\",\"root_ids\":[\"21240\"],\"roots\":{\"21240\":\"baf64f15-f992-4bf3-b270-51a553aae3bf\"}}];\n",
       "  root.Bokeh.embed.embed_items_notebook(docs_json, render_items);\n",
       "\n",
       "  }\n",
       "  if (root.Bokeh !== undefined) {\n",
       "    embed_document(root);\n",
       "  } else {\n",
       "    var attempts = 0;\n",
       "    var timer = setInterval(function(root) {\n",
       "      if (root.Bokeh !== undefined) {\n",
       "        clearInterval(timer);\n",
       "        embed_document(root);\n",
       "      } else {\n",
       "        attempts++;\n",
       "        if (attempts > 100) {\n",
       "          clearInterval(timer);\n",
       "          console.log(\"Bokeh: ERROR: Unable to run BokehJS code because BokehJS library is missing\");\n",
       "        }\n",
       "      }\n",
       "    }, 10, root)\n",
       "  }\n",
       "})(window);"
      ],
      "application/vnd.bokehjs_exec.v0+json": ""
     },
     "metadata": {
      "application/vnd.bokehjs_exec.v0+json": {
       "id": "21240"
      }
     },
     "output_type": "display_data"
    }
   ],
   "source": [
    "#List of used statistics\n",
    "stats = ['measles','polio','hiv/aids*1000']\n",
    "\n",
    "#Creating a dictionary of our data\n",
    "mdata = {'countries' : countries,\n",
    "        'measles'   : data[data['year']==2014][data['country'].isin(countries)]['measles'],\n",
    "        'polio'   : data[data['year']==2014][data['country'].isin(countries)]['polio'],\n",
    "        'hiv/aids*1000'   : data[data['year']==2014][data['country'].isin(countries)]['hiv/aids']*1000}\n",
    "\n",
    "# Creating tuples for individual bars [ (\"France\", \"measles\"), (\"France\", \"polio\"), (\"France\", \"hiv/aids*1000\"), (\"Canada\", \"measles\"), ... ]\n",
    "x = [ (country, stat) for country in countries for stat in stats ]\n",
    "counts = sum(zip(mdata['measles'], mdata['polio'], mdata['hiv/aids*1000']), ()) \n",
    "\n",
    "#Creating a column data source - Bokeh's own data type with the fields (Country,[stats],[values],[colors]) \n",
    "source = ColumnDataSource(data=dict(x=x, counts=counts, color=random.sample(Turbo256,15)))\n",
    "\n",
    "#Initializing our plot\n",
    "p = figure(x_range=FactorRange(*x), plot_height=350, title=\"Health Stats byCountry\")\n",
    "\n",
    "#Plotting our vertical bar chart\n",
    "p.vbar(x='x', top='counts', width=0.9  ,fill_color='color',  source=source)\n",
    "\n",
    "#Enhancing our graph\n",
    "p.y_range.start = 0\n",
    "p.x_range.range_padding = 0.1\n",
    "p.xaxis.major_label_orientation = .9\n",
    "p.xgrid.grid_line_color = None\n",
    "\n",
    "show(p)"
   ]
  },
  {
   "cell_type": "markdown",
   "metadata": {},
   "source": [
    "### ColumnDataSource ##"
   ]
  },
  {
   "cell_type": "markdown",
   "metadata": {},
   "source": [
    "This is a very useful Bokeh data format. It represents a mapping technique where name of the columns (strings) are mapped to their respective values (sequences of values). Even if we do not use it, this is the job Bokeh does under the hood for us. Let's look at at example."
   ]
  },
  {
   "cell_type": "code",
   "execution_count": 103,
   "metadata": {},
   "outputs": [
    {
     "data": {
      "text/html": [
       "\n",
       "\n",
       "\n",
       "\n",
       "\n",
       "\n",
       "  <div class=\"bk-root\" id=\"fea588c5-6de7-4724-be67-dacf3e7606b8\" data-root-id=\"22466\"></div>\n"
      ]
     },
     "metadata": {},
     "output_type": "display_data"
    },
    {
     "data": {
      "application/javascript": [
       "(function(root) {\n",
       "  function embed_document(root) {\n",
       "    \n",
       "  var docs_json = {\"5fdc00e4-4e15-4841-ac12-c44fe9e7ef43\":{\"roots\":{\"references\":[{\"attributes\":{\"below\":[{\"id\":\"22475\"}],\"center\":[{\"id\":\"22478\"},{\"id\":\"22482\"}],\"left\":[{\"id\":\"22479\"}],\"plot_height\":400,\"plot_width\":400,\"renderers\":[{\"id\":\"22500\"}],\"title\":{\"id\":\"23032\"},\"toolbar\":{\"id\":\"22490\"},\"x_range\":{\"id\":\"22467\"},\"x_scale\":{\"id\":\"22471\"},\"y_range\":{\"id\":\"22469\"},\"y_scale\":{\"id\":\"22473\"}},\"id\":\"22466\",\"subtype\":\"Figure\",\"type\":\"Plot\"},{\"attributes\":{\"fill_alpha\":{\"value\":0.1},\"fill_color\":{\"field\":\"color\"},\"line_alpha\":{\"value\":0.1},\"line_color\":{\"value\":\"#1f77b4\"},\"top\":{\"field\":\"y\"},\"width\":{\"value\":0.8},\"x\":{\"field\":\"x\"}},\"id\":\"22499\",\"type\":\"VBar\"},{\"attributes\":{},\"id\":\"22484\",\"type\":\"WheelZoomTool\"},{\"attributes\":{},\"id\":\"22473\",\"type\":\"LinearScale\"},{\"attributes\":{},\"id\":\"22486\",\"type\":\"SaveTool\"},{\"attributes\":{},\"id\":\"23035\",\"type\":\"BasicTickFormatter\"},{\"attributes\":{},\"id\":\"23037\",\"type\":\"UnionRenderers\"},{\"attributes\":{\"axis\":{\"id\":\"22475\"},\"ticker\":null},\"id\":\"22478\",\"type\":\"Grid\"},{\"attributes\":{\"text\":\"\"},\"id\":\"23032\",\"type\":\"Title\"},{\"attributes\":{\"data_source\":{\"id\":\"22465\"},\"glyph\":{\"id\":\"22498\"},\"hover_glyph\":null,\"muted_glyph\":null,\"nonselection_glyph\":{\"id\":\"22499\"},\"selection_glyph\":null,\"view\":{\"id\":\"22501\"}},\"id\":\"22500\",\"type\":\"GlyphRenderer\"},{\"attributes\":{},\"id\":\"22483\",\"type\":\"PanTool\"},{\"attributes\":{\"formatter\":{\"id\":\"23033\"},\"ticker\":{\"id\":\"22476\"}},\"id\":\"22475\",\"type\":\"LinearAxis\"},{\"attributes\":{},\"id\":\"23038\",\"type\":\"Selection\"},{\"attributes\":{},\"id\":\"22471\",\"type\":\"LinearScale\"},{\"attributes\":{},\"id\":\"22488\",\"type\":\"HelpTool\"},{\"attributes\":{\"data\":{\"color\":[\"red\",\"green\",\"blue\",\"orange\"],\"x\":[1,2,3,4],\"y\":[4,6,2,5]},\"selected\":{\"id\":\"23038\"},\"selection_policy\":{\"id\":\"23037\"}},\"id\":\"22465\",\"type\":\"ColumnDataSource\"},{\"attributes\":{},\"id\":\"23033\",\"type\":\"BasicTickFormatter\"},{\"attributes\":{\"formatter\":{\"id\":\"23035\"},\"ticker\":{\"id\":\"22480\"}},\"id\":\"22479\",\"type\":\"LinearAxis\"},{\"attributes\":{},\"id\":\"22469\",\"type\":\"DataRange1d\"},{\"attributes\":{\"bottom_units\":\"screen\",\"fill_alpha\":0.5,\"fill_color\":\"lightgrey\",\"left_units\":\"screen\",\"level\":\"overlay\",\"line_alpha\":1.0,\"line_color\":\"black\",\"line_dash\":[4,4],\"line_width\":2,\"render_mode\":\"css\",\"right_units\":\"screen\",\"top_units\":\"screen\"},\"id\":\"22489\",\"type\":\"BoxAnnotation\"},{\"attributes\":{\"axis\":{\"id\":\"22479\"},\"dimension\":1,\"ticker\":null},\"id\":\"22482\",\"type\":\"Grid\"},{\"attributes\":{\"source\":{\"id\":\"22465\"}},\"id\":\"22501\",\"type\":\"CDSView\"},{\"attributes\":{},\"id\":\"22476\",\"type\":\"BasicTicker\"},{\"attributes\":{},\"id\":\"22480\",\"type\":\"BasicTicker\"},{\"attributes\":{},\"id\":\"22467\",\"type\":\"DataRange1d\"},{\"attributes\":{},\"id\":\"22487\",\"type\":\"ResetTool\"},{\"attributes\":{\"active_drag\":\"auto\",\"active_inspect\":\"auto\",\"active_multi\":null,\"active_scroll\":\"auto\",\"active_tap\":\"auto\",\"tools\":[{\"id\":\"22483\"},{\"id\":\"22484\"},{\"id\":\"22485\"},{\"id\":\"22486\"},{\"id\":\"22487\"},{\"id\":\"22488\"}]},\"id\":\"22490\",\"type\":\"Toolbar\"},{\"attributes\":{\"fill_alpha\":{\"value\":0.6},\"fill_color\":{\"field\":\"color\"},\"line_color\":{\"value\":\"#1f77b4\"},\"top\":{\"field\":\"y\"},\"width\":{\"value\":0.8},\"x\":{\"field\":\"x\"}},\"id\":\"22498\",\"type\":\"VBar\"},{\"attributes\":{\"overlay\":{\"id\":\"22489\"}},\"id\":\"22485\",\"type\":\"BoxZoomTool\"}],\"root_ids\":[\"22466\"]},\"title\":\"Bokeh Application\",\"version\":\"2.0.2\"}};\n",
       "  var render_items = [{\"docid\":\"5fdc00e4-4e15-4841-ac12-c44fe9e7ef43\",\"root_ids\":[\"22466\"],\"roots\":{\"22466\":\"fea588c5-6de7-4724-be67-dacf3e7606b8\"}}];\n",
       "  root.Bokeh.embed.embed_items_notebook(docs_json, render_items);\n",
       "\n",
       "  }\n",
       "  if (root.Bokeh !== undefined) {\n",
       "    embed_document(root);\n",
       "  } else {\n",
       "    var attempts = 0;\n",
       "    var timer = setInterval(function(root) {\n",
       "      if (root.Bokeh !== undefined) {\n",
       "        clearInterval(timer);\n",
       "        embed_document(root);\n",
       "      } else {\n",
       "        attempts++;\n",
       "        if (attempts > 100) {\n",
       "          clearInterval(timer);\n",
       "          console.log(\"Bokeh: ERROR: Unable to run BokehJS code because BokehJS library is missing\");\n",
       "        }\n",
       "      }\n",
       "    }, 10, root)\n",
       "  }\n",
       "})(window);"
      ],
      "application/vnd.bokehjs_exec.v0+json": ""
     },
     "metadata": {
      "application/vnd.bokehjs_exec.v0+json": {
       "id": "22466"
      }
     },
     "output_type": "display_data"
    }
   ],
   "source": [
    "#Importing the class\n",
    "from bokeh.models import ColumnDataSource\n",
    "\n",
    "#Creating our data as an empty dictionary\n",
    "data = dict()\n",
    "\n",
    "#Populating our data dictionary with key-value pairs\n",
    "data.update({'x':[1,2,3,4]})\n",
    "data.update({'y':[4,6,2,5]})\n",
    "data.update({'color':['red','green','blue','orange']})\n",
    "\n",
    "#Creating our ColumnDataSource instance\n",
    "source = ColumnDataSource(data)\n",
    "\n",
    "#Initializing our plot\n",
    "p = figure(plot_width=400, plot_height=400)\n",
    "\n",
    "#Plotting\n",
    "p.vbar(x = 'x',                #coordinates of the bar centers\n",
    "      top = 'y',               #bar heights\n",
    "       width=.8,\n",
    "      fill_color='color',\n",
    "      fill_alpha=.6,\n",
    "       source=source           #source of our data fields is a source instance of \n",
    "                               #ColumnDataSource class\n",
    "  )\n",
    "show(p)"
   ]
  },
  {
   "cell_type": "markdown",
   "metadata": {},
   "source": [
    "Even though we do not have to explicitly create an instance of ColumnDataSource class each time when we call a plotting procedure in Bokeh, it's important to know that the framework does create such a structure for us automatically."
   ]
  }
 ],
 "metadata": {
  "kernelspec": {
   "display_name": "Python 3",
   "language": "python",
   "name": "python3"
  },
  "language_info": {
   "codemirror_mode": {
    "name": "ipython",
    "version": 3
   },
   "file_extension": ".py",
   "mimetype": "text/x-python",
   "name": "python",
   "nbconvert_exporter": "python",
   "pygments_lexer": "ipython3",
   "version": "3.7.5"
  },
  "latex_envs": {
   "LaTeX_envs_menu_present": true,
   "autoclose": false,
   "autocomplete": true,
   "bibliofile": "biblio.bib",
   "cite_by": "apalike",
   "current_citInitial": 1,
   "eqLabelWithNumbers": true,
   "eqNumInitial": 1,
   "hotkeys": {
    "equation": "Ctrl-E",
    "itemize": "Ctrl-I"
   },
   "labels_anchors": false,
   "latex_user_defs": false,
   "report_style_numbering": false,
   "user_envs_cfg": false
  },
  "toc": {
   "base_numbering": 1,
   "nav_menu": {},
   "number_sections": true,
   "sideBar": true,
   "skip_h1_title": false,
   "title_cell": "Table of Contents",
   "title_sidebar": "Contents",
   "toc_cell": false,
   "toc_position": {
    "height": "calc(100% - 180px)",
    "left": "10px",
    "top": "150px",
    "width": "256px"
   },
   "toc_section_display": true,
   "toc_window_display": true
  },
  "varInspector": {
   "cols": {
    "lenName": 16,
    "lenType": 16,
    "lenVar": 40
   },
   "kernels_config": {
    "python": {
     "delete_cmd_postfix": "",
     "delete_cmd_prefix": "del ",
     "library": "var_list.py",
     "varRefreshCmd": "print(var_dic_list())"
    },
    "r": {
     "delete_cmd_postfix": ") ",
     "delete_cmd_prefix": "rm(",
     "library": "var_list.r",
     "varRefreshCmd": "cat(var_dic_list()) "
    }
   },
   "types_to_exclude": [
    "module",
    "function",
    "builtin_function_or_method",
    "instance",
    "_Feature"
   ],
   "window_display": false
  }
 },
 "nbformat": 4,
 "nbformat_minor": 2
}
