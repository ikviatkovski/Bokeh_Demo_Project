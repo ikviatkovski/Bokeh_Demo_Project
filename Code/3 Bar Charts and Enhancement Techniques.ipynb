{
 "cells": [
  {
   "cell_type": "markdown",
   "metadata": {},
   "source": [
    "## Importing Libraries and Display Settings ##"
   ]
  },
  {
   "cell_type": "markdown",
   "metadata": {},
   "source": [
    "We will need some standard Python libraries for data processing - Pandas and Numpy. \n",
    "\n",
    "Also, we will need particular functions from Bokeh data vizualization library. In order to maintain appropriate Jupyter Notebook style, all the uploads for subsequent chapters will be effected in the current section. Where necessary, some additional clarifications will be added."
   ]
  },
  {
   "cell_type": "code",
   "execution_count": 1,
   "metadata": {},
   "outputs": [
    {
     "data": {
      "text/html": [
       "\n",
       "    <div class=\"bk-root\">\n",
       "        <a href=\"https://bokeh.org\" target=\"_blank\" class=\"bk-logo bk-logo-small bk-logo-notebook\"></a>\n",
       "        <span id=\"1001\">Loading BokehJS ...</span>\n",
       "    </div>"
      ]
     },
     "metadata": {},
     "output_type": "display_data"
    },
    {
     "data": {
      "application/javascript": [
       "\n",
       "(function(root) {\n",
       "  function now() {\n",
       "    return new Date();\n",
       "  }\n",
       "\n",
       "  var force = true;\n",
       "\n",
       "  if (typeof root._bokeh_onload_callbacks === \"undefined\" || force === true) {\n",
       "    root._bokeh_onload_callbacks = [];\n",
       "    root._bokeh_is_loading = undefined;\n",
       "  }\n",
       "\n",
       "  var JS_MIME_TYPE = 'application/javascript';\n",
       "  var HTML_MIME_TYPE = 'text/html';\n",
       "  var EXEC_MIME_TYPE = 'application/vnd.bokehjs_exec.v0+json';\n",
       "  var CLASS_NAME = 'output_bokeh rendered_html';\n",
       "\n",
       "  /**\n",
       "   * Render data to the DOM node\n",
       "   */\n",
       "  function render(props, node) {\n",
       "    var script = document.createElement(\"script\");\n",
       "    node.appendChild(script);\n",
       "  }\n",
       "\n",
       "  /**\n",
       "   * Handle when an output is cleared or removed\n",
       "   */\n",
       "  function handleClearOutput(event, handle) {\n",
       "    var cell = handle.cell;\n",
       "\n",
       "    var id = cell.output_area._bokeh_element_id;\n",
       "    var server_id = cell.output_area._bokeh_server_id;\n",
       "    // Clean up Bokeh references\n",
       "    if (id != null && id in Bokeh.index) {\n",
       "      Bokeh.index[id].model.document.clear();\n",
       "      delete Bokeh.index[id];\n",
       "    }\n",
       "\n",
       "    if (server_id !== undefined) {\n",
       "      // Clean up Bokeh references\n",
       "      var cmd = \"from bokeh.io.state import curstate; print(curstate().uuid_to_server['\" + server_id + \"'].get_sessions()[0].document.roots[0]._id)\";\n",
       "      cell.notebook.kernel.execute(cmd, {\n",
       "        iopub: {\n",
       "          output: function(msg) {\n",
       "            var id = msg.content.text.trim();\n",
       "            if (id in Bokeh.index) {\n",
       "              Bokeh.index[id].model.document.clear();\n",
       "              delete Bokeh.index[id];\n",
       "            }\n",
       "          }\n",
       "        }\n",
       "      });\n",
       "      // Destroy server and session\n",
       "      var cmd = \"import bokeh.io.notebook as ion; ion.destroy_server('\" + server_id + \"')\";\n",
       "      cell.notebook.kernel.execute(cmd);\n",
       "    }\n",
       "  }\n",
       "\n",
       "  /**\n",
       "   * Handle when a new output is added\n",
       "   */\n",
       "  function handleAddOutput(event, handle) {\n",
       "    var output_area = handle.output_area;\n",
       "    var output = handle.output;\n",
       "\n",
       "    // limit handleAddOutput to display_data with EXEC_MIME_TYPE content only\n",
       "    if ((output.output_type != \"display_data\") || (!output.data.hasOwnProperty(EXEC_MIME_TYPE))) {\n",
       "      return\n",
       "    }\n",
       "\n",
       "    var toinsert = output_area.element.find(\".\" + CLASS_NAME.split(' ')[0]);\n",
       "\n",
       "    if (output.metadata[EXEC_MIME_TYPE][\"id\"] !== undefined) {\n",
       "      toinsert[toinsert.length - 1].firstChild.textContent = output.data[JS_MIME_TYPE];\n",
       "      // store reference to embed id on output_area\n",
       "      output_area._bokeh_element_id = output.metadata[EXEC_MIME_TYPE][\"id\"];\n",
       "    }\n",
       "    if (output.metadata[EXEC_MIME_TYPE][\"server_id\"] !== undefined) {\n",
       "      var bk_div = document.createElement(\"div\");\n",
       "      bk_div.innerHTML = output.data[HTML_MIME_TYPE];\n",
       "      var script_attrs = bk_div.children[0].attributes;\n",
       "      for (var i = 0; i < script_attrs.length; i++) {\n",
       "        toinsert[toinsert.length - 1].firstChild.setAttribute(script_attrs[i].name, script_attrs[i].value);\n",
       "        toinsert[toinsert.length - 1].firstChild.textContent = bk_div.children[0].textContent\n",
       "      }\n",
       "      // store reference to server id on output_area\n",
       "      output_area._bokeh_server_id = output.metadata[EXEC_MIME_TYPE][\"server_id\"];\n",
       "    }\n",
       "  }\n",
       "\n",
       "  function register_renderer(events, OutputArea) {\n",
       "\n",
       "    function append_mime(data, metadata, element) {\n",
       "      // create a DOM node to render to\n",
       "      var toinsert = this.create_output_subarea(\n",
       "        metadata,\n",
       "        CLASS_NAME,\n",
       "        EXEC_MIME_TYPE\n",
       "      );\n",
       "      this.keyboard_manager.register_events(toinsert);\n",
       "      // Render to node\n",
       "      var props = {data: data, metadata: metadata[EXEC_MIME_TYPE]};\n",
       "      render(props, toinsert[toinsert.length - 1]);\n",
       "      element.append(toinsert);\n",
       "      return toinsert\n",
       "    }\n",
       "\n",
       "    /* Handle when an output is cleared or removed */\n",
       "    events.on('clear_output.CodeCell', handleClearOutput);\n",
       "    events.on('delete.Cell', handleClearOutput);\n",
       "\n",
       "    /* Handle when a new output is added */\n",
       "    events.on('output_added.OutputArea', handleAddOutput);\n",
       "\n",
       "    /**\n",
       "     * Register the mime type and append_mime function with output_area\n",
       "     */\n",
       "    OutputArea.prototype.register_mime_type(EXEC_MIME_TYPE, append_mime, {\n",
       "      /* Is output safe? */\n",
       "      safe: true,\n",
       "      /* Index of renderer in `output_area.display_order` */\n",
       "      index: 0\n",
       "    });\n",
       "  }\n",
       "\n",
       "  // register the mime type if in Jupyter Notebook environment and previously unregistered\n",
       "  if (root.Jupyter !== undefined) {\n",
       "    var events = require('base/js/events');\n",
       "    var OutputArea = require('notebook/js/outputarea').OutputArea;\n",
       "\n",
       "    if (OutputArea.prototype.mime_types().indexOf(EXEC_MIME_TYPE) == -1) {\n",
       "      register_renderer(events, OutputArea);\n",
       "    }\n",
       "  }\n",
       "\n",
       "  \n",
       "  if (typeof (root._bokeh_timeout) === \"undefined\" || force === true) {\n",
       "    root._bokeh_timeout = Date.now() + 5000;\n",
       "    root._bokeh_failed_load = false;\n",
       "  }\n",
       "\n",
       "  var NB_LOAD_WARNING = {'data': {'text/html':\n",
       "     \"<div style='background-color: #fdd'>\\n\"+\n",
       "     \"<p>\\n\"+\n",
       "     \"BokehJS does not appear to have successfully loaded. If loading BokehJS from CDN, this \\n\"+\n",
       "     \"may be due to a slow or bad network connection. Possible fixes:\\n\"+\n",
       "     \"</p>\\n\"+\n",
       "     \"<ul>\\n\"+\n",
       "     \"<li>re-rerun `output_notebook()` to attempt to load from CDN again, or</li>\\n\"+\n",
       "     \"<li>use INLINE resources instead, as so:</li>\\n\"+\n",
       "     \"</ul>\\n\"+\n",
       "     \"<code>\\n\"+\n",
       "     \"from bokeh.resources import INLINE\\n\"+\n",
       "     \"output_notebook(resources=INLINE)\\n\"+\n",
       "     \"</code>\\n\"+\n",
       "     \"</div>\"}};\n",
       "\n",
       "  function display_loaded() {\n",
       "    var el = document.getElementById(\"1001\");\n",
       "    if (el != null) {\n",
       "      el.textContent = \"BokehJS is loading...\";\n",
       "    }\n",
       "    if (root.Bokeh !== undefined) {\n",
       "      if (el != null) {\n",
       "        el.textContent = \"BokehJS \" + root.Bokeh.version + \" successfully loaded.\";\n",
       "      }\n",
       "    } else if (Date.now() < root._bokeh_timeout) {\n",
       "      setTimeout(display_loaded, 100)\n",
       "    }\n",
       "  }\n",
       "\n",
       "\n",
       "  function run_callbacks() {\n",
       "    try {\n",
       "      root._bokeh_onload_callbacks.forEach(function(callback) {\n",
       "        if (callback != null)\n",
       "          callback();\n",
       "      });\n",
       "    } finally {\n",
       "      delete root._bokeh_onload_callbacks\n",
       "    }\n",
       "    console.debug(\"Bokeh: all callbacks have finished\");\n",
       "  }\n",
       "\n",
       "  function load_libs(css_urls, js_urls, callback) {\n",
       "    if (css_urls == null) css_urls = [];\n",
       "    if (js_urls == null) js_urls = [];\n",
       "\n",
       "    root._bokeh_onload_callbacks.push(callback);\n",
       "    if (root._bokeh_is_loading > 0) {\n",
       "      console.debug(\"Bokeh: BokehJS is being loaded, scheduling callback at\", now());\n",
       "      return null;\n",
       "    }\n",
       "    if (js_urls == null || js_urls.length === 0) {\n",
       "      run_callbacks();\n",
       "      return null;\n",
       "    }\n",
       "    console.debug(\"Bokeh: BokehJS not loaded, scheduling load and callback at\", now());\n",
       "    root._bokeh_is_loading = css_urls.length + js_urls.length;\n",
       "\n",
       "    function on_load() {\n",
       "      root._bokeh_is_loading--;\n",
       "      if (root._bokeh_is_loading === 0) {\n",
       "        console.debug(\"Bokeh: all BokehJS libraries/stylesheets loaded\");\n",
       "        run_callbacks()\n",
       "      }\n",
       "    }\n",
       "\n",
       "    function on_error() {\n",
       "      console.error(\"failed to load \" + url);\n",
       "    }\n",
       "\n",
       "    for (var i = 0; i < css_urls.length; i++) {\n",
       "      var url = css_urls[i];\n",
       "      const element = document.createElement(\"link\");\n",
       "      element.onload = on_load;\n",
       "      element.onerror = on_error;\n",
       "      element.rel = \"stylesheet\";\n",
       "      element.type = \"text/css\";\n",
       "      element.href = url;\n",
       "      console.debug(\"Bokeh: injecting link tag for BokehJS stylesheet: \", url);\n",
       "      document.body.appendChild(element);\n",
       "    }\n",
       "\n",
       "    const hashes = {\"https://cdn.bokeh.org/bokeh/release/bokeh-2.0.2.min.js\": \"ufR9RFnRs6lniiaFvtJziE0YeidtAgBRH6ux2oUItHw5WTvE1zuk9uzhUU/FJXDp\", \"https://cdn.bokeh.org/bokeh/release/bokeh-widgets-2.0.2.min.js\": \"8QM/PGWBT+IssZuRcDcjzwIh1mkOmJSoNMmyYDZbCfXJg3Ap1lEvdVgFuSAwhb/J\", \"https://cdn.bokeh.org/bokeh/release/bokeh-tables-2.0.2.min.js\": \"Jm8cH3Rg0P6UeZhVY5cLy1WzKajUT9KImCY+76hEqrcJt59/d8GPvFHjCkYgnSIn\", \"https://cdn.bokeh.org/bokeh/release/bokeh-gl-2.0.2.min.js\": \"Ozhzj+SI7ywm74aOI/UajcWz+C0NjsPunEVyVIrxzYkB+jA+2tUw8x5xJCbVtK5I\"};\n",
       "\n",
       "    for (var i = 0; i < js_urls.length; i++) {\n",
       "      var url = js_urls[i];\n",
       "      var element = document.createElement('script');\n",
       "      element.onload = on_load;\n",
       "      element.onerror = on_error;\n",
       "      element.async = false;\n",
       "      element.src = url;\n",
       "      if (url in hashes) {\n",
       "        element.crossOrigin = \"anonymous\";\n",
       "        element.integrity = \"sha384-\" + hashes[url];\n",
       "      }\n",
       "      console.debug(\"Bokeh: injecting script tag for BokehJS library: \", url);\n",
       "      document.head.appendChild(element);\n",
       "    }\n",
       "  };\n",
       "\n",
       "  function inject_raw_css(css) {\n",
       "    const element = document.createElement(\"style\");\n",
       "    element.appendChild(document.createTextNode(css));\n",
       "    document.body.appendChild(element);\n",
       "  }\n",
       "\n",
       "  \n",
       "  var js_urls = [\"https://cdn.bokeh.org/bokeh/release/bokeh-2.0.2.min.js\", \"https://cdn.bokeh.org/bokeh/release/bokeh-widgets-2.0.2.min.js\", \"https://cdn.bokeh.org/bokeh/release/bokeh-tables-2.0.2.min.js\", \"https://cdn.bokeh.org/bokeh/release/bokeh-gl-2.0.2.min.js\"];\n",
       "  var css_urls = [];\n",
       "  \n",
       "\n",
       "  var inline_js = [\n",
       "    function(Bokeh) {\n",
       "      Bokeh.set_log_level(\"info\");\n",
       "    },\n",
       "    function(Bokeh) {\n",
       "    \n",
       "    \n",
       "    }\n",
       "  ];\n",
       "\n",
       "  function run_inline_js() {\n",
       "    \n",
       "    if (root.Bokeh !== undefined || force === true) {\n",
       "      \n",
       "    for (var i = 0; i < inline_js.length; i++) {\n",
       "      inline_js[i].call(root, root.Bokeh);\n",
       "    }\n",
       "    if (force === true) {\n",
       "        display_loaded();\n",
       "      }} else if (Date.now() < root._bokeh_timeout) {\n",
       "      setTimeout(run_inline_js, 100);\n",
       "    } else if (!root._bokeh_failed_load) {\n",
       "      console.log(\"Bokeh: BokehJS failed to load within specified timeout.\");\n",
       "      root._bokeh_failed_load = true;\n",
       "    } else if (force !== true) {\n",
       "      var cell = $(document.getElementById(\"1001\")).parents('.cell').data().cell;\n",
       "      cell.output_area.append_execute_result(NB_LOAD_WARNING)\n",
       "    }\n",
       "\n",
       "  }\n",
       "\n",
       "  if (root._bokeh_is_loading === 0) {\n",
       "    console.debug(\"Bokeh: BokehJS loaded, going straight to plotting\");\n",
       "    run_inline_js();\n",
       "  } else {\n",
       "    load_libs(css_urls, js_urls, function() {\n",
       "      console.debug(\"Bokeh: BokehJS plotting callback run at\", now());\n",
       "      run_inline_js();\n",
       "    });\n",
       "  }\n",
       "}(window));"
      ],
      "application/vnd.bokehjs_load.v0+json": "\n(function(root) {\n  function now() {\n    return new Date();\n  }\n\n  var force = true;\n\n  if (typeof root._bokeh_onload_callbacks === \"undefined\" || force === true) {\n    root._bokeh_onload_callbacks = [];\n    root._bokeh_is_loading = undefined;\n  }\n\n  \n\n  \n  if (typeof (root._bokeh_timeout) === \"undefined\" || force === true) {\n    root._bokeh_timeout = Date.now() + 5000;\n    root._bokeh_failed_load = false;\n  }\n\n  var NB_LOAD_WARNING = {'data': {'text/html':\n     \"<div style='background-color: #fdd'>\\n\"+\n     \"<p>\\n\"+\n     \"BokehJS does not appear to have successfully loaded. If loading BokehJS from CDN, this \\n\"+\n     \"may be due to a slow or bad network connection. Possible fixes:\\n\"+\n     \"</p>\\n\"+\n     \"<ul>\\n\"+\n     \"<li>re-rerun `output_notebook()` to attempt to load from CDN again, or</li>\\n\"+\n     \"<li>use INLINE resources instead, as so:</li>\\n\"+\n     \"</ul>\\n\"+\n     \"<code>\\n\"+\n     \"from bokeh.resources import INLINE\\n\"+\n     \"output_notebook(resources=INLINE)\\n\"+\n     \"</code>\\n\"+\n     \"</div>\"}};\n\n  function display_loaded() {\n    var el = document.getElementById(\"1001\");\n    if (el != null) {\n      el.textContent = \"BokehJS is loading...\";\n    }\n    if (root.Bokeh !== undefined) {\n      if (el != null) {\n        el.textContent = \"BokehJS \" + root.Bokeh.version + \" successfully loaded.\";\n      }\n    } else if (Date.now() < root._bokeh_timeout) {\n      setTimeout(display_loaded, 100)\n    }\n  }\n\n\n  function run_callbacks() {\n    try {\n      root._bokeh_onload_callbacks.forEach(function(callback) {\n        if (callback != null)\n          callback();\n      });\n    } finally {\n      delete root._bokeh_onload_callbacks\n    }\n    console.debug(\"Bokeh: all callbacks have finished\");\n  }\n\n  function load_libs(css_urls, js_urls, callback) {\n    if (css_urls == null) css_urls = [];\n    if (js_urls == null) js_urls = [];\n\n    root._bokeh_onload_callbacks.push(callback);\n    if (root._bokeh_is_loading > 0) {\n      console.debug(\"Bokeh: BokehJS is being loaded, scheduling callback at\", now());\n      return null;\n    }\n    if (js_urls == null || js_urls.length === 0) {\n      run_callbacks();\n      return null;\n    }\n    console.debug(\"Bokeh: BokehJS not loaded, scheduling load and callback at\", now());\n    root._bokeh_is_loading = css_urls.length + js_urls.length;\n\n    function on_load() {\n      root._bokeh_is_loading--;\n      if (root._bokeh_is_loading === 0) {\n        console.debug(\"Bokeh: all BokehJS libraries/stylesheets loaded\");\n        run_callbacks()\n      }\n    }\n\n    function on_error() {\n      console.error(\"failed to load \" + url);\n    }\n\n    for (var i = 0; i < css_urls.length; i++) {\n      var url = css_urls[i];\n      const element = document.createElement(\"link\");\n      element.onload = on_load;\n      element.onerror = on_error;\n      element.rel = \"stylesheet\";\n      element.type = \"text/css\";\n      element.href = url;\n      console.debug(\"Bokeh: injecting link tag for BokehJS stylesheet: \", url);\n      document.body.appendChild(element);\n    }\n\n    const hashes = {\"https://cdn.bokeh.org/bokeh/release/bokeh-2.0.2.min.js\": \"ufR9RFnRs6lniiaFvtJziE0YeidtAgBRH6ux2oUItHw5WTvE1zuk9uzhUU/FJXDp\", \"https://cdn.bokeh.org/bokeh/release/bokeh-widgets-2.0.2.min.js\": \"8QM/PGWBT+IssZuRcDcjzwIh1mkOmJSoNMmyYDZbCfXJg3Ap1lEvdVgFuSAwhb/J\", \"https://cdn.bokeh.org/bokeh/release/bokeh-tables-2.0.2.min.js\": \"Jm8cH3Rg0P6UeZhVY5cLy1WzKajUT9KImCY+76hEqrcJt59/d8GPvFHjCkYgnSIn\", \"https://cdn.bokeh.org/bokeh/release/bokeh-gl-2.0.2.min.js\": \"Ozhzj+SI7ywm74aOI/UajcWz+C0NjsPunEVyVIrxzYkB+jA+2tUw8x5xJCbVtK5I\"};\n\n    for (var i = 0; i < js_urls.length; i++) {\n      var url = js_urls[i];\n      var element = document.createElement('script');\n      element.onload = on_load;\n      element.onerror = on_error;\n      element.async = false;\n      element.src = url;\n      if (url in hashes) {\n        element.crossOrigin = \"anonymous\";\n        element.integrity = \"sha384-\" + hashes[url];\n      }\n      console.debug(\"Bokeh: injecting script tag for BokehJS library: \", url);\n      document.head.appendChild(element);\n    }\n  };\n\n  function inject_raw_css(css) {\n    const element = document.createElement(\"style\");\n    element.appendChild(document.createTextNode(css));\n    document.body.appendChild(element);\n  }\n\n  \n  var js_urls = [\"https://cdn.bokeh.org/bokeh/release/bokeh-2.0.2.min.js\", \"https://cdn.bokeh.org/bokeh/release/bokeh-widgets-2.0.2.min.js\", \"https://cdn.bokeh.org/bokeh/release/bokeh-tables-2.0.2.min.js\", \"https://cdn.bokeh.org/bokeh/release/bokeh-gl-2.0.2.min.js\"];\n  var css_urls = [];\n  \n\n  var inline_js = [\n    function(Bokeh) {\n      Bokeh.set_log_level(\"info\");\n    },\n    function(Bokeh) {\n    \n    \n    }\n  ];\n\n  function run_inline_js() {\n    \n    if (root.Bokeh !== undefined || force === true) {\n      \n    for (var i = 0; i < inline_js.length; i++) {\n      inline_js[i].call(root, root.Bokeh);\n    }\n    if (force === true) {\n        display_loaded();\n      }} else if (Date.now() < root._bokeh_timeout) {\n      setTimeout(run_inline_js, 100);\n    } else if (!root._bokeh_failed_load) {\n      console.log(\"Bokeh: BokehJS failed to load within specified timeout.\");\n      root._bokeh_failed_load = true;\n    } else if (force !== true) {\n      var cell = $(document.getElementById(\"1001\")).parents('.cell').data().cell;\n      cell.output_area.append_execute_result(NB_LOAD_WARNING)\n    }\n\n  }\n\n  if (root._bokeh_is_loading === 0) {\n    console.debug(\"Bokeh: BokehJS loaded, going straight to plotting\");\n    run_inline_js();\n  } else {\n    load_libs(css_urls, js_urls, function() {\n      console.debug(\"Bokeh: BokehJS plotting callback run at\", now());\n      run_inline_js();\n    });\n  }\n}(window));"
     },
     "metadata": {},
     "output_type": "display_data"
    }
   ],
   "source": [
    "#Usual imports for data processing\n",
    "import pandas as pd\n",
    "import numpy as np\n",
    "import random\n",
    "\n",
    "#Bokeh libraries and modules\n",
    "from bokeh.io import  show, reset_output, output_notebook, export_png\n",
    "from bokeh.plotting import figure\n",
    "from bokeh.models import Range1d, FactorRange, ColumnDataSource, LabelSet, HoverTool\n",
    "from bokeh.layouts import gridplot, row, column\n",
    "from bokeh.transform import factor_cmap\n",
    "from bokeh.models.annotations import Label\n",
    "\n",
    "#Setting visualizations' display to the in-notebook mode\n",
    "output_notebook()\n",
    "\n",
    "#Setting Bokeh's visualtization toolset - a set of functional tools attached to every visual\n",
    "#Their names are pretty self-explanatory\n",
    "TOOLS = \"pan,wheel_zoom,box_zoom,reset,save\""
   ]
  },
  {
   "cell_type": "markdown",
   "metadata": {},
   "source": [
    "## Loading the Dataset ##"
   ]
  },
  {
   "cell_type": "code",
   "execution_count": 2,
   "metadata": {},
   "outputs": [],
   "source": [
    "data = pd.read_csv('../data/data_clean.csv')"
   ]
  },
  {
   "cell_type": "markdown",
   "metadata": {},
   "source": [
    "## Simple Bar Charts ##"
   ]
  },
  {
   "cell_type": "markdown",
   "metadata": {},
   "source": [
    "It is prettry straight-forward to draw bar charts with Bokeh. As usual, we need to specify a type of chart (or chose a glyph) and pass the data to the plotting function."
   ]
  },
  {
   "cell_type": "markdown",
   "metadata": {},
   "source": [
    "### Vertical Bar Charts ###"
   ]
  },
  {
   "cell_type": "markdown",
   "metadata": {},
   "source": [
    "Let's create a vertical bar chart showing changes in measles occurencies in the US over the years 2000-2015."
   ]
  },
  {
   "cell_type": "code",
   "execution_count": 3,
   "metadata": {},
   "outputs": [
    {
     "data": {
      "text/html": [
       "\n",
       "\n",
       "\n",
       "\n",
       "\n",
       "\n",
       "  <div class=\"bk-root\" id=\"8fc24bef-b827-4f44-8f7c-9ba788f55499\" data-root-id=\"1002\"></div>\n"
      ]
     },
     "metadata": {},
     "output_type": "display_data"
    },
    {
     "data": {
      "application/javascript": [
       "(function(root) {\n",
       "  function embed_document(root) {\n",
       "    \n",
       "  var docs_json = {\"dbe6ad70-aeb0-48d0-b457-967e9980b0fd\":{\"roots\":{\"references\":[{\"attributes\":{\"below\":[{\"id\":\"1013\"}],\"center\":[{\"id\":\"1016\"},{\"id\":\"1020\"}],\"left\":[{\"id\":\"1017\"}],\"plot_height\":300,\"renderers\":[{\"id\":\"1036\"}],\"title\":{\"id\":\"1003\"},\"toolbar\":{\"id\":\"1027\"},\"x_range\":{\"id\":\"1005\"},\"x_scale\":{\"id\":\"1009\"},\"y_range\":{\"id\":\"1007\"},\"y_scale\":{\"id\":\"1011\"}},\"id\":\"1002\",\"subtype\":\"Figure\",\"type\":\"Plot\"},{\"attributes\":{},\"id\":\"1039\",\"type\":\"BasicTickFormatter\"},{\"attributes\":{\"text\":\"Measles in the USA 2000-2015\"},\"id\":\"1003\",\"type\":\"Title\"},{\"attributes\":{},\"id\":\"1021\",\"type\":\"PanTool\"},{\"attributes\":{\"data\":{\"top\":[188,667,187,55,220,63,71,140,43,55,66,37,56,41,116,85],\"x\":[2015,2014,2013,2012,2011,2010,2009,2008,2007,2006,2005,2004,2003,2002,2001,2000]},\"selected\":{\"id\":\"1045\"},\"selection_policy\":{\"id\":\"1044\"}},\"id\":\"1033\",\"type\":\"ColumnDataSource\"},{\"attributes\":{\"bottom_units\":\"screen\",\"fill_alpha\":0.5,\"fill_color\":\"lightgrey\",\"left_units\":\"screen\",\"level\":\"overlay\",\"line_alpha\":1.0,\"line_color\":\"black\",\"line_dash\":[4,4],\"line_width\":2,\"render_mode\":\"css\",\"right_units\":\"screen\",\"top_units\":\"screen\"},\"id\":\"1026\",\"type\":\"BoxAnnotation\"},{\"attributes\":{},\"id\":\"1022\",\"type\":\"WheelZoomTool\"},{\"attributes\":{},\"id\":\"1005\",\"type\":\"DataRange1d\"},{\"attributes\":{\"overlay\":{\"id\":\"1026\"}},\"id\":\"1023\",\"type\":\"BoxZoomTool\"},{\"attributes\":{},\"id\":\"1024\",\"type\":\"ResetTool\"},{\"attributes\":{},\"id\":\"1009\",\"type\":\"LinearScale\"},{\"attributes\":{},\"id\":\"1044\",\"type\":\"UnionRenderers\"},{\"attributes\":{},\"id\":\"1025\",\"type\":\"SaveTool\"},{\"attributes\":{},\"id\":\"1007\",\"type\":\"DataRange1d\"},{\"attributes\":{},\"id\":\"1045\",\"type\":\"Selection\"},{\"attributes\":{\"active_drag\":\"auto\",\"active_inspect\":\"auto\",\"active_multi\":null,\"active_scroll\":\"auto\",\"active_tap\":\"auto\",\"tools\":[{\"id\":\"1021\"},{\"id\":\"1022\"},{\"id\":\"1023\"},{\"id\":\"1024\"},{\"id\":\"1025\"}]},\"id\":\"1027\",\"type\":\"Toolbar\"},{\"attributes\":{\"data_source\":{\"id\":\"1033\"},\"glyph\":{\"id\":\"1034\"},\"hover_glyph\":null,\"muted_glyph\":null,\"nonselection_glyph\":{\"id\":\"1035\"},\"selection_glyph\":null,\"view\":{\"id\":\"1037\"}},\"id\":\"1036\",\"type\":\"GlyphRenderer\"},{\"attributes\":{\"fill_alpha\":{\"value\":0.1},\"fill_color\":{\"value\":\"salmon\"},\"line_alpha\":{\"value\":0.1},\"line_color\":{\"value\":\"green\"},\"line_dash\":[6],\"top\":{\"field\":\"top\"},\"width\":{\"value\":0.9},\"x\":{\"field\":\"x\"}},\"id\":\"1035\",\"type\":\"VBar\"},{\"attributes\":{},\"id\":\"1011\",\"type\":\"LinearScale\"},{\"attributes\":{\"fill_alpha\":{\"value\":0.5},\"fill_color\":{\"value\":\"salmon\"},\"line_alpha\":{\"value\":0.5},\"line_color\":{\"value\":\"green\"},\"line_dash\":[6],\"top\":{\"field\":\"top\"},\"width\":{\"value\":0.9},\"x\":{\"field\":\"x\"}},\"id\":\"1034\",\"type\":\"VBar\"},{\"attributes\":{\"axis_label\":\"Years\",\"formatter\":{\"id\":\"1041\"},\"ticker\":{\"id\":\"1014\"}},\"id\":\"1013\",\"type\":\"LinearAxis\"},{\"attributes\":{\"source\":{\"id\":\"1033\"}},\"id\":\"1037\",\"type\":\"CDSView\"},{\"attributes\":{},\"id\":\"1018\",\"type\":\"BasicTicker\"},{\"attributes\":{},\"id\":\"1041\",\"type\":\"BasicTickFormatter\"},{\"attributes\":{},\"id\":\"1014\",\"type\":\"BasicTicker\"},{\"attributes\":{\"axis\":{\"id\":\"1013\"},\"ticker\":null},\"id\":\"1016\",\"type\":\"Grid\"},{\"attributes\":{\"axis\":{\"id\":\"1017\"},\"dimension\":1,\"ticker\":null},\"id\":\"1020\",\"type\":\"Grid\"},{\"attributes\":{\"axis_label\":\"Measles stats\",\"formatter\":{\"id\":\"1039\"},\"ticker\":{\"id\":\"1018\"}},\"id\":\"1017\",\"type\":\"LinearAxis\"}],\"root_ids\":[\"1002\"]},\"title\":\"Bokeh Application\",\"version\":\"2.0.2\"}};\n",
       "  var render_items = [{\"docid\":\"dbe6ad70-aeb0-48d0-b457-967e9980b0fd\",\"root_ids\":[\"1002\"],\"roots\":{\"1002\":\"8fc24bef-b827-4f44-8f7c-9ba788f55499\"}}];\n",
       "  root.Bokeh.embed.embed_items_notebook(docs_json, render_items);\n",
       "\n",
       "  }\n",
       "  if (root.Bokeh !== undefined) {\n",
       "    embed_document(root);\n",
       "  } else {\n",
       "    var attempts = 0;\n",
       "    var timer = setInterval(function(root) {\n",
       "      if (root.Bokeh !== undefined) {\n",
       "        clearInterval(timer);\n",
       "        embed_document(root);\n",
       "      } else {\n",
       "        attempts++;\n",
       "        if (attempts > 100) {\n",
       "          clearInterval(timer);\n",
       "          console.log(\"Bokeh: ERROR: Unable to run BokehJS code because BokehJS library is missing\");\n",
       "        }\n",
       "      }\n",
       "    }, 10, root)\n",
       "  }\n",
       "})(window);"
      ],
      "application/vnd.bokehjs_exec.v0+json": ""
     },
     "metadata": {
      "application/vnd.bokehjs_exec.v0+json": {
       "id": "1002"
      }
     },
     "output_type": "display_data"
    }
   ],
   "source": [
    "# Creating a list of categories\n",
    "years = data[data['country']=='United States of America']['year']\n",
    "\n",
    "#Creating the list of values\n",
    "values = data[data['country']=='United States of America']['measles']\n",
    "\n",
    "# Initializing the plot\n",
    "p = figure( plot_height=300, \n",
    "           title=\"Measles in the USA 2000-2015\",\n",
    "          tools=TOOLS)\n",
    "\n",
    "#Plotting\n",
    "p.vbar(years,                            #categories\n",
    "      top = values,                      #bar heights\n",
    "       width = .9,\n",
    "       fill_alpha = .5,\n",
    "       fill_color = 'salmon',\n",
    "       line_alpha = .5,\n",
    "       line_color='green',\n",
    "       line_dash='dashed'\n",
    "      \n",
    "  )\n",
    "\n",
    "#Signing the axis\n",
    "p.xaxis.axis_label=\"Years\"\n",
    "p.yaxis.axis_label=\"Measles stats\"\n",
    "\n",
    "show(p)"
   ]
  },
  {
   "cell_type": "markdown",
   "metadata": {},
   "source": [
    "### Horizontal Bar Charts ###"
   ]
  },
  {
   "cell_type": "markdown",
   "metadata": {},
   "source": [
    "Absolutely in the same fashion we could create horizontal bar charts. Let's use reported polio rates for Argentina in 2000-2015 for illustration purposes."
   ]
  },
  {
   "cell_type": "code",
   "execution_count": 4,
   "metadata": {},
   "outputs": [
    {
     "data": {
      "text/html": [
       "\n",
       "\n",
       "\n",
       "\n",
       "\n",
       "\n",
       "  <div class=\"bk-root\" id=\"37969590-6412-4879-8679-7968e25a3402\" data-root-id=\"1094\"></div>\n"
      ]
     },
     "metadata": {},
     "output_type": "display_data"
    },
    {
     "data": {
      "application/javascript": [
       "(function(root) {\n",
       "  function embed_document(root) {\n",
       "    \n",
       "  var docs_json = {\"9ad48b54-1b74-4a30-acc9-b4276e6ee45a\":{\"roots\":{\"references\":[{\"attributes\":{\"below\":[{\"id\":\"1105\"}],\"center\":[{\"id\":\"1108\"},{\"id\":\"1112\"}],\"left\":[{\"id\":\"1109\"}],\"plot_height\":300,\"renderers\":[{\"id\":\"1130\"}],\"title\":{\"id\":\"1095\"},\"toolbar\":{\"id\":\"1120\"},\"x_range\":{\"id\":\"1097\"},\"x_scale\":{\"id\":\"1101\"},\"y_range\":{\"id\":\"1099\"},\"y_scale\":{\"id\":\"1103\"}},\"id\":\"1094\",\"subtype\":\"Figure\",\"type\":\"Plot\"},{\"attributes\":{},\"id\":\"1141\",\"type\":\"BasicTickFormatter\"},{\"attributes\":{\"axis\":{\"id\":\"1109\"},\"dimension\":1,\"ticker\":null},\"id\":\"1112\",\"type\":\"Grid\"},{\"attributes\":{\"source\":{\"id\":\"1127\"}},\"id\":\"1131\",\"type\":\"CDSView\"},{\"attributes\":{\"axis_label\":\"Polio stats\",\"formatter\":{\"id\":\"1141\"},\"ticker\":{\"id\":\"1110\"}},\"id\":\"1109\",\"type\":\"LinearAxis\"},{\"attributes\":{\"axis\":{\"id\":\"1105\"},\"ticker\":null},\"id\":\"1108\",\"type\":\"Grid\"},{\"attributes\":{},\"id\":\"1106\",\"type\":\"BasicTicker\"},{\"attributes\":{\"data\":{\"right\":{\"__ndarray__\":\"AAAAAABAV0AAAAAAAABXQAAAAAAAwFhAAAAAAADAWEAAAAAAAEBXQAAAAAAAwFdAAAAAAABAWEAAAAAAAIBXQAAAAAAAAFdAAAAAAAAAV0AAAAAAAMBXQAAAAAAAwFZAAAAAAADAV0AAAAAAAIBXQAAAAAAAQFVAAAAAAAAAVkA=\",\"dtype\":\"float64\",\"shape\":[16]},\"y\":[2015,2014,2013,2012,2011,2010,2009,2008,2007,2006,2005,2004,2003,2002,2001,2000]},\"selected\":{\"id\":\"1147\"},\"selection_policy\":{\"id\":\"1146\"}},\"id\":\"1127\",\"type\":\"ColumnDataSource\"},{\"attributes\":{\"data_source\":{\"id\":\"1127\"},\"glyph\":{\"id\":\"1128\"},\"hover_glyph\":null,\"muted_glyph\":null,\"nonselection_glyph\":{\"id\":\"1129\"},\"selection_glyph\":null,\"view\":{\"id\":\"1131\"}},\"id\":\"1130\",\"type\":\"GlyphRenderer\"},{\"attributes\":{\"axis_label\":\"Years\",\"formatter\":{\"id\":\"1143\"},\"ticker\":{\"id\":\"1106\"}},\"id\":\"1105\",\"type\":\"LinearAxis\"},{\"attributes\":{},\"id\":\"1147\",\"type\":\"Selection\"},{\"attributes\":{},\"id\":\"1103\",\"type\":\"LinearScale\"},{\"attributes\":{},\"id\":\"1116\",\"type\":\"SaveTool\"},{\"attributes\":{},\"id\":\"1097\",\"type\":\"DataRange1d\"},{\"attributes\":{},\"id\":\"1143\",\"type\":\"BasicTickFormatter\"},{\"attributes\":{\"bottom_units\":\"screen\",\"fill_alpha\":0.5,\"fill_color\":\"lightgrey\",\"left_units\":\"screen\",\"level\":\"overlay\",\"line_alpha\":1.0,\"line_color\":\"black\",\"line_dash\":[4,4],\"line_width\":2,\"render_mode\":\"css\",\"right_units\":\"screen\",\"top_units\":\"screen\"},\"id\":\"1119\",\"type\":\"BoxAnnotation\"},{\"attributes\":{\"text\":\"Polio in the Argentina 2000-2015\"},\"id\":\"1095\",\"type\":\"Title\"},{\"attributes\":{},\"id\":\"1118\",\"type\":\"HelpTool\"},{\"attributes\":{},\"id\":\"1117\",\"type\":\"ResetTool\"},{\"attributes\":{},\"id\":\"1101\",\"type\":\"LinearScale\"},{\"attributes\":{},\"id\":\"1110\",\"type\":\"BasicTicker\"},{\"attributes\":{\"overlay\":{\"id\":\"1119\"}},\"id\":\"1115\",\"type\":\"BoxZoomTool\"},{\"attributes\":{\"fill_color\":{\"value\":\"azure\"},\"height\":{\"value\":0.9},\"line_alpha\":{\"value\":0.5},\"line_color\":{\"value\":\"green\"},\"right\":{\"field\":\"right\"},\"y\":{\"field\":\"y\"}},\"id\":\"1128\",\"type\":\"HBar\"},{\"attributes\":{},\"id\":\"1114\",\"type\":\"WheelZoomTool\"},{\"attributes\":{},\"id\":\"1099\",\"type\":\"DataRange1d\"},{\"attributes\":{},\"id\":\"1146\",\"type\":\"UnionRenderers\"},{\"attributes\":{\"active_drag\":\"auto\",\"active_inspect\":\"auto\",\"active_multi\":null,\"active_scroll\":\"auto\",\"active_tap\":\"auto\",\"tools\":[{\"id\":\"1113\"},{\"id\":\"1114\"},{\"id\":\"1115\"},{\"id\":\"1116\"},{\"id\":\"1117\"},{\"id\":\"1118\"}]},\"id\":\"1120\",\"type\":\"Toolbar\"},{\"attributes\":{},\"id\":\"1113\",\"type\":\"PanTool\"},{\"attributes\":{\"fill_alpha\":{\"value\":0.1},\"fill_color\":{\"value\":\"azure\"},\"height\":{\"value\":0.9},\"line_alpha\":{\"value\":0.1},\"line_color\":{\"value\":\"green\"},\"right\":{\"field\":\"right\"},\"y\":{\"field\":\"y\"}},\"id\":\"1129\",\"type\":\"HBar\"}],\"root_ids\":[\"1094\"]},\"title\":\"Bokeh Application\",\"version\":\"2.0.2\"}};\n",
       "  var render_items = [{\"docid\":\"9ad48b54-1b74-4a30-acc9-b4276e6ee45a\",\"root_ids\":[\"1094\"],\"roots\":{\"1094\":\"37969590-6412-4879-8679-7968e25a3402\"}}];\n",
       "  root.Bokeh.embed.embed_items_notebook(docs_json, render_items);\n",
       "\n",
       "  }\n",
       "  if (root.Bokeh !== undefined) {\n",
       "    embed_document(root);\n",
       "  } else {\n",
       "    var attempts = 0;\n",
       "    var timer = setInterval(function(root) {\n",
       "      if (root.Bokeh !== undefined) {\n",
       "        clearInterval(timer);\n",
       "        embed_document(root);\n",
       "      } else {\n",
       "        attempts++;\n",
       "        if (attempts > 100) {\n",
       "          clearInterval(timer);\n",
       "          console.log(\"Bokeh: ERROR: Unable to run BokehJS code because BokehJS library is missing\");\n",
       "        }\n",
       "      }\n",
       "    }, 10, root)\n",
       "  }\n",
       "})(window);"
      ],
      "application/vnd.bokehjs_exec.v0+json": ""
     },
     "metadata": {
      "application/vnd.bokehjs_exec.v0+json": {
       "id": "1094"
      }
     },
     "output_type": "display_data"
    }
   ],
   "source": [
    "# Creating a list of categories\n",
    "years = data[data['country']=='Argentina']['year']\n",
    "\n",
    "#Creating the list of values\n",
    "values = data[data['country']=='Argentina']['polio'].values\n",
    "\n",
    "# Initializing the plot\n",
    "p = figure( plot_height=300, \n",
    "           title=\"Polio in the Argentina 2000-2015\")\n",
    "\n",
    "#Plotting\n",
    "p.hbar(years,\n",
    "       left = 0,\n",
    "       right = values,\n",
    "       height = .9,\n",
    "       fill_color = 'azure',\n",
    "       line_color='green',\n",
    "       line_alpha=.5\n",
    "      \n",
    "  )\n",
    "\n",
    "p.xaxis.axis_label=\"Years\"\n",
    "p.yaxis.axis_label=\"Polio stats\"\n",
    "\n",
    "\n",
    "show(p)"
   ]
  },
  {
   "cell_type": "markdown",
   "metadata": {},
   "source": [
    "All these operation look very logical and simple, but their functionality is also limited."
   ]
  },
  {
   "cell_type": "markdown",
   "metadata": {},
   "source": [
    "## Styling Bar Charts ##"
   ]
  },
  {
   "cell_type": "markdown",
   "metadata": {},
   "source": [
    "In order to add much more style, interactivity and attractiveness to our bar charts let's study how to use different pallettes, add labels and hover over our bar charts. In order to illustrate corrsponding techniques let's pick a country at each continent."
   ]
  },
  {
   "cell_type": "code",
   "execution_count": 5,
   "metadata": {},
   "outputs": [],
   "source": [
    "countries = ['France', 'Canada', 'Brazil', 'Turkey', 'Australia']"
   ]
  },
  {
   "cell_type": "markdown",
   "metadata": {},
   "source": [
    "Let's look at the corrsponding statistics for these countries."
   ]
  },
  {
   "cell_type": "markdown",
   "metadata": {},
   "source": [
    "### Using Pallettes ###"
   ]
  },
  {
   "cell_type": "markdown",
   "metadata": {},
   "source": [
    "For a list of some available pallettes please visit [Bokeh pallettes documentation]( https://docs.bokeh.org/en/latest/docs/reference/palettes.html). In order to use any of them with Bokeh we need to import them specifically.\n",
    "\n",
    "Let's look at the measles data for a number of countries in 2015 - we'll render two graphs with a pre-set palette and a randomly chosen colors, as well as we will use the *gridplot* technique. "
   ]
  },
  {
   "cell_type": "code",
   "execution_count": 6,
   "metadata": {},
   "outputs": [
    {
     "data": {
      "text/html": [
       "\n",
       "\n",
       "\n",
       "\n",
       "\n",
       "\n",
       "  <div class=\"bk-root\" id=\"1a279612-87a2-4f74-90c3-dd2bdd032aa0\" data-root-id=\"1291\"></div>\n"
      ]
     },
     "metadata": {},
     "output_type": "display_data"
    },
    {
     "data": {
      "application/javascript": [
       "(function(root) {\n",
       "  function embed_document(root) {\n",
       "    \n",
       "  var docs_json = {\"fbe5bf63-870c-4856-b377-eeb538dbeead\":{\"roots\":{\"references\":[{\"attributes\":{\"children\":[{\"id\":\"1288\"},{\"id\":\"1290\"}]},\"id\":\"1291\",\"type\":\"Row\"},{\"attributes\":{\"overlay\":{\"id\":\"1257\"}},\"id\":\"1253\",\"type\":\"BoxZoomTool\"},{\"attributes\":{},\"id\":\"1211\",\"type\":\"BasicTicker\"},{\"attributes\":{\"below\":[{\"id\":\"1207\"}],\"center\":[{\"id\":\"1209\"},{\"id\":\"1213\"}],\"left\":[{\"id\":\"1210\"}],\"plot_height\":250,\"renderers\":[{\"id\":\"1231\"}],\"title\":{\"id\":\"1197\"},\"toolbar\":{\"id\":\"1221\"},\"toolbar_location\":null,\"x_range\":{\"id\":\"1199\"},\"x_scale\":{\"id\":\"1203\"},\"y_range\":{\"id\":\"1201\"},\"y_scale\":{\"id\":\"1205\"}},\"id\":\"1196\",\"subtype\":\"Figure\",\"type\":\"Plot\"},{\"attributes\":{},\"id\":\"1271\",\"type\":\"BasicTickFormatter\"},{\"attributes\":{},\"id\":\"1208\",\"type\":\"CategoricalTicker\"},{\"attributes\":{},\"id\":\"1254\",\"type\":\"SaveTool\"},{\"attributes\":{},\"id\":\"1245\",\"type\":\"CategoricalTicker\"},{\"attributes\":{\"axis\":{\"id\":\"1207\"},\"grid_line_alpha\":0.75,\"grid_line_color\":\"gray\",\"grid_line_dash\":[6],\"ticker\":null},\"id\":\"1209\",\"type\":\"Grid\"},{\"attributes\":{\"data_source\":{\"id\":\"1265\"},\"glyph\":{\"id\":\"1266\"},\"hover_glyph\":null,\"muted_glyph\":null,\"nonselection_glyph\":{\"id\":\"1267\"},\"selection_glyph\":null,\"view\":{\"id\":\"1269\"}},\"id\":\"1268\",\"type\":\"GlyphRenderer\"},{\"attributes\":{},\"id\":\"1255\",\"type\":\"ResetTool\"},{\"attributes\":{\"axis\":{\"id\":\"1210\"},\"dimension\":1,\"grid_line_alpha\":0.55,\"grid_line_color\":\"blue\",\"grid_line_dash\":[2,4],\"ticker\":null},\"id\":\"1213\",\"type\":\"Grid\"},{\"attributes\":{\"axis_label\":\"Measles stats\",\"formatter\":{\"id\":\"1280\"},\"ticker\":{\"id\":\"1248\"}},\"id\":\"1247\",\"type\":\"LinearAxis\"},{\"attributes\":{},\"id\":\"1276\",\"type\":\"UnionRenderers\"},{\"attributes\":{\"axis_label\":\"Measles stats\",\"formatter\":{\"id\":\"1271\"},\"ticker\":{\"id\":\"1211\"}},\"id\":\"1210\",\"type\":\"LinearAxis\"},{\"attributes\":{},\"id\":\"1273\",\"type\":\"CategoricalTickFormatter\"},{\"attributes\":{\"fill_alpha\":{\"value\":0.1},\"fill_color\":{\"field\":\"fill_color\"},\"line_alpha\":{\"value\":0.1},\"line_color\":{\"field\":\"line_color\"},\"top\":{\"field\":\"top\"},\"width\":{\"value\":0.9},\"x\":{\"field\":\"x\"}},\"id\":\"1267\",\"type\":\"VBar\"},{\"attributes\":{\"axis\":{\"id\":\"1244\"},\"grid_line_alpha\":0.75,\"grid_line_color\":\"gray\",\"grid_line_dash\":[6],\"ticker\":null},\"id\":\"1246\",\"type\":\"Grid\"},{\"attributes\":{\"factors\":[\"France\",\"Canada\",\"Brazil\",\"Turkey\",\"Australia\"]},\"id\":\"1236\",\"type\":\"FactorRange\"},{\"attributes\":{},\"id\":\"1256\",\"type\":\"HelpTool\"},{\"attributes\":{\"below\":[{\"id\":\"1244\"}],\"center\":[{\"id\":\"1246\"},{\"id\":\"1250\"}],\"left\":[{\"id\":\"1247\"}],\"plot_height\":250,\"renderers\":[{\"id\":\"1268\"}],\"title\":{\"id\":\"1234\"},\"toolbar\":{\"id\":\"1258\"},\"toolbar_location\":null,\"x_range\":{\"id\":\"1236\"},\"x_scale\":{\"id\":\"1240\"},\"y_range\":{\"id\":\"1238\"},\"y_scale\":{\"id\":\"1242\"}},\"id\":\"1233\",\"subtype\":\"Figure\",\"type\":\"Plot\"},{\"attributes\":{\"axis\":{\"id\":\"1247\"},\"dimension\":1,\"grid_line_alpha\":0.55,\"grid_line_color\":\"blue\",\"grid_line_dash\":[2,4],\"ticker\":null},\"id\":\"1250\",\"type\":\"Grid\"},{\"attributes\":{},\"id\":\"1277\",\"type\":\"Selection\"},{\"attributes\":{},\"id\":\"1251\",\"type\":\"PanTool\"},{\"attributes\":{},\"id\":\"1238\",\"type\":\"DataRange1d\"},{\"attributes\":{\"data\":{\"fill_color\":[\"#2b83ba\",\"#abdda4\",\"#ffffbf\",\"#fdae61\",\"#d7191c\"],\"line_color\":[\"#2b83ba\",\"#abdda4\",\"#ffffbf\",\"#fdae61\",\"#d7191c\"],\"top\":[74,214,195,157,342],\"x\":[\"France\",\"Canada\",\"Brazil\",\"Turkey\",\"Australia\"]},\"selected\":{\"id\":\"1277\"},\"selection_policy\":{\"id\":\"1276\"}},\"id\":\"1228\",\"type\":\"ColumnDataSource\"},{\"attributes\":{\"toolbar\":{\"id\":\"1289\"}},\"id\":\"1290\",\"type\":\"ToolbarBox\"},{\"attributes\":{},\"id\":\"1248\",\"type\":\"BasicTicker\"},{\"attributes\":{},\"id\":\"1282\",\"type\":\"CategoricalTickFormatter\"},{\"attributes\":{\"formatter\":{\"id\":\"1282\"},\"ticker\":{\"id\":\"1245\"}},\"id\":\"1244\",\"type\":\"CategoricalAxis\"},{\"attributes\":{},\"id\":\"1252\",\"type\":\"WheelZoomTool\"},{\"attributes\":{},\"id\":\"1240\",\"type\":\"CategoricalScale\"},{\"attributes\":{},\"id\":\"1280\",\"type\":\"BasicTickFormatter\"},{\"attributes\":{\"source\":{\"id\":\"1265\"}},\"id\":\"1269\",\"type\":\"CDSView\"},{\"attributes\":{\"fill_alpha\":{\"value\":0.1},\"fill_color\":{\"field\":\"fill_color\"},\"line_alpha\":{\"value\":0.1},\"line_color\":{\"field\":\"line_color\"},\"top\":{\"field\":\"top\"},\"width\":{\"value\":0.9},\"x\":{\"field\":\"x\"}},\"id\":\"1230\",\"type\":\"VBar\"},{\"attributes\":{\"text\":\"Measles in the world in 2015 (randomly selected colors from a pallette)\"},\"id\":\"1234\",\"type\":\"Title\"},{\"attributes\":{},\"id\":\"1214\",\"type\":\"PanTool\"},{\"attributes\":{\"text\":\"Measles in the world in 2015 (pre-set pallette)\"},\"id\":\"1197\",\"type\":\"Title\"},{\"attributes\":{\"bottom_units\":\"screen\",\"fill_alpha\":0.5,\"fill_color\":\"lightgrey\",\"left_units\":\"screen\",\"level\":\"overlay\",\"line_alpha\":1.0,\"line_color\":\"black\",\"line_dash\":[4,4],\"line_width\":2,\"render_mode\":\"css\",\"right_units\":\"screen\",\"top_units\":\"screen\"},\"id\":\"1220\",\"type\":\"BoxAnnotation\"},{\"attributes\":{},\"id\":\"1215\",\"type\":\"WheelZoomTool\"},{\"attributes\":{\"overlay\":{\"id\":\"1220\"}},\"id\":\"1216\",\"type\":\"BoxZoomTool\"},{\"attributes\":{\"toolbars\":[{\"id\":\"1221\"},{\"id\":\"1258\"}],\"tools\":[{\"id\":\"1214\"},{\"id\":\"1215\"},{\"id\":\"1216\"},{\"id\":\"1217\"},{\"id\":\"1218\"},{\"id\":\"1219\"},{\"id\":\"1251\"},{\"id\":\"1252\"},{\"id\":\"1253\"},{\"id\":\"1254\"},{\"id\":\"1255\"},{\"id\":\"1256\"}]},\"id\":\"1289\",\"type\":\"ProxyToolbar\"},{\"attributes\":{},\"id\":\"1242\",\"type\":\"LinearScale\"},{\"attributes\":{},\"id\":\"1217\",\"type\":\"SaveTool\"},{\"attributes\":{\"fill_alpha\":{\"value\":0.75},\"fill_color\":{\"field\":\"fill_color\"},\"line_color\":{\"field\":\"line_color\"},\"top\":{\"field\":\"top\"},\"width\":{\"value\":0.9},\"x\":{\"field\":\"x\"}},\"id\":\"1229\",\"type\":\"VBar\"},{\"attributes\":{},\"id\":\"1286\",\"type\":\"Selection\"},{\"attributes\":{\"factors\":[\"France\",\"Canada\",\"Brazil\",\"Turkey\",\"Australia\"]},\"id\":\"1199\",\"type\":\"FactorRange\"},{\"attributes\":{\"data_source\":{\"id\":\"1228\"},\"glyph\":{\"id\":\"1229\"},\"hover_glyph\":null,\"muted_glyph\":null,\"nonselection_glyph\":{\"id\":\"1230\"},\"selection_glyph\":null,\"view\":{\"id\":\"1232\"}},\"id\":\"1231\",\"type\":\"GlyphRenderer\"},{\"attributes\":{\"source\":{\"id\":\"1228\"}},\"id\":\"1232\",\"type\":\"CDSView\"},{\"attributes\":{},\"id\":\"1203\",\"type\":\"CategoricalScale\"},{\"attributes\":{},\"id\":\"1218\",\"type\":\"ResetTool\"},{\"attributes\":{\"bottom_units\":\"screen\",\"fill_alpha\":0.5,\"fill_color\":\"lightgrey\",\"left_units\":\"screen\",\"level\":\"overlay\",\"line_alpha\":1.0,\"line_color\":\"black\",\"line_dash\":[4,4],\"line_width\":2,\"render_mode\":\"css\",\"right_units\":\"screen\",\"top_units\":\"screen\"},\"id\":\"1257\",\"type\":\"BoxAnnotation\"},{\"attributes\":{},\"id\":\"1285\",\"type\":\"UnionRenderers\"},{\"attributes\":{},\"id\":\"1201\",\"type\":\"DataRange1d\"},{\"attributes\":{\"active_drag\":\"auto\",\"active_inspect\":\"auto\",\"active_multi\":null,\"active_scroll\":\"auto\",\"active_tap\":\"auto\",\"tools\":[{\"id\":\"1251\"},{\"id\":\"1252\"},{\"id\":\"1253\"},{\"id\":\"1254\"},{\"id\":\"1255\"},{\"id\":\"1256\"}]},\"id\":\"1258\",\"type\":\"Toolbar\"},{\"attributes\":{},\"id\":\"1219\",\"type\":\"HelpTool\"},{\"attributes\":{\"data\":{\"fill_color\":[\"#2C728E\",\"#433B83\",\"#92D741\",\"#37598C\",\"#470F62\"],\"line_color\":[\"#2C728E\",\"#433B83\",\"#92D741\",\"#37598C\",\"#470F62\"],\"top\":[74,214,195,157,342],\"x\":[\"France\",\"Canada\",\"Brazil\",\"Turkey\",\"Australia\"]},\"selected\":{\"id\":\"1286\"},\"selection_policy\":{\"id\":\"1285\"}},\"id\":\"1265\",\"type\":\"ColumnDataSource\"},{\"attributes\":{\"fill_alpha\":{\"value\":0.75},\"fill_color\":{\"field\":\"fill_color\"},\"line_color\":{\"field\":\"line_color\"},\"top\":{\"field\":\"top\"},\"width\":{\"value\":0.9},\"x\":{\"field\":\"x\"}},\"id\":\"1266\",\"type\":\"VBar\"},{\"attributes\":{\"active_drag\":\"auto\",\"active_inspect\":\"auto\",\"active_multi\":null,\"active_scroll\":\"auto\",\"active_tap\":\"auto\",\"tools\":[{\"id\":\"1214\"},{\"id\":\"1215\"},{\"id\":\"1216\"},{\"id\":\"1217\"},{\"id\":\"1218\"},{\"id\":\"1219\"}]},\"id\":\"1221\",\"type\":\"Toolbar\"},{\"attributes\":{},\"id\":\"1205\",\"type\":\"LinearScale\"},{\"attributes\":{\"children\":[[{\"id\":\"1196\"},0,0],[{\"id\":\"1233\"},1,0]]},\"id\":\"1288\",\"type\":\"GridBox\"},{\"attributes\":{\"formatter\":{\"id\":\"1273\"},\"ticker\":{\"id\":\"1208\"}},\"id\":\"1207\",\"type\":\"CategoricalAxis\"}],\"root_ids\":[\"1291\"]},\"title\":\"Bokeh Application\",\"version\":\"2.0.2\"}};\n",
       "  var render_items = [{\"docid\":\"fbe5bf63-870c-4856-b377-eeb538dbeead\",\"root_ids\":[\"1291\"],\"roots\":{\"1291\":\"1a279612-87a2-4f74-90c3-dd2bdd032aa0\"}}];\n",
       "  root.Bokeh.embed.embed_items_notebook(docs_json, render_items);\n",
       "\n",
       "  }\n",
       "  if (root.Bokeh !== undefined) {\n",
       "    embed_document(root);\n",
       "  } else {\n",
       "    var attempts = 0;\n",
       "    var timer = setInterval(function(root) {\n",
       "      if (root.Bokeh !== undefined) {\n",
       "        clearInterval(timer);\n",
       "        embed_document(root);\n",
       "      } else {\n",
       "        attempts++;\n",
       "        if (attempts > 100) {\n",
       "          clearInterval(timer);\n",
       "          console.log(\"Bokeh: ERROR: Unable to run BokehJS code because BokehJS library is missing\");\n",
       "        }\n",
       "      }\n",
       "    }, 10, root)\n",
       "  }\n",
       "})(window);"
      ],
      "application/vnd.bokehjs_exec.v0+json": ""
     },
     "metadata": {
      "application/vnd.bokehjs_exec.v0+json": {
       "id": "1291"
      }
     },
     "output_type": "display_data"
    }
   ],
   "source": [
    "#Importing a pallette\n",
    "from bokeh.palettes import Spectral5, Viridis256, Colorblind, Magma256, Turbo256\n",
    "\n",
    "# Creating a list of categorical values \n",
    "values = data[(data['year']==2015)&(data['country'].isin(countries))]['measles']\n",
    "\n",
    "# Set the x_range to the list of categories above\n",
    "p1 = figure(x_range=countries,\n",
    "           plot_height=250, \n",
    "           title=\"Measles in the world in 2015 (pre-set pallette)\")\n",
    "\n",
    "# Categorical values can also be used as coordinates\n",
    "p1.vbar(x=countries, top=values, width=0.9,\n",
    "      color = Spectral5, fill_alpha=.75)\n",
    "\n",
    "# Set some properties to make the plot look better\n",
    "p1.yaxis.axis_label=\"Measles stats\"\n",
    "p1.xgrid.grid_line_color='gray'\n",
    "p1.xgrid.grid_line_alpha=.75\n",
    "p1.xgrid.grid_line_dash = 'dashed'\n",
    "p1.ygrid.grid_line_color='blue'\n",
    "p1.ygrid.grid_line_alpha = .55\n",
    "p1.ygrid.grid_line_dash = 'dotted'\n",
    "\n",
    "\n",
    "p2 = figure(x_range=countries,\n",
    "           plot_height=250, \n",
    "           title=\"Measles in the world in 2015 (randomly selected colors from a pallette)\")\n",
    "\n",
    "# Categorical values can also be used as coordinates\n",
    "p2.vbar(x=countries, top=values, width=0.9,\n",
    "      color = random.sample(Viridis256,5), fill_alpha=.75)\n",
    "\n",
    "# Set some properties to make the plot look better\n",
    "p2.yaxis.axis_label=\"Measles stats\"\n",
    "p2.xgrid.grid_line_color='gray'\n",
    "p2.xgrid.grid_line_alpha=.75\n",
    "p2.xgrid.grid_line_dash = 'dashed'\n",
    "p2.ygrid.grid_line_color='blue'\n",
    "p2.ygrid.grid_line_alpha = .55\n",
    "p2.ygrid.grid_line_dash = 'dotted'\n",
    "\n",
    "p = gridplot([[p1,None],[p2,None]], toolbar_location='right')\n",
    "show(p)"
   ]
  },
  {
   "cell_type": "markdown",
   "metadata": {},
   "source": [
    "## Grouped Bar Charts ##"
   ]
  },
  {
   "cell_type": "markdown",
   "metadata": {},
   "source": [
    "Sometimes we need to plot a grouped bar chart. For example, we might need to group our health indicators for some countries. For that we need to import a special procedure from the bokeh.models module - FactorRange. Let's look at the data for measles, polio and hiv/aids\\*1000 for our list of countries for 2014."
   ]
  },
  {
   "cell_type": "code",
   "execution_count": 7,
   "metadata": {},
   "outputs": [
    {
     "name": "stderr",
     "output_type": "stream",
     "text": [
      "/Library/Frameworks/Python.framework/Versions/3.7/lib/python3.7/site-packages/ipykernel_launcher.py:6: UserWarning: Boolean Series key will be reindexed to match DataFrame index.\n",
      "  \n",
      "/Library/Frameworks/Python.framework/Versions/3.7/lib/python3.7/site-packages/ipykernel_launcher.py:7: UserWarning: Boolean Series key will be reindexed to match DataFrame index.\n",
      "  import sys\n",
      "/Library/Frameworks/Python.framework/Versions/3.7/lib/python3.7/site-packages/ipykernel_launcher.py:8: UserWarning: Boolean Series key will be reindexed to match DataFrame index.\n",
      "  \n"
     ]
    },
    {
     "data": {
      "text/html": [
       "\n",
       "\n",
       "\n",
       "\n",
       "\n",
       "\n",
       "  <div class=\"bk-root\" id=\"68a3647a-d220-4cd3-842d-bd7cabf125f8\" data-root-id=\"1422\"></div>\n"
      ]
     },
     "metadata": {},
     "output_type": "display_data"
    },
    {
     "data": {
      "application/javascript": [
       "(function(root) {\n",
       "  function embed_document(root) {\n",
       "    \n",
       "  var docs_json = {\"ea3752d6-a395-4017-b84f-1cf7123de05b\":{\"roots\":{\"references\":[{\"attributes\":{\"below\":[{\"id\":\"1432\"}],\"center\":[{\"id\":\"1434\"},{\"id\":\"1438\"}],\"left\":[{\"id\":\"1435\"}],\"plot_height\":350,\"renderers\":[{\"id\":\"1456\"}],\"title\":{\"id\":\"1423\"},\"toolbar\":{\"id\":\"1446\"},\"x_range\":{\"id\":\"1421\"},\"x_scale\":{\"id\":\"1428\"},\"y_range\":{\"id\":\"1426\"},\"y_scale\":{\"id\":\"1430\"}},\"id\":\"1422\",\"subtype\":\"Figure\",\"type\":\"Plot\"},{\"attributes\":{\"factors\":[[\"France\",\"measles\"],[\"France\",\"polio\"],[\"France\",\"hiv/aids*1000\"],[\"Canada\",\"measles\"],[\"Canada\",\"polio\"],[\"Canada\",\"hiv/aids*1000\"],[\"Brazil\",\"measles\"],[\"Brazil\",\"polio\"],[\"Brazil\",\"hiv/aids*1000\"],[\"Turkey\",\"measles\"],[\"Turkey\",\"polio\"],[\"Turkey\",\"hiv/aids*1000\"],[\"Australia\",\"measles\"],[\"Australia\",\"polio\"],[\"Australia\",\"hiv/aids*1000\"]],\"range_padding\":0.1},\"id\":\"1421\",\"type\":\"FactorRange\"},{\"attributes\":{\"axis\":{\"id\":\"1435\"},\"dimension\":1,\"ticker\":null},\"id\":\"1438\",\"type\":\"Grid\"},{\"attributes\":{\"source\":{\"id\":\"1420\"}},\"id\":\"1457\",\"type\":\"CDSView\"},{\"attributes\":{\"fill_alpha\":{\"value\":0.1},\"fill_color\":{\"field\":\"color\"},\"line_alpha\":{\"value\":0.1},\"line_color\":{\"value\":\"#1f77b4\"},\"top\":{\"field\":\"counts\"},\"width\":{\"value\":0.9},\"x\":{\"field\":\"x\"}},\"id\":\"1455\",\"type\":\"VBar\"},{\"attributes\":{\"formatter\":{\"id\":\"1493\"},\"major_label_orientation\":0.9,\"ticker\":{\"id\":\"1433\"}},\"id\":\"1432\",\"type\":\"CategoricalAxis\"},{\"attributes\":{\"bottom_units\":\"screen\",\"fill_alpha\":0.5,\"fill_color\":\"lightgrey\",\"left_units\":\"screen\",\"level\":\"overlay\",\"line_alpha\":1.0,\"line_color\":\"black\",\"line_dash\":[4,4],\"line_width\":2,\"render_mode\":\"css\",\"right_units\":\"screen\",\"top_units\":\"screen\"},\"id\":\"1445\",\"type\":\"BoxAnnotation\"},{\"attributes\":{\"active_drag\":\"auto\",\"active_inspect\":\"auto\",\"active_multi\":null,\"active_scroll\":\"auto\",\"active_tap\":\"auto\",\"tools\":[{\"id\":\"1439\"},{\"id\":\"1440\"},{\"id\":\"1441\"},{\"id\":\"1442\"},{\"id\":\"1443\"},{\"id\":\"1444\"}]},\"id\":\"1446\",\"type\":\"Toolbar\"},{\"attributes\":{},\"id\":\"1439\",\"type\":\"PanTool\"},{\"attributes\":{},\"id\":\"1440\",\"type\":\"WheelZoomTool\"},{\"attributes\":{\"formatter\":{\"id\":\"1491\"},\"ticker\":{\"id\":\"1436\"}},\"id\":\"1435\",\"type\":\"LinearAxis\"},{\"attributes\":{\"axis\":{\"id\":\"1432\"},\"grid_line_color\":null,\"ticker\":null},\"id\":\"1434\",\"type\":\"Grid\"},{\"attributes\":{\"overlay\":{\"id\":\"1445\"}},\"id\":\"1441\",\"type\":\"BoxZoomTool\"},{\"attributes\":{},\"id\":\"1430\",\"type\":\"LinearScale\"},{\"attributes\":{\"data_source\":{\"id\":\"1420\"},\"glyph\":{\"id\":\"1454\"},\"hover_glyph\":null,\"muted_glyph\":null,\"nonselection_glyph\":{\"id\":\"1455\"},\"selection_glyph\":null,\"view\":{\"id\":\"1457\"}},\"id\":\"1456\",\"type\":\"GlyphRenderer\"},{\"attributes\":{},\"id\":\"1433\",\"type\":\"CategoricalTicker\"},{\"attributes\":{},\"id\":\"1442\",\"type\":\"SaveTool\"},{\"attributes\":{},\"id\":\"1491\",\"type\":\"BasicTickFormatter\"},{\"attributes\":{\"data\":{\"color\":[\"#f46516\",\"#a31201\",\"#78fe59\",\"#ac1601\",\"#1be5b4\",\"#e3440a\",\"#b1f836\",\"#4350be\",\"#c32402\",\"#19d3cf\",\"#edcf39\",\"#3ba0fc\",\"#d6e535\",\"#34aaf8\",\"#fd8c27\"],\"counts\":[340,92.0,100.0,876,96.0,100.0,418,91.0,100.0,267,98.0,100.0,565,96.0,100.0],\"x\":[[\"France\",\"measles\"],[\"France\",\"polio\"],[\"France\",\"hiv/aids*1000\"],[\"Canada\",\"measles\"],[\"Canada\",\"polio\"],[\"Canada\",\"hiv/aids*1000\"],[\"Brazil\",\"measles\"],[\"Brazil\",\"polio\"],[\"Brazil\",\"hiv/aids*1000\"],[\"Turkey\",\"measles\"],[\"Turkey\",\"polio\"],[\"Turkey\",\"hiv/aids*1000\"],[\"Australia\",\"measles\"],[\"Australia\",\"polio\"],[\"Australia\",\"hiv/aids*1000\"]]},\"selected\":{\"id\":\"1497\"},\"selection_policy\":{\"id\":\"1496\"}},\"id\":\"1420\",\"type\":\"ColumnDataSource\"},{\"attributes\":{},\"id\":\"1443\",\"type\":\"ResetTool\"},{\"attributes\":{},\"id\":\"1496\",\"type\":\"UnionRenderers\"},{\"attributes\":{},\"id\":\"1493\",\"type\":\"CategoricalTickFormatter\"},{\"attributes\":{},\"id\":\"1444\",\"type\":\"HelpTool\"},{\"attributes\":{},\"id\":\"1428\",\"type\":\"CategoricalScale\"},{\"attributes\":{\"text\":\"Health Stats by Country\"},\"id\":\"1423\",\"type\":\"Title\"},{\"attributes\":{},\"id\":\"1497\",\"type\":\"Selection\"},{\"attributes\":{\"start\":0},\"id\":\"1426\",\"type\":\"DataRange1d\"},{\"attributes\":{},\"id\":\"1436\",\"type\":\"BasicTicker\"},{\"attributes\":{\"fill_color\":{\"field\":\"color\"},\"line_color\":{\"value\":\"#1f77b4\"},\"top\":{\"field\":\"counts\"},\"width\":{\"value\":0.9},\"x\":{\"field\":\"x\"}},\"id\":\"1454\",\"type\":\"VBar\"}],\"root_ids\":[\"1422\"]},\"title\":\"Bokeh Application\",\"version\":\"2.0.2\"}};\n",
       "  var render_items = [{\"docid\":\"ea3752d6-a395-4017-b84f-1cf7123de05b\",\"root_ids\":[\"1422\"],\"roots\":{\"1422\":\"68a3647a-d220-4cd3-842d-bd7cabf125f8\"}}];\n",
       "  root.Bokeh.embed.embed_items_notebook(docs_json, render_items);\n",
       "\n",
       "  }\n",
       "  if (root.Bokeh !== undefined) {\n",
       "    embed_document(root);\n",
       "  } else {\n",
       "    var attempts = 0;\n",
       "    var timer = setInterval(function(root) {\n",
       "      if (root.Bokeh !== undefined) {\n",
       "        clearInterval(timer);\n",
       "        embed_document(root);\n",
       "      } else {\n",
       "        attempts++;\n",
       "        if (attempts > 100) {\n",
       "          clearInterval(timer);\n",
       "          console.log(\"Bokeh: ERROR: Unable to run BokehJS code because BokehJS library is missing\");\n",
       "        }\n",
       "      }\n",
       "    }, 10, root)\n",
       "  }\n",
       "})(window);"
      ],
      "application/vnd.bokehjs_exec.v0+json": ""
     },
     "metadata": {
      "application/vnd.bokehjs_exec.v0+json": {
       "id": "1422"
      }
     },
     "output_type": "display_data"
    }
   ],
   "source": [
    "#List of used statistics\n",
    "stats = ['measles','polio','hiv/aids*1000']\n",
    "\n",
    "#Creating a dictionary of our data\n",
    "mdata = {'countries' : countries,\n",
    "        'measles'   : data[data['year']==2014][data['country'].isin(countries)]['measles'],\n",
    "        'polio'   : data[data['year']==2014][data['country'].isin(countries)]['polio'],\n",
    "        'hiv/aids*1000'   : data[data['year']==2014][data['country'].isin(countries)]['hiv/aids']*1000}\n",
    "\n",
    "# Creating tuples for individual bars [ (\"France\", \"measles\"), (\"France\", \"polio\"), (\"France\", \"hiv/aids*1000\"), (\"Canada\", \"measles\"), ... ]\n",
    "x = [ (country, stat) for country in countries for stat in stats ]\n",
    "counts = sum(zip(mdata['measles'], mdata['polio'], mdata['hiv/aids*1000']), ()) \n",
    "\n",
    "#Creating a column data source - Bokeh's own data type with the fields (Country,[stats],[values],[colors]) \n",
    "source = ColumnDataSource(data=dict(x=x, counts=counts, color=random.sample(Turbo256,15)))\n",
    "\n",
    "#Initializing our plot\n",
    "p = figure(x_range=FactorRange(*x), plot_height=350, title=\"Health Stats by Country\")\n",
    "\n",
    "#Plotting our vertical bar chart\n",
    "p.vbar(x='x', top='counts', width=0.9  ,fill_color='color',  source=source)\n",
    "\n",
    "#Enhancing our graph\n",
    "p.y_range.start = 0\n",
    "p.x_range.range_padding = 0.1\n",
    "p.xaxis.major_label_orientation = .9\n",
    "p.xgrid.grid_line_color = None\n",
    "\n",
    "show(p)"
   ]
  },
  {
   "cell_type": "markdown",
   "metadata": {},
   "source": [
    "## ColumnDataSource ##"
   ]
  },
  {
   "cell_type": "markdown",
   "metadata": {},
   "source": [
    "This is a very useful Bokeh data format. It represents a mapping technique where name of the columns (strings) are mapped to their respective values (sequences of values). Even if we do not use it, this is the job Bokeh does under the hood for us. Let's look at at example."
   ]
  },
  {
   "cell_type": "code",
   "execution_count": 16,
   "metadata": {},
   "outputs": [
    {
     "data": {
      "text/html": [
       "\n",
       "\n",
       "\n",
       "\n",
       "\n",
       "\n",
       "  <div class=\"bk-root\" id=\"337dc833-3348-4ebe-a0ad-fd375b08bf69\" data-root-id=\"3143\"></div>\n"
      ]
     },
     "metadata": {},
     "output_type": "display_data"
    },
    {
     "data": {
      "application/javascript": [
       "(function(root) {\n",
       "  function embed_document(root) {\n",
       "    \n",
       "  var docs_json = {\"ef041ea8-f92b-4ba0-bd8b-7cf79425a883\":{\"roots\":{\"references\":[{\"attributes\":{\"below\":[{\"id\":\"3152\"}],\"center\":[{\"id\":\"3155\"},{\"id\":\"3159\"}],\"left\":[{\"id\":\"3156\"}],\"plot_height\":400,\"plot_width\":400,\"renderers\":[{\"id\":\"3177\"}],\"title\":{\"id\":\"3308\"},\"toolbar\":{\"id\":\"3167\"},\"x_range\":{\"id\":\"3144\"},\"x_scale\":{\"id\":\"3148\"},\"y_range\":{\"id\":\"3146\"},\"y_scale\":{\"id\":\"3150\"}},\"id\":\"3143\",\"subtype\":\"Figure\",\"type\":\"Plot\"},{\"attributes\":{\"source\":{\"id\":\"3142\"}},\"id\":\"3178\",\"type\":\"CDSView\"},{\"attributes\":{},\"id\":\"3157\",\"type\":\"BasicTicker\"},{\"attributes\":{\"active_drag\":\"auto\",\"active_inspect\":\"auto\",\"active_multi\":null,\"active_scroll\":\"auto\",\"active_tap\":\"auto\",\"tools\":[{\"id\":\"3160\"},{\"id\":\"3161\"},{\"id\":\"3162\"},{\"id\":\"3163\"},{\"id\":\"3164\"},{\"id\":\"3165\"}]},\"id\":\"3167\",\"type\":\"Toolbar\"},{\"attributes\":{\"bottom_units\":\"screen\",\"fill_alpha\":0.5,\"fill_color\":\"lightgrey\",\"left_units\":\"screen\",\"level\":\"overlay\",\"line_alpha\":1.0,\"line_color\":\"black\",\"line_dash\":[4,4],\"line_width\":2,\"render_mode\":\"css\",\"right_units\":\"screen\",\"top_units\":\"screen\"},\"id\":\"3166\",\"type\":\"BoxAnnotation\"},{\"attributes\":{},\"id\":\"3164\",\"type\":\"ResetTool\"},{\"attributes\":{\"formatter\":{\"id\":\"3311\"},\"ticker\":{\"id\":\"3153\"}},\"id\":\"3152\",\"type\":\"LinearAxis\"},{\"attributes\":{\"text\":\"\"},\"id\":\"3308\",\"type\":\"Title\"},{\"attributes\":{},\"id\":\"3150\",\"type\":\"LinearScale\"},{\"attributes\":{},\"id\":\"3315\",\"type\":\"Selection\"},{\"attributes\":{\"formatter\":{\"id\":\"3309\"},\"ticker\":{\"id\":\"3157\"}},\"id\":\"3156\",\"type\":\"LinearAxis\"},{\"attributes\":{},\"id\":\"3309\",\"type\":\"BasicTickFormatter\"},{\"attributes\":{},\"id\":\"3144\",\"type\":\"DataRange1d\"},{\"attributes\":{\"axis\":{\"id\":\"3156\"},\"dimension\":1,\"ticker\":null},\"id\":\"3159\",\"type\":\"Grid\"},{\"attributes\":{\"data\":{\"color\":[\"red\",\"green\",\"blue\",\"orange\"],\"x\":[1,2,3,4],\"y\":[4,6,2,5]},\"selected\":{\"id\":\"3315\"},\"selection_policy\":{\"id\":\"3314\"}},\"id\":\"3142\",\"type\":\"ColumnDataSource\"},{\"attributes\":{\"fill_alpha\":{\"value\":0.1},\"fill_color\":{\"field\":\"color\"},\"line_alpha\":{\"value\":0.1},\"line_color\":{\"value\":\"#1f77b4\"},\"top\":{\"field\":\"y\"},\"width\":{\"value\":0.8},\"x\":{\"field\":\"x\"}},\"id\":\"3176\",\"type\":\"VBar\"},{\"attributes\":{},\"id\":\"3160\",\"type\":\"PanTool\"},{\"attributes\":{},\"id\":\"3314\",\"type\":\"UnionRenderers\"},{\"attributes\":{},\"id\":\"3153\",\"type\":\"BasicTicker\"},{\"attributes\":{\"overlay\":{\"id\":\"3166\"}},\"id\":\"3162\",\"type\":\"BoxZoomTool\"},{\"attributes\":{\"fill_alpha\":{\"value\":0.6},\"fill_color\":{\"field\":\"color\"},\"line_color\":{\"value\":\"#1f77b4\"},\"top\":{\"field\":\"y\"},\"width\":{\"value\":0.8},\"x\":{\"field\":\"x\"}},\"id\":\"3175\",\"type\":\"VBar\"},{\"attributes\":{},\"id\":\"3163\",\"type\":\"SaveTool\"},{\"attributes\":{},\"id\":\"3311\",\"type\":\"BasicTickFormatter\"},{\"attributes\":{},\"id\":\"3161\",\"type\":\"WheelZoomTool\"},{\"attributes\":{\"axis\":{\"id\":\"3152\"},\"ticker\":null},\"id\":\"3155\",\"type\":\"Grid\"},{\"attributes\":{},\"id\":\"3148\",\"type\":\"LinearScale\"},{\"attributes\":{},\"id\":\"3165\",\"type\":\"HelpTool\"},{\"attributes\":{},\"id\":\"3146\",\"type\":\"DataRange1d\"},{\"attributes\":{\"data_source\":{\"id\":\"3142\"},\"glyph\":{\"id\":\"3175\"},\"hover_glyph\":null,\"muted_glyph\":null,\"nonselection_glyph\":{\"id\":\"3176\"},\"selection_glyph\":null,\"view\":{\"id\":\"3178\"}},\"id\":\"3177\",\"type\":\"GlyphRenderer\"}],\"root_ids\":[\"3143\"]},\"title\":\"Bokeh Application\",\"version\":\"2.0.2\"}};\n",
       "  var render_items = [{\"docid\":\"ef041ea8-f92b-4ba0-bd8b-7cf79425a883\",\"root_ids\":[\"3143\"],\"roots\":{\"3143\":\"337dc833-3348-4ebe-a0ad-fd375b08bf69\"}}];\n",
       "  root.Bokeh.embed.embed_items_notebook(docs_json, render_items);\n",
       "\n",
       "  }\n",
       "  if (root.Bokeh !== undefined) {\n",
       "    embed_document(root);\n",
       "  } else {\n",
       "    var attempts = 0;\n",
       "    var timer = setInterval(function(root) {\n",
       "      if (root.Bokeh !== undefined) {\n",
       "        clearInterval(timer);\n",
       "        embed_document(root);\n",
       "      } else {\n",
       "        attempts++;\n",
       "        if (attempts > 100) {\n",
       "          clearInterval(timer);\n",
       "          console.log(\"Bokeh: ERROR: Unable to run BokehJS code because BokehJS library is missing\");\n",
       "        }\n",
       "      }\n",
       "    }, 10, root)\n",
       "  }\n",
       "})(window);"
      ],
      "application/vnd.bokehjs_exec.v0+json": ""
     },
     "metadata": {
      "application/vnd.bokehjs_exec.v0+json": {
       "id": "3143"
      }
     },
     "output_type": "display_data"
    }
   ],
   "source": [
    "#Importing the class\n",
    "from bokeh.models import ColumnDataSource\n",
    "\n",
    "#Creating our data as an empty dictionary\n",
    "sdata = dict()\n",
    "\n",
    "#Populating our data dictionary with key-value pairs\n",
    "sdata.update({'x':[1,2,3,4]})\n",
    "sdata.update({'y':[4,6,2,5]})\n",
    "sdata.update({'color':['red','green','blue','orange']})\n",
    "\n",
    "#Creating our ColumnDataSource instance\n",
    "source = ColumnDataSource(sdata)\n",
    "\n",
    "#Initializing our plot\n",
    "p = figure(plot_width=400, plot_height=400)\n",
    "\n",
    "#Plotting\n",
    "p.vbar(x = 'x',                #coordinates of the bar centers\n",
    "      top = 'y',               #bar heights\n",
    "       width=.8,\n",
    "      fill_color='color',\n",
    "      fill_alpha=.6,\n",
    "       source=source           #source of our data fields is a source instance of \n",
    "                               #ColumnDataSource class\n",
    "  )\n",
    "show(p)"
   ]
  },
  {
   "cell_type": "markdown",
   "metadata": {},
   "source": [
    "Even though we do not have to explicitly create an instance of ColumnDataSource class each time when we call a plotting procedure in Bokeh, it's important to know that the framework does always create such a structure for us automatically under the hood."
   ]
  },
  {
   "cell_type": "markdown",
   "metadata": {},
   "source": [
    "## Color Transformations ##"
   ]
  },
  {
   "cell_type": "markdown",
   "metadata": {},
   "source": [
    "Quite often we are not satisfied with a pre-set or a random palette, and we need to use some additional colormapping. That's the situation when we use *factor_cmap* function imported from bokeh.transform module. Let's look at the Canadian data for measles, polio and hiv/aids\\*1000 in 2000, 2005, 2010 and 2015. "
   ]
  },
  {
   "cell_type": "code",
   "execution_count": 23,
   "metadata": {
    "scrolled": false
   },
   "outputs": [
    {
     "name": "stderr",
     "output_type": "stream",
     "text": [
      "/Library/Frameworks/Python.framework/Versions/3.7/lib/python3.7/site-packages/ipykernel_launcher.py:7: UserWarning: Boolean Series key will be reindexed to match DataFrame index.\n",
      "  import sys\n",
      "/Library/Frameworks/Python.framework/Versions/3.7/lib/python3.7/site-packages/ipykernel_launcher.py:8: UserWarning: Boolean Series key will be reindexed to match DataFrame index.\n",
      "  \n",
      "/Library/Frameworks/Python.framework/Versions/3.7/lib/python3.7/site-packages/ipykernel_launcher.py:9: UserWarning: Boolean Series key will be reindexed to match DataFrame index.\n",
      "  if __name__ == '__main__':\n"
     ]
    },
    {
     "data": {
      "text/html": [
       "\n",
       "\n",
       "\n",
       "\n",
       "\n",
       "\n",
       "  <div class=\"bk-root\" id=\"f3791bde-5e75-49e6-8e41-b1246da309de\" data-root-id=\"5480\"></div>\n"
      ]
     },
     "metadata": {},
     "output_type": "display_data"
    },
    {
     "data": {
      "application/javascript": [
       "(function(root) {\n",
       "  function embed_document(root) {\n",
       "    \n",
       "  var docs_json = {\"5ca48519-2ce1-43d8-8056-b8729b00785a\":{\"roots\":{\"references\":[{\"attributes\":{\"children\":[{\"id\":\"5477\"},{\"id\":\"5479\"}]},\"id\":\"5480\",\"type\":\"Row\"},{\"attributes\":{\"factors\":[[\"2000\",\"measles\"],[\"2000\",\"polio\"],[\"2000\",\"hiv/aids*1000\"],[\"2005\",\"measles\"],[\"2005\",\"polio\"],[\"2005\",\"hiv/aids*1000\"],[\"2010\",\"measles\"],[\"2010\",\"polio\"],[\"2010\",\"hiv/aids*1000\"],[\"2015\",\"measles\"],[\"2015\",\"polio\"],[\"2015\",\"hiv/aids*1000\"]],\"range_padding\":0.1},\"id\":\"5383\",\"type\":\"FactorRange\"},{\"attributes\":{\"data_source\":{\"id\":\"5382\"},\"glyph\":{\"id\":\"5416\"},\"hover_glyph\":null,\"muted_glyph\":null,\"nonselection_glyph\":{\"id\":\"5417\"},\"selection_glyph\":null,\"view\":{\"id\":\"5419\"}},\"id\":\"5418\",\"type\":\"GlyphRenderer\"},{\"attributes\":{},\"id\":\"5440\",\"type\":\"WheelZoomTool\"},{\"attributes\":{\"formatter\":{\"id\":\"5460\"},\"ticker\":{\"id\":\"5398\"}},\"id\":\"5397\",\"type\":\"LinearAxis\"},{\"attributes\":{},\"id\":\"5428\",\"type\":\"CategoricalScale\"},{\"attributes\":{},\"id\":\"5406\",\"type\":\"HelpTool\"},{\"attributes\":{\"overlay\":{\"id\":\"5445\"}},\"id\":\"5441\",\"type\":\"BoxZoomTool\"},{\"attributes\":{},\"id\":\"5471\",\"type\":\"CategoricalTickFormatter\"},{\"attributes\":{},\"id\":\"5474\",\"type\":\"UnionRenderers\"},{\"attributes\":{\"axis\":{\"id\":\"5394\"},\"grid_line_color\":null,\"ticker\":null},\"id\":\"5396\",\"type\":\"Grid\"},{\"attributes\":{},\"id\":\"5442\",\"type\":\"SaveTool\"},{\"attributes\":{},\"id\":\"5462\",\"type\":\"CategoricalTickFormatter\"},{\"attributes\":{\"end\":2,\"factors\":[\"measles\",\"polio\",\"hiv/aids*1000\"],\"palette\":[\"salmon\",\"green\",\"navy\"],\"start\":1},\"id\":\"5453\",\"type\":\"CategoricalColorMapper\"},{\"attributes\":{},\"id\":\"5401\",\"type\":\"PanTool\"},{\"attributes\":{},\"id\":\"5443\",\"type\":\"ResetTool\"},{\"attributes\":{\"start\":0},\"id\":\"5388\",\"type\":\"DataRange1d\"},{\"attributes\":{},\"id\":\"5405\",\"type\":\"ResetTool\"},{\"attributes\":{\"below\":[{\"id\":\"5394\"}],\"center\":[{\"id\":\"5396\"},{\"id\":\"5400\"}],\"left\":[{\"id\":\"5397\"}],\"plot_height\":350,\"renderers\":[{\"id\":\"5418\"}],\"title\":{\"id\":\"5385\"},\"toolbar\":{\"id\":\"5408\"},\"toolbar_location\":null,\"x_range\":{\"id\":\"5383\"},\"x_scale\":{\"id\":\"5390\"},\"y_range\":{\"id\":\"5388\"},\"y_scale\":{\"id\":\"5392\"}},\"id\":\"5384\",\"subtype\":\"Figure\",\"type\":\"Plot\"},{\"attributes\":{\"data\":{\"color\":[\"#21c4e1\",\"#6dfd62\",\"#fc8624\",\"#1bcfd4\",\"#1be5b4\",\"#fa7a1f\",\"#a9fb39\",\"#fbb336\",\"#51f979\",\"#3c9dfd\",\"#f7711b\",\"#38266c\"],\"counts\":[195,91.0,100.0,99,88.0,100.0,6,93.0,100.0,206,88.0,100.0],\"x\":[[\"2000\",\"measles\"],[\"2000\",\"polio\"],[\"2000\",\"hiv/aids*1000\"],[\"2005\",\"measles\"],[\"2005\",\"polio\"],[\"2005\",\"hiv/aids*1000\"],[\"2010\",\"measles\"],[\"2010\",\"polio\"],[\"2010\",\"hiv/aids*1000\"],[\"2015\",\"measles\"],[\"2015\",\"polio\"],[\"2015\",\"hiv/aids*1000\"]]},\"selected\":{\"id\":\"5466\"},\"selection_policy\":{\"id\":\"5465\"}},\"id\":\"5382\",\"type\":\"ColumnDataSource\"},{\"attributes\":{},\"id\":\"5475\",\"type\":\"Selection\"},{\"attributes\":{\"active_drag\":\"auto\",\"active_inspect\":\"auto\",\"active_multi\":null,\"active_scroll\":\"auto\",\"active_tap\":\"auto\",\"tools\":[{\"id\":\"5401\"},{\"id\":\"5402\"},{\"id\":\"5403\"},{\"id\":\"5404\"},{\"id\":\"5405\"},{\"id\":\"5406\"}]},\"id\":\"5408\",\"type\":\"Toolbar\"},{\"attributes\":{},\"id\":\"5430\",\"type\":\"LinearScale\"},{\"attributes\":{},\"id\":\"5444\",\"type\":\"HelpTool\"},{\"attributes\":{\"data\":{\"counts\":[195,91.0,100.0,99,88.0,100.0,6,93.0,100.0,206,88.0,100.0],\"x\":[[\"2000\",\"measles\"],[\"2000\",\"polio\"],[\"2000\",\"hiv/aids*1000\"],[\"2005\",\"measles\"],[\"2005\",\"polio\"],[\"2005\",\"hiv/aids*1000\"],[\"2010\",\"measles\"],[\"2010\",\"polio\"],[\"2010\",\"hiv/aids*1000\"],[\"2015\",\"measles\"],[\"2015\",\"polio\"],[\"2015\",\"hiv/aids*1000\"]]},\"selected\":{\"id\":\"5475\"},\"selection_policy\":{\"id\":\"5474\"}},\"id\":\"5420\",\"type\":\"ColumnDataSource\"},{\"attributes\":{},\"id\":\"5395\",\"type\":\"CategoricalTicker\"},{\"attributes\":{\"toolbar\":{\"id\":\"5478\"}},\"id\":\"5479\",\"type\":\"ToolbarBox\"},{\"attributes\":{\"factors\":[[\"2000\",\"measles\"],[\"2000\",\"polio\"],[\"2000\",\"hiv/aids*1000\"],[\"2005\",\"measles\"],[\"2005\",\"polio\"],[\"2005\",\"hiv/aids*1000\"],[\"2010\",\"measles\"],[\"2010\",\"polio\"],[\"2010\",\"hiv/aids*1000\"],[\"2015\",\"measles\"],[\"2015\",\"polio\"],[\"2015\",\"hiv/aids*1000\"]]},\"id\":\"5421\",\"type\":\"FactorRange\"},{\"attributes\":{},\"id\":\"5460\",\"type\":\"BasicTickFormatter\"},{\"attributes\":{},\"id\":\"5398\",\"type\":\"BasicTicker\"},{\"attributes\":{\"axis\":{\"id\":\"5397\"},\"dimension\":1,\"ticker\":null},\"id\":\"5400\",\"type\":\"Grid\"},{\"attributes\":{},\"id\":\"5390\",\"type\":\"CategoricalScale\"},{\"attributes\":{\"formatter\":{\"id\":\"5471\"},\"major_label_orientation\":0.7,\"ticker\":{\"id\":\"5433\"}},\"id\":\"5432\",\"type\":\"CategoricalAxis\"},{\"attributes\":{\"fill_color\":{\"field\":\"color\"},\"line_color\":{\"value\":\"#1f77b4\"},\"top\":{\"field\":\"counts\"},\"width\":{\"value\":0.9},\"x\":{\"field\":\"x\"}},\"id\":\"5416\",\"type\":\"VBar\"},{\"attributes\":{},\"id\":\"5402\",\"type\":\"WheelZoomTool\"},{\"attributes\":{},\"id\":\"5469\",\"type\":\"BasicTickFormatter\"},{\"attributes\":{},\"id\":\"5436\",\"type\":\"BasicTicker\"},{\"attributes\":{},\"id\":\"5465\",\"type\":\"UnionRenderers\"},{\"attributes\":{},\"id\":\"5433\",\"type\":\"CategoricalTicker\"},{\"attributes\":{\"text\":\"Health Stats in Canada 2000-2015\"},\"id\":\"5385\",\"type\":\"Title\"},{\"attributes\":{\"axis\":{\"id\":\"5432\"},\"ticker\":null},\"id\":\"5434\",\"type\":\"Grid\"},{\"attributes\":{},\"id\":\"5404\",\"type\":\"SaveTool\"},{\"attributes\":{\"fill_alpha\":{\"value\":0.1},\"fill_color\":{\"field\":\"x\",\"transform\":{\"id\":\"5453\"}},\"line_alpha\":{\"value\":0.1},\"line_color\":{\"value\":\"#1f77b4\"},\"top\":{\"field\":\"counts\"},\"width\":{\"value\":0.9},\"x\":{\"field\":\"x\"}},\"id\":\"5456\",\"type\":\"VBar\"},{\"attributes\":{\"axis\":{\"id\":\"5435\"},\"dimension\":1,\"ticker\":null},\"id\":\"5438\",\"type\":\"Grid\"},{\"attributes\":{\"source\":{\"id\":\"5382\"}},\"id\":\"5419\",\"type\":\"CDSView\"},{\"attributes\":{\"source\":{\"id\":\"5420\"}},\"id\":\"5458\",\"type\":\"CDSView\"},{\"attributes\":{},\"id\":\"5392\",\"type\":\"LinearScale\"},{\"attributes\":{\"formatter\":{\"id\":\"5469\"},\"ticker\":{\"id\":\"5436\"}},\"id\":\"5435\",\"type\":\"LinearAxis\"},{\"attributes\":{\"fill_alpha\":{\"value\":0.1},\"fill_color\":{\"field\":\"color\"},\"line_alpha\":{\"value\":0.1},\"line_color\":{\"value\":\"#1f77b4\"},\"top\":{\"field\":\"counts\"},\"width\":{\"value\":0.9},\"x\":{\"field\":\"x\"}},\"id\":\"5417\",\"type\":\"VBar\"},{\"attributes\":{\"bottom_units\":\"screen\",\"fill_alpha\":0.5,\"fill_color\":\"lightgrey\",\"left_units\":\"screen\",\"level\":\"overlay\",\"line_alpha\":1.0,\"line_color\":\"black\",\"line_dash\":[4,4],\"line_width\":2,\"render_mode\":\"css\",\"right_units\":\"screen\",\"top_units\":\"screen\"},\"id\":\"5407\",\"type\":\"BoxAnnotation\"},{\"attributes\":{\"children\":[[{\"id\":\"5384\"},0,0],[{\"id\":\"5422\"},1,0]]},\"id\":\"5477\",\"type\":\"GridBox\"},{\"attributes\":{},\"id\":\"5466\",\"type\":\"Selection\"},{\"attributes\":{\"formatter\":{\"id\":\"5462\"},\"major_label_orientation\":0.9,\"ticker\":{\"id\":\"5395\"}},\"id\":\"5394\",\"type\":\"CategoricalAxis\"},{\"attributes\":{\"fill_color\":{\"field\":\"x\",\"transform\":{\"id\":\"5453\"}},\"line_color\":{\"value\":\"#1f77b4\"},\"top\":{\"field\":\"counts\"},\"width\":{\"value\":0.9},\"x\":{\"field\":\"x\"}},\"id\":\"5455\",\"type\":\"VBar\"},{\"attributes\":{\"data_source\":{\"id\":\"5420\"},\"glyph\":{\"id\":\"5455\"},\"hover_glyph\":null,\"muted_glyph\":null,\"nonselection_glyph\":{\"id\":\"5456\"},\"selection_glyph\":null,\"view\":{\"id\":\"5458\"}},\"id\":\"5457\",\"type\":\"GlyphRenderer\"},{\"attributes\":{\"bottom_units\":\"screen\",\"fill_alpha\":0.5,\"fill_color\":\"lightgrey\",\"left_units\":\"screen\",\"level\":\"overlay\",\"line_alpha\":1.0,\"line_color\":\"black\",\"line_dash\":[4,4],\"line_width\":2,\"render_mode\":\"css\",\"right_units\":\"screen\",\"top_units\":\"screen\"},\"id\":\"5445\",\"type\":\"BoxAnnotation\"},{\"attributes\":{\"below\":[{\"id\":\"5432\"}],\"center\":[{\"id\":\"5434\"},{\"id\":\"5438\"}],\"left\":[{\"id\":\"5435\"}],\"plot_height\":350,\"renderers\":[{\"id\":\"5457\"}],\"title\":{\"id\":\"5423\"},\"toolbar\":{\"id\":\"5446\"},\"toolbar_location\":null,\"x_range\":{\"id\":\"5421\"},\"x_scale\":{\"id\":\"5428\"},\"y_range\":{\"id\":\"5426\"},\"y_scale\":{\"id\":\"5430\"}},\"id\":\"5422\",\"subtype\":\"Figure\",\"type\":\"Plot\"},{\"attributes\":{\"toolbars\":[{\"id\":\"5408\"},{\"id\":\"5446\"}],\"tools\":[{\"id\":\"5401\"},{\"id\":\"5402\"},{\"id\":\"5403\"},{\"id\":\"5404\"},{\"id\":\"5405\"},{\"id\":\"5406\"},{\"id\":\"5439\"},{\"id\":\"5440\"},{\"id\":\"5441\"},{\"id\":\"5442\"},{\"id\":\"5443\"},{\"id\":\"5444\"}]},\"id\":\"5478\",\"type\":\"ProxyToolbar\"},{\"attributes\":{\"overlay\":{\"id\":\"5407\"}},\"id\":\"5403\",\"type\":\"BoxZoomTool\"},{\"attributes\":{},\"id\":\"5426\",\"type\":\"DataRange1d\"},{\"attributes\":{},\"id\":\"5439\",\"type\":\"PanTool\"},{\"attributes\":{\"active_drag\":\"auto\",\"active_inspect\":\"auto\",\"active_multi\":null,\"active_scroll\":\"auto\",\"active_tap\":\"auto\",\"tools\":[{\"id\":\"5439\"},{\"id\":\"5440\"},{\"id\":\"5441\"},{\"id\":\"5442\"},{\"id\":\"5443\"},{\"id\":\"5444\"}]},\"id\":\"5446\",\"type\":\"Toolbar\"},{\"attributes\":{\"text\":\"Health Stats in Canada 2000-2015, color mapped\"},\"id\":\"5423\",\"type\":\"Title\"}],\"root_ids\":[\"5480\"]},\"title\":\"Bokeh Application\",\"version\":\"2.0.2\"}};\n",
       "  var render_items = [{\"docid\":\"5ca48519-2ce1-43d8-8056-b8729b00785a\",\"root_ids\":[\"5480\"],\"roots\":{\"5480\":\"f3791bde-5e75-49e6-8e41-b1246da309de\"}}];\n",
       "  root.Bokeh.embed.embed_items_notebook(docs_json, render_items);\n",
       "\n",
       "  }\n",
       "  if (root.Bokeh !== undefined) {\n",
       "    embed_document(root);\n",
       "  } else {\n",
       "    var attempts = 0;\n",
       "    var timer = setInterval(function(root) {\n",
       "      if (root.Bokeh !== undefined) {\n",
       "        clearInterval(timer);\n",
       "        embed_document(root);\n",
       "      } else {\n",
       "        attempts++;\n",
       "        if (attempts > 100) {\n",
       "          clearInterval(timer);\n",
       "          console.log(\"Bokeh: ERROR: Unable to run BokehJS code because BokehJS library is missing\");\n",
       "        }\n",
       "      }\n",
       "    }, 10, root)\n",
       "  }\n",
       "})(window);"
      ],
      "application/vnd.bokehjs_exec.v0+json": ""
     },
     "metadata": {
      "application/vnd.bokehjs_exec.v0+json": {
       "id": "5480"
      }
     },
     "output_type": "display_data"
    }
   ],
   "source": [
    "#List of used statistics\n",
    "stats = ['measles','polio','hiv/aids*1000']\n",
    "years = ['2000','2005','2010','2015']\n",
    "\n",
    "#Creating a dictionary of our data\n",
    "mdata = {'years' : years,\n",
    "        'measles'   : data[data['country']==\"Canada\"][data['year'].isin(years)]['measles'],\n",
    "        'polio'   : data[data['country']==\"Canada\"][data['year'].isin(years)]['polio'],\n",
    "        'hiv/aids*1000'   : data[data['country']==\"Canada\"][data['year'].isin(years)]['hiv/aids']*1000}\n",
    "\n",
    "\n",
    "\n",
    "# Creating tuples for individual bars \n",
    "x = [ (year, stat) for year in years for stat in stats ]\n",
    "counts = sum(zip(mdata['measles'], mdata['polio'], mdata['hiv/aids*1000']), ()) \n",
    "\n",
    "#Creating a column data source  \n",
    "source = ColumnDataSource(data=dict(x=x, counts=counts, color=random.sample(Turbo256,12)))\n",
    "\n",
    "#Initializing our plot with random colors\n",
    "p1 = figure(x_range=FactorRange(*x), plot_height=350, title=\"Health Stats in Canada 2000-2015\")\n",
    "\n",
    "#Plotting our vertical bar chart\n",
    "p1.vbar(x='x', top='counts', width=0.9  ,fill_color='color',  source=source)\n",
    "\n",
    "#Enhancing our graph\n",
    "p1.y_range.start = 0\n",
    "p1.x_range.range_padding = 0.1\n",
    "p1.xaxis.major_label_orientation = .9\n",
    "p1.xgrid.grid_line_color = None\n",
    "\n",
    "#Creating a new column data source without set colors   \n",
    "source1 = ColumnDataSource(data=dict(x=x, counts=counts))\n",
    "\n",
    "#Initializing our plot with synchronized fill colors with factor_cmap\n",
    "p2 = figure(x_range=FactorRange(*x), plot_height=350,\n",
    "            title=\"Health Stats in Canada 2000-2015, color mapped\"\n",
    "           )\n",
    "\n",
    "p2.vbar(x='x', top='counts', width=0.9,\n",
    "        \n",
    "            source=source1,\n",
    "           fill_color=factor_cmap('x', palette=['salmon', 'green', 'navy'], factors=stats, start=1, end=2)\n",
    "\n",
    ")\n",
    "\n",
    "p2.xaxis.major_label_orientation = .7\n",
    "p=gridplot([[p1,None],[p2,None]], toolbar_location='right')\n",
    "\n",
    "show(p)"
   ]
  },
  {
   "cell_type": "markdown",
   "metadata": {},
   "source": [
    "## Adding Labels ##"
   ]
  },
  {
   "cell_type": "markdown",
   "metadata": {},
   "source": [
    "Plotting a single label in Bokeh is quite straight-forward and doesn't really require any specific technique. We just need to import the *Label* class from the bokeh.models.annotations module and its sintax is quite simple. \n",
    "One just needs to know that Bokeh uses a separate layer for plotting, another one for labeling, etc. We will use an *add_layer()* method in order to assemble our graph together. Let's look at an example and create a graph of measles in Spain in 2000-2015. "
   ]
  },
  {
   "cell_type": "code",
   "execution_count": 24,
   "metadata": {},
   "outputs": [
    {
     "data": {
      "text/html": [
       "\n",
       "\n",
       "\n",
       "\n",
       "\n",
       "\n",
       "  <div class=\"bk-root\" id=\"9eb48525-b90b-4f87-99fc-be8df02d4053\" data-root-id=\"5794\"></div>\n"
      ]
     },
     "metadata": {},
     "output_type": "display_data"
    },
    {
     "data": {
      "application/javascript": [
       "(function(root) {\n",
       "  function embed_document(root) {\n",
       "    \n",
       "  var docs_json = {\"03ae0fc4-80da-453f-8c3b-380eb650937f\":{\"roots\":{\"references\":[{\"attributes\":{\"background_fill_alpha\":0.05,\"background_fill_color\":\"green\",\"below\":[{\"id\":\"5805\"}],\"center\":[{\"id\":\"5808\"},{\"id\":\"5812\"},{\"id\":\"5837\"}],\"left\":[{\"id\":\"5809\"}],\"renderers\":[{\"id\":\"5830\"},{\"id\":\"5835\"}],\"title\":{\"id\":\"5795\"},\"toolbar\":{\"id\":\"5820\"},\"x_range\":{\"id\":\"5797\"},\"x_scale\":{\"id\":\"5801\"},\"y_range\":{\"id\":\"5799\"},\"y_scale\":{\"id\":\"5803\"}},\"id\":\"5794\",\"subtype\":\"Figure\",\"type\":\"Plot\"},{\"attributes\":{\"axis_label\":\"Measles stats\",\"formatter\":{\"id\":\"6056\"},\"ticker\":{\"id\":\"5810\"}},\"id\":\"5809\",\"type\":\"LinearAxis\"},{\"attributes\":{\"source\":{\"id\":\"5832\"}},\"id\":\"5836\",\"type\":\"CDSView\"},{\"attributes\":{\"bottom_units\":\"screen\",\"fill_alpha\":0.5,\"fill_color\":\"lightgrey\",\"left_units\":\"screen\",\"level\":\"overlay\",\"line_alpha\":1.0,\"line_color\":\"black\",\"line_dash\":[4,4],\"line_width\":2,\"render_mode\":\"css\",\"right_units\":\"screen\",\"top_units\":\"screen\"},\"id\":\"5819\",\"type\":\"BoxAnnotation\"},{\"attributes\":{\"data\":{\"x\":[2015,2014,2013,2012,2011,2010,2009,2008,2007,2006,2005,2004,2003,2002,2001,2000],\"y\":[115,154,131,1204,3802,302,41,297,267,362,22,26,256,67,0,152]},\"selected\":{\"id\":\"6062\"},\"selection_policy\":{\"id\":\"6061\"}},\"id\":\"5827\",\"type\":\"ColumnDataSource\"},{\"attributes\":{\"axis\":{\"id\":\"5805\"},\"grid_line_color\":\"gray\",\"grid_line_dash\":[6],\"ticker\":null},\"id\":\"5808\",\"type\":\"Grid\"},{\"attributes\":{},\"id\":\"5801\",\"type\":\"LinearScale\"},{\"attributes\":{},\"id\":\"5818\",\"type\":\"HelpTool\"},{\"attributes\":{},\"id\":\"5816\",\"type\":\"SaveTool\"},{\"attributes\":{\"text\":\"2011 Outbreak\",\"text_baseline\":\"top\",\"x\":2011,\"x_offset\":10,\"y\":3802},\"id\":\"5837\",\"type\":\"Label\"},{\"attributes\":{},\"id\":\"5817\",\"type\":\"ResetTool\"},{\"attributes\":{\"line_alpha\":0.1,\"line_color\":\"navy\",\"line_width\":3,\"x\":{\"field\":\"x\"},\"y\":{\"field\":\"y\"}},\"id\":\"5829\",\"type\":\"Line\"},{\"attributes\":{},\"id\":\"5803\",\"type\":\"LinearScale\"},{\"attributes\":{\"overlay\":{\"id\":\"5819\"}},\"id\":\"5815\",\"type\":\"BoxZoomTool\"},{\"attributes\":{\"data_source\":{\"id\":\"5832\"},\"glyph\":{\"id\":\"5833\"},\"hover_glyph\":null,\"muted_glyph\":null,\"nonselection_glyph\":{\"id\":\"5834\"},\"selection_glyph\":null,\"view\":{\"id\":\"5836\"}},\"id\":\"5835\",\"type\":\"GlyphRenderer\"},{\"attributes\":{},\"id\":\"5810\",\"type\":\"BasicTicker\"},{\"attributes\":{},\"id\":\"6062\",\"type\":\"Selection\"},{\"attributes\":{\"axis_label\":\"Year\",\"formatter\":{\"id\":\"6058\"},\"ticker\":{\"id\":\"5806\"}},\"id\":\"5805\",\"type\":\"LinearAxis\"},{\"attributes\":{},\"id\":\"6056\",\"type\":\"BasicTickFormatter\"},{\"attributes\":{},\"id\":\"5806\",\"type\":\"BasicTicker\"},{\"attributes\":{\"fill_alpha\":{\"value\":0.1},\"fill_color\":{\"value\":\"yellow\"},\"line_alpha\":{\"value\":0.1},\"line_color\":{\"value\":\"salmon\"},\"radius\":{\"units\":\"data\",\"value\":0.2},\"x\":{\"field\":\"x\"},\"y\":{\"field\":\"y\"}},\"id\":\"5834\",\"type\":\"Circle\"},{\"attributes\":{\"end\":2015,\"start\":2000},\"id\":\"5797\",\"type\":\"Range1d\"},{\"attributes\":{\"axis\":{\"id\":\"5809\"},\"dimension\":1,\"grid_line_color\":\"gray\",\"grid_line_dash\":[2,4],\"ticker\":null},\"id\":\"5812\",\"type\":\"Grid\"},{\"attributes\":{\"data_source\":{\"id\":\"5827\"},\"glyph\":{\"id\":\"5828\"},\"hover_glyph\":null,\"muted_glyph\":null,\"nonselection_glyph\":{\"id\":\"5829\"},\"selection_glyph\":null,\"view\":{\"id\":\"5831\"}},\"id\":\"5830\",\"type\":\"GlyphRenderer\"},{\"attributes\":{\"active_drag\":\"auto\",\"active_inspect\":\"auto\",\"active_multi\":null,\"active_scroll\":\"auto\",\"active_tap\":\"auto\",\"tools\":[{\"id\":\"5813\"},{\"id\":\"5814\"},{\"id\":\"5815\"},{\"id\":\"5816\"},{\"id\":\"5817\"},{\"id\":\"5818\"}]},\"id\":\"5820\",\"type\":\"Toolbar\"},{\"attributes\":{},\"id\":\"5813\",\"type\":\"PanTool\"},{\"attributes\":{},\"id\":\"6064\",\"type\":\"Selection\"},{\"attributes\":{},\"id\":\"6063\",\"type\":\"UnionRenderers\"},{\"attributes\":{},\"id\":\"5799\",\"type\":\"DataRange1d\"},{\"attributes\":{},\"id\":\"6058\",\"type\":\"BasicTickFormatter\"},{\"attributes\":{\"line_color\":\"navy\",\"line_width\":3,\"x\":{\"field\":\"x\"},\"y\":{\"field\":\"y\"}},\"id\":\"5828\",\"type\":\"Line\"},{\"attributes\":{},\"id\":\"6061\",\"type\":\"UnionRenderers\"},{\"attributes\":{\"fill_color\":{\"value\":\"yellow\"},\"line_color\":{\"value\":\"salmon\"},\"radius\":{\"units\":\"data\",\"value\":0.2},\"x\":{\"field\":\"x\"},\"y\":{\"field\":\"y\"}},\"id\":\"5833\",\"type\":\"Circle\"},{\"attributes\":{},\"id\":\"5814\",\"type\":\"WheelZoomTool\"},{\"attributes\":{\"text\":\"Measles in Spain 2000-2015\"},\"id\":\"5795\",\"type\":\"Title\"},{\"attributes\":{\"source\":{\"id\":\"5827\"}},\"id\":\"5831\",\"type\":\"CDSView\"},{\"attributes\":{\"data\":{\"x\":[2015,2014,2013,2012,2011,2010,2009,2008,2007,2006,2005,2004,2003,2002,2001,2000],\"y\":[115,154,131,1204,3802,302,41,297,267,362,22,26,256,67,0,152]},\"selected\":{\"id\":\"6064\"},\"selection_policy\":{\"id\":\"6063\"}},\"id\":\"5832\",\"type\":\"ColumnDataSource\"}],\"root_ids\":[\"5794\"]},\"title\":\"Bokeh Application\",\"version\":\"2.0.2\"}};\n",
       "  var render_items = [{\"docid\":\"03ae0fc4-80da-453f-8c3b-380eb650937f\",\"root_ids\":[\"5794\"],\"roots\":{\"5794\":\"9eb48525-b90b-4f87-99fc-be8df02d4053\"}}];\n",
       "  root.Bokeh.embed.embed_items_notebook(docs_json, render_items);\n",
       "\n",
       "  }\n",
       "  if (root.Bokeh !== undefined) {\n",
       "    embed_document(root);\n",
       "  } else {\n",
       "    var attempts = 0;\n",
       "    var timer = setInterval(function(root) {\n",
       "      if (root.Bokeh !== undefined) {\n",
       "        clearInterval(timer);\n",
       "        embed_document(root);\n",
       "      } else {\n",
       "        attempts++;\n",
       "        if (attempts > 100) {\n",
       "          clearInterval(timer);\n",
       "          console.log(\"Bokeh: ERROR: Unable to run BokehJS code because BokehJS library is missing\");\n",
       "        }\n",
       "      }\n",
       "    }, 10, root)\n",
       "  }\n",
       "})(window);"
      ],
      "application/vnd.bokehjs_exec.v0+json": ""
     },
     "metadata": {
      "application/vnd.bokehjs_exec.v0+json": {
       "id": "5794"
      }
     },
     "output_type": "display_data"
    }
   ],
   "source": [
    "#Initializing our plot\n",
    "p = figure(x_range=(2000,2015), title='Measles in Spain 2000-2015')\n",
    "\n",
    "#Plotting a line\n",
    "p.line(data[data['country']=='Spain']['year'],\n",
    "      data[data['country']=='Spain']['measles'],\n",
    "       line_color='navy',\n",
    "      line_width=3)\n",
    "\n",
    "#Plotting data points as cirles\n",
    "p.circle(data[data['country']=='Spain']['year'],\n",
    "      data[data['country']=='Spain']['measles'],\n",
    "        radius=.2,\n",
    "        fill_color='yellow',\n",
    "        line_color='salmon')\n",
    "\n",
    "#Instance of Label class as our 2011 Measles Outbreak label\n",
    "label = Label(x=2011, \n",
    "              y=max(data[data['country']=='Spain']['measles']),\n",
    "              x_offset=10, \n",
    "              text=\"2011 Outbreak\",\n",
    "              text_baseline=\"top\")\n",
    "\n",
    "#Adding a layout with our label to the graph\n",
    "p.add_layout(label)\n",
    "\n",
    "#Styling the graph\n",
    "p.xaxis.axis_label = 'Year'\n",
    "p.yaxis.axis_label = 'Measles stats'\n",
    "p.xgrid.grid_line_dash = 'dashed'\n",
    "p.xgrid.grid_line_color ='gray'\n",
    "p.ygrid.grid_line_dash ='dotted'\n",
    "p.ygrid.grid_line_color = 'gray'\n",
    "p.background_fill_color='green'\n",
    "p.background_fill_alpha=.05\n",
    "\n",
    "show(p)"
   ]
  },
  {
   "cell_type": "markdown",
   "metadata": {},
   "source": [
    "Adding a single \"custom\" label is really quite simple. The beauty of Bokeh is that adding a whole set of labels is hardly a tad more difficult. Let's look at the example of polio in India in 2000-2015 and try adding values to every datapoint. We will simply need to use an instance of *ColumnDataSource* for that and import from the bokeh.models module the *LabelSet* class."
   ]
  },
  {
   "cell_type": "code",
   "execution_count": 25,
   "metadata": {},
   "outputs": [
    {
     "data": {
      "text/html": [
       "\n",
       "\n",
       "\n",
       "\n",
       "\n",
       "\n",
       "  <div class=\"bk-root\" id=\"48ed1045-bb1f-4609-9fc4-21a5d374b084\" data-root-id=\"6126\"></div>\n"
      ]
     },
     "metadata": {},
     "output_type": "display_data"
    },
    {
     "data": {
      "application/javascript": [
       "(function(root) {\n",
       "  function embed_document(root) {\n",
       "    \n",
       "  var docs_json = {\"4ce21f21-96ec-4e04-b765-cceed6b25310\":{\"roots\":{\"references\":[{\"attributes\":{\"background_fill_alpha\":0.05,\"background_fill_color\":\"salmon\",\"below\":[{\"id\":\"6137\"}],\"center\":[{\"id\":\"6140\"},{\"id\":\"6144\"},{\"id\":\"6174\"}],\"left\":[{\"id\":\"6141\"}],\"renderers\":[{\"id\":\"6162\"},{\"id\":\"6167\"},{\"id\":\"6172\"}],\"title\":{\"id\":\"6127\"},\"toolbar\":{\"id\":\"6152\"},\"x_range\":{\"id\":\"6129\"},\"x_scale\":{\"id\":\"6133\"},\"y_range\":{\"id\":\"6131\"},\"y_scale\":{\"id\":\"6135\"}},\"id\":\"6126\",\"subtype\":\"Figure\",\"type\":\"Plot\"},{\"attributes\":{\"active_drag\":\"auto\",\"active_inspect\":\"auto\",\"active_multi\":null,\"active_scroll\":\"auto\",\"active_tap\":\"auto\",\"tools\":[{\"id\":\"6145\"},{\"id\":\"6146\"},{\"id\":\"6147\"},{\"id\":\"6148\"},{\"id\":\"6149\"},{\"id\":\"6150\"}]},\"id\":\"6152\",\"type\":\"Toolbar\"},{\"attributes\":{\"source\":{\"id\":\"6125\"}},\"id\":\"6168\",\"type\":\"CDSView\"},{\"attributes\":{\"level\":\"glyph\",\"source\":{\"id\":\"6125\"},\"text\":{\"field\":\"labels\"},\"x\":{\"field\":\"x\"},\"x_offset\":{\"value\":-10},\"y\":{\"field\":\"y\"},\"y_offset\":{\"value\":15}},\"id\":\"6174\",\"type\":\"LabelSet\"},{\"attributes\":{\"source\":{\"id\":\"6125\"}},\"id\":\"6163\",\"type\":\"CDSView\"},{\"attributes\":{\"fill_alpha\":{\"value\":0.1},\"fill_color\":{\"value\":\"yellow\"},\"line_alpha\":{\"value\":0.1},\"line_color\":{\"value\":\"red\"},\"line_width\":{\"value\":2},\"radius\":{\"units\":\"data\",\"value\":0.2},\"x\":{\"field\":\"x\"},\"y\":{\"field\":\"y\"}},\"id\":\"6171\",\"type\":\"Circle\"},{\"attributes\":{\"axis\":{\"id\":\"6137\"},\"grid_line_color\":\"gray\",\"grid_line_dash\":[6],\"ticker\":null},\"id\":\"6140\",\"type\":\"Grid\"},{\"attributes\":{\"text\":\"Polio in India 2000-2015\"},\"id\":\"6127\",\"type\":\"Title\"},{\"attributes\":{\"data_source\":{\"id\":\"6125\"},\"glyph\":{\"id\":\"6160\"},\"hover_glyph\":null,\"muted_glyph\":null,\"nonselection_glyph\":{\"id\":\"6161\"},\"selection_glyph\":null,\"view\":{\"id\":\"6163\"}},\"id\":\"6162\",\"type\":\"GlyphRenderer\"},{\"attributes\":{\"end\":2016,\"start\":1999},\"id\":\"6129\",\"type\":\"Range1d\"},{\"attributes\":{},\"id\":\"6145\",\"type\":\"PanTool\"},{\"attributes\":{\"fill_color\":{\"value\":\"yellow\"},\"line_color\":{\"value\":\"red\"},\"line_width\":{\"value\":2},\"radius\":{\"units\":\"data\",\"value\":0.2},\"x\":{\"field\":\"x\"},\"y\":{\"field\":\"y\"}},\"id\":\"6170\",\"type\":\"Circle\"},{\"attributes\":{},\"id\":\"6148\",\"type\":\"SaveTool\"},{\"attributes\":{\"line_alpha\":0.1,\"line_color\":\"red\",\"line_width\":4,\"x\":{\"field\":\"x\"},\"y\":{\"field\":\"y\"}},\"id\":\"6166\",\"type\":\"Line\"},{\"attributes\":{},\"id\":\"6410\",\"type\":\"Selection\"},{\"attributes\":{\"data_source\":{\"id\":\"6125\"},\"glyph\":{\"id\":\"6165\"},\"hover_glyph\":null,\"muted_glyph\":null,\"nonselection_glyph\":{\"id\":\"6166\"},\"selection_glyph\":null,\"view\":{\"id\":\"6168\"}},\"id\":\"6167\",\"type\":\"GlyphRenderer\"},{\"attributes\":{},\"id\":\"6133\",\"type\":\"LinearScale\"},{\"attributes\":{\"axis\":{\"id\":\"6141\"},\"dimension\":1,\"grid_line_color\":\"gray\",\"grid_line_dash\":[2,4],\"ticker\":null},\"id\":\"6144\",\"type\":\"Grid\"},{\"attributes\":{\"overlay\":{\"id\":\"6151\"}},\"id\":\"6147\",\"type\":\"BoxZoomTool\"},{\"attributes\":{\"end\":90,\"start\":50},\"id\":\"6131\",\"type\":\"Range1d\"},{\"attributes\":{},\"id\":\"6142\",\"type\":\"BasicTicker\"},{\"attributes\":{},\"id\":\"6146\",\"type\":\"WheelZoomTool\"},{\"attributes\":{},\"id\":\"6138\",\"type\":\"BasicTicker\"},{\"attributes\":{},\"id\":\"6150\",\"type\":\"HelpTool\"},{\"attributes\":{},\"id\":\"6404\",\"type\":\"BasicTickFormatter\"},{\"attributes\":{},\"id\":\"6135\",\"type\":\"LinearScale\"},{\"attributes\":{\"data_source\":{\"id\":\"6125\"},\"glyph\":{\"id\":\"6170\"},\"hover_glyph\":null,\"muted_glyph\":null,\"nonselection_glyph\":{\"id\":\"6171\"},\"selection_glyph\":null,\"view\":{\"id\":\"6173\"}},\"id\":\"6172\",\"type\":\"GlyphRenderer\"},{\"attributes\":{\"line_alpha\":0.5,\"line_color\":\"red\",\"line_width\":4,\"x\":{\"field\":\"x\"},\"y\":{\"field\":\"y\"}},\"id\":\"6165\",\"type\":\"Line\"},{\"attributes\":{},\"id\":\"6149\",\"type\":\"ResetTool\"},{\"attributes\":{},\"id\":\"6409\",\"type\":\"UnionRenderers\"},{\"attributes\":{\"source\":{\"id\":\"6125\"}},\"id\":\"6173\",\"type\":\"CDSView\"},{\"attributes\":{\"bottom_units\":\"screen\",\"fill_alpha\":0.5,\"fill_color\":\"lightgrey\",\"left_units\":\"screen\",\"level\":\"overlay\",\"line_alpha\":1.0,\"line_color\":\"black\",\"line_dash\":[4,4],\"line_width\":2,\"render_mode\":\"css\",\"right_units\":\"screen\",\"top_units\":\"screen\"},\"id\":\"6151\",\"type\":\"BoxAnnotation\"},{\"attributes\":{\"data\":{\"labels\":{\"__ndarray__\":\"AAAAAACAVUAAAAAAAABVQAAAAAAAgFRAAAAAAADAU0AAAAAAAMBTQAAAAAAAAFNAAAAAAABAUkAAAAAAAEBRQAAAAAAAwFBAAAAAAACAUEAAAAAAAEBQQAAAAAAAAE1AAAAAAACATEAAAAAAAABNQAAAAAAAAE1AAAAAAACATEA=\",\"dtype\":\"float64\",\"shape\":[16]},\"x\":[2015,2014,2013,2012,2011,2010,2009,2008,2007,2006,2005,2004,2003,2002,2001,2000],\"y\":{\"__ndarray__\":\"AAAAAACAVUAAAAAAAABVQAAAAAAAgFRAAAAAAADAU0AAAAAAAMBTQAAAAAAAAFNAAAAAAABAUkAAAAAAAEBRQAAAAAAAwFBAAAAAAACAUEAAAAAAAEBQQAAAAAAAAE1AAAAAAACATEAAAAAAAABNQAAAAAAAAE1AAAAAAACATEA=\",\"dtype\":\"float64\",\"shape\":[16]}},\"selected\":{\"id\":\"6410\"},\"selection_policy\":{\"id\":\"6409\"}},\"id\":\"6125\",\"type\":\"ColumnDataSource\"},{\"attributes\":{\"fill_alpha\":{\"value\":0.1},\"fill_color\":{\"value\":\"azure\"},\"line_alpha\":{\"value\":0.1},\"line_color\":{\"value\":\"navy\"},\"line_dash\":[2,4],\"line_width\":{\"value\":2},\"top\":{\"field\":\"y\"},\"width\":{\"value\":0.8},\"x\":{\"field\":\"x\"}},\"id\":\"6161\",\"type\":\"VBar\"},{\"attributes\":{\"axis_label\":\"Measles stats\",\"formatter\":{\"id\":\"6404\"},\"ticker\":{\"id\":\"6142\"}},\"id\":\"6141\",\"type\":\"LinearAxis\"},{\"attributes\":{\"axis_label\":\"Year\",\"formatter\":{\"id\":\"6406\"},\"ticker\":{\"id\":\"6138\"}},\"id\":\"6137\",\"type\":\"LinearAxis\"},{\"attributes\":{\"fill_color\":{\"value\":\"azure\"},\"line_alpha\":{\"value\":0.25},\"line_color\":{\"value\":\"navy\"},\"line_dash\":[2,4],\"line_width\":{\"value\":2},\"top\":{\"field\":\"y\"},\"width\":{\"value\":0.8},\"x\":{\"field\":\"x\"}},\"id\":\"6160\",\"type\":\"VBar\"},{\"attributes\":{},\"id\":\"6406\",\"type\":\"BasicTickFormatter\"}],\"root_ids\":[\"6126\"]},\"title\":\"Bokeh Application\",\"version\":\"2.0.2\"}};\n",
       "  var render_items = [{\"docid\":\"4ce21f21-96ec-4e04-b765-cceed6b25310\",\"root_ids\":[\"6126\"],\"roots\":{\"6126\":\"48ed1045-bb1f-4609-9fc4-21a5d374b084\"}}];\n",
       "  root.Bokeh.embed.embed_items_notebook(docs_json, render_items);\n",
       "\n",
       "  }\n",
       "  if (root.Bokeh !== undefined) {\n",
       "    embed_document(root);\n",
       "  } else {\n",
       "    var attempts = 0;\n",
       "    var timer = setInterval(function(root) {\n",
       "      if (root.Bokeh !== undefined) {\n",
       "        clearInterval(timer);\n",
       "        embed_document(root);\n",
       "      } else {\n",
       "        attempts++;\n",
       "        if (attempts > 100) {\n",
       "          clearInterval(timer);\n",
       "          console.log(\"Bokeh: ERROR: Unable to run BokehJS code because BokehJS library is missing\");\n",
       "        }\n",
       "      }\n",
       "    }, 10, root)\n",
       "  }\n",
       "})(window);"
      ],
      "application/vnd.bokehjs_exec.v0+json": ""
     },
     "metadata": {
      "application/vnd.bokehjs_exec.v0+json": {
       "id": "6126"
      }
     },
     "output_type": "display_data"
    }
   ],
   "source": [
    "#Instance of ColumnDataSource\n",
    "source = ColumnDataSource(data=dict(\n",
    "    x=data[data['country']=='India']['year'],\n",
    "    y=data[data['country']=='India']['polio'],\n",
    "    labels=data[data['country']=='India']['polio'].values))\n",
    "\n",
    "#Initializing our plot\n",
    "p = figure(x_range=(1999,2016),\n",
    "           y_range=(50,90),\n",
    "           title='Polio in India 2000-2015')\n",
    "\n",
    "\n",
    "#Plotting data points as vertical bars\n",
    "p.vbar(x = 'x',\n",
    "         top = 'y',\n",
    "       width = .8,\n",
    "        fill_color='azure', fill_alpha = 1,\n",
    "        line_color='navy', line_alpha=.25,\n",
    "         line_width=2, line_dash='dotted',\n",
    "        source=source)\n",
    "\n",
    "#Plotting a line\n",
    "p.line(x = 'x',\n",
    "       y = 'y',\n",
    "       line_color='red',line_width=4,\n",
    "       line_alpha=.5,\n",
    "      source=source)\n",
    "\n",
    "#Plotting data points as circles\n",
    "p.circle(x='x',y='y', \n",
    "         radius=.2, \n",
    "         fill_color='yellow', line_color='red', line_width=2,\n",
    "         source=source)\n",
    "\n",
    "#Instance of the LabelSet class\n",
    "labels = LabelSet(x='x',                   #positions of labeled datapoints\n",
    "                  y='y', \n",
    "                  text='labels',          #labels' text\n",
    "                  level='glyph',          #labeling level\n",
    "                 x_offset=-10, y_offset=15, #move from datapoints\n",
    "                  source=source, \n",
    "                  render_mode='canvas',\n",
    "                 text_baseline='bottom'   #relative position to datapoints\n",
    "                 )\n",
    "\n",
    "p.add_layout(labels)\n",
    "\n",
    "p.xaxis.axis_label = 'Year'\n",
    "p.yaxis.axis_label = 'Measles stats'\n",
    "p.xgrid.grid_line_dash = 'dashed'\n",
    "p.xgrid.grid_line_color ='gray'\n",
    "p.ygrid.grid_line_dash ='dotted'\n",
    "p.ygrid.grid_line_color = 'gray'\n",
    "p.background_fill_color='salmon'\n",
    "p.background_fill_alpha=.05\n",
    "\n",
    "show(p)"
   ]
  },
  {
   "cell_type": "code",
   "execution_count": null,
   "metadata": {},
   "outputs": [],
   "source": []
  },
  {
   "cell_type": "markdown",
   "metadata": {},
   "source": [
    "## Interactive techniques ##"
   ]
  },
  {
   "cell_type": "markdown",
   "metadata": {},
   "source": [
    "### Linking ###"
   ]
  },
  {
   "cell_type": "markdown",
   "metadata": {},
   "source": [
    "Bokeh provides with an easy technique to link two and more visualizations. One of the best examples is to link the ranges on two graphs. Let's try plotting a measles' rates comparison for Poland and Ukraine, for example. We well use the linked panning and graph columns (a particular case for gridplot) techniques for that. "
   ]
  },
  {
   "cell_type": "code",
   "execution_count": 12,
   "metadata": {},
   "outputs": [
    {
     "data": {
      "text/html": [
       "\n",
       "\n",
       "\n",
       "\n",
       "\n",
       "\n",
       "  <div class=\"bk-root\" id=\"9552e315-19ed-4f5f-afb9-1b18ca6cc064\" data-root-id=\"2388\"></div>\n"
      ]
     },
     "metadata": {},
     "output_type": "display_data"
    },
    {
     "data": {
      "application/javascript": [
       "(function(root) {\n",
       "  function embed_document(root) {\n",
       "    \n",
       "  var docs_json = {\"56507b70-3764-4b51-b090-3232c3f5c067\":{\"roots\":{\"references\":[{\"attributes\":{\"children\":[{\"id\":\"2307\"},{\"id\":\"2348\"}]},\"id\":\"2388\",\"type\":\"Column\"},{\"attributes\":{},\"id\":\"2329\",\"type\":\"ResetTool\"},{\"attributes\":{\"bottom_units\":\"screen\",\"fill_alpha\":0.5,\"fill_color\":\"lightgrey\",\"left_units\":\"screen\",\"level\":\"overlay\",\"line_alpha\":1.0,\"line_color\":\"black\",\"line_dash\":[4,4],\"line_width\":2,\"render_mode\":\"css\",\"right_units\":\"screen\",\"top_units\":\"screen\"},\"id\":\"2371\",\"type\":\"BoxAnnotation\"},{\"attributes\":{\"below\":[{\"id\":\"2318\"}],\"center\":[{\"id\":\"2321\"},{\"id\":\"2325\"}],\"left\":[{\"id\":\"2322\"}],\"plot_height\":250,\"plot_width\":500,\"renderers\":[{\"id\":\"2341\"},{\"id\":\"2346\"}],\"title\":{\"id\":\"2308\"},\"toolbar\":{\"id\":\"2332\"},\"x_range\":{\"id\":\"2310\"},\"x_scale\":{\"id\":\"2314\"},\"y_range\":{\"id\":\"2312\"},\"y_scale\":{\"id\":\"2316\"}},\"id\":\"2307\",\"subtype\":\"Figure\",\"type\":\"Plot\"},{\"attributes\":{},\"id\":\"2326\",\"type\":\"PanTool\"},{\"attributes\":{\"overlay\":{\"id\":\"2331\"}},\"id\":\"2328\",\"type\":\"BoxZoomTool\"},{\"attributes\":{\"source\":{\"id\":\"2338\"}},\"id\":\"2342\",\"type\":\"CDSView\"},{\"attributes\":{\"fill_color\":{\"value\":\"azure\"},\"line_color\":{\"value\":\"#1f77b4\"},\"size\":{\"units\":\"screen\",\"value\":10},\"x\":{\"field\":\"x\"},\"y\":{\"field\":\"y\"}},\"id\":\"2344\",\"type\":\"Circle\"},{\"attributes\":{},\"id\":\"2310\",\"type\":\"DataRange1d\"},{\"attributes\":{},\"id\":\"2330\",\"type\":\"SaveTool\"},{\"attributes\":{\"fill_color\":{\"value\":\"salmon\"},\"line_color\":{\"value\":\"#1f77b4\"},\"size\":{\"units\":\"screen\",\"value\":10},\"x\":{\"field\":\"x\"},\"y\":{\"field\":\"y\"}},\"id\":\"2384\",\"type\":\"Circle\"},{\"attributes\":{},\"id\":\"2489\",\"type\":\"Selection\"},{\"attributes\":{\"source\":{\"id\":\"2378\"}},\"id\":\"2382\",\"type\":\"CDSView\"},{\"attributes\":{\"source\":{\"id\":\"2343\"}},\"id\":\"2347\",\"type\":\"CDSView\"},{\"attributes\":{\"line_alpha\":0.1,\"line_color\":\"red\",\"x\":{\"field\":\"x\"},\"y\":{\"field\":\"y\"}},\"id\":\"2380\",\"type\":\"Line\"},{\"attributes\":{\"data\":{\"x\":[2015,2014,2013,2012,2011,2010,2009,2008,2007,2006,2005,2004,2003,2002,2001,2000],\"y\":[105,0,0,12746,1333,39,0,48,1005,42724,2392,146,411,7587,16970,817]},\"selected\":{\"id\":\"2489\"},\"selection_policy\":{\"id\":\"2488\"}},\"id\":\"2378\",\"type\":\"ColumnDataSource\"},{\"attributes\":{\"source\":{\"id\":\"2383\"}},\"id\":\"2387\",\"type\":\"CDSView\"},{\"attributes\":{\"active_drag\":\"auto\",\"active_inspect\":\"auto\",\"active_multi\":null,\"active_scroll\":\"auto\",\"active_tap\":\"auto\",\"tools\":[{\"id\":\"2326\"},{\"id\":\"2327\"},{\"id\":\"2328\"},{\"id\":\"2329\"},{\"id\":\"2330\"}]},\"id\":\"2332\",\"type\":\"Toolbar\"},{\"attributes\":{\"data\":{\"x\":[2015,2014,2013,2012,2011,2010,2009,2008,2007,2006,2005,2004,2003,2002,2001,2000],\"y\":[0,0,84,71,0,13,115,0,40,120,13,11,48,34,133,77]},\"selected\":{\"id\":\"2484\"},\"selection_policy\":{\"id\":\"2483\"}},\"id\":\"2338\",\"type\":\"ColumnDataSource\"},{\"attributes\":{},\"id\":\"2367\",\"type\":\"WheelZoomTool\"},{\"attributes\":{\"line_color\":\"navy\",\"x\":{\"field\":\"x\"},\"y\":{\"field\":\"y\"}},\"id\":\"2339\",\"type\":\"Line\"},{\"attributes\":{\"formatter\":{\"id\":\"2478\"},\"ticker\":{\"id\":\"2363\"}},\"id\":\"2362\",\"type\":\"LinearAxis\"},{\"attributes\":{},\"id\":\"2476\",\"type\":\"BasicTickFormatter\"},{\"attributes\":{\"line_alpha\":0.1,\"line_color\":\"navy\",\"x\":{\"field\":\"x\"},\"y\":{\"field\":\"y\"}},\"id\":\"2340\",\"type\":\"Line\"},{\"attributes\":{},\"id\":\"2480\",\"type\":\"BasicTickFormatter\"},{\"attributes\":{\"axis\":{\"id\":\"2362\"},\"dimension\":1,\"ticker\":null},\"id\":\"2365\",\"type\":\"Grid\"},{\"attributes\":{\"data_source\":{\"id\":\"2383\"},\"glyph\":{\"id\":\"2384\"},\"hover_glyph\":null,\"muted_glyph\":null,\"nonselection_glyph\":{\"id\":\"2385\"},\"selection_glyph\":null,\"view\":{\"id\":\"2387\"}},\"id\":\"2386\",\"type\":\"GlyphRenderer\"},{\"attributes\":{},\"id\":\"2366\",\"type\":\"PanTool\"},{\"attributes\":{\"data_source\":{\"id\":\"2378\"},\"glyph\":{\"id\":\"2379\"},\"hover_glyph\":null,\"muted_glyph\":null,\"nonselection_glyph\":{\"id\":\"2380\"},\"selection_glyph\":null,\"view\":{\"id\":\"2382\"}},\"id\":\"2381\",\"type\":\"GlyphRenderer\"},{\"attributes\":{},\"id\":\"2314\",\"type\":\"LinearScale\"},{\"attributes\":{\"axis\":{\"id\":\"2358\"},\"ticker\":null},\"id\":\"2361\",\"type\":\"Grid\"},{\"attributes\":{\"formatter\":{\"id\":\"2480\"},\"ticker\":{\"id\":\"2359\"}},\"id\":\"2358\",\"type\":\"LinearAxis\"},{\"attributes\":{\"text\":\"Measles in Ukraine 2000-2015\"},\"id\":\"2349\",\"type\":\"Title\"},{\"attributes\":{\"overlay\":{\"id\":\"2371\"}},\"id\":\"2368\",\"type\":\"BoxZoomTool\"},{\"attributes\":{\"data_source\":{\"id\":\"2338\"},\"glyph\":{\"id\":\"2339\"},\"hover_glyph\":null,\"muted_glyph\":null,\"nonselection_glyph\":{\"id\":\"2340\"},\"selection_glyph\":null,\"view\":{\"id\":\"2342\"}},\"id\":\"2341\",\"type\":\"GlyphRenderer\"},{\"attributes\":{},\"id\":\"2352\",\"type\":\"DataRange1d\"},{\"attributes\":{\"below\":[{\"id\":\"2358\"}],\"center\":[{\"id\":\"2361\"},{\"id\":\"2365\"}],\"left\":[{\"id\":\"2362\"}],\"plot_height\":250,\"plot_width\":500,\"renderers\":[{\"id\":\"2381\"},{\"id\":\"2386\"}],\"title\":{\"id\":\"2349\"},\"toolbar\":{\"id\":\"2372\"},\"x_range\":{\"id\":\"2310\"},\"x_scale\":{\"id\":\"2354\"},\"y_range\":{\"id\":\"2352\"},\"y_scale\":{\"id\":\"2356\"}},\"id\":\"2348\",\"subtype\":\"Figure\",\"type\":\"Plot\"},{\"attributes\":{},\"id\":\"2356\",\"type\":\"LinearScale\"},{\"attributes\":{},\"id\":\"2369\",\"type\":\"ResetTool\"},{\"attributes\":{\"fill_alpha\":{\"value\":0.1},\"fill_color\":{\"value\":\"salmon\"},\"line_alpha\":{\"value\":0.1},\"line_color\":{\"value\":\"#1f77b4\"},\"size\":{\"units\":\"screen\",\"value\":10},\"x\":{\"field\":\"x\"},\"y\":{\"field\":\"y\"}},\"id\":\"2385\",\"type\":\"Circle\"},{\"attributes\":{},\"id\":\"2316\",\"type\":\"LinearScale\"},{\"attributes\":{\"text\":\"Measles in Poland 2000-2015\"},\"id\":\"2308\",\"type\":\"Title\"},{\"attributes\":{\"active_drag\":\"auto\",\"active_inspect\":\"auto\",\"active_multi\":null,\"active_scroll\":\"auto\",\"active_tap\":\"auto\",\"tools\":[{\"id\":\"2366\"},{\"id\":\"2367\"},{\"id\":\"2368\"},{\"id\":\"2369\"},{\"id\":\"2370\"}]},\"id\":\"2372\",\"type\":\"Toolbar\"},{\"attributes\":{},\"id\":\"2474\",\"type\":\"BasicTickFormatter\"},{\"attributes\":{\"data\":{\"x\":[2015,2014,2013,2012,2011,2010,2009,2008,2007,2006,2005,2004,2003,2002,2001,2000],\"y\":[105,0,0,12746,1333,39,0,48,1005,42724,2392,146,411,7587,16970,817]},\"selected\":{\"id\":\"2491\"},\"selection_policy\":{\"id\":\"2490\"}},\"id\":\"2383\",\"type\":\"ColumnDataSource\"},{\"attributes\":{},\"id\":\"2484\",\"type\":\"Selection\"},{\"attributes\":{},\"id\":\"2312\",\"type\":\"DataRange1d\"},{\"attributes\":{\"formatter\":{\"id\":\"2476\"},\"ticker\":{\"id\":\"2319\"}},\"id\":\"2318\",\"type\":\"LinearAxis\"},{\"attributes\":{},\"id\":\"2354\",\"type\":\"LinearScale\"},{\"attributes\":{},\"id\":\"2319\",\"type\":\"BasicTicker\"},{\"attributes\":{},\"id\":\"2327\",\"type\":\"WheelZoomTool\"},{\"attributes\":{},\"id\":\"2483\",\"type\":\"UnionRenderers\"},{\"attributes\":{},\"id\":\"2491\",\"type\":\"Selection\"},{\"attributes\":{},\"id\":\"2323\",\"type\":\"BasicTicker\"},{\"attributes\":{},\"id\":\"2478\",\"type\":\"BasicTickFormatter\"},{\"attributes\":{},\"id\":\"2363\",\"type\":\"BasicTicker\"},{\"attributes\":{\"bottom_units\":\"screen\",\"fill_alpha\":0.5,\"fill_color\":\"lightgrey\",\"left_units\":\"screen\",\"level\":\"overlay\",\"line_alpha\":1.0,\"line_color\":\"black\",\"line_dash\":[4,4],\"line_width\":2,\"render_mode\":\"css\",\"right_units\":\"screen\",\"top_units\":\"screen\"},\"id\":\"2331\",\"type\":\"BoxAnnotation\"},{\"attributes\":{\"axis\":{\"id\":\"2318\"},\"ticker\":null},\"id\":\"2321\",\"type\":\"Grid\"},{\"attributes\":{},\"id\":\"2359\",\"type\":\"BasicTicker\"},{\"attributes\":{\"line_color\":\"red\",\"x\":{\"field\":\"x\"},\"y\":{\"field\":\"y\"}},\"id\":\"2379\",\"type\":\"Line\"},{\"attributes\":{},\"id\":\"2485\",\"type\":\"UnionRenderers\"},{\"attributes\":{\"axis\":{\"id\":\"2322\"},\"dimension\":1,\"ticker\":null},\"id\":\"2325\",\"type\":\"Grid\"},{\"attributes\":{\"fill_alpha\":{\"value\":0.1},\"fill_color\":{\"value\":\"azure\"},\"line_alpha\":{\"value\":0.1},\"line_color\":{\"value\":\"#1f77b4\"},\"size\":{\"units\":\"screen\",\"value\":10},\"x\":{\"field\":\"x\"},\"y\":{\"field\":\"y\"}},\"id\":\"2345\",\"type\":\"Circle\"},{\"attributes\":{},\"id\":\"2486\",\"type\":\"Selection\"},{\"attributes\":{\"formatter\":{\"id\":\"2474\"},\"ticker\":{\"id\":\"2323\"}},\"id\":\"2322\",\"type\":\"LinearAxis\"},{\"attributes\":{},\"id\":\"2370\",\"type\":\"SaveTool\"},{\"attributes\":{\"data\":{\"x\":[2015,2014,2013,2012,2011,2010,2009,2008,2007,2006,2005,2004,2003,2002,2001,2000],\"y\":[0,0,84,71,0,13,115,0,40,120,13,11,48,34,133,77]},\"selected\":{\"id\":\"2486\"},\"selection_policy\":{\"id\":\"2485\"}},\"id\":\"2343\",\"type\":\"ColumnDataSource\"},{\"attributes\":{},\"id\":\"2488\",\"type\":\"UnionRenderers\"},{\"attributes\":{},\"id\":\"2490\",\"type\":\"UnionRenderers\"},{\"attributes\":{\"data_source\":{\"id\":\"2343\"},\"glyph\":{\"id\":\"2344\"},\"hover_glyph\":null,\"muted_glyph\":null,\"nonselection_glyph\":{\"id\":\"2345\"},\"selection_glyph\":null,\"view\":{\"id\":\"2347\"}},\"id\":\"2346\",\"type\":\"GlyphRenderer\"}],\"root_ids\":[\"2388\"]},\"title\":\"Bokeh Application\",\"version\":\"2.0.2\"}};\n",
       "  var render_items = [{\"docid\":\"56507b70-3764-4b51-b090-3232c3f5c067\",\"root_ids\":[\"2388\"],\"roots\":{\"2388\":\"9552e315-19ed-4f5f-afb9-1b18ca6cc064\"}}];\n",
       "  root.Bokeh.embed.embed_items_notebook(docs_json, render_items);\n",
       "\n",
       "  }\n",
       "  if (root.Bokeh !== undefined) {\n",
       "    embed_document(root);\n",
       "  } else {\n",
       "    var attempts = 0;\n",
       "    var timer = setInterval(function(root) {\n",
       "      if (root.Bokeh !== undefined) {\n",
       "        clearInterval(timer);\n",
       "        embed_document(root);\n",
       "      } else {\n",
       "        attempts++;\n",
       "        if (attempts > 100) {\n",
       "          clearInterval(timer);\n",
       "          console.log(\"Bokeh: ERROR: Unable to run BokehJS code because BokehJS library is missing\");\n",
       "        }\n",
       "      }\n",
       "    }, 10, root)\n",
       "  }\n",
       "})(window);"
      ],
      "application/vnd.bokehjs_exec.v0+json": ""
     },
     "metadata": {
      "application/vnd.bokehjs_exec.v0+json": {
       "id": "2388"
      }
     },
     "output_type": "display_data"
    }
   ],
   "source": [
    "#Setting the common range\n",
    "x = data[data['country']=='Poland']['year']\n",
    "\n",
    "#Setting the values for the both graphs\n",
    "\n",
    "y1, y2 = data[data['country']=='Poland']['measles'], data[data['country']=='Ukraine']['measles']\n",
    "\n",
    "#Setting the option for the future plot\n",
    "plot_options = dict(width=500, plot_height=250, \n",
    "                    tools=TOOLS)\n",
    "\n",
    "#Creating a new plot\n",
    "p1 = figure(**plot_options,\n",
    "           title = 'Measles in Poland 2000-2015')\n",
    "p1.line(x, y1, color=\"navy\")\n",
    "p1.circle(x, y1, size=10, fill_color=\"azure\")\n",
    "\n",
    "#Creating another plot with the ranges linked to the previous plot's ranges\n",
    "p2 = figure(x_range=p1.x_range,       #linking the x-ranges\n",
    "            **plot_options,\n",
    "           title = \"Measles in Ukraine 2000-2015\")\n",
    "p2.line(x,y2,color='red')\n",
    "p2.circle(x, y2, size=10, fill_color=\"salmon\")\n",
    "\n",
    "#joining both plots is a column\n",
    "p = column([p1, p2])\n",
    "\n",
    "# show the results\n",
    "show(p)"
   ]
  },
  {
   "cell_type": "markdown",
   "metadata": {},
   "source": [
    "Now, thanks to the linked x-ranges, we can \"synchronize\" the ranges of the both graphs and have a closer look at their areas using the tools.\n",
    "We could also use another linking technique to highlight certain data ranges on both graphs simultaneously. Let's illustrate this with a look at life expectancies in Germany and Italy in 2000-2015."
   ]
  },
  {
   "cell_type": "code",
   "execution_count": 13,
   "metadata": {},
   "outputs": [],
   "source": [
    "#Adding new interactive tools \n",
    "TOOLS += \", box_select,lasso_select\""
   ]
  },
  {
   "cell_type": "code",
   "execution_count": 14,
   "metadata": {},
   "outputs": [
    {
     "data": {
      "text/html": [
       "\n",
       "\n",
       "\n",
       "\n",
       "\n",
       "\n",
       "  <div class=\"bk-root\" id=\"92cbc94b-1cf5-4d19-864b-4993fd9ce70a\" data-root-id=\"2707\"></div>\n"
      ]
     },
     "metadata": {},
     "output_type": "display_data"
    },
    {
     "data": {
      "application/javascript": [
       "(function(root) {\n",
       "  function embed_document(root) {\n",
       "    \n",
       "  var docs_json = {\"357dc5c4-d393-45ff-adda-58be4987fb21\":{\"roots\":{\"references\":[{\"attributes\":{\"children\":[{\"id\":\"2613\"},{\"id\":\"2660\"}]},\"id\":\"2707\",\"type\":\"Row\"},{\"attributes\":{},\"id\":\"2667\",\"type\":\"LinearScale\"},{\"attributes\":{},\"id\":\"2632\",\"type\":\"PanTool\"},{\"attributes\":{},\"id\":\"2616\",\"type\":\"DataRange1d\"},{\"attributes\":{},\"id\":\"2669\",\"type\":\"LinearScale\"},{\"attributes\":{\"overlay\":{\"id\":\"2686\"}},\"id\":\"2684\",\"type\":\"BoxSelectTool\"},{\"attributes\":{},\"id\":\"2633\",\"type\":\"WheelZoomTool\"},{\"attributes\":{},\"id\":\"2819\",\"type\":\"BasicTickFormatter\"},{\"attributes\":{\"axis_label\":\"Year\",\"formatter\":{\"id\":\"2819\"},\"ticker\":{\"id\":\"2672\"}},\"id\":\"2671\",\"type\":\"LinearAxis\"},{\"attributes\":{\"overlay\":{\"id\":\"2688\"}},\"id\":\"2685\",\"type\":\"LassoSelectTool\"},{\"attributes\":{},\"id\":\"2824\",\"type\":\"UnionRenderers\"},{\"attributes\":{\"overlay\":{\"id\":\"2640\"}},\"id\":\"2634\",\"type\":\"BoxZoomTool\"},{\"attributes\":{},\"id\":\"2676\",\"type\":\"BasicTicker\"},{\"attributes\":{\"bottom_units\":\"screen\",\"fill_alpha\":0.5,\"fill_color\":\"lightgrey\",\"left_units\":\"screen\",\"level\":\"overlay\",\"line_alpha\":1.0,\"line_color\":\"black\",\"line_dash\":[4,4],\"line_width\":2,\"render_mode\":\"css\",\"right_units\":\"screen\",\"top_units\":\"screen\"},\"id\":\"2639\",\"type\":\"BoxAnnotation\"},{\"attributes\":{},\"id\":\"2672\",\"type\":\"BasicTicker\"},{\"attributes\":{\"bottom_units\":\"screen\",\"fill_alpha\":0.5,\"fill_color\":\"lightgrey\",\"left_units\":\"screen\",\"level\":\"overlay\",\"line_alpha\":1.0,\"line_color\":\"black\",\"line_dash\":[4,4],\"line_width\":2,\"render_mode\":\"css\",\"right_units\":\"screen\",\"top_units\":\"screen\"},\"id\":\"2687\",\"type\":\"BoxAnnotation\"},{\"attributes\":{},\"id\":\"2635\",\"type\":\"ResetTool\"},{\"attributes\":{\"fill_alpha\":0.5,\"fill_color\":\"lightgrey\",\"level\":\"overlay\",\"line_alpha\":1.0,\"line_color\":\"black\",\"line_dash\":[4,4],\"line_width\":2,\"xs_units\":\"screen\",\"ys_units\":\"screen\"},\"id\":\"2641\",\"type\":\"PolyAnnotation\"},{\"attributes\":{\"axis\":{\"id\":\"2671\"},\"grid_line_color\":\"gray\",\"grid_line_dash\":[2,4],\"ticker\":null},\"id\":\"2674\",\"type\":\"Grid\"},{\"attributes\":{},\"id\":\"2618\",\"type\":\"DataRange1d\"},{\"attributes\":{},\"id\":\"2636\",\"type\":\"SaveTool\"},{\"attributes\":{\"axis\":{\"id\":\"2675\"},\"dimension\":1,\"grid_line_color\":\"gray\",\"grid_line_dash\":[2,4],\"ticker\":null},\"id\":\"2678\",\"type\":\"Grid\"},{\"attributes\":{\"data_source\":{\"id\":\"2612\"},\"glyph\":{\"id\":\"2651\"},\"hover_glyph\":null,\"muted_glyph\":null,\"nonselection_glyph\":{\"id\":\"2652\"},\"selection_glyph\":null,\"view\":{\"id\":\"2654\"}},\"id\":\"2653\",\"type\":\"GlyphRenderer\"},{\"attributes\":{\"axis_label\":\"Life expectancy\",\"formatter\":{\"id\":\"2817\"},\"ticker\":{\"id\":\"2676\"}},\"id\":\"2675\",\"type\":\"LinearAxis\"},{\"attributes\":{\"data_source\":{\"id\":\"2612\"},\"glyph\":{\"id\":\"2698\"},\"hover_glyph\":null,\"muted_glyph\":null,\"nonselection_glyph\":{\"id\":\"2699\"},\"selection_glyph\":null,\"view\":{\"id\":\"2701\"}},\"id\":\"2700\",\"type\":\"GlyphRenderer\"},{\"attributes\":{},\"id\":\"2620\",\"type\":\"LinearScale\"},{\"attributes\":{\"text\":\"Life Expectancy in France 2000-2015\"},\"id\":\"2614\",\"type\":\"Title\"},{\"attributes\":{\"overlay\":{\"id\":\"2639\"}},\"id\":\"2637\",\"type\":\"BoxSelectTool\"},{\"attributes\":{\"source\":{\"id\":\"2612\"}},\"id\":\"2706\",\"type\":\"CDSView\"},{\"attributes\":{},\"id\":\"2622\",\"type\":\"LinearScale\"},{\"attributes\":{},\"id\":\"2813\",\"type\":\"BasicTickFormatter\"},{\"attributes\":{},\"id\":\"2815\",\"type\":\"BasicTickFormatter\"},{\"attributes\":{\"overlay\":{\"id\":\"2641\"}},\"id\":\"2638\",\"type\":\"LassoSelectTool\"},{\"attributes\":{\"source\":{\"id\":\"2612\"}},\"id\":\"2659\",\"type\":\"CDSView\"},{\"attributes\":{\"axis_label\":\"Year\",\"formatter\":{\"id\":\"2815\"},\"ticker\":{\"id\":\"2625\"}},\"id\":\"2624\",\"type\":\"LinearAxis\"},{\"attributes\":{\"background_fill_alpha\":0.05,\"background_fill_color\":\"salmon\",\"below\":[{\"id\":\"2624\"}],\"center\":[{\"id\":\"2627\"},{\"id\":\"2631\"}],\"left\":[{\"id\":\"2628\"}],\"plot_height\":300,\"plot_width\":350,\"renderers\":[{\"id\":\"2653\"},{\"id\":\"2658\"}],\"title\":{\"id\":\"2614\"},\"toolbar\":{\"id\":\"2642\"},\"x_range\":{\"id\":\"2616\"},\"x_scale\":{\"id\":\"2620\"},\"y_range\":{\"id\":\"2618\"},\"y_scale\":{\"id\":\"2622\"}},\"id\":\"2613\",\"subtype\":\"Figure\",\"type\":\"Plot\"},{\"attributes\":{\"data_source\":{\"id\":\"2612\"},\"glyph\":{\"id\":\"2703\"},\"hover_glyph\":null,\"muted_glyph\":null,\"nonselection_glyph\":{\"id\":\"2704\"},\"selection_glyph\":null,\"view\":{\"id\":\"2706\"}},\"id\":\"2705\",\"type\":\"GlyphRenderer\"},{\"attributes\":{\"source\":{\"id\":\"2612\"}},\"id\":\"2701\",\"type\":\"CDSView\"},{\"attributes\":{},\"id\":\"2629\",\"type\":\"BasicTicker\"},{\"attributes\":{\"line_color\":\"red\",\"x\":{\"field\":\"x\"},\"y\":{\"field\":\"y2\"}},\"id\":\"2698\",\"type\":\"Line\"},{\"attributes\":{\"bottom_units\":\"screen\",\"fill_alpha\":0.5,\"fill_color\":\"lightgrey\",\"left_units\":\"screen\",\"level\":\"overlay\",\"line_alpha\":1.0,\"line_color\":\"black\",\"line_dash\":[4,4],\"line_width\":2,\"render_mode\":\"css\",\"right_units\":\"screen\",\"top_units\":\"screen\"},\"id\":\"2640\",\"type\":\"BoxAnnotation\"},{\"attributes\":{\"data_source\":{\"id\":\"2612\"},\"glyph\":{\"id\":\"2656\"},\"hover_glyph\":null,\"muted_glyph\":null,\"nonselection_glyph\":{\"id\":\"2657\"},\"selection_glyph\":null,\"view\":{\"id\":\"2659\"}},\"id\":\"2658\",\"type\":\"GlyphRenderer\"},{\"attributes\":{},\"id\":\"2625\",\"type\":\"BasicTicker\"},{\"attributes\":{\"axis\":{\"id\":\"2624\"},\"grid_line_color\":\"gray\",\"grid_line_dash\":[2,4],\"ticker\":null},\"id\":\"2627\",\"type\":\"Grid\"},{\"attributes\":{},\"id\":\"2817\",\"type\":\"BasicTickFormatter\"},{\"attributes\":{\"fill_alpha\":{\"value\":0.1},\"fill_color\":{\"value\":\"yellow\"},\"line_alpha\":{\"value\":0.1},\"line_color\":{\"value\":\"red\"},\"radius\":{\"units\":\"data\",\"value\":0.25},\"x\":{\"field\":\"x\"},\"y\":{\"field\":\"y2\"}},\"id\":\"2704\",\"type\":\"Circle\"},{\"attributes\":{\"active_drag\":\"auto\",\"active_inspect\":\"auto\",\"active_multi\":null,\"active_scroll\":\"auto\",\"active_tap\":\"auto\",\"tools\":[{\"id\":\"2632\"},{\"id\":\"2633\"},{\"id\":\"2634\"},{\"id\":\"2635\"},{\"id\":\"2636\"},{\"id\":\"2637\"},{\"id\":\"2638\"}]},\"id\":\"2642\",\"type\":\"Toolbar\"},{\"attributes\":{\"fill_color\":{\"value\":\"yellow\"},\"line_color\":{\"value\":\"red\"},\"radius\":{\"units\":\"data\",\"value\":0.25},\"x\":{\"field\":\"x\"},\"y\":{\"field\":\"y2\"}},\"id\":\"2703\",\"type\":\"Circle\"},{\"attributes\":{\"axis\":{\"id\":\"2628\"},\"dimension\":1,\"grid_line_color\":\"gray\",\"grid_line_dash\":[2,4],\"ticker\":null},\"id\":\"2631\",\"type\":\"Grid\"},{\"attributes\":{\"text\":\"Life Expectancy in Germany 2000-2015\"},\"id\":\"2661\",\"type\":\"Title\"},{\"attributes\":{\"line_alpha\":0.1,\"line_color\":\"red\",\"x\":{\"field\":\"x\"},\"y\":{\"field\":\"y2\"}},\"id\":\"2699\",\"type\":\"Line\"},{\"attributes\":{\"axis_label\":\"Life Expectancy\",\"formatter\":{\"id\":\"2813\"},\"ticker\":{\"id\":\"2629\"}},\"id\":\"2628\",\"type\":\"LinearAxis\"},{\"attributes\":{\"data\":{\"x\":[2015,2014,2013,2012,2011,2010,2009,2008,2007,2006,2005,2004,2003,2002,2001,2000],\"y1\":{\"__ndarray__\":\"mpmZmZmZVEDNzMzMzIxUQAAAAAAAgFRAAAAAAABgVEDNzMzMzGxUQDMzMzMzU1RAZmZmZmZGVEAAAAAAAEBWQAAAAAAAQFZAAAAAAACAVUAAAAAAAEBUQAAAAAAAgFRAMzMzMzPTU0DNzMzMzMxTQAAAAAAAwFNAMzMzMzOzU0A=\",\"dtype\":\"float64\",\"shape\":[16]},\"y2\":{\"__ndarray__\":\"AAAAAABAVEAAAAAAAEBWQAAAAAAAgFVAAAAAAACAVUAAAAAAAEBVQAAAAAAAQFRAAAAAAAAAVECamZmZmflTQDMzMzMz81NAZmZmZmbmU0DNzMzMzMxTQGZmZmZmxlNAAAAAAACgU0CamZmZmZlTQDMzMzMzk1NAAAAAAACAU0A=\",\"dtype\":\"float64\",\"shape\":[16]}},\"selected\":{\"id\":\"2825\"},\"selection_policy\":{\"id\":\"2824\"}},\"id\":\"2612\",\"type\":\"ColumnDataSource\"},{\"attributes\":{},\"id\":\"2679\",\"type\":\"PanTool\"},{\"attributes\":{\"line_color\":\"navy\",\"x\":{\"field\":\"x\"},\"y\":{\"field\":\"y1\"}},\"id\":\"2651\",\"type\":\"Line\"},{\"attributes\":{\"fill_alpha\":{\"value\":0.1},\"fill_color\":{\"value\":\"azure\"},\"line_alpha\":{\"value\":0.1},\"line_color\":{\"value\":\"navy\"},\"radius\":{\"units\":\"data\",\"value\":0.25},\"x\":{\"field\":\"x\"},\"y\":{\"field\":\"y1\"}},\"id\":\"2657\",\"type\":\"Circle\"},{\"attributes\":{},\"id\":\"2680\",\"type\":\"WheelZoomTool\"},{\"attributes\":{},\"id\":\"2663\",\"type\":\"DataRange1d\"},{\"attributes\":{\"fill_color\":{\"value\":\"azure\"},\"line_color\":{\"value\":\"navy\"},\"radius\":{\"units\":\"data\",\"value\":0.25},\"x\":{\"field\":\"x\"},\"y\":{\"field\":\"y1\"}},\"id\":\"2656\",\"type\":\"Circle\"},{\"attributes\":{\"overlay\":{\"id\":\"2687\"}},\"id\":\"2681\",\"type\":\"BoxZoomTool\"},{\"attributes\":{\"source\":{\"id\":\"2612\"}},\"id\":\"2654\",\"type\":\"CDSView\"},{\"attributes\":{\"bottom_units\":\"screen\",\"fill_alpha\":0.5,\"fill_color\":\"lightgrey\",\"left_units\":\"screen\",\"level\":\"overlay\",\"line_alpha\":1.0,\"line_color\":\"black\",\"line_dash\":[4,4],\"line_width\":2,\"render_mode\":\"css\",\"right_units\":\"screen\",\"top_units\":\"screen\"},\"id\":\"2686\",\"type\":\"BoxAnnotation\"},{\"attributes\":{},\"id\":\"2682\",\"type\":\"ResetTool\"},{\"attributes\":{\"fill_alpha\":0.5,\"fill_color\":\"lightgrey\",\"level\":\"overlay\",\"line_alpha\":1.0,\"line_color\":\"black\",\"line_dash\":[4,4],\"line_width\":2,\"xs_units\":\"screen\",\"ys_units\":\"screen\"},\"id\":\"2688\",\"type\":\"PolyAnnotation\"},{\"attributes\":{\"background_fill_alpha\":0.07,\"background_fill_color\":\"indigo\",\"below\":[{\"id\":\"2671\"}],\"center\":[{\"id\":\"2674\"},{\"id\":\"2678\"}],\"left\":[{\"id\":\"2675\"}],\"plot_height\":300,\"plot_width\":350,\"renderers\":[{\"id\":\"2700\"},{\"id\":\"2705\"}],\"title\":{\"id\":\"2661\"},\"toolbar\":{\"id\":\"2689\"},\"x_range\":{\"id\":\"2663\"},\"x_scale\":{\"id\":\"2667\"},\"y_range\":{\"id\":\"2665\"},\"y_scale\":{\"id\":\"2669\"}},\"id\":\"2660\",\"subtype\":\"Figure\",\"type\":\"Plot\"},{\"attributes\":{},\"id\":\"2665\",\"type\":\"DataRange1d\"},{\"attributes\":{},\"id\":\"2683\",\"type\":\"SaveTool\"},{\"attributes\":{},\"id\":\"2825\",\"type\":\"Selection\"},{\"attributes\":{\"active_drag\":\"auto\",\"active_inspect\":\"auto\",\"active_multi\":null,\"active_scroll\":\"auto\",\"active_tap\":\"auto\",\"tools\":[{\"id\":\"2679\"},{\"id\":\"2680\"},{\"id\":\"2681\"},{\"id\":\"2682\"},{\"id\":\"2683\"},{\"id\":\"2684\"},{\"id\":\"2685\"}]},\"id\":\"2689\",\"type\":\"Toolbar\"},{\"attributes\":{\"line_alpha\":0.1,\"line_color\":\"navy\",\"x\":{\"field\":\"x\"},\"y\":{\"field\":\"y1\"}},\"id\":\"2652\",\"type\":\"Line\"}],\"root_ids\":[\"2707\"]},\"title\":\"Bokeh Application\",\"version\":\"2.0.2\"}};\n",
       "  var render_items = [{\"docid\":\"357dc5c4-d393-45ff-adda-58be4987fb21\",\"root_ids\":[\"2707\"],\"roots\":{\"2707\":\"92cbc94b-1cf5-4d19-864b-4993fd9ce70a\"}}];\n",
       "  root.Bokeh.embed.embed_items_notebook(docs_json, render_items);\n",
       "\n",
       "  }\n",
       "  if (root.Bokeh !== undefined) {\n",
       "    embed_document(root);\n",
       "  } else {\n",
       "    var attempts = 0;\n",
       "    var timer = setInterval(function(root) {\n",
       "      if (root.Bokeh !== undefined) {\n",
       "        clearInterval(timer);\n",
       "        embed_document(root);\n",
       "      } else {\n",
       "        attempts++;\n",
       "        if (attempts > 100) {\n",
       "          clearInterval(timer);\n",
       "          console.log(\"Bokeh: ERROR: Unable to run BokehJS code because BokehJS library is missing\");\n",
       "        }\n",
       "      }\n",
       "    }, 10, root)\n",
       "  }\n",
       "})(window);"
      ],
      "application/vnd.bokehjs_exec.v0+json": ""
     },
     "metadata": {
      "application/vnd.bokehjs_exec.v0+json": {
       "id": "2707"
      }
     },
     "output_type": "display_data"
    }
   ],
   "source": [
    "x = data[data['country']=='France']['year']\n",
    "y1, y2 = data[data['country']=='France']['life expectancy'], data[data['country']=='Germany']['life expectancy']\n",
    "\n",
    "#Creating a ColumnDataSource's instance for the plots to share\n",
    "source = ColumnDataSource(data=dict(x=x, y1=y1, y2=y2))\n",
    "\n",
    "#Creating a new plot\n",
    "p1 = figure(tools=TOOLS,\n",
    "            width=350, height=300,\n",
    "           title = 'Life Expectancy in France 2000-2015')\n",
    "p1.line('x', 'y1', source=source,color='navy')\n",
    "p1.circle('x', 'y1', source=source,\n",
    "         color='navy', radius = .25, fill_color='azure')\n",
    "\n",
    "\n",
    "#Creating another plot\n",
    "p2 = figure(tools=TOOLS,\n",
    "            width=350, height=300,\n",
    "           \n",
    "           title = 'Life Expectancy in Germany 2000-2015')\n",
    "p2.line('x', 'y2', source=source,color='red')\n",
    "p2.circle('x', 'y2', source=source,\n",
    "         color='red', radius = .25, fill_color='yellow')\n",
    "\n",
    "p1.xaxis.axis_label = 'Year'\n",
    "p1.yaxis.axis_label = 'Life Expectancy'\n",
    "p1.xgrid.grid_line_dash = 'dotted'\n",
    "p1.xgrid.grid_line_color ='gray'\n",
    "p1.ygrid.grid_line_dash ='dotted'\n",
    "p1.ygrid.grid_line_color = 'gray'\n",
    "p1.background_fill_color='salmon'\n",
    "p1.background_fill_alpha=.05\n",
    "\n",
    "p2.xaxis.axis_label = 'Year'\n",
    "p2.yaxis.axis_label = 'Life expectancy'\n",
    "p2.xgrid.grid_line_dash = 'dotted'\n",
    "p2.xgrid.grid_line_color ='gray'\n",
    "p2.ygrid.grid_line_dash ='dotted'\n",
    "p2.ygrid.grid_line_color = 'gray'\n",
    "p2.background_fill_color='indigo'\n",
    "p2.background_fill_alpha=.07\n",
    "\n",
    "#Rendering the graphs in a row structure\n",
    "p = row(p1,p2)\n",
    "\n",
    "show(p)"
   ]
  },
  {
   "cell_type": "markdown",
   "metadata": {},
   "source": [
    "### Hovering ###"
   ]
  },
  {
   "cell_type": "markdown",
   "metadata": {},
   "source": [
    "Bokeh does give us another cool technique to add interactivity to our visualizations. It's called hovering and workd exactly like other techniques - through a special tool *'hoover'* that exists as an instance of the *HoverTool* class.\n",
    "Let's look at the Russia data for measles in 2000-2015."
   ]
  },
  {
   "cell_type": "code",
   "execution_count": 15,
   "metadata": {},
   "outputs": [
    {
     "data": {
      "text/html": [
       "\n",
       "\n",
       "\n",
       "\n",
       "\n",
       "\n",
       "  <div class=\"bk-root\" id=\"1d7f7481-0775-483d-9175-feec9747e4a8\" data-root-id=\"2941\"></div>\n"
      ]
     },
     "metadata": {},
     "output_type": "display_data"
    },
    {
     "data": {
      "application/javascript": [
       "(function(root) {\n",
       "  function embed_document(root) {\n",
       "    \n",
       "  var docs_json = {\"60d9bfc0-0096-4935-804d-7db144eff264\":{\"roots\":{\"references\":[{\"attributes\":{\"background_fill_alpha\":0.25,\"background_fill_color\":\"lightblue\",\"below\":[{\"id\":\"2952\"}],\"center\":[{\"id\":\"2955\"},{\"id\":\"2959\"}],\"left\":[{\"id\":\"2956\"}],\"plot_height\":500,\"plot_width\":500,\"renderers\":[{\"id\":\"2965\"},{\"id\":\"2970\"}],\"title\":{\"id\":\"2942\"},\"toolbar\":{\"id\":\"2960\"},\"x_range\":{\"id\":\"2944\"},\"x_scale\":{\"id\":\"2948\"},\"y_range\":{\"id\":\"2946\"},\"y_scale\":{\"id\":\"2950\"}},\"id\":\"2941\",\"subtype\":\"Figure\",\"type\":\"Plot\"},{\"attributes\":{\"data_source\":{\"id\":\"2939\"},\"glyph\":{\"id\":\"2968\"},\"hover_glyph\":null,\"muted_glyph\":null,\"nonselection_glyph\":{\"id\":\"2969\"},\"selection_glyph\":null,\"view\":{\"id\":\"2971\"}},\"id\":\"2970\",\"type\":\"GlyphRenderer\"},{\"attributes\":{\"axis_label\":\"Life Expectancy\",\"formatter\":{\"id\":\"3094\"},\"ticker\":{\"id\":\"2957\"}},\"id\":\"2956\",\"type\":\"LinearAxis\"},{\"attributes\":{\"line_color\":\"blue\",\"line_dash\":[6],\"line_width\":2,\"x\":{\"field\":\"x\"},\"y\":{\"field\":\"y\"}},\"id\":\"2963\",\"type\":\"Line\"},{\"attributes\":{\"fill_alpha\":{\"value\":0.1},\"fill_color\":{\"value\":\"salmon\"},\"line_alpha\":{\"value\":0.1},\"line_color\":{\"value\":\"magenta\"},\"radius\":{\"units\":\"data\",\"value\":0.35},\"x\":{\"field\":\"x\"},\"y\":{\"field\":\"y\"}},\"id\":\"2969\",\"type\":\"Circle\"},{\"attributes\":{},\"id\":\"3099\",\"type\":\"Selection\"},{\"attributes\":{\"active_drag\":\"auto\",\"active_inspect\":\"auto\",\"active_multi\":null,\"active_scroll\":\"auto\",\"active_tap\":\"auto\",\"tools\":[{\"id\":\"2940\"}]},\"id\":\"2960\",\"type\":\"Toolbar\"},{\"attributes\":{\"fill_alpha\":{\"value\":0.7},\"fill_color\":{\"value\":\"salmon\"},\"line_color\":{\"value\":\"magenta\"},\"radius\":{\"units\":\"data\",\"value\":0.35},\"x\":{\"field\":\"x\"},\"y\":{\"field\":\"y\"}},\"id\":\"2968\",\"type\":\"Circle\"},{\"attributes\":{},\"id\":\"2946\",\"type\":\"DataRange1d\"},{\"attributes\":{\"axis\":{\"id\":\"2952\"},\"grid_line_color\":\"gray\",\"grid_line_dash\":[2,4],\"ticker\":null},\"id\":\"2955\",\"type\":\"Grid\"},{\"attributes\":{},\"id\":\"3096\",\"type\":\"BasicTickFormatter\"},{\"attributes\":{\"text\":\"Measles in Russia 2000-2015\"},\"id\":\"2942\",\"type\":\"Title\"},{\"attributes\":{},\"id\":\"2948\",\"type\":\"LinearScale\"},{\"attributes\":{},\"id\":\"2950\",\"type\":\"LinearScale\"},{\"attributes\":{\"source\":{\"id\":\"2939\"}},\"id\":\"2966\",\"type\":\"CDSView\"},{\"attributes\":{},\"id\":\"2953\",\"type\":\"BasicTicker\"},{\"attributes\":{},\"id\":\"3094\",\"type\":\"BasicTickFormatter\"},{\"attributes\":{\"callback\":null,\"tooltips\":[[\"year\",\"$x\"],[\"measles\",\"$y\"]]},\"id\":\"2940\",\"type\":\"HoverTool\"},{\"attributes\":{\"axis_label\":\"Year\",\"formatter\":{\"id\":\"3096\"},\"ticker\":{\"id\":\"2953\"}},\"id\":\"2952\",\"type\":\"LinearAxis\"},{\"attributes\":{\"data_source\":{\"id\":\"2939\"},\"glyph\":{\"id\":\"2963\"},\"hover_glyph\":null,\"muted_glyph\":null,\"nonselection_glyph\":{\"id\":\"2964\"},\"selection_glyph\":null,\"view\":{\"id\":\"2966\"}},\"id\":\"2965\",\"type\":\"GlyphRenderer\"},{\"attributes\":{\"axis\":{\"id\":\"2956\"},\"dimension\":1,\"grid_line_color\":\"gray\",\"grid_line_dash\":[2,4],\"ticker\":null},\"id\":\"2959\",\"type\":\"Grid\"},{\"attributes\":{},\"id\":\"3098\",\"type\":\"UnionRenderers\"},{\"attributes\":{\"line_alpha\":0.1,\"line_color\":\"blue\",\"line_dash\":[6],\"line_width\":2,\"x\":{\"field\":\"x\"},\"y\":{\"field\":\"y\"}},\"id\":\"2964\",\"type\":\"Line\"},{\"attributes\":{\"source\":{\"id\":\"2939\"}},\"id\":\"2971\",\"type\":\"CDSView\"},{\"attributes\":{\"data\":{\"x\":[2015,2014,2013,2012,2011,2010,2009,2008,2007,2006,2005,2004,2003,2002,2001,2000],\"y\":[843,4711,2339,2123,629,129,101,27,173,1147,454,2444,3291,580,2072,4800]},\"selected\":{\"id\":\"3099\"},\"selection_policy\":{\"id\":\"3098\"}},\"id\":\"2939\",\"type\":\"ColumnDataSource\"},{\"attributes\":{},\"id\":\"2944\",\"type\":\"DataRange1d\"},{\"attributes\":{},\"id\":\"2957\",\"type\":\"BasicTicker\"}],\"root_ids\":[\"2941\"]},\"title\":\"Bokeh Application\",\"version\":\"2.0.2\"}};\n",
       "  var render_items = [{\"docid\":\"60d9bfc0-0096-4935-804d-7db144eff264\",\"root_ids\":[\"2941\"],\"roots\":{\"2941\":\"1d7f7481-0775-483d-9175-feec9747e4a8\"}}];\n",
       "  root.Bokeh.embed.embed_items_notebook(docs_json, render_items);\n",
       "\n",
       "  }\n",
       "  if (root.Bokeh !== undefined) {\n",
       "    embed_document(root);\n",
       "  } else {\n",
       "    var attempts = 0;\n",
       "    var timer = setInterval(function(root) {\n",
       "      if (root.Bokeh !== undefined) {\n",
       "        clearInterval(timer);\n",
       "        embed_document(root);\n",
       "      } else {\n",
       "        attempts++;\n",
       "        if (attempts > 100) {\n",
       "          clearInterval(timer);\n",
       "          console.log(\"Bokeh: ERROR: Unable to run BokehJS code because BokehJS library is missing\");\n",
       "        }\n",
       "      }\n",
       "    }, 10, root)\n",
       "  }\n",
       "})(window);"
      ],
      "application/vnd.bokehjs_exec.v0+json": ""
     },
     "metadata": {
      "application/vnd.bokehjs_exec.v0+json": {
       "id": "2941"
      }
     },
     "output_type": "display_data"
    }
   ],
   "source": [
    "#Creating a data structure\n",
    "source = ColumnDataSource(\n",
    "        data=dict(x=data[data['country']=='Russian Federation']['year'],\n",
    "                  y=data[data['country']=='Russian Federation']['measles']\n",
    "                 )\n",
    "                 )\n",
    "\n",
    "#Creating an instance of the HoverTool class with required parameters\n",
    "hover = HoverTool(\n",
    "        tooltips=[\n",
    "            (\"year\", \"$x\"),\n",
    "            (\"measles\", \"$y\"),\n",
    "           \n",
    "        ]\n",
    "    )\n",
    "\n",
    "#Plotting\n",
    "p = figure(plot_width=500, plot_height=500,\n",
    "           tools=[hover],                   #Adding a hoover to the toolbar\n",
    "           title=\"Measles in Russia 2000-2015\")\n",
    "\n",
    "p.line('x', 'y', source=source,\n",
    "       color='blue', line_dash='dashed', line_width=2)\n",
    "p.circle('x', 'y', source=source,\n",
    "         color='magenta', radius = .35, fill_color='salmon', fill_alpha=.7)\n",
    "\n",
    "p.xaxis.axis_label = 'Year'\n",
    "p.yaxis.axis_label = 'Life Expectancy'\n",
    "p.xgrid.grid_line_dash = 'dotted'\n",
    "p.xgrid.grid_line_color ='gray'\n",
    "p.ygrid.grid_line_dash ='dotted'\n",
    "p.ygrid.grid_line_color = 'gray'\n",
    "p.background_fill_color='lightblue'\n",
    "p.background_fill_alpha=.25\n",
    "\n",
    "show(p)"
   ]
  },
  {
   "cell_type": "markdown",
   "metadata": {},
   "source": [
    "These have been just a few available functionalities of Bokeh, and there's a lot more to it. This was a second part of my moni-project on this wonderful visualization library. The following part is on geographical plots and is available at (). "
   ]
  }
 ],
 "metadata": {
  "kernelspec": {
   "display_name": "Python 3",
   "language": "python",
   "name": "python3"
  },
  "language_info": {
   "codemirror_mode": {
    "name": "ipython",
    "version": 3
   },
   "file_extension": ".py",
   "mimetype": "text/x-python",
   "name": "python",
   "nbconvert_exporter": "python",
   "pygments_lexer": "ipython3",
   "version": "3.7.5"
  },
  "latex_envs": {
   "LaTeX_envs_menu_present": true,
   "autoclose": false,
   "autocomplete": true,
   "bibliofile": "biblio.bib",
   "cite_by": "apalike",
   "current_citInitial": 1,
   "eqLabelWithNumbers": true,
   "eqNumInitial": 1,
   "hotkeys": {
    "equation": "Ctrl-E",
    "itemize": "Ctrl-I"
   },
   "labels_anchors": false,
   "latex_user_defs": false,
   "report_style_numbering": false,
   "user_envs_cfg": false
  },
  "toc": {
   "base_numbering": 1,
   "nav_menu": {},
   "number_sections": true,
   "sideBar": true,
   "skip_h1_title": false,
   "title_cell": "Table of Contents",
   "title_sidebar": "Contents",
   "toc_cell": false,
   "toc_position": {
    "height": "calc(100% - 180px)",
    "left": "10px",
    "top": "150px",
    "width": "256px"
   },
   "toc_section_display": true,
   "toc_window_display": true
  },
  "varInspector": {
   "cols": {
    "lenName": 16,
    "lenType": 16,
    "lenVar": 40
   },
   "kernels_config": {
    "python": {
     "delete_cmd_postfix": "",
     "delete_cmd_prefix": "del ",
     "library": "var_list.py",
     "varRefreshCmd": "print(var_dic_list())"
    },
    "r": {
     "delete_cmd_postfix": ") ",
     "delete_cmd_prefix": "rm(",
     "library": "var_list.r",
     "varRefreshCmd": "cat(var_dic_list()) "
    }
   },
   "types_to_exclude": [
    "module",
    "function",
    "builtin_function_or_method",
    "instance",
    "_Feature"
   ],
   "window_display": false
  }
 },
 "nbformat": 4,
 "nbformat_minor": 2
}
